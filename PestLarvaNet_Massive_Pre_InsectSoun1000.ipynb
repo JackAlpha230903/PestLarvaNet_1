{
 "cells": [
  {
   "cell_type": "code",
   "execution_count": 1,
   "id": "0d3e0393-aca8-43f5-b00f-6a5393e3e4e9",
   "metadata": {},
   "outputs": [],
   "source": [
    "import os\n",
    "import csv\n",
    "import pandas as pd\n",
    "import numpy as np\n",
    "import torch\n",
    "import torch.nn as nn\n",
    "import torch.nn.functional as F\n",
    "import torchaudio\n",
    "from torch.utils.data import Dataset, DataLoader, random_split\n",
    "from torchvision.transforms import v2 as T\n",
    "from tqdm.notebook import tqdm\n",
    "import matplotlib.pyplot as plt\n",
    "from sklearn.metrics import (accuracy_score, precision_score, recall_score, \n",
    "                             f1_score, confusion_matrix)\n",
    "import seaborn as sns"
   ]
  },
  {
   "cell_type": "code",
   "execution_count": 2,
   "id": "259083cb-d01e-4988-8a5e-a3d339d8b2df",
   "metadata": {},
   "outputs": [
    {
     "name": "stdout",
     "output_type": "stream",
     "text": [
      "Sử dụng thiết bị: cuda\n"
     ]
    }
   ],
   "source": [
    "device = torch.device(\"cuda\" if torch.cuda.is_available() else \"cpu\")\n",
    "print(f\"Sử dụng thiết bị: {device}\")"
   ]
  },
  {
   "cell_type": "code",
   "execution_count": 3,
   "id": "878275a1-c5a6-4ec7-a1f8-6ffae4b83570",
   "metadata": {},
   "outputs": [],
   "source": [
    "class DynamicGraphAttention(nn.Module):\n",
    "    def __init__(self, in_channels, num_nodes=32, heads=8, dropout=0.1):  # Tăng num_nodes/heads mặc định\n",
    "        super().__init__()\n",
    "        self.num_nodes = num_nodes\n",
    "        self.heads = heads\n",
    "        self.head_dim = in_channels // heads\n",
    "        self.dropout = nn.Dropout(dropout)\n",
    "\n",
    "        self.query = nn.Linear(in_channels, in_channels)\n",
    "        self.key = nn.Linear(in_channels, in_channels)\n",
    "        self.value = nn.Linear(in_channels, in_channels)\n",
    "        self.out = nn.Linear(in_channels, in_channels)\n",
    "        self.scale = nn.Parameter(torch.tensor(self.head_dim**-0.5))\n",
    "\n",
    "        # Positional encoding (simple learnable)\n",
    "        self.pos_enc = nn.Parameter(torch.randn(1, num_nodes, in_channels))\n",
    "\n",
    "    def forward(self, x):\n",
    "        B, C, H, W = x.size()\n",
    "        x_flat = x.flatten(2).transpose(1, 2)  # (B, H*W, C)\n",
    "        \n",
    "        num_pixels = H * W\n",
    "        N = min(self.num_nodes, num_pixels)\n",
    "        \n",
    "        # Importance sampling: Chọn top-k pixels dựa trên L2 norm (thay vì random/linspace)\n",
    "        norms = torch.norm(x_flat, dim=-1)  # (B, H*W)\n",
    "        _, indices = torch.topk(norms, N, dim=-1)  # Top-k indices\n",
    "        indices = indices.sort(dim=-1).indices  # Sort để ổn định\n",
    "        x_nodes = torch.gather(x_flat, 1, indices.unsqueeze(-1).expand(-1, -1, C))  # (B, N, C)\n",
    "        \n",
    "        # Thêm positional encoding\n",
    "        x_nodes = x_nodes + self.pos_enc.expand(B, -1, -1)\n",
    "        \n",
    "        q = self.query(x_nodes).view(B, N, self.heads, self.head_dim).transpose(1, 2)\n",
    "        k = self.key(x_nodes).view(B, N, self.heads, self.head_dim).transpose(1, 2)\n",
    "        v = self.value(x_nodes).view(B, N, self.heads, self.head_dim).transpose(1, 2)\n",
    "        \n",
    "        attn_weights = torch.matmul(q, k.transpose(-2, -1)) * self.scale\n",
    "        attn_weights = F.softmax(attn_weights, dim=-1)\n",
    "        attn_weights = self.dropout(attn_weights)  # Thêm dropout\n",
    "        attn_output = torch.matmul(attn_weights, v)\n",
    "        attn_output = attn_output.transpose(1, 2).contiguous().view(B, N, C)\n",
    "        \n",
    "        out_nodes = self.out(attn_output)\n",
    "        \n",
    "        out_flat = torch.zeros_like(x_flat)\n",
    "        out_flat.scatter_(1, indices.unsqueeze(-1).expand(-1, -1, C), out_nodes)\n",
    "        out = out_flat.transpose(1, 2).view(B, C, H, W)\n",
    "        \n",
    "        return x + out  # Residual connection\n",
    "\n",
    "class TemporalAttentionAggregator(nn.Module):\n",
    "    def __init__(self, in_channels, num_heads=4):\n",
    "        super().__init__()\n",
    "        self.attention_net = nn.MultiheadAttention(embed_dim=in_channels, num_heads=num_heads)  # Thay MLP bằng MultiheadAttention\n",
    "        self.norm = nn.LayerNorm(in_channels)\n",
    "\n",
    "    def forward(self, x):\n",
    "        if len(x.shape) == 4:  # (B, C, H, W) -> Giả sử single frame, flatten spatial\n",
    "            B, C, H, W = x.size()\n",
    "            x_flat = x.flatten(2).transpose(1, 2)  # (B, H*W, C)\n",
    "        elif len(x.shape) == 5:  # (B, T, C, H, W) -> Flatten temporal-spatial\n",
    "            B, T, C, H, W = x.size()\n",
    "            x_flat = x.flatten(3).transpose(2, 3).reshape(B, T * H * W, C)  # (B, T*H*W, C)\n",
    "        else:\n",
    "            raise ValueError(\"Input must be 4D or 5D tensor\")\n",
    "        \n",
    "        # Temporal-spatial attention\n",
    "        x_flat = self.norm(x_flat)\n",
    "        attn_output, _ = self.attention_net(x_flat, x_flat, x_flat)  # Self-attention\n",
    "        \n",
    "        # Aggregate\n",
    "        aggregated_vector = torch.mean(attn_output, dim=1)  # Mean pooling thay sum để ổn định\n",
    "        return aggregated_vector\n",
    "\n",
    "class InvertedResidual(nn.Module):\n",
    "    def __init__(self, in_channels, out_channels, stride, expansion=6):  # Tăng expansion mặc định\n",
    "        super().__init__()\n",
    "        hidden_dim = in_channels * expansion\n",
    "        self.use_residual = in_channels == out_channels and stride == 1\n",
    "        \n",
    "        self.conv = nn.Sequential(\n",
    "            nn.Conv2d(in_channels, hidden_dim, 1, bias=False),\n",
    "            nn.BatchNorm2d(hidden_dim),\n",
    "            nn.SiLU(inplace=True),  # Thay ReLU6 bằng SiLU (Swish)\n",
    "            nn.Conv2d(hidden_dim, hidden_dim, 3, stride, 1, groups=hidden_dim, bias=False),\n",
    "            nn.BatchNorm2d(hidden_dim),\n",
    "            nn.SiLU(inplace=True),\n",
    "            nn.Conv2d(hidden_dim, out_channels, 1, bias=False),\n",
    "            nn.BatchNorm2d(out_channels),\n",
    "        )\n",
    "        \n",
    "        # Thêm SE block\n",
    "        self.se = nn.Sequential(\n",
    "            nn.AdaptiveAvgPool2d(1),\n",
    "            nn.Conv2d(out_channels, out_channels // 16, 1),\n",
    "            nn.SiLU(),\n",
    "            nn.Conv2d(out_channels // 16, out_channels, 1),\n",
    "            nn.Sigmoid()\n",
    "        )\n",
    "\n",
    "    def forward(self, x):\n",
    "        out = self.conv(x)\n",
    "        out = out * self.se(out)  # Áp dụng SE\n",
    "        return x + out if self.use_residual else out"
   ]
  },
  {
   "cell_type": "code",
   "execution_count": 4,
   "id": "561c9475-5f99-4695-8cbf-1b2c5422e1a3",
   "metadata": {},
   "outputs": [],
   "source": [
    "class PestLarvaNet_Massive(nn.Module):\n",
    "    def __init__(self, num_classes, input_channels=1):\n",
    "        super().__init__()\n",
    "        self.config = [[1, 40, 3, 1], [6, 64, 4, 2], [6, 96, 6, 2], [6, 160, 5, 2], [6, 256, 4, 1]]\n",
    "        self.stem = nn.Sequential(\n",
    "            nn.Conv2d(input_channels, 40, 3, 2, 1, bias=False),\n",
    "            nn.BatchNorm2d(40), nn.SiLU(inplace=True))\n",
    "        \n",
    "        layers = []\n",
    "        in_channels = 40\n",
    "        for t, c, n, s in self.config:\n",
    "            for i in range(n):\n",
    "                stride = s if i == 0 else 1\n",
    "                layers.append(InvertedResidual(in_channels, c, stride, expansion=t))\n",
    "                in_channels = c\n",
    "            if c == 64:\n",
    "                layers.append(DynamicGraphAttention(in_channels, num_nodes=48, heads=8))\n",
    "        self.body = nn.Sequential(*layers)\n",
    "        \n",
    "        self.head_conv = nn.Conv2d(256, 768, 1, bias=False)\n",
    "        self.aggregator = TemporalAttentionAggregator(768, num_heads=12)\n",
    "        self.classifier = nn.Sequential(\n",
    "            nn.Linear(768, 384), nn.SiLU(inplace=True), nn.Dropout(0.5),\n",
    "            nn.Linear(384, num_classes))\n",
    "            \n",
    "    def forward(self, x):\n",
    "        x = self.stem(x); x = self.body(x); x = self.head_conv(x)\n",
    "        x = self.aggregator(x); x = self.classifier(x); return x"
   ]
  },
  {
   "cell_type": "code",
   "execution_count": 5,
   "id": "2f5c3927-b694-47e6-ba38-cecf04d3fdf8",
   "metadata": {},
   "outputs": [],
   "source": [
    "def count_parameters(model):\n",
    "    total = sum(p.numel() for p in model.parameters())\n",
    "    trainable = sum(p.numel() for p in model.parameters() if p.requires_grad)\n",
    "    return total, trainable"
   ]
  },
  {
   "cell_type": "code",
   "execution_count": 6,
   "id": "81a46c0f-6c6c-4d56-81ca-5ab689474f1e",
   "metadata": {},
   "outputs": [],
   "source": [
    "class InsectSpectrogramDataset(Dataset):\n",
    "    \"\"\"Dataset tùy chỉnh để đọc các file spectrogram .pt\"\"\"\n",
    "    def __init__(self, metadata_file, data_dir, transform=None):\n",
    "        self.metadata = pd.read_csv(metadata_file)\n",
    "        self.data_dir = data_dir\n",
    "        self.transform = transform\n",
    "        self.file_column = 'file_name'\n",
    "        self.label_column = 'label'\n",
    "        \n",
    "        self.class_names = sorted(self.metadata[self.label_column].unique())\n",
    "        self.class_to_id = {name: i for i, name in enumerate(self.class_names)}\n",
    "        self.id_to_class = {i: name for name, i in self.class_to_id.items()}\n",
    "\n",
    "    def __len__(self):\n",
    "        return len(self.metadata)\n",
    "\n",
    "    def __getitem__(self, idx):\n",
    "        file_name = self.metadata.iloc[idx][self.file_column]\n",
    "        file_path = os.path.join(self.data_dir, file_name)\n",
    "        label_name = self.metadata.iloc[idx][self.label_column]\n",
    "        label = self.class_to_id[label_name]\n",
    "        \n",
    "        try:\n",
    "            spectrogram = torch.load(file_path)\n",
    "            if spectrogram.dim() == 2:\n",
    "                spectrogram = spectrogram.unsqueeze(0)\n",
    "            if self.transform:\n",
    "                spectrogram = self.transform(spectrogram)\n",
    "            return spectrogram, label\n",
    "        except Exception as e:\n",
    "            print(f\"Lỗi khi tải file {file_path}: {e}\")\n",
    "            return torch.zeros(1, 128, 259), -1 # Trả về mẫu lỗi"
   ]
  },
  {
   "cell_type": "code",
   "execution_count": 7,
   "id": "e3d4cf3d-4921-4deb-9d76-1878d0ccc5c2",
   "metadata": {},
   "outputs": [],
   "source": [
    "METADATA_PATH = r'F:/Working Sync/LAB projects/InsectSELD/Dataset/metadata_Mel.csv' \n",
    "DATA_DIR = r'F:/Working Sync/LAB projects/InsectSELD/Dataset/MelSpectrograms'"
   ]
  },
  {
   "cell_type": "code",
   "execution_count": 8,
   "id": "dbd3bd2b-9f18-42eb-96c9-c748d1bd9386",
   "metadata": {},
   "outputs": [],
   "source": [
    "class TimeShift(torch.nn.Module):\n",
    "    \"\"\" Dịch chuyển spectrogram theo trục thời gian một cách ngẫu nhiên. \"\"\"\n",
    "    def __init__(self, p=0.5, max_shift_percent=0.4):\n",
    "        super().__init__()\n",
    "        self.p = p\n",
    "        self.max_shift_percent = max_shift_percent\n",
    "\n",
    "    def forward(self, spec):\n",
    "        if torch.rand(1) < self.p:\n",
    "            time_steps = spec.shape[-1]\n",
    "            # Chọn một lượng dịch chuyển ngẫu nhiên\n",
    "            shift_amount = int(torch.rand(1) * self.max_shift_percent * time_steps)\n",
    "            # Dịch ngẫu nhiên sang trái hoặc phải\n",
    "            if torch.rand(1) < 0.5:\n",
    "                shift_amount = -shift_amount\n",
    "            return torch.roll(spec, shifts=shift_amount, dims=-1)\n",
    "        return spec\n",
    "\n",
    "class SpecNoise(torch.nn.Module):\n",
    "    \"\"\" Thêm nhiễu Gaussian trực tiếp vào spectrogram. \"\"\"\n",
    "    def __init__(self, p=0.5, noise_level=0.05):\n",
    "        super().__init__()\n",
    "        self.p = p\n",
    "        self.noise_level = noise_level\n",
    "\n",
    "    def forward(self, spec):\n",
    "        if torch.rand(1) < self.p:\n",
    "            noise = torch.randn_like(spec) * self.noise_level\n",
    "            return spec + noise\n",
    "        return spec"
   ]
  },
  {
   "cell_type": "code",
   "execution_count": 9,
   "id": "d18f938b-e3c8-4d8f-bd08-19b4d0c7b19f",
   "metadata": {},
   "outputs": [
    {
     "name": "stdout",
     "output_type": "stream",
     "text": [
      "Đã định nghĩa xong pipeline Augmentation cho Spectrogram.\n"
     ]
    }
   ],
   "source": [
    "train_transform = T.Compose([\n",
    "    # Kỹ thuật 1: SpecAugment (Time & Frequency Masking)\n",
    "    torchaudio.transforms.TimeMasking(time_mask_param=80),\n",
    "    torchaudio.transforms.FrequencyMasking(freq_mask_param=25),\n",
    "    \n",
    "    # Kỹ thuật 2: Time Shifting\n",
    "    TimeShift(p=0.5, max_shift_percent=0.4),\n",
    "    \n",
    "    # Kỹ thuật 3: Spectrogram Noise\n",
    "    SpecNoise(p=0.3, noise_level=0.03),\n",
    "])\n",
    "\n",
    "# Tập validation không sử dụng augmentation\n",
    "val_transform = None\n",
    "\n",
    "print(\"Đã định nghĩa xong pipeline Augmentation cho Spectrogram.\")"
   ]
  },
  {
   "cell_type": "code",
   "execution_count": 10,
   "id": "4f33aa01-1795-4515-a580-c23fad5fa635",
   "metadata": {},
   "outputs": [],
   "source": [
    "def mixup_data(x, y, alpha=0.4, use_cuda=True):\n",
    "    \"\"\"\n",
    "    Trộn dữ liệu trong một batch.\n",
    "    Trả về input đã trộn, và hai bộ nhãn gốc cùng với hệ số trộn lambda.\n",
    "    \"\"\"\n",
    "    if alpha > 0:\n",
    "        lam = np.random.beta(alpha, alpha)\n",
    "    else:\n",
    "        lam = 1\n",
    "\n",
    "    batch_size = x.size()[0]\n",
    "    if use_cuda:\n",
    "        index = torch.randperm(batch_size).cuda()\n",
    "    else:\n",
    "        index = torch.randperm(batch_size)\n",
    "\n",
    "    mixed_x = lam * x + (1 - lam) * x[index, :]\n",
    "    y_a, y_b = y, y[index]\n",
    "    return mixed_x, y_a, y_b, lam\n",
    "\n",
    "\n",
    "def mixup_criterion(criterion, pred, y_a, y_b, lam):\n",
    "    \"\"\"\n",
    "    Hàm tính loss đặc biệt cho Mixup.\n",
    "    \"\"\"\n",
    "    return lam * criterion(pred, y_a) + (1 - lam) * criterion(pred, y_b)"
   ]
  },
  {
   "cell_type": "code",
   "execution_count": 11,
   "id": "18a940e3-05da-449c-8207-c38aa6ad0de3",
   "metadata": {},
   "outputs": [
    {
     "name": "stdout",
     "output_type": "stream",
     "text": [
      "Tải dữ liệu thành công: 165982 mẫu, 12 lớp.\n"
     ]
    }
   ],
   "source": [
    "if not os.path.exists(METADATA_PATH) or not os.path.isdir(DATA_DIR):\n",
    "    print(\"!!! LỖI: Vui lòng kiểm tra lại đường dẫn METADATA_PATH và DATA_DIR.\")\n",
    "else:\n",
    "    full_dataset = InsectSpectrogramDataset(METADATA_PATH, DATA_DIR)\n",
    "    num_classes = len(full_dataset.class_names)\n",
    "    print(f\"Tải dữ liệu thành công: {len(full_dataset)} mẫu, {num_classes} lớp.\")\n",
    "\n",
    "    train_size = int(0.8 * len(full_dataset))\n",
    "    val_size = len(full_dataset) - train_size\n",
    "    generator = torch.Generator().manual_seed(42)\n",
    "    train_dataset, val_dataset = random_split(full_dataset, [train_size, val_size], generator)\n",
    "\n",
    "    train_dataset.dataset.transform = train_transform\n",
    "    val_dataset.dataset.transform = val_transform\n",
    "\n",
    "    BATCH_SIZE = 32\n",
    "    train_loader = DataLoader(train_dataset, batch_size=BATCH_SIZE, shuffle=True, num_workers=0)\n",
    "    val_loader = DataLoader(val_dataset, batch_size=BATCH_SIZE, shuffle=False, num_workers=0)"
   ]
  },
  {
   "cell_type": "code",
   "execution_count": 12,
   "id": "d6d3d42a-f0a9-491b-89a1-e90a76d33bdf",
   "metadata": {},
   "outputs": [],
   "source": [
    "EPOCHS = 100\n",
    "LEARNING_RATE = 0.001\n",
    "WEIGHT_DECAY = 1e-4\n",
    "\n",
    "CHECKPOINT_DIR = r'F:/Working Sync/LAB projects/InsectSELD/Dataset/checkpoints'\n",
    "LOG_CSV_PATH = 'F:/Working Sync/LAB projects/InsectSELD/Dataset/training_log.csv'\n",
    "os.makedirs(CHECKPOINT_DIR, exist_ok=True)"
   ]
  },
  {
   "cell_type": "code",
   "execution_count": 13,
   "id": "3b0a5983-805b-46c5-8e8c-5f0a07fa8b7b",
   "metadata": {},
   "outputs": [
    {
     "name": "stdout",
     "output_type": "stream",
     "text": [
      "Khởi tạo mô hình PestLarvaNet-GMA với 8.07M tham số.\n"
     ]
    }
   ],
   "source": [
    "model = PestLarvaNet_Massive(num_classes=num_classes).to(device)\n",
    "total_params, _ = count_parameters(model)\n",
    "print(f\"Khởi tạo mô hình PestLarvaNet-GMA với {total_params/1e6:.2f}M tham số.\")\n",
    "\n",
    "criterion = nn.CrossEntropyLoss()\n",
    "optimizer = torch.optim.AdamW(model.parameters(), lr=LEARNING_RATE, weight_decay=WEIGHT_DECAY)\n",
    "scheduler = torch.optim.lr_scheduler.CosineAnnealingLR(optimizer, T_max=EPOCHS)"
   ]
  },
  {
   "cell_type": "code",
   "execution_count": 14,
   "id": "d53eaa89-a519-4d94-93b6-7481ae606df8",
   "metadata": {},
   "outputs": [
    {
     "name": "stdout",
     "output_type": "stream",
     "text": [
      "\n",
      "Bắt đầu huấn luyện... Checkpoints sẽ được lưu tại 'F:/Working Sync/LAB projects/InsectSELD/Dataset/checkpoints' và log tại 'F:/Working Sync/LAB projects/InsectSELD/Dataset/training_log.csv'\n"
     ]
    }
   ],
   "source": [
    "log_header = [\n",
    "    'epoch', 'train_loss', 'val_loss', 'learning_rate', 'accuracy',\n",
    "    'macro_f1', 'weighted_f1', 'macro_precision', 'weighted_precision',\n",
    "    'macro_recall', 'weighted_recall'\n",
    "]\n",
    "with open(LOG_CSV_PATH, 'w', newline='', encoding='utf-8') as f:\n",
    "    csv.writer(f).writerow(log_header)\n",
    "\n",
    "print(f\"\\nBắt đầu huấn luyện... Checkpoints sẽ được lưu tại '{CHECKPOINT_DIR}' và log tại '{LOG_CSV_PATH}'\")\n",
    "\n",
    "# --- Vòng lặp huấn luyện chính ---\n",
    "best_val_f1 = 0.0\n"
   ]
  },
  {
   "cell_type": "code",
   "execution_count": 16,
   "id": "5f0161a7-f3ca-4c11-96a6-778ab7d83042",
   "metadata": {},
   "outputs": [
    {
     "data": {
      "application/vnd.jupyter.widget-view+json": {
       "model_id": "3b71fb5ee5814af6b6f6277053cc349b",
       "version_major": 2,
       "version_minor": 0
      },
      "text/plain": [
       "Epoch 1/100 [Training]:   0%|          | 0/4150 [00:00<?, ?it/s]"
      ]
     },
     "metadata": {},
     "output_type": "display_data"
    },
    {
     "data": {
      "application/vnd.jupyter.widget-view+json": {
       "model_id": "77dec5fa849e4baa982bc59f69af02c2",
       "version_major": 2,
       "version_minor": 0
      },
      "text/plain": [
       "Epoch 1/100 [Validation]:   0%|          | 0/1038 [00:00<?, ?it/s]"
      ]
     },
     "metadata": {},
     "output_type": "display_data"
    },
    {
     "name": "stdout",
     "output_type": "stream",
     "text": [
      "\n",
      "--- Epoch 1/100 Summary ---\n",
      "  Train Loss: 0.6400 | Val Loss: 0.4042\n",
      "  Accuracy: 0.8603 | Weighted F1: 0.8589\n",
      "  Learning Rate: 0.000946\n",
      "  => 🎉 New best model saved to 'F:/Working Sync/LAB projects/InsectSELD/Dataset/checkpoints\\best_model.pth' (Weighted F1: 0.8589)\n",
      "\n"
     ]
    },
    {
     "data": {
      "application/vnd.jupyter.widget-view+json": {
       "model_id": "6846698285c44304a4d214fba3f4a218",
       "version_major": 2,
       "version_minor": 0
      },
      "text/plain": [
       "Epoch 2/100 [Training]:   0%|          | 0/4150 [00:00<?, ?it/s]"
      ]
     },
     "metadata": {},
     "output_type": "display_data"
    },
    {
     "data": {
      "application/vnd.jupyter.widget-view+json": {
       "model_id": "f49456934e9e4a08b8ff63e9b0836450",
       "version_major": 2,
       "version_minor": 0
      },
      "text/plain": [
       "Epoch 2/100 [Validation]:   0%|          | 0/1038 [00:00<?, ?it/s]"
      ]
     },
     "metadata": {},
     "output_type": "display_data"
    },
    {
     "name": "stdout",
     "output_type": "stream",
     "text": [
      "\n",
      "--- Epoch 2/100 Summary ---\n",
      "  Train Loss: 0.6350 | Val Loss: 0.3923\n",
      "  Accuracy: 0.8711 | Weighted F1: 0.8703\n",
      "  Learning Rate: 0.000938\n",
      "  => 🎉 New best model saved to 'F:/Working Sync/LAB projects/InsectSELD/Dataset/checkpoints\\best_model.pth' (Weighted F1: 0.8703)\n",
      "\n"
     ]
    },
    {
     "data": {
      "application/vnd.jupyter.widget-view+json": {
       "model_id": "e72026ef75774af2a1fcd1fae73384a1",
       "version_major": 2,
       "version_minor": 0
      },
      "text/plain": [
       "Epoch 3/100 [Training]:   0%|          | 0/4150 [00:00<?, ?it/s]"
      ]
     },
     "metadata": {},
     "output_type": "display_data"
    },
    {
     "data": {
      "application/vnd.jupyter.widget-view+json": {
       "model_id": "0b02deab64494a05890b359a2ecfba29",
       "version_major": 2,
       "version_minor": 0
      },
      "text/plain": [
       "Epoch 3/100 [Validation]:   0%|          | 0/1038 [00:00<?, ?it/s]"
      ]
     },
     "metadata": {},
     "output_type": "display_data"
    },
    {
     "name": "stdout",
     "output_type": "stream",
     "text": [
      "\n",
      "--- Epoch 3/100 Summary ---\n",
      "  Train Loss: 0.5908 | Val Loss: 0.4803\n",
      "  Accuracy: 0.8411 | Weighted F1: 0.8390\n",
      "  Learning Rate: 0.000930\n"
     ]
    },
    {
     "data": {
      "application/vnd.jupyter.widget-view+json": {
       "model_id": "bd2e49c54c1f41c29e4ed36d8ae5f192",
       "version_major": 2,
       "version_minor": 0
      },
      "text/plain": [
       "Epoch 4/100 [Training]:   0%|          | 0/4150 [00:00<?, ?it/s]"
      ]
     },
     "metadata": {},
     "output_type": "display_data"
    },
    {
     "data": {
      "application/vnd.jupyter.widget-view+json": {
       "model_id": "bf4abc93474943ecb1856f0edfc48a28",
       "version_major": 2,
       "version_minor": 0
      },
      "text/plain": [
       "Epoch 4/100 [Validation]:   0%|          | 0/1038 [00:00<?, ?it/s]"
      ]
     },
     "metadata": {},
     "output_type": "display_data"
    },
    {
     "name": "stdout",
     "output_type": "stream",
     "text": [
      "\n",
      "--- Epoch 4/100 Summary ---\n",
      "  Train Loss: 0.5893 | Val Loss: 0.3166\n",
      "  Accuracy: 0.8906 | Weighted F1: 0.8896\n",
      "  Learning Rate: 0.000922\n",
      "  => 🎉 New best model saved to 'F:/Working Sync/LAB projects/InsectSELD/Dataset/checkpoints\\best_model.pth' (Weighted F1: 0.8896)\n",
      "\n"
     ]
    },
    {
     "data": {
      "application/vnd.jupyter.widget-view+json": {
       "model_id": "ef18e9383d1f4463a305e6cf43fdd255",
       "version_major": 2,
       "version_minor": 0
      },
      "text/plain": [
       "Epoch 5/100 [Training]:   0%|          | 0/4150 [00:00<?, ?it/s]"
      ]
     },
     "metadata": {},
     "output_type": "display_data"
    },
    {
     "data": {
      "application/vnd.jupyter.widget-view+json": {
       "model_id": "347cadc5cb8e4ac89f4269d15a704e4f",
       "version_major": 2,
       "version_minor": 0
      },
      "text/plain": [
       "Epoch 5/100 [Validation]:   0%|          | 0/1038 [00:00<?, ?it/s]"
      ]
     },
     "metadata": {},
     "output_type": "display_data"
    },
    {
     "name": "stdout",
     "output_type": "stream",
     "text": [
      "\n",
      "--- Epoch 5/100 Summary ---\n",
      "  Train Loss: 0.5765 | Val Loss: 0.3532\n",
      "  Accuracy: 0.8804 | Weighted F1: 0.8811\n",
      "  Learning Rate: 0.000914\n"
     ]
    },
    {
     "data": {
      "application/vnd.jupyter.widget-view+json": {
       "model_id": "896b8c43f5fe4fe0a3e32efa4cee9d88",
       "version_major": 2,
       "version_minor": 0
      },
      "text/plain": [
       "Epoch 6/100 [Training]:   0%|          | 0/4150 [00:00<?, ?it/s]"
      ]
     },
     "metadata": {},
     "output_type": "display_data"
    },
    {
     "data": {
      "application/vnd.jupyter.widget-view+json": {
       "model_id": "911c945429084b0e99678a053497d263",
       "version_major": 2,
       "version_minor": 0
      },
      "text/plain": [
       "Epoch 6/100 [Validation]:   0%|          | 0/1038 [00:00<?, ?it/s]"
      ]
     },
     "metadata": {},
     "output_type": "display_data"
    },
    {
     "name": "stdout",
     "output_type": "stream",
     "text": [
      "\n",
      "--- Epoch 6/100 Summary ---\n",
      "  Train Loss: 0.5554 | Val Loss: 0.4337\n",
      "  Accuracy: 0.8566 | Weighted F1: 0.8522\n",
      "  Learning Rate: 0.000905\n"
     ]
    },
    {
     "data": {
      "application/vnd.jupyter.widget-view+json": {
       "model_id": "10899150727140959806caff031a60ca",
       "version_major": 2,
       "version_minor": 0
      },
      "text/plain": [
       "Epoch 7/100 [Training]:   0%|          | 0/4150 [00:00<?, ?it/s]"
      ]
     },
     "metadata": {},
     "output_type": "display_data"
    },
    {
     "data": {
      "application/vnd.jupyter.widget-view+json": {
       "model_id": "dcb4d7e1404a441f80a237231bf1bbd0",
       "version_major": 2,
       "version_minor": 0
      },
      "text/plain": [
       "Epoch 7/100 [Validation]:   0%|          | 0/1038 [00:00<?, ?it/s]"
      ]
     },
     "metadata": {},
     "output_type": "display_data"
    },
    {
     "name": "stdout",
     "output_type": "stream",
     "text": [
      "\n",
      "--- Epoch 7/100 Summary ---\n",
      "  Train Loss: 0.5426 | Val Loss: 0.3038\n",
      "  Accuracy: 0.8971 | Weighted F1: 0.8959\n",
      "  Learning Rate: 0.000895\n",
      "  => 🎉 New best model saved to 'F:/Working Sync/LAB projects/InsectSELD/Dataset/checkpoints\\best_model.pth' (Weighted F1: 0.8959)\n",
      "\n"
     ]
    },
    {
     "data": {
      "application/vnd.jupyter.widget-view+json": {
       "model_id": "54368656674b41fda515dc8c1e8275b0",
       "version_major": 2,
       "version_minor": 0
      },
      "text/plain": [
       "Epoch 8/100 [Training]:   0%|          | 0/4150 [00:00<?, ?it/s]"
      ]
     },
     "metadata": {},
     "output_type": "display_data"
    },
    {
     "data": {
      "application/vnd.jupyter.widget-view+json": {
       "model_id": "9f7afa53b2b34b058a5d84d0c28f1759",
       "version_major": 2,
       "version_minor": 0
      },
      "text/plain": [
       "Epoch 8/100 [Validation]:   0%|          | 0/1038 [00:00<?, ?it/s]"
      ]
     },
     "metadata": {},
     "output_type": "display_data"
    },
    {
     "name": "stdout",
     "output_type": "stream",
     "text": [
      "\n",
      "--- Epoch 8/100 Summary ---\n",
      "  Train Loss: 0.5373 | Val Loss: 0.3291\n",
      "  Accuracy: 0.8870 | Weighted F1: 0.8861\n",
      "  Learning Rate: 0.000885\n"
     ]
    },
    {
     "data": {
      "application/vnd.jupyter.widget-view+json": {
       "model_id": "13b2fac575fb40b9ac4c1f12e6f65c19",
       "version_major": 2,
       "version_minor": 0
      },
      "text/plain": [
       "Epoch 9/100 [Training]:   0%|          | 0/4150 [00:00<?, ?it/s]"
      ]
     },
     "metadata": {},
     "output_type": "display_data"
    },
    {
     "data": {
      "application/vnd.jupyter.widget-view+json": {
       "model_id": "d1b50598f9ec4af4a78ece0cadd599da",
       "version_major": 2,
       "version_minor": 0
      },
      "text/plain": [
       "Epoch 9/100 [Validation]:   0%|          | 0/1038 [00:00<?, ?it/s]"
      ]
     },
     "metadata": {},
     "output_type": "display_data"
    },
    {
     "name": "stdout",
     "output_type": "stream",
     "text": [
      "\n",
      "--- Epoch 9/100 Summary ---\n",
      "  Train Loss: 0.5259 | Val Loss: 0.4079\n",
      "  Accuracy: 0.8757 | Weighted F1: 0.8742\n",
      "  Learning Rate: 0.000875\n"
     ]
    },
    {
     "data": {
      "application/vnd.jupyter.widget-view+json": {
       "model_id": "6b4e12e3e57b4c78a8db1cd4d7b8b9e7",
       "version_major": 2,
       "version_minor": 0
      },
      "text/plain": [
       "Epoch 10/100 [Training]:   0%|          | 0/4150 [00:00<?, ?it/s]"
      ]
     },
     "metadata": {},
     "output_type": "display_data"
    },
    {
     "data": {
      "application/vnd.jupyter.widget-view+json": {
       "model_id": "5420f4b35ec14a198e37b3314ac86073",
       "version_major": 2,
       "version_minor": 0
      },
      "text/plain": [
       "Epoch 10/100 [Validation]:   0%|          | 0/1038 [00:00<?, ?it/s]"
      ]
     },
     "metadata": {},
     "output_type": "display_data"
    },
    {
     "name": "stdout",
     "output_type": "stream",
     "text": [
      "\n",
      "--- Epoch 10/100 Summary ---\n",
      "  Train Loss: 0.5124 | Val Loss: 0.8764\n",
      "  Accuracy: 0.7395 | Weighted F1: 0.7274\n",
      "  Learning Rate: 0.000864\n"
     ]
    },
    {
     "data": {
      "application/vnd.jupyter.widget-view+json": {
       "model_id": "294e72b04c654fac92bfa637e4b4adeb",
       "version_major": 2,
       "version_minor": 0
      },
      "text/plain": [
       "Epoch 11/100 [Training]:   0%|          | 0/4150 [00:00<?, ?it/s]"
      ]
     },
     "metadata": {},
     "output_type": "display_data"
    },
    {
     "data": {
      "application/vnd.jupyter.widget-view+json": {
       "model_id": "aaaf4c8a2cc34ed99a936c7b2596cb58",
       "version_major": 2,
       "version_minor": 0
      },
      "text/plain": [
       "Epoch 11/100 [Validation]:   0%|          | 0/1038 [00:00<?, ?it/s]"
      ]
     },
     "metadata": {},
     "output_type": "display_data"
    },
    {
     "name": "stdout",
     "output_type": "stream",
     "text": [
      "\n",
      "--- Epoch 11/100 Summary ---\n",
      "  Train Loss: 0.5014 | Val Loss: 0.3365\n",
      "  Accuracy: 0.8927 | Weighted F1: 0.8924\n",
      "  Learning Rate: 0.000854\n"
     ]
    },
    {
     "data": {
      "application/vnd.jupyter.widget-view+json": {
       "model_id": "ee272eb384394c0a9ffd15099983b543",
       "version_major": 2,
       "version_minor": 0
      },
      "text/plain": [
       "Epoch 12/100 [Training]:   0%|          | 0/4150 [00:00<?, ?it/s]"
      ]
     },
     "metadata": {},
     "output_type": "display_data"
    },
    {
     "data": {
      "application/vnd.jupyter.widget-view+json": {
       "model_id": "a990f5923068471ea90dad8b01f68028",
       "version_major": 2,
       "version_minor": 0
      },
      "text/plain": [
       "Epoch 12/100 [Validation]:   0%|          | 0/1038 [00:00<?, ?it/s]"
      ]
     },
     "metadata": {},
     "output_type": "display_data"
    },
    {
     "name": "stdout",
     "output_type": "stream",
     "text": [
      "\n",
      "--- Epoch 12/100 Summary ---\n",
      "  Train Loss: 0.4913 | Val Loss: 0.3440\n",
      "  Accuracy: 0.8892 | Weighted F1: 0.8878\n",
      "  Learning Rate: 0.000842\n"
     ]
    },
    {
     "data": {
      "application/vnd.jupyter.widget-view+json": {
       "model_id": "6a187402da914b2e86f0081c076a6b23",
       "version_major": 2,
       "version_minor": 0
      },
      "text/plain": [
       "Epoch 13/100 [Training]:   0%|          | 0/4150 [00:00<?, ?it/s]"
      ]
     },
     "metadata": {},
     "output_type": "display_data"
    },
    {
     "data": {
      "application/vnd.jupyter.widget-view+json": {
       "model_id": "f96ea7b35ac340b59e200ad46424faf8",
       "version_major": 2,
       "version_minor": 0
      },
      "text/plain": [
       "Epoch 13/100 [Validation]:   0%|          | 0/1038 [00:00<?, ?it/s]"
      ]
     },
     "metadata": {},
     "output_type": "display_data"
    },
    {
     "name": "stdout",
     "output_type": "stream",
     "text": [
      "\n",
      "--- Epoch 13/100 Summary ---\n",
      "  Train Loss: 0.4844 | Val Loss: 0.3050\n",
      "  Accuracy: 0.9048 | Weighted F1: 0.9044\n",
      "  Learning Rate: 0.000831\n",
      "  => 🎉 New best model saved to 'F:/Working Sync/LAB projects/InsectSELD/Dataset/checkpoints\\best_model.pth' (Weighted F1: 0.9044)\n",
      "\n"
     ]
    },
    {
     "data": {
      "application/vnd.jupyter.widget-view+json": {
       "model_id": "0446c43a2b164cc2ae51116b45b2c5db",
       "version_major": 2,
       "version_minor": 0
      },
      "text/plain": [
       "Epoch 14/100 [Training]:   0%|          | 0/4150 [00:00<?, ?it/s]"
      ]
     },
     "metadata": {},
     "output_type": "display_data"
    },
    {
     "data": {
      "application/vnd.jupyter.widget-view+json": {
       "model_id": "51e55a8bc8114908ae717c3dcd0c8323",
       "version_major": 2,
       "version_minor": 0
      },
      "text/plain": [
       "Epoch 14/100 [Validation]:   0%|          | 0/1038 [00:00<?, ?it/s]"
      ]
     },
     "metadata": {},
     "output_type": "display_data"
    },
    {
     "name": "stdout",
     "output_type": "stream",
     "text": [
      "\n",
      "--- Epoch 14/100 Summary ---\n",
      "  Train Loss: 0.4893 | Val Loss: 0.3072\n",
      "  Accuracy: 0.9057 | Weighted F1: 0.9052\n",
      "  Learning Rate: 0.000819\n",
      "  => 🎉 New best model saved to 'F:/Working Sync/LAB projects/InsectSELD/Dataset/checkpoints\\best_model.pth' (Weighted F1: 0.9052)\n",
      "\n"
     ]
    },
    {
     "data": {
      "application/vnd.jupyter.widget-view+json": {
       "model_id": "ded828808e96443bb5c9874c4909458b",
       "version_major": 2,
       "version_minor": 0
      },
      "text/plain": [
       "Epoch 15/100 [Training]:   0%|          | 0/4150 [00:00<?, ?it/s]"
      ]
     },
     "metadata": {},
     "output_type": "display_data"
    },
    {
     "data": {
      "application/vnd.jupyter.widget-view+json": {
       "model_id": "6543462cf8544595b986a93f505295d4",
       "version_major": 2,
       "version_minor": 0
      },
      "text/plain": [
       "Epoch 15/100 [Validation]:   0%|          | 0/1038 [00:00<?, ?it/s]"
      ]
     },
     "metadata": {},
     "output_type": "display_data"
    },
    {
     "name": "stdout",
     "output_type": "stream",
     "text": [
      "\n",
      "--- Epoch 15/100 Summary ---\n",
      "  Train Loss: 0.4774 | Val Loss: 0.4259\n",
      "  Accuracy: 0.8617 | Weighted F1: 0.8642\n",
      "  Learning Rate: 0.000806\n"
     ]
    },
    {
     "data": {
      "application/vnd.jupyter.widget-view+json": {
       "model_id": "4613c15a429c47bc940847d56dfc0591",
       "version_major": 2,
       "version_minor": 0
      },
      "text/plain": [
       "Epoch 16/100 [Training]:   0%|          | 0/4150 [00:00<?, ?it/s]"
      ]
     },
     "metadata": {},
     "output_type": "display_data"
    },
    {
     "data": {
      "application/vnd.jupyter.widget-view+json": {
       "model_id": "1011d805501b4932bfe0d5e9b700fcf3",
       "version_major": 2,
       "version_minor": 0
      },
      "text/plain": [
       "Epoch 16/100 [Validation]:   0%|          | 0/1038 [00:00<?, ?it/s]"
      ]
     },
     "metadata": {},
     "output_type": "display_data"
    },
    {
     "name": "stdout",
     "output_type": "stream",
     "text": [
      "\n",
      "--- Epoch 16/100 Summary ---\n",
      "  Train Loss: 0.4634 | Val Loss: 0.4777\n",
      "  Accuracy: 0.8628 | Weighted F1: 0.8621\n",
      "  Learning Rate: 0.000794\n"
     ]
    },
    {
     "data": {
      "application/vnd.jupyter.widget-view+json": {
       "model_id": "f731d13dff9843f8bd9a3b5b174f5ab2",
       "version_major": 2,
       "version_minor": 0
      },
      "text/plain": [
       "Epoch 17/100 [Training]:   0%|          | 0/4150 [00:00<?, ?it/s]"
      ]
     },
     "metadata": {},
     "output_type": "display_data"
    },
    {
     "data": {
      "application/vnd.jupyter.widget-view+json": {
       "model_id": "41a334d10b244b3d9764d899216b911d",
       "version_major": 2,
       "version_minor": 0
      },
      "text/plain": [
       "Epoch 17/100 [Validation]:   0%|          | 0/1038 [00:00<?, ?it/s]"
      ]
     },
     "metadata": {},
     "output_type": "display_data"
    },
    {
     "name": "stdout",
     "output_type": "stream",
     "text": [
      "\n",
      "--- Epoch 17/100 Summary ---\n",
      "  Train Loss: 0.4520 | Val Loss: 0.4336\n",
      "  Accuracy: 0.8795 | Weighted F1: 0.8774\n",
      "  Learning Rate: 0.000781\n"
     ]
    },
    {
     "data": {
      "application/vnd.jupyter.widget-view+json": {
       "model_id": "8e51c432627b49e6ac8bdb6f2a7c4363",
       "version_major": 2,
       "version_minor": 0
      },
      "text/plain": [
       "Epoch 18/100 [Training]:   0%|          | 0/4150 [00:00<?, ?it/s]"
      ]
     },
     "metadata": {},
     "output_type": "display_data"
    },
    {
     "data": {
      "application/vnd.jupyter.widget-view+json": {
       "model_id": "6b5baa80b93b4c919b440bbcbbcd157d",
       "version_major": 2,
       "version_minor": 0
      },
      "text/plain": [
       "Epoch 18/100 [Validation]:   0%|          | 0/1038 [00:00<?, ?it/s]"
      ]
     },
     "metadata": {},
     "output_type": "display_data"
    },
    {
     "name": "stdout",
     "output_type": "stream",
     "text": [
      "\n",
      "--- Epoch 18/100 Summary ---\n",
      "  Train Loss: 0.4404 | Val Loss: 0.3172\n",
      "  Accuracy: 0.9050 | Weighted F1: 0.9053\n",
      "  Learning Rate: 0.000768\n",
      "  => 🎉 New best model saved to 'F:/Working Sync/LAB projects/InsectSELD/Dataset/checkpoints\\best_model.pth' (Weighted F1: 0.9053)\n",
      "\n"
     ]
    },
    {
     "data": {
      "application/vnd.jupyter.widget-view+json": {
       "model_id": "8180c03bdd0a4d1389bb58ceb82d27c9",
       "version_major": 2,
       "version_minor": 0
      },
      "text/plain": [
       "Epoch 19/100 [Training]:   0%|          | 0/4150 [00:00<?, ?it/s]"
      ]
     },
     "metadata": {},
     "output_type": "display_data"
    },
    {
     "data": {
      "application/vnd.jupyter.widget-view+json": {
       "model_id": "97d9731b2c93479fb0ddc856b657f000",
       "version_major": 2,
       "version_minor": 0
      },
      "text/plain": [
       "Epoch 19/100 [Validation]:   0%|          | 0/1038 [00:00<?, ?it/s]"
      ]
     },
     "metadata": {},
     "output_type": "display_data"
    },
    {
     "name": "stdout",
     "output_type": "stream",
     "text": [
      "\n",
      "--- Epoch 19/100 Summary ---\n",
      "  Train Loss: 0.4472 | Val Loss: 0.3662\n",
      "  Accuracy: 0.8912 | Weighted F1: 0.8902\n",
      "  Learning Rate: 0.000755\n"
     ]
    },
    {
     "data": {
      "application/vnd.jupyter.widget-view+json": {
       "model_id": "15dfbaba990d48bdb53cdcb9738f7ec4",
       "version_major": 2,
       "version_minor": 0
      },
      "text/plain": [
       "Epoch 20/100 [Training]:   0%|          | 0/4150 [00:00<?, ?it/s]"
      ]
     },
     "metadata": {},
     "output_type": "display_data"
    },
    {
     "data": {
      "application/vnd.jupyter.widget-view+json": {
       "model_id": "5ee6d79a5a7c4c8fa0bdec638808b789",
       "version_major": 2,
       "version_minor": 0
      },
      "text/plain": [
       "Epoch 20/100 [Validation]:   0%|          | 0/1038 [00:00<?, ?it/s]"
      ]
     },
     "metadata": {},
     "output_type": "display_data"
    },
    {
     "name": "stdout",
     "output_type": "stream",
     "text": [
      "\n",
      "--- Epoch 20/100 Summary ---\n",
      "  Train Loss: 0.4316 | Val Loss: 0.4398\n",
      "  Accuracy: 0.8786 | Weighted F1: 0.8804\n",
      "  Learning Rate: 0.000741\n"
     ]
    },
    {
     "data": {
      "application/vnd.jupyter.widget-view+json": {
       "model_id": "4862ec9da7e244abb2b64a920782f791",
       "version_major": 2,
       "version_minor": 0
      },
      "text/plain": [
       "Epoch 21/100 [Training]:   0%|          | 0/4150 [00:00<?, ?it/s]"
      ]
     },
     "metadata": {},
     "output_type": "display_data"
    },
    {
     "data": {
      "application/vnd.jupyter.widget-view+json": {
       "model_id": "74da63c00971401b902a76a439861632",
       "version_major": 2,
       "version_minor": 0
      },
      "text/plain": [
       "Epoch 21/100 [Validation]:   0%|          | 0/1038 [00:00<?, ?it/s]"
      ]
     },
     "metadata": {},
     "output_type": "display_data"
    },
    {
     "name": "stdout",
     "output_type": "stream",
     "text": [
      "\n",
      "--- Epoch 21/100 Summary ---\n",
      "  Train Loss: 0.4283 | Val Loss: 0.3618\n",
      "  Accuracy: 0.8955 | Weighted F1: 0.8960\n",
      "  Learning Rate: 0.000727\n"
     ]
    },
    {
     "data": {
      "application/vnd.jupyter.widget-view+json": {
       "model_id": "20574c150dbe4852ade29c8e8012ce7d",
       "version_major": 2,
       "version_minor": 0
      },
      "text/plain": [
       "Epoch 22/100 [Training]:   0%|          | 0/4150 [00:00<?, ?it/s]"
      ]
     },
     "metadata": {},
     "output_type": "display_data"
    },
    {
     "data": {
      "application/vnd.jupyter.widget-view+json": {
       "model_id": "b9d8c757d3074cbe8e1ea99cca76f935",
       "version_major": 2,
       "version_minor": 0
      },
      "text/plain": [
       "Epoch 22/100 [Validation]:   0%|          | 0/1038 [00:00<?, ?it/s]"
      ]
     },
     "metadata": {},
     "output_type": "display_data"
    },
    {
     "name": "stdout",
     "output_type": "stream",
     "text": [
      "\n",
      "--- Epoch 22/100 Summary ---\n",
      "  Train Loss: 0.4229 | Val Loss: 0.3901\n",
      "  Accuracy: 0.9034 | Weighted F1: 0.9028\n",
      "  Learning Rate: 0.000713\n"
     ]
    },
    {
     "data": {
      "application/vnd.jupyter.widget-view+json": {
       "model_id": "2a09fe68f18240f480e7fef54fd1a8fe",
       "version_major": 2,
       "version_minor": 0
      },
      "text/plain": [
       "Epoch 23/100 [Training]:   0%|          | 0/4150 [00:00<?, ?it/s]"
      ]
     },
     "metadata": {},
     "output_type": "display_data"
    },
    {
     "data": {
      "application/vnd.jupyter.widget-view+json": {
       "model_id": "65608ed698104e30a5a2f5c7cb336c31",
       "version_major": 2,
       "version_minor": 0
      },
      "text/plain": [
       "Epoch 23/100 [Validation]:   0%|          | 0/1038 [00:00<?, ?it/s]"
      ]
     },
     "metadata": {},
     "output_type": "display_data"
    },
    {
     "name": "stdout",
     "output_type": "stream",
     "text": [
      "\n",
      "--- Epoch 23/100 Summary ---\n",
      "  Train Loss: 0.4003 | Val Loss: 0.3345\n",
      "  Accuracy: 0.9059 | Weighted F1: 0.9052\n",
      "  Learning Rate: 0.000699\n"
     ]
    },
    {
     "data": {
      "application/vnd.jupyter.widget-view+json": {
       "model_id": "8ebb11741fd64014abd0088cfedfff83",
       "version_major": 2,
       "version_minor": 0
      },
      "text/plain": [
       "Epoch 24/100 [Training]:   0%|          | 0/4150 [00:00<?, ?it/s]"
      ]
     },
     "metadata": {},
     "output_type": "display_data"
    },
    {
     "data": {
      "application/vnd.jupyter.widget-view+json": {
       "model_id": "ed456ba8108940cbaece600eef2ac45f",
       "version_major": 2,
       "version_minor": 0
      },
      "text/plain": [
       "Epoch 24/100 [Validation]:   0%|          | 0/1038 [00:00<?, ?it/s]"
      ]
     },
     "metadata": {},
     "output_type": "display_data"
    },
    {
     "name": "stdout",
     "output_type": "stream",
     "text": [
      "\n",
      "--- Epoch 24/100 Summary ---\n",
      "  Train Loss: 0.4135 | Val Loss: 0.3947\n",
      "  Accuracy: 0.8954 | Weighted F1: 0.8942\n",
      "  Learning Rate: 0.000684\n"
     ]
    },
    {
     "data": {
      "application/vnd.jupyter.widget-view+json": {
       "model_id": "4030d8b7c8b64d3485038a2c586d2995",
       "version_major": 2,
       "version_minor": 0
      },
      "text/plain": [
       "Epoch 25/100 [Training]:   0%|          | 0/4150 [00:00<?, ?it/s]"
      ]
     },
     "metadata": {},
     "output_type": "display_data"
    },
    {
     "data": {
      "application/vnd.jupyter.widget-view+json": {
       "model_id": "72c3999a27da40fb85f9558d9a787250",
       "version_major": 2,
       "version_minor": 0
      },
      "text/plain": [
       "Epoch 25/100 [Validation]:   0%|          | 0/1038 [00:00<?, ?it/s]"
      ]
     },
     "metadata": {},
     "output_type": "display_data"
    },
    {
     "name": "stdout",
     "output_type": "stream",
     "text": [
      "\n",
      "--- Epoch 25/100 Summary ---\n",
      "  Train Loss: 0.3969 | Val Loss: 0.3314\n",
      "  Accuracy: 0.9126 | Weighted F1: 0.9122\n",
      "  Learning Rate: 0.000669\n",
      "  => 🎉 New best model saved to 'F:/Working Sync/LAB projects/InsectSELD/Dataset/checkpoints\\best_model.pth' (Weighted F1: 0.9122)\n",
      "\n"
     ]
    },
    {
     "data": {
      "application/vnd.jupyter.widget-view+json": {
       "model_id": "6b46a0b7f0f24c6892aba86ac0f62b49",
       "version_major": 2,
       "version_minor": 0
      },
      "text/plain": [
       "Epoch 26/100 [Training]:   0%|          | 0/4150 [00:00<?, ?it/s]"
      ]
     },
     "metadata": {},
     "output_type": "display_data"
    },
    {
     "data": {
      "application/vnd.jupyter.widget-view+json": {
       "model_id": "f92f66226e0d4d2e81c3d9e39ffec9ba",
       "version_major": 2,
       "version_minor": 0
      },
      "text/plain": [
       "Epoch 26/100 [Validation]:   0%|          | 0/1038 [00:00<?, ?it/s]"
      ]
     },
     "metadata": {},
     "output_type": "display_data"
    },
    {
     "name": "stdout",
     "output_type": "stream",
     "text": [
      "\n",
      "--- Epoch 26/100 Summary ---\n",
      "  Train Loss: 0.3828 | Val Loss: 0.3419\n",
      "  Accuracy: 0.9056 | Weighted F1: 0.9061\n",
      "  Learning Rate: 0.000655\n"
     ]
    },
    {
     "data": {
      "application/vnd.jupyter.widget-view+json": {
       "model_id": "2f9035192d814a1bb29ced0c5c80c1af",
       "version_major": 2,
       "version_minor": 0
      },
      "text/plain": [
       "Epoch 27/100 [Training]:   0%|          | 0/4150 [00:00<?, ?it/s]"
      ]
     },
     "metadata": {},
     "output_type": "display_data"
    },
    {
     "data": {
      "application/vnd.jupyter.widget-view+json": {
       "model_id": "54e9c57abbf845b0a5a37ebc1ad7fde9",
       "version_major": 2,
       "version_minor": 0
      },
      "text/plain": [
       "Epoch 27/100 [Validation]:   0%|          | 0/1038 [00:00<?, ?it/s]"
      ]
     },
     "metadata": {},
     "output_type": "display_data"
    },
    {
     "name": "stdout",
     "output_type": "stream",
     "text": [
      "\n",
      "--- Epoch 27/100 Summary ---\n",
      "  Train Loss: 0.4009 | Val Loss: 0.3806\n",
      "  Accuracy: 0.9010 | Weighted F1: 0.9011\n",
      "  Learning Rate: 0.000639\n"
     ]
    },
    {
     "data": {
      "application/vnd.jupyter.widget-view+json": {
       "model_id": "33266ee2216c4a798626fc9faea70acb",
       "version_major": 2,
       "version_minor": 0
      },
      "text/plain": [
       "Epoch 28/100 [Training]:   0%|          | 0/4150 [00:00<?, ?it/s]"
      ]
     },
     "metadata": {},
     "output_type": "display_data"
    },
    {
     "data": {
      "application/vnd.jupyter.widget-view+json": {
       "model_id": "7cfad7b5e4164d8d9c74db26a65fcc3f",
       "version_major": 2,
       "version_minor": 0
      },
      "text/plain": [
       "Epoch 28/100 [Validation]:   0%|          | 0/1038 [00:00<?, ?it/s]"
      ]
     },
     "metadata": {},
     "output_type": "display_data"
    },
    {
     "name": "stdout",
     "output_type": "stream",
     "text": [
      "\n",
      "--- Epoch 28/100 Summary ---\n",
      "  Train Loss: 0.3741 | Val Loss: 0.3518\n",
      "  Accuracy: 0.9054 | Weighted F1: 0.9050\n",
      "  Learning Rate: 0.000624\n"
     ]
    },
    {
     "data": {
      "application/vnd.jupyter.widget-view+json": {
       "model_id": "0bebb6c6453d486a9f5ea148206af1d8",
       "version_major": 2,
       "version_minor": 0
      },
      "text/plain": [
       "Epoch 29/100 [Training]:   0%|          | 0/4150 [00:00<?, ?it/s]"
      ]
     },
     "metadata": {},
     "output_type": "display_data"
    },
    {
     "data": {
      "application/vnd.jupyter.widget-view+json": {
       "model_id": "744733cba3db44d5a4a62de84c9df8e2",
       "version_major": 2,
       "version_minor": 0
      },
      "text/plain": [
       "Epoch 29/100 [Validation]:   0%|          | 0/1038 [00:00<?, ?it/s]"
      ]
     },
     "metadata": {},
     "output_type": "display_data"
    },
    {
     "name": "stdout",
     "output_type": "stream",
     "text": [
      "\n",
      "--- Epoch 29/100 Summary ---\n",
      "  Train Loss: 0.3753 | Val Loss: 0.3789\n",
      "  Accuracy: 0.9056 | Weighted F1: 0.9049\n",
      "  Learning Rate: 0.000609\n"
     ]
    },
    {
     "data": {
      "application/vnd.jupyter.widget-view+json": {
       "model_id": "4d7c95a9ed714fdeb325ae87daf05c87",
       "version_major": 2,
       "version_minor": 0
      },
      "text/plain": [
       "Epoch 30/100 [Training]:   0%|          | 0/4150 [00:00<?, ?it/s]"
      ]
     },
     "metadata": {},
     "output_type": "display_data"
    },
    {
     "data": {
      "application/vnd.jupyter.widget-view+json": {
       "model_id": "a1b8022519474e08b0c72df796473843",
       "version_major": 2,
       "version_minor": 0
      },
      "text/plain": [
       "Epoch 30/100 [Validation]:   0%|          | 0/1038 [00:00<?, ?it/s]"
      ]
     },
     "metadata": {},
     "output_type": "display_data"
    },
    {
     "name": "stdout",
     "output_type": "stream",
     "text": [
      "\n",
      "--- Epoch 30/100 Summary ---\n",
      "  Train Loss: 0.3766 | Val Loss: 0.3607\n",
      "  Accuracy: 0.9148 | Weighted F1: 0.9144\n",
      "  Learning Rate: 0.000594\n",
      "  => 🎉 New best model saved to 'F:/Working Sync/LAB projects/InsectSELD/Dataset/checkpoints\\best_model.pth' (Weighted F1: 0.9144)\n",
      "\n"
     ]
    },
    {
     "data": {
      "application/vnd.jupyter.widget-view+json": {
       "model_id": "107ba6b281a24980954d209977f57214",
       "version_major": 2,
       "version_minor": 0
      },
      "text/plain": [
       "Epoch 31/100 [Training]:   0%|          | 0/4150 [00:00<?, ?it/s]"
      ]
     },
     "metadata": {},
     "output_type": "display_data"
    },
    {
     "data": {
      "application/vnd.jupyter.widget-view+json": {
       "model_id": "2780b54a1f3c412aaa6983e2c6e4b5cf",
       "version_major": 2,
       "version_minor": 0
      },
      "text/plain": [
       "Epoch 31/100 [Validation]:   0%|          | 0/1038 [00:00<?, ?it/s]"
      ]
     },
     "metadata": {},
     "output_type": "display_data"
    },
    {
     "name": "stdout",
     "output_type": "stream",
     "text": [
      "\n",
      "--- Epoch 31/100 Summary ---\n",
      "  Train Loss: 0.3754 | Val Loss: 0.3576\n",
      "  Accuracy: 0.9118 | Weighted F1: 0.9116\n",
      "  Learning Rate: 0.000578\n"
     ]
    },
    {
     "data": {
      "application/vnd.jupyter.widget-view+json": {
       "model_id": "1bd43e5467ed4cebb86a9c34ad1e7d9e",
       "version_major": 2,
       "version_minor": 0
      },
      "text/plain": [
       "Epoch 32/100 [Training]:   0%|          | 0/4150 [00:00<?, ?it/s]"
      ]
     },
     "metadata": {},
     "output_type": "display_data"
    },
    {
     "data": {
      "application/vnd.jupyter.widget-view+json": {
       "model_id": "9fb5df0c12234316980a4b97df86b6a9",
       "version_major": 2,
       "version_minor": 0
      },
      "text/plain": [
       "Epoch 32/100 [Validation]:   0%|          | 0/1038 [00:00<?, ?it/s]"
      ]
     },
     "metadata": {},
     "output_type": "display_data"
    },
    {
     "name": "stdout",
     "output_type": "stream",
     "text": [
      "\n",
      "--- Epoch 32/100 Summary ---\n",
      "  Train Loss: 0.3685 | Val Loss: 0.3913\n",
      "  Accuracy: 0.9071 | Weighted F1: 0.9062\n",
      "  Learning Rate: 0.000563\n"
     ]
    },
    {
     "data": {
      "application/vnd.jupyter.widget-view+json": {
       "model_id": "f653733584064a8a84da52bd1e3830b1",
       "version_major": 2,
       "version_minor": 0
      },
      "text/plain": [
       "Epoch 33/100 [Training]:   0%|          | 0/4150 [00:00<?, ?it/s]"
      ]
     },
     "metadata": {},
     "output_type": "display_data"
    },
    {
     "data": {
      "application/vnd.jupyter.widget-view+json": {
       "model_id": "74acd6928f764ace96a9c70ad849c8ef",
       "version_major": 2,
       "version_minor": 0
      },
      "text/plain": [
       "Epoch 33/100 [Validation]:   0%|          | 0/1038 [00:00<?, ?it/s]"
      ]
     },
     "metadata": {},
     "output_type": "display_data"
    },
    {
     "name": "stdout",
     "output_type": "stream",
     "text": [
      "\n",
      "--- Epoch 33/100 Summary ---\n",
      "  Train Loss: 0.3623 | Val Loss: 0.3430\n",
      "  Accuracy: 0.9119 | Weighted F1: 0.9111\n",
      "  Learning Rate: 0.000547\n"
     ]
    },
    {
     "data": {
      "application/vnd.jupyter.widget-view+json": {
       "model_id": "1d27d6ea81434d98a3bd552e5f4b3570",
       "version_major": 2,
       "version_minor": 0
      },
      "text/plain": [
       "Epoch 34/100 [Training]:   0%|          | 0/4150 [00:00<?, ?it/s]"
      ]
     },
     "metadata": {},
     "output_type": "display_data"
    },
    {
     "data": {
      "application/vnd.jupyter.widget-view+json": {
       "model_id": "7311f2091d7f4af8b1b01366235563b8",
       "version_major": 2,
       "version_minor": 0
      },
      "text/plain": [
       "Epoch 34/100 [Validation]:   0%|          | 0/1038 [00:00<?, ?it/s]"
      ]
     },
     "metadata": {},
     "output_type": "display_data"
    },
    {
     "name": "stdout",
     "output_type": "stream",
     "text": [
      "\n",
      "--- Epoch 34/100 Summary ---\n",
      "  Train Loss: 0.3469 | Val Loss: 0.3874\n",
      "  Accuracy: 0.9091 | Weighted F1: 0.9088\n",
      "  Learning Rate: 0.000531\n"
     ]
    },
    {
     "data": {
      "application/vnd.jupyter.widget-view+json": {
       "model_id": "c1ed4b2458af4cb1a1b5bfa88fab1163",
       "version_major": 2,
       "version_minor": 0
      },
      "text/plain": [
       "Epoch 35/100 [Training]:   0%|          | 0/4150 [00:00<?, ?it/s]"
      ]
     },
     "metadata": {},
     "output_type": "display_data"
    },
    {
     "data": {
      "application/vnd.jupyter.widget-view+json": {
       "model_id": "5d42ede3a53a4bb986e08281836706bb",
       "version_major": 2,
       "version_minor": 0
      },
      "text/plain": [
       "Epoch 35/100 [Validation]:   0%|          | 0/1038 [00:00<?, ?it/s]"
      ]
     },
     "metadata": {},
     "output_type": "display_data"
    },
    {
     "name": "stdout",
     "output_type": "stream",
     "text": [
      "\n",
      "--- Epoch 35/100 Summary ---\n",
      "  Train Loss: 0.3551 | Val Loss: 0.3714\n",
      "  Accuracy: 0.9115 | Weighted F1: 0.9113\n",
      "  Learning Rate: 0.000516\n"
     ]
    },
    {
     "data": {
      "application/vnd.jupyter.widget-view+json": {
       "model_id": "50aefccb80a34c69953dae84b5e3ab02",
       "version_major": 2,
       "version_minor": 0
      },
      "text/plain": [
       "Epoch 36/100 [Training]:   0%|          | 0/4150 [00:00<?, ?it/s]"
      ]
     },
     "metadata": {},
     "output_type": "display_data"
    },
    {
     "data": {
      "application/vnd.jupyter.widget-view+json": {
       "model_id": "c7f163d8da3c4566b60f2838fdc8bc18",
       "version_major": 2,
       "version_minor": 0
      },
      "text/plain": [
       "Epoch 36/100 [Validation]:   0%|          | 0/1038 [00:00<?, ?it/s]"
      ]
     },
     "metadata": {},
     "output_type": "display_data"
    },
    {
     "name": "stdout",
     "output_type": "stream",
     "text": [
      "\n",
      "--- Epoch 36/100 Summary ---\n",
      "  Train Loss: 0.3495 | Val Loss: 0.3684\n",
      "  Accuracy: 0.9142 | Weighted F1: 0.9134\n",
      "  Learning Rate: 0.000500\n"
     ]
    },
    {
     "data": {
      "application/vnd.jupyter.widget-view+json": {
       "model_id": "a235c2e3c7274dc7acc700790f6c64f8",
       "version_major": 2,
       "version_minor": 0
      },
      "text/plain": [
       "Epoch 37/100 [Training]:   0%|          | 0/4150 [00:00<?, ?it/s]"
      ]
     },
     "metadata": {},
     "output_type": "display_data"
    },
    {
     "data": {
      "application/vnd.jupyter.widget-view+json": {
       "model_id": "7cae83a6ff534f37963bdffec01e78be",
       "version_major": 2,
       "version_minor": 0
      },
      "text/plain": [
       "Epoch 37/100 [Validation]:   0%|          | 0/1038 [00:00<?, ?it/s]"
      ]
     },
     "metadata": {},
     "output_type": "display_data"
    },
    {
     "name": "stdout",
     "output_type": "stream",
     "text": [
      "\n",
      "--- Epoch 37/100 Summary ---\n",
      "  Train Loss: 0.3428 | Val Loss: 0.4543\n",
      "  Accuracy: 0.8984 | Weighted F1: 0.8970\n",
      "  Learning Rate: 0.000484\n"
     ]
    },
    {
     "data": {
      "application/vnd.jupyter.widget-view+json": {
       "model_id": "124bfab2bf954c84bec370ea42012b0e",
       "version_major": 2,
       "version_minor": 0
      },
      "text/plain": [
       "Epoch 38/100 [Training]:   0%|          | 0/4150 [00:00<?, ?it/s]"
      ]
     },
     "metadata": {},
     "output_type": "display_data"
    },
    {
     "data": {
      "application/vnd.jupyter.widget-view+json": {
       "model_id": "1c74c279ecdd4010a63c29a4fe1d52ea",
       "version_major": 2,
       "version_minor": 0
      },
      "text/plain": [
       "Epoch 38/100 [Validation]:   0%|          | 0/1038 [00:00<?, ?it/s]"
      ]
     },
     "metadata": {},
     "output_type": "display_data"
    },
    {
     "name": "stdout",
     "output_type": "stream",
     "text": [
      "\n",
      "--- Epoch 38/100 Summary ---\n",
      "  Train Loss: 0.3370 | Val Loss: 0.4238\n",
      "  Accuracy: 0.9054 | Weighted F1: 0.9048\n",
      "  Learning Rate: 0.000469\n"
     ]
    },
    {
     "data": {
      "application/vnd.jupyter.widget-view+json": {
       "model_id": "aa5710bd5d184aeb9177747287a2be77",
       "version_major": 2,
       "version_minor": 0
      },
      "text/plain": [
       "Epoch 39/100 [Training]:   0%|          | 0/4150 [00:00<?, ?it/s]"
      ]
     },
     "metadata": {},
     "output_type": "display_data"
    },
    {
     "data": {
      "application/vnd.jupyter.widget-view+json": {
       "model_id": "685d43b94bf14e40bd14bc3843619ad2",
       "version_major": 2,
       "version_minor": 0
      },
      "text/plain": [
       "Epoch 39/100 [Validation]:   0%|          | 0/1038 [00:00<?, ?it/s]"
      ]
     },
     "metadata": {},
     "output_type": "display_data"
    },
    {
     "name": "stdout",
     "output_type": "stream",
     "text": [
      "\n",
      "--- Epoch 39/100 Summary ---\n",
      "  Train Loss: 0.3384 | Val Loss: 0.3951\n",
      "  Accuracy: 0.9109 | Weighted F1: 0.9105\n",
      "  Learning Rate: 0.000453\n"
     ]
    },
    {
     "data": {
      "application/vnd.jupyter.widget-view+json": {
       "model_id": "4421e5e821ef473e8ef9c889b327b0ac",
       "version_major": 2,
       "version_minor": 0
      },
      "text/plain": [
       "Epoch 40/100 [Training]:   0%|          | 0/4150 [00:00<?, ?it/s]"
      ]
     },
     "metadata": {},
     "output_type": "display_data"
    },
    {
     "data": {
      "application/vnd.jupyter.widget-view+json": {
       "model_id": "c412a2267c534a538518e506dcd17a72",
       "version_major": 2,
       "version_minor": 0
      },
      "text/plain": [
       "Epoch 40/100 [Validation]:   0%|          | 0/1038 [00:00<?, ?it/s]"
      ]
     },
     "metadata": {},
     "output_type": "display_data"
    },
    {
     "name": "stdout",
     "output_type": "stream",
     "text": [
      "\n",
      "--- Epoch 40/100 Summary ---\n",
      "  Train Loss: 0.3399 | Val Loss: 0.4361\n",
      "  Accuracy: 0.9004 | Weighted F1: 0.8994\n",
      "  Learning Rate: 0.000437\n"
     ]
    },
    {
     "data": {
      "application/vnd.jupyter.widget-view+json": {
       "model_id": "ab769886b66b4cfdbf09112b90ea05e4",
       "version_major": 2,
       "version_minor": 0
      },
      "text/plain": [
       "Epoch 41/100 [Training]:   0%|          | 0/4150 [00:00<?, ?it/s]"
      ]
     },
     "metadata": {},
     "output_type": "display_data"
    },
    {
     "data": {
      "application/vnd.jupyter.widget-view+json": {
       "model_id": "83c47576dd6144cbb25c76ecd3b59d87",
       "version_major": 2,
       "version_minor": 0
      },
      "text/plain": [
       "Epoch 41/100 [Validation]:   0%|          | 0/1038 [00:00<?, ?it/s]"
      ]
     },
     "metadata": {},
     "output_type": "display_data"
    },
    {
     "name": "stdout",
     "output_type": "stream",
     "text": [
      "\n",
      "--- Epoch 41/100 Summary ---\n",
      "  Train Loss: 0.3544 | Val Loss: 0.4315\n",
      "  Accuracy: 0.9125 | Weighted F1: 0.9120\n",
      "  Learning Rate: 0.000422\n"
     ]
    },
    {
     "data": {
      "application/vnd.jupyter.widget-view+json": {
       "model_id": "ad1c37057e684648b8ca5471c519aaa9",
       "version_major": 2,
       "version_minor": 0
      },
      "text/plain": [
       "Epoch 42/100 [Training]:   0%|          | 0/4150 [00:00<?, ?it/s]"
      ]
     },
     "metadata": {},
     "output_type": "display_data"
    },
    {
     "data": {
      "application/vnd.jupyter.widget-view+json": {
       "model_id": "ea0179c4c0684bdaaa300cd4168ee295",
       "version_major": 2,
       "version_minor": 0
      },
      "text/plain": [
       "Epoch 42/100 [Validation]:   0%|          | 0/1038 [00:00<?, ?it/s]"
      ]
     },
     "metadata": {},
     "output_type": "display_data"
    },
    {
     "name": "stdout",
     "output_type": "stream",
     "text": [
      "\n",
      "--- Epoch 42/100 Summary ---\n",
      "  Train Loss: 0.3355 | Val Loss: 0.3992\n",
      "  Accuracy: 0.9126 | Weighted F1: 0.9121\n",
      "  Learning Rate: 0.000406\n"
     ]
    },
    {
     "data": {
      "application/vnd.jupyter.widget-view+json": {
       "model_id": "5361af79d78a4b348c4294964bf5090d",
       "version_major": 2,
       "version_minor": 0
      },
      "text/plain": [
       "Epoch 43/100 [Training]:   0%|          | 0/4150 [00:00<?, ?it/s]"
      ]
     },
     "metadata": {},
     "output_type": "display_data"
    },
    {
     "data": {
      "application/vnd.jupyter.widget-view+json": {
       "model_id": "5f5bb2cfd6154a8883d91da1ed50cc95",
       "version_major": 2,
       "version_minor": 0
      },
      "text/plain": [
       "Epoch 43/100 [Validation]:   0%|          | 0/1038 [00:00<?, ?it/s]"
      ]
     },
     "metadata": {},
     "output_type": "display_data"
    },
    {
     "name": "stdout",
     "output_type": "stream",
     "text": [
      "\n",
      "--- Epoch 43/100 Summary ---\n",
      "  Train Loss: 0.3313 | Val Loss: 0.3890\n",
      "  Accuracy: 0.9107 | Weighted F1: 0.9105\n",
      "  Learning Rate: 0.000391\n"
     ]
    },
    {
     "data": {
      "application/vnd.jupyter.widget-view+json": {
       "model_id": "07e4fa1a3c1440b69b8a0eafef96248c",
       "version_major": 2,
       "version_minor": 0
      },
      "text/plain": [
       "Epoch 44/100 [Training]:   0%|          | 0/4150 [00:00<?, ?it/s]"
      ]
     },
     "metadata": {},
     "output_type": "display_data"
    },
    {
     "data": {
      "application/vnd.jupyter.widget-view+json": {
       "model_id": "da222cf23b0c434d9eea9089c7a8b925",
       "version_major": 2,
       "version_minor": 0
      },
      "text/plain": [
       "Epoch 44/100 [Validation]:   0%|          | 0/1038 [00:00<?, ?it/s]"
      ]
     },
     "metadata": {},
     "output_type": "display_data"
    },
    {
     "name": "stdout",
     "output_type": "stream",
     "text": [
      "\n",
      "--- Epoch 44/100 Summary ---\n",
      "  Train Loss: 0.3375 | Val Loss: 0.4373\n",
      "  Accuracy: 0.9051 | Weighted F1: 0.9041\n",
      "  Learning Rate: 0.000376\n"
     ]
    },
    {
     "data": {
      "application/vnd.jupyter.widget-view+json": {
       "model_id": "8c5c163716e74c4faeb421727510dfee",
       "version_major": 2,
       "version_minor": 0
      },
      "text/plain": [
       "Epoch 45/100 [Training]:   0%|          | 0/4150 [00:00<?, ?it/s]"
      ]
     },
     "metadata": {},
     "output_type": "display_data"
    },
    {
     "data": {
      "application/vnd.jupyter.widget-view+json": {
       "model_id": "d6c6b6c6d29a46c4bcdb8c143ba8c164",
       "version_major": 2,
       "version_minor": 0
      },
      "text/plain": [
       "Epoch 45/100 [Validation]:   0%|          | 0/1038 [00:00<?, ?it/s]"
      ]
     },
     "metadata": {},
     "output_type": "display_data"
    },
    {
     "name": "stdout",
     "output_type": "stream",
     "text": [
      "\n",
      "--- Epoch 45/100 Summary ---\n",
      "  Train Loss: 0.3331 | Val Loss: 0.4337\n",
      "  Accuracy: 0.9141 | Weighted F1: 0.9134\n",
      "  Learning Rate: 0.000361\n"
     ]
    },
    {
     "data": {
      "application/vnd.jupyter.widget-view+json": {
       "model_id": "038765dd673446c2aba0f3f9a2ff2151",
       "version_major": 2,
       "version_minor": 0
      },
      "text/plain": [
       "Epoch 46/100 [Training]:   0%|          | 0/4150 [00:00<?, ?it/s]"
      ]
     },
     "metadata": {},
     "output_type": "display_data"
    },
    {
     "data": {
      "application/vnd.jupyter.widget-view+json": {
       "model_id": "6a27f03e7fed4335ac8a61d39f012c20",
       "version_major": 2,
       "version_minor": 0
      },
      "text/plain": [
       "Epoch 46/100 [Validation]:   0%|          | 0/1038 [00:00<?, ?it/s]"
      ]
     },
     "metadata": {},
     "output_type": "display_data"
    },
    {
     "name": "stdout",
     "output_type": "stream",
     "text": [
      "\n",
      "--- Epoch 46/100 Summary ---\n",
      "  Train Loss: 0.3201 | Val Loss: 0.4345\n",
      "  Accuracy: 0.9115 | Weighted F1: 0.9109\n",
      "  Learning Rate: 0.000345\n"
     ]
    },
    {
     "data": {
      "application/vnd.jupyter.widget-view+json": {
       "model_id": "85674f911afe44dba33b14327efebdc4",
       "version_major": 2,
       "version_minor": 0
      },
      "text/plain": [
       "Epoch 47/100 [Training]:   0%|          | 0/4150 [00:00<?, ?it/s]"
      ]
     },
     "metadata": {},
     "output_type": "display_data"
    },
    {
     "data": {
      "application/vnd.jupyter.widget-view+json": {
       "model_id": "4684e8f4c9cd4acf8612cdcc0acef4fe",
       "version_major": 2,
       "version_minor": 0
      },
      "text/plain": [
       "Epoch 47/100 [Validation]:   0%|          | 0/1038 [00:00<?, ?it/s]"
      ]
     },
     "metadata": {},
     "output_type": "display_data"
    },
    {
     "name": "stdout",
     "output_type": "stream",
     "text": [
      "\n",
      "--- Epoch 47/100 Summary ---\n",
      "  Train Loss: 0.3326 | Val Loss: 0.4440\n",
      "  Accuracy: 0.9162 | Weighted F1: 0.9159\n",
      "  Learning Rate: 0.000331\n",
      "  => 🎉 New best model saved to 'F:/Working Sync/LAB projects/InsectSELD/Dataset/checkpoints\\best_model.pth' (Weighted F1: 0.9159)\n",
      "\n"
     ]
    },
    {
     "data": {
      "application/vnd.jupyter.widget-view+json": {
       "model_id": "46bbb24e85e445d1b9ff68eb8854781e",
       "version_major": 2,
       "version_minor": 0
      },
      "text/plain": [
       "Epoch 48/100 [Training]:   0%|          | 0/4150 [00:00<?, ?it/s]"
      ]
     },
     "metadata": {},
     "output_type": "display_data"
    },
    {
     "data": {
      "application/vnd.jupyter.widget-view+json": {
       "model_id": "35f09885aab04feebe850fe5198a447a",
       "version_major": 2,
       "version_minor": 0
      },
      "text/plain": [
       "Epoch 48/100 [Validation]:   0%|          | 0/1038 [00:00<?, ?it/s]"
      ]
     },
     "metadata": {},
     "output_type": "display_data"
    },
    {
     "name": "stdout",
     "output_type": "stream",
     "text": [
      "\n",
      "--- Epoch 48/100 Summary ---\n",
      "  Train Loss: 0.3138 | Val Loss: 0.4265\n",
      "  Accuracy: 0.9136 | Weighted F1: 0.9134\n",
      "  Learning Rate: 0.000316\n"
     ]
    },
    {
     "data": {
      "application/vnd.jupyter.widget-view+json": {
       "model_id": "dd6ee80cf18f467fae9f4712695b006e",
       "version_major": 2,
       "version_minor": 0
      },
      "text/plain": [
       "Epoch 49/100 [Training]:   0%|          | 0/4150 [00:00<?, ?it/s]"
      ]
     },
     "metadata": {},
     "output_type": "display_data"
    },
    {
     "data": {
      "application/vnd.jupyter.widget-view+json": {
       "model_id": "d194c4b272464655aa319c3a643d6c1c",
       "version_major": 2,
       "version_minor": 0
      },
      "text/plain": [
       "Epoch 49/100 [Validation]:   0%|          | 0/1038 [00:00<?, ?it/s]"
      ]
     },
     "metadata": {},
     "output_type": "display_data"
    },
    {
     "name": "stdout",
     "output_type": "stream",
     "text": [
      "\n",
      "--- Epoch 49/100 Summary ---\n",
      "  Train Loss: 0.3160 | Val Loss: 0.3808\n",
      "  Accuracy: 0.9132 | Weighted F1: 0.9133\n",
      "  Learning Rate: 0.000301\n"
     ]
    },
    {
     "data": {
      "application/vnd.jupyter.widget-view+json": {
       "model_id": "49a24a304d074f538d58130d13df9cb0",
       "version_major": 2,
       "version_minor": 0
      },
      "text/plain": [
       "Epoch 50/100 [Training]:   0%|          | 0/4150 [00:00<?, ?it/s]"
      ]
     },
     "metadata": {},
     "output_type": "display_data"
    },
    {
     "data": {
      "application/vnd.jupyter.widget-view+json": {
       "model_id": "88b5df713e1e427e924b00fb72a90605",
       "version_major": 2,
       "version_minor": 0
      },
      "text/plain": [
       "Epoch 50/100 [Validation]:   0%|          | 0/1038 [00:00<?, ?it/s]"
      ]
     },
     "metadata": {},
     "output_type": "display_data"
    },
    {
     "name": "stdout",
     "output_type": "stream",
     "text": [
      "\n",
      "--- Epoch 50/100 Summary ---\n",
      "  Train Loss: 0.3137 | Val Loss: 0.4179\n",
      "  Accuracy: 0.9155 | Weighted F1: 0.9152\n",
      "  Learning Rate: 0.000287\n"
     ]
    },
    {
     "data": {
      "application/vnd.jupyter.widget-view+json": {
       "model_id": "dc01871ea84f4b3b8e86e45a62d8c0bd",
       "version_major": 2,
       "version_minor": 0
      },
      "text/plain": [
       "Epoch 51/100 [Training]:   0%|          | 0/4150 [00:00<?, ?it/s]"
      ]
     },
     "metadata": {},
     "output_type": "display_data"
    },
    {
     "data": {
      "application/vnd.jupyter.widget-view+json": {
       "model_id": "1eb7ef5c2a4647dda2847bbcacacf7d3",
       "version_major": 2,
       "version_minor": 0
      },
      "text/plain": [
       "Epoch 51/100 [Validation]:   0%|          | 0/1038 [00:00<?, ?it/s]"
      ]
     },
     "metadata": {},
     "output_type": "display_data"
    },
    {
     "name": "stdout",
     "output_type": "stream",
     "text": [
      "\n",
      "--- Epoch 51/100 Summary ---\n",
      "  Train Loss: 0.3262 | Val Loss: 0.4290\n",
      "  Accuracy: 0.9165 | Weighted F1: 0.9164\n",
      "  Learning Rate: 0.000273\n",
      "  => 🎉 New best model saved to 'F:/Working Sync/LAB projects/InsectSELD/Dataset/checkpoints\\best_model.pth' (Weighted F1: 0.9164)\n",
      "\n"
     ]
    },
    {
     "data": {
      "application/vnd.jupyter.widget-view+json": {
       "model_id": "64e5ae8fd6f34e0e9854e3c8b0122945",
       "version_major": 2,
       "version_minor": 0
      },
      "text/plain": [
       "Epoch 52/100 [Training]:   0%|          | 0/4150 [00:00<?, ?it/s]"
      ]
     },
     "metadata": {},
     "output_type": "display_data"
    },
    {
     "data": {
      "application/vnd.jupyter.widget-view+json": {
       "model_id": "f3792ddb173a469fb2a998a1895a9d5c",
       "version_major": 2,
       "version_minor": 0
      },
      "text/plain": [
       "Epoch 52/100 [Validation]:   0%|          | 0/1038 [00:00<?, ?it/s]"
      ]
     },
     "metadata": {},
     "output_type": "display_data"
    },
    {
     "name": "stdout",
     "output_type": "stream",
     "text": [
      "\n",
      "--- Epoch 52/100 Summary ---\n",
      "  Train Loss: 0.3125 | Val Loss: 0.4556\n",
      "  Accuracy: 0.9163 | Weighted F1: 0.9164\n",
      "  Learning Rate: 0.000259\n",
      "  => 🎉 New best model saved to 'F:/Working Sync/LAB projects/InsectSELD/Dataset/checkpoints\\best_model.pth' (Weighted F1: 0.9164)\n",
      "\n"
     ]
    },
    {
     "data": {
      "application/vnd.jupyter.widget-view+json": {
       "model_id": "9dacd8ba1409493a9ed8fbfa174113fd",
       "version_major": 2,
       "version_minor": 0
      },
      "text/plain": [
       "Epoch 53/100 [Training]:   0%|          | 0/4150 [00:00<?, ?it/s]"
      ]
     },
     "metadata": {},
     "output_type": "display_data"
    },
    {
     "data": {
      "application/vnd.jupyter.widget-view+json": {
       "model_id": "59707349281049a7bc7d0b294382e40a",
       "version_major": 2,
       "version_minor": 0
      },
      "text/plain": [
       "Epoch 53/100 [Validation]:   0%|          | 0/1038 [00:00<?, ?it/s]"
      ]
     },
     "metadata": {},
     "output_type": "display_data"
    },
    {
     "name": "stdout",
     "output_type": "stream",
     "text": [
      "\n",
      "--- Epoch 53/100 Summary ---\n",
      "  Train Loss: 0.3182 | Val Loss: 0.4315\n",
      "  Accuracy: 0.9202 | Weighted F1: 0.9199\n",
      "  Learning Rate: 0.000245\n",
      "  => 🎉 New best model saved to 'F:/Working Sync/LAB projects/InsectSELD/Dataset/checkpoints\\best_model.pth' (Weighted F1: 0.9199)\n",
      "\n"
     ]
    },
    {
     "data": {
      "application/vnd.jupyter.widget-view+json": {
       "model_id": "86db109576774ee58a09e84763733ff3",
       "version_major": 2,
       "version_minor": 0
      },
      "text/plain": [
       "Epoch 54/100 [Training]:   0%|          | 0/4150 [00:00<?, ?it/s]"
      ]
     },
     "metadata": {},
     "output_type": "display_data"
    },
    {
     "data": {
      "application/vnd.jupyter.widget-view+json": {
       "model_id": "b70d6e5191804fee86e4f76dde0cea09",
       "version_major": 2,
       "version_minor": 0
      },
      "text/plain": [
       "Epoch 54/100 [Validation]:   0%|          | 0/1038 [00:00<?, ?it/s]"
      ]
     },
     "metadata": {},
     "output_type": "display_data"
    },
    {
     "name": "stdout",
     "output_type": "stream",
     "text": [
      "\n",
      "--- Epoch 54/100 Summary ---\n",
      "  Train Loss: 0.3108 | Val Loss: 0.4174\n",
      "  Accuracy: 0.9192 | Weighted F1: 0.9190\n",
      "  Learning Rate: 0.000232\n"
     ]
    },
    {
     "data": {
      "application/vnd.jupyter.widget-view+json": {
       "model_id": "4f2590fbfc1241f6bc5d6f68cda2010d",
       "version_major": 2,
       "version_minor": 0
      },
      "text/plain": [
       "Epoch 55/100 [Training]:   0%|          | 0/4150 [00:00<?, ?it/s]"
      ]
     },
     "metadata": {},
     "output_type": "display_data"
    },
    {
     "data": {
      "application/vnd.jupyter.widget-view+json": {
       "model_id": "fe636e20fc9f41cdbfa1c40924b48281",
       "version_major": 2,
       "version_minor": 0
      },
      "text/plain": [
       "Epoch 55/100 [Validation]:   0%|          | 0/1038 [00:00<?, ?it/s]"
      ]
     },
     "metadata": {},
     "output_type": "display_data"
    },
    {
     "name": "stdout",
     "output_type": "stream",
     "text": [
      "\n",
      "--- Epoch 55/100 Summary ---\n",
      "  Train Loss: 0.3176 | Val Loss: 0.4934\n",
      "  Accuracy: 0.9149 | Weighted F1: 0.9141\n",
      "  Learning Rate: 0.000219\n"
     ]
    },
    {
     "data": {
      "application/vnd.jupyter.widget-view+json": {
       "model_id": "bead702032de48a9b38d103748db93ab",
       "version_major": 2,
       "version_minor": 0
      },
      "text/plain": [
       "Epoch 56/100 [Training]:   0%|          | 0/4150 [00:00<?, ?it/s]"
      ]
     },
     "metadata": {},
     "output_type": "display_data"
    },
    {
     "data": {
      "application/vnd.jupyter.widget-view+json": {
       "model_id": "168345bd6153478e82627b0c418295d2",
       "version_major": 2,
       "version_minor": 0
      },
      "text/plain": [
       "Epoch 56/100 [Validation]:   0%|          | 0/1038 [00:00<?, ?it/s]"
      ]
     },
     "metadata": {},
     "output_type": "display_data"
    },
    {
     "name": "stdout",
     "output_type": "stream",
     "text": [
      "\n",
      "--- Epoch 56/100 Summary ---\n",
      "  Train Loss: 0.3147 | Val Loss: 0.4123\n",
      "  Accuracy: 0.9173 | Weighted F1: 0.9170\n",
      "  Learning Rate: 0.000206\n"
     ]
    },
    {
     "data": {
      "application/vnd.jupyter.widget-view+json": {
       "model_id": "57848cce376349ad938d37375d3f5430",
       "version_major": 2,
       "version_minor": 0
      },
      "text/plain": [
       "Epoch 57/100 [Training]:   0%|          | 0/4150 [00:00<?, ?it/s]"
      ]
     },
     "metadata": {},
     "output_type": "display_data"
    },
    {
     "data": {
      "application/vnd.jupyter.widget-view+json": {
       "model_id": "1c61bff3f47f470d9925cc6f75cfa81f",
       "version_major": 2,
       "version_minor": 0
      },
      "text/plain": [
       "Epoch 57/100 [Validation]:   0%|          | 0/1038 [00:00<?, ?it/s]"
      ]
     },
     "metadata": {},
     "output_type": "display_data"
    },
    {
     "name": "stdout",
     "output_type": "stream",
     "text": [
      "\n",
      "--- Epoch 57/100 Summary ---\n",
      "  Train Loss: 0.3076 | Val Loss: 0.4342\n",
      "  Accuracy: 0.9176 | Weighted F1: 0.9175\n",
      "  Learning Rate: 0.000194\n"
     ]
    },
    {
     "data": {
      "application/vnd.jupyter.widget-view+json": {
       "model_id": "f944623283a841aa9f1ef22f7272368c",
       "version_major": 2,
       "version_minor": 0
      },
      "text/plain": [
       "Epoch 58/100 [Training]:   0%|          | 0/4150 [00:00<?, ?it/s]"
      ]
     },
     "metadata": {},
     "output_type": "display_data"
    },
    {
     "data": {
      "application/vnd.jupyter.widget-view+json": {
       "model_id": "7514afd2b91c4a6e9b3de25d89eb26e9",
       "version_major": 2,
       "version_minor": 0
      },
      "text/plain": [
       "Epoch 58/100 [Validation]:   0%|          | 0/1038 [00:00<?, ?it/s]"
      ]
     },
     "metadata": {},
     "output_type": "display_data"
    },
    {
     "name": "stdout",
     "output_type": "stream",
     "text": [
      "\n",
      "--- Epoch 58/100 Summary ---\n",
      "  Train Loss: 0.3111 | Val Loss: 0.4609\n",
      "  Accuracy: 0.9196 | Weighted F1: 0.9191\n",
      "  Learning Rate: 0.000181\n"
     ]
    },
    {
     "data": {
      "application/vnd.jupyter.widget-view+json": {
       "model_id": "e1dfede7263e4745ae1157d1103bdb29",
       "version_major": 2,
       "version_minor": 0
      },
      "text/plain": [
       "Epoch 59/100 [Training]:   0%|          | 0/4150 [00:00<?, ?it/s]"
      ]
     },
     "metadata": {},
     "output_type": "display_data"
    },
    {
     "data": {
      "application/vnd.jupyter.widget-view+json": {
       "model_id": "1ba19757661d4183bce9c52be8a98c95",
       "version_major": 2,
       "version_minor": 0
      },
      "text/plain": [
       "Epoch 59/100 [Validation]:   0%|          | 0/1038 [00:00<?, ?it/s]"
      ]
     },
     "metadata": {},
     "output_type": "display_data"
    },
    {
     "name": "stdout",
     "output_type": "stream",
     "text": [
      "\n",
      "--- Epoch 59/100 Summary ---\n",
      "  Train Loss: 0.3160 | Val Loss: 0.4193\n",
      "  Accuracy: 0.9191 | Weighted F1: 0.9188\n",
      "  Learning Rate: 0.000169\n"
     ]
    },
    {
     "data": {
      "application/vnd.jupyter.widget-view+json": {
       "model_id": "7bf5f7add2784db7abf983d1356e9b3e",
       "version_major": 2,
       "version_minor": 0
      },
      "text/plain": [
       "Epoch 60/100 [Training]:   0%|          | 0/4150 [00:00<?, ?it/s]"
      ]
     },
     "metadata": {},
     "output_type": "display_data"
    },
    {
     "data": {
      "application/vnd.jupyter.widget-view+json": {
       "model_id": "2d5e501efe8743fea80e16ef49d01056",
       "version_major": 2,
       "version_minor": 0
      },
      "text/plain": [
       "Epoch 60/100 [Validation]:   0%|          | 0/1038 [00:00<?, ?it/s]"
      ]
     },
     "metadata": {},
     "output_type": "display_data"
    },
    {
     "name": "stdout",
     "output_type": "stream",
     "text": [
      "\n",
      "--- Epoch 60/100 Summary ---\n",
      "  Train Loss: 0.3160 | Val Loss: 0.4574\n",
      "  Accuracy: 0.9189 | Weighted F1: 0.9186\n",
      "  Learning Rate: 0.000158\n"
     ]
    },
    {
     "data": {
      "application/vnd.jupyter.widget-view+json": {
       "model_id": "8e5f0c76e6b348de86bcd78ffb9136b0",
       "version_major": 2,
       "version_minor": 0
      },
      "text/plain": [
       "Epoch 61/100 [Training]:   0%|          | 0/4150 [00:00<?, ?it/s]"
      ]
     },
     "metadata": {},
     "output_type": "display_data"
    },
    {
     "data": {
      "application/vnd.jupyter.widget-view+json": {
       "model_id": "0fc83e9b87794097924be14da501b8d4",
       "version_major": 2,
       "version_minor": 0
      },
      "text/plain": [
       "Epoch 61/100 [Validation]:   0%|          | 0/1038 [00:00<?, ?it/s]"
      ]
     },
     "metadata": {},
     "output_type": "display_data"
    },
    {
     "name": "stdout",
     "output_type": "stream",
     "text": [
      "\n",
      "--- Epoch 61/100 Summary ---\n",
      "  Train Loss: 0.3042 | Val Loss: 0.4535\n",
      "  Accuracy: 0.9176 | Weighted F1: 0.9174\n",
      "  Learning Rate: 0.000146\n"
     ]
    },
    {
     "data": {
      "application/vnd.jupyter.widget-view+json": {
       "model_id": "0828958a40be480b889ee3bfbbe20d70",
       "version_major": 2,
       "version_minor": 0
      },
      "text/plain": [
       "Epoch 62/100 [Training]:   0%|          | 0/4150 [00:00<?, ?it/s]"
      ]
     },
     "metadata": {},
     "output_type": "display_data"
    },
    {
     "data": {
      "application/vnd.jupyter.widget-view+json": {
       "model_id": "4a85f19c99c24e19adbee69565be6436",
       "version_major": 2,
       "version_minor": 0
      },
      "text/plain": [
       "Epoch 62/100 [Validation]:   0%|          | 0/1038 [00:00<?, ?it/s]"
      ]
     },
     "metadata": {},
     "output_type": "display_data"
    },
    {
     "name": "stdout",
     "output_type": "stream",
     "text": [
      "\n",
      "--- Epoch 62/100 Summary ---\n",
      "  Train Loss: 0.3014 | Val Loss: 0.4790\n",
      "  Accuracy: 0.9181 | Weighted F1: 0.9180\n",
      "  Learning Rate: 0.000136\n"
     ]
    },
    {
     "data": {
      "application/vnd.jupyter.widget-view+json": {
       "model_id": "b39ae9a532fa44e6bb8534d68b863d34",
       "version_major": 2,
       "version_minor": 0
      },
      "text/plain": [
       "Epoch 63/100 [Training]:   0%|          | 0/4150 [00:00<?, ?it/s]"
      ]
     },
     "metadata": {},
     "output_type": "display_data"
    },
    {
     "data": {
      "application/vnd.jupyter.widget-view+json": {
       "model_id": "e1ee023db87b4fa3b3019b02e20ac822",
       "version_major": 2,
       "version_minor": 0
      },
      "text/plain": [
       "Epoch 63/100 [Validation]:   0%|          | 0/1038 [00:00<?, ?it/s]"
      ]
     },
     "metadata": {},
     "output_type": "display_data"
    },
    {
     "name": "stdout",
     "output_type": "stream",
     "text": [
      "\n",
      "--- Epoch 63/100 Summary ---\n",
      "  Train Loss: 0.3115 | Val Loss: 0.4254\n",
      "  Accuracy: 0.9211 | Weighted F1: 0.9209\n",
      "  Learning Rate: 0.000125\n",
      "  => 🎉 New best model saved to 'F:/Working Sync/LAB projects/InsectSELD/Dataset/checkpoints\\best_model.pth' (Weighted F1: 0.9209)\n",
      "\n"
     ]
    },
    {
     "data": {
      "application/vnd.jupyter.widget-view+json": {
       "model_id": "70d1001018d44703853f119743132beb",
       "version_major": 2,
       "version_minor": 0
      },
      "text/plain": [
       "Epoch 64/100 [Training]:   0%|          | 0/4150 [00:00<?, ?it/s]"
      ]
     },
     "metadata": {},
     "output_type": "display_data"
    },
    {
     "data": {
      "application/vnd.jupyter.widget-view+json": {
       "model_id": "a5bd601046a445a891c174f83e95b3ea",
       "version_major": 2,
       "version_minor": 0
      },
      "text/plain": [
       "Epoch 64/100 [Validation]:   0%|          | 0/1038 [00:00<?, ?it/s]"
      ]
     },
     "metadata": {},
     "output_type": "display_data"
    },
    {
     "name": "stdout",
     "output_type": "stream",
     "text": [
      "\n",
      "--- Epoch 64/100 Summary ---\n",
      "  Train Loss: 0.3086 | Val Loss: 0.4783\n",
      "  Accuracy: 0.9182 | Weighted F1: 0.9177\n",
      "  Learning Rate: 0.000115\n"
     ]
    },
    {
     "data": {
      "application/vnd.jupyter.widget-view+json": {
       "model_id": "9bf225c949ea49a49da187d7f254244a",
       "version_major": 2,
       "version_minor": 0
      },
      "text/plain": [
       "Epoch 65/100 [Training]:   0%|          | 0/4150 [00:00<?, ?it/s]"
      ]
     },
     "metadata": {},
     "output_type": "display_data"
    },
    {
     "data": {
      "application/vnd.jupyter.widget-view+json": {
       "model_id": "0ce0c3ed8d4343298e256e41f4af8fc9",
       "version_major": 2,
       "version_minor": 0
      },
      "text/plain": [
       "Epoch 65/100 [Validation]:   0%|          | 0/1038 [00:00<?, ?it/s]"
      ]
     },
     "metadata": {},
     "output_type": "display_data"
    },
    {
     "name": "stdout",
     "output_type": "stream",
     "text": [
      "\n",
      "--- Epoch 65/100 Summary ---\n",
      "  Train Loss: 0.2928 | Val Loss: 0.4717\n",
      "  Accuracy: 0.9190 | Weighted F1: 0.9189\n",
      "  Learning Rate: 0.000105\n"
     ]
    },
    {
     "data": {
      "application/vnd.jupyter.widget-view+json": {
       "model_id": "94b98c55f53042c391bf6fdeb2332e27",
       "version_major": 2,
       "version_minor": 0
      },
      "text/plain": [
       "Epoch 66/100 [Training]:   0%|          | 0/4150 [00:00<?, ?it/s]"
      ]
     },
     "metadata": {},
     "output_type": "display_data"
    },
    {
     "data": {
      "application/vnd.jupyter.widget-view+json": {
       "model_id": "802f9d5d104a49e0a5190ef15ea5e9d1",
       "version_major": 2,
       "version_minor": 0
      },
      "text/plain": [
       "Epoch 66/100 [Validation]:   0%|          | 0/1038 [00:00<?, ?it/s]"
      ]
     },
     "metadata": {},
     "output_type": "display_data"
    },
    {
     "name": "stdout",
     "output_type": "stream",
     "text": [
      "\n",
      "--- Epoch 66/100 Summary ---\n",
      "  Train Loss: 0.2987 | Val Loss: 0.4539\n",
      "  Accuracy: 0.9209 | Weighted F1: 0.9206\n",
      "  Learning Rate: 0.000095\n"
     ]
    },
    {
     "data": {
      "application/vnd.jupyter.widget-view+json": {
       "model_id": "6f54966e81c44af6ba2a4950ef15df9b",
       "version_major": 2,
       "version_minor": 0
      },
      "text/plain": [
       "Epoch 67/100 [Training]:   0%|          | 0/4150 [00:00<?, ?it/s]"
      ]
     },
     "metadata": {},
     "output_type": "display_data"
    },
    {
     "data": {
      "application/vnd.jupyter.widget-view+json": {
       "model_id": "e4dc274e5e7e458f80bd97d3369c5cc1",
       "version_major": 2,
       "version_minor": 0
      },
      "text/plain": [
       "Epoch 67/100 [Validation]:   0%|          | 0/1038 [00:00<?, ?it/s]"
      ]
     },
     "metadata": {},
     "output_type": "display_data"
    },
    {
     "name": "stdout",
     "output_type": "stream",
     "text": [
      "\n",
      "--- Epoch 67/100 Summary ---\n",
      "  Train Loss: 0.2917 | Val Loss: 0.5004\n",
      "  Accuracy: 0.9171 | Weighted F1: 0.9168\n",
      "  Learning Rate: 0.000086\n"
     ]
    },
    {
     "data": {
      "application/vnd.jupyter.widget-view+json": {
       "model_id": "0fc84108590648f59384d5f528380490",
       "version_major": 2,
       "version_minor": 0
      },
      "text/plain": [
       "Epoch 68/100 [Training]:   0%|          | 0/4150 [00:00<?, ?it/s]"
      ]
     },
     "metadata": {},
     "output_type": "display_data"
    },
    {
     "data": {
      "application/vnd.jupyter.widget-view+json": {
       "model_id": "400c3d25b4474ff98068b7ef8cc168cb",
       "version_major": 2,
       "version_minor": 0
      },
      "text/plain": [
       "Epoch 68/100 [Validation]:   0%|          | 0/1038 [00:00<?, ?it/s]"
      ]
     },
     "metadata": {},
     "output_type": "display_data"
    },
    {
     "name": "stdout",
     "output_type": "stream",
     "text": [
      "\n",
      "--- Epoch 68/100 Summary ---\n",
      "  Train Loss: 0.2998 | Val Loss: 0.4621\n",
      "  Accuracy: 0.9197 | Weighted F1: 0.9194\n",
      "  Learning Rate: 0.000078\n"
     ]
    },
    {
     "data": {
      "application/vnd.jupyter.widget-view+json": {
       "model_id": "5d3607359b974cfd99372377bbffc54e",
       "version_major": 2,
       "version_minor": 0
      },
      "text/plain": [
       "Epoch 69/100 [Training]:   0%|          | 0/4150 [00:00<?, ?it/s]"
      ]
     },
     "metadata": {},
     "output_type": "display_data"
    },
    {
     "data": {
      "application/vnd.jupyter.widget-view+json": {
       "model_id": "c397fc7b866d4cd6b7e62b21d2f01d4f",
       "version_major": 2,
       "version_minor": 0
      },
      "text/plain": [
       "Epoch 69/100 [Validation]:   0%|          | 0/1038 [00:00<?, ?it/s]"
      ]
     },
     "metadata": {},
     "output_type": "display_data"
    },
    {
     "name": "stdout",
     "output_type": "stream",
     "text": [
      "\n",
      "--- Epoch 69/100 Summary ---\n",
      "  Train Loss: 0.2919 | Val Loss: 0.4704\n",
      "  Accuracy: 0.9203 | Weighted F1: 0.9201\n",
      "  Learning Rate: 0.000070\n"
     ]
    },
    {
     "data": {
      "application/vnd.jupyter.widget-view+json": {
       "model_id": "33e7346ee06541e2ac545ebde68b62de",
       "version_major": 2,
       "version_minor": 0
      },
      "text/plain": [
       "Epoch 70/100 [Training]:   0%|          | 0/4150 [00:00<?, ?it/s]"
      ]
     },
     "metadata": {},
     "output_type": "display_data"
    },
    {
     "data": {
      "application/vnd.jupyter.widget-view+json": {
       "model_id": "457d2cfeef6c44d6a23608fef43e6006",
       "version_major": 2,
       "version_minor": 0
      },
      "text/plain": [
       "Epoch 70/100 [Validation]:   0%|          | 0/1038 [00:00<?, ?it/s]"
      ]
     },
     "metadata": {},
     "output_type": "display_data"
    },
    {
     "name": "stdout",
     "output_type": "stream",
     "text": [
      "\n",
      "--- Epoch 70/100 Summary ---\n",
      "  Train Loss: 0.2971 | Val Loss: 0.4542\n",
      "  Accuracy: 0.9203 | Weighted F1: 0.9202\n",
      "  Learning Rate: 0.000062\n"
     ]
    },
    {
     "data": {
      "application/vnd.jupyter.widget-view+json": {
       "model_id": "e6b95cc337054b988564767124cc4e11",
       "version_major": 2,
       "version_minor": 0
      },
      "text/plain": [
       "Epoch 71/100 [Training]:   0%|          | 0/4150 [00:00<?, ?it/s]"
      ]
     },
     "metadata": {},
     "output_type": "display_data"
    },
    {
     "data": {
      "application/vnd.jupyter.widget-view+json": {
       "model_id": "5e0f30fe74954bd182cef0b430f44aae",
       "version_major": 2,
       "version_minor": 0
      },
      "text/plain": [
       "Epoch 71/100 [Validation]:   0%|          | 0/1038 [00:00<?, ?it/s]"
      ]
     },
     "metadata": {},
     "output_type": "display_data"
    },
    {
     "name": "stdout",
     "output_type": "stream",
     "text": [
      "\n",
      "--- Epoch 71/100 Summary ---\n",
      "  Train Loss: 0.2903 | Val Loss: 0.4616\n",
      "  Accuracy: 0.9207 | Weighted F1: 0.9205\n",
      "  Learning Rate: 0.000054\n"
     ]
    },
    {
     "data": {
      "application/vnd.jupyter.widget-view+json": {
       "model_id": "4600010ef6ec418288ec688c180d8558",
       "version_major": 2,
       "version_minor": 0
      },
      "text/plain": [
       "Epoch 72/100 [Training]:   0%|          | 0/4150 [00:00<?, ?it/s]"
      ]
     },
     "metadata": {},
     "output_type": "display_data"
    },
    {
     "data": {
      "application/vnd.jupyter.widget-view+json": {
       "model_id": "220dac143fe74b4bb672745b2f179d1c",
       "version_major": 2,
       "version_minor": 0
      },
      "text/plain": [
       "Epoch 72/100 [Validation]:   0%|          | 0/1038 [00:00<?, ?it/s]"
      ]
     },
     "metadata": {},
     "output_type": "display_data"
    },
    {
     "name": "stdout",
     "output_type": "stream",
     "text": [
      "\n",
      "--- Epoch 72/100 Summary ---\n",
      "  Train Loss: 0.2890 | Val Loss: 0.4729\n",
      "  Accuracy: 0.9205 | Weighted F1: 0.9200\n",
      "  Learning Rate: 0.000048\n"
     ]
    },
    {
     "data": {
      "application/vnd.jupyter.widget-view+json": {
       "model_id": "2dac81e62d2b40f2a91ac6b4e20406bd",
       "version_major": 2,
       "version_minor": 0
      },
      "text/plain": [
       "Epoch 73/100 [Training]:   0%|          | 0/4150 [00:00<?, ?it/s]"
      ]
     },
     "metadata": {},
     "output_type": "display_data"
    },
    {
     "data": {
      "application/vnd.jupyter.widget-view+json": {
       "model_id": "3604b6182a064543aa9240ac7f69501e",
       "version_major": 2,
       "version_minor": 0
      },
      "text/plain": [
       "Epoch 73/100 [Validation]:   0%|          | 0/1038 [00:00<?, ?it/s]"
      ]
     },
     "metadata": {},
     "output_type": "display_data"
    },
    {
     "name": "stdout",
     "output_type": "stream",
     "text": [
      "\n",
      "--- Epoch 73/100 Summary ---\n",
      "  Train Loss: 0.3088 | Val Loss: 0.4802\n",
      "  Accuracy: 0.9204 | Weighted F1: 0.9201\n",
      "  Learning Rate: 0.000041\n"
     ]
    },
    {
     "data": {
      "application/vnd.jupyter.widget-view+json": {
       "model_id": "78d6712fa8d1468b8af6d5fc8569c07a",
       "version_major": 2,
       "version_minor": 0
      },
      "text/plain": [
       "Epoch 74/100 [Training]:   0%|          | 0/4150 [00:00<?, ?it/s]"
      ]
     },
     "metadata": {},
     "output_type": "display_data"
    },
    {
     "data": {
      "application/vnd.jupyter.widget-view+json": {
       "model_id": "84573362595a4a888f67c21fcc35997a",
       "version_major": 2,
       "version_minor": 0
      },
      "text/plain": [
       "Epoch 74/100 [Validation]:   0%|          | 0/1038 [00:00<?, ?it/s]"
      ]
     },
     "metadata": {},
     "output_type": "display_data"
    },
    {
     "name": "stdout",
     "output_type": "stream",
     "text": [
      "\n",
      "--- Epoch 74/100 Summary ---\n",
      "  Train Loss: 0.2929 | Val Loss: 0.4907\n",
      "  Accuracy: 0.9226 | Weighted F1: 0.9223\n",
      "  Learning Rate: 0.000035\n",
      "  => 🎉 New best model saved to 'F:/Working Sync/LAB projects/InsectSELD/Dataset/checkpoints\\best_model.pth' (Weighted F1: 0.9223)\n",
      "\n"
     ]
    },
    {
     "data": {
      "application/vnd.jupyter.widget-view+json": {
       "model_id": "5f25d669675441378ce2bca4951b9115",
       "version_major": 2,
       "version_minor": 0
      },
      "text/plain": [
       "Epoch 75/100 [Training]:   0%|          | 0/4150 [00:00<?, ?it/s]"
      ]
     },
     "metadata": {},
     "output_type": "display_data"
    },
    {
     "data": {
      "application/vnd.jupyter.widget-view+json": {
       "model_id": "0ab173b86b0c4d9497ce33fa9f5ff934",
       "version_major": 2,
       "version_minor": 0
      },
      "text/plain": [
       "Epoch 75/100 [Validation]:   0%|          | 0/1038 [00:00<?, ?it/s]"
      ]
     },
     "metadata": {},
     "output_type": "display_data"
    },
    {
     "name": "stdout",
     "output_type": "stream",
     "text": [
      "\n",
      "--- Epoch 75/100 Summary ---\n",
      "  Train Loss: 0.2887 | Val Loss: 0.4721\n",
      "  Accuracy: 0.9213 | Weighted F1: 0.9211\n",
      "  Learning Rate: 0.000030\n"
     ]
    },
    {
     "data": {
      "application/vnd.jupyter.widget-view+json": {
       "model_id": "692ebac95dfc4a89ab310205b5194ea8",
       "version_major": 2,
       "version_minor": 0
      },
      "text/plain": [
       "Epoch 76/100 [Training]:   0%|          | 0/4150 [00:00<?, ?it/s]"
      ]
     },
     "metadata": {},
     "output_type": "display_data"
    },
    {
     "data": {
      "application/vnd.jupyter.widget-view+json": {
       "model_id": "2883206784254818a593c92868c772fa",
       "version_major": 2,
       "version_minor": 0
      },
      "text/plain": [
       "Epoch 76/100 [Validation]:   0%|          | 0/1038 [00:00<?, ?it/s]"
      ]
     },
     "metadata": {},
     "output_type": "display_data"
    },
    {
     "name": "stdout",
     "output_type": "stream",
     "text": [
      "\n",
      "--- Epoch 76/100 Summary ---\n",
      "  Train Loss: 0.2876 | Val Loss: 0.4799\n",
      "  Accuracy: 0.9225 | Weighted F1: 0.9221\n",
      "  Learning Rate: 0.000024\n"
     ]
    },
    {
     "data": {
      "application/vnd.jupyter.widget-view+json": {
       "model_id": "cb9360a2abe54f24b1866e03f34060a4",
       "version_major": 2,
       "version_minor": 0
      },
      "text/plain": [
       "Epoch 77/100 [Training]:   0%|          | 0/4150 [00:00<?, ?it/s]"
      ]
     },
     "metadata": {},
     "output_type": "display_data"
    },
    {
     "data": {
      "application/vnd.jupyter.widget-view+json": {
       "model_id": "928d506c344b4daa8d253f5212a08707",
       "version_major": 2,
       "version_minor": 0
      },
      "text/plain": [
       "Epoch 77/100 [Validation]:   0%|          | 0/1038 [00:00<?, ?it/s]"
      ]
     },
     "metadata": {},
     "output_type": "display_data"
    },
    {
     "name": "stdout",
     "output_type": "stream",
     "text": [
      "\n",
      "--- Epoch 77/100 Summary ---\n",
      "  Train Loss: 0.2926 | Val Loss: 0.4750\n",
      "  Accuracy: 0.9221 | Weighted F1: 0.9219\n",
      "  Learning Rate: 0.000020\n"
     ]
    },
    {
     "data": {
      "application/vnd.jupyter.widget-view+json": {
       "model_id": "077e962f581c49b4a43c2d035e51de8d",
       "version_major": 2,
       "version_minor": 0
      },
      "text/plain": [
       "Epoch 78/100 [Training]:   0%|          | 0/4150 [00:00<?, ?it/s]"
      ]
     },
     "metadata": {},
     "output_type": "display_data"
    },
    {
     "data": {
      "application/vnd.jupyter.widget-view+json": {
       "model_id": "311671bdbddc42629bc0bee489e8f06c",
       "version_major": 2,
       "version_minor": 0
      },
      "text/plain": [
       "Epoch 78/100 [Validation]:   0%|          | 0/1038 [00:00<?, ?it/s]"
      ]
     },
     "metadata": {},
     "output_type": "display_data"
    },
    {
     "name": "stdout",
     "output_type": "stream",
     "text": [
      "\n",
      "--- Epoch 78/100 Summary ---\n",
      "  Train Loss: 0.2971 | Val Loss: 0.4641\n",
      "  Accuracy: 0.9223 | Weighted F1: 0.9219\n",
      "  Learning Rate: 0.000016\n"
     ]
    },
    {
     "data": {
      "application/vnd.jupyter.widget-view+json": {
       "model_id": "986ffd7909d84c338ac087ace829aa87",
       "version_major": 2,
       "version_minor": 0
      },
      "text/plain": [
       "Epoch 79/100 [Training]:   0%|          | 0/4150 [00:00<?, ?it/s]"
      ]
     },
     "metadata": {},
     "output_type": "display_data"
    },
    {
     "data": {
      "application/vnd.jupyter.widget-view+json": {
       "model_id": "728124ddc8d94b4f8132507ab8795a07",
       "version_major": 2,
       "version_minor": 0
      },
      "text/plain": [
       "Epoch 79/100 [Validation]:   0%|          | 0/1038 [00:00<?, ?it/s]"
      ]
     },
     "metadata": {},
     "output_type": "display_data"
    },
    {
     "name": "stdout",
     "output_type": "stream",
     "text": [
      "\n",
      "--- Epoch 79/100 Summary ---\n",
      "  Train Loss: 0.3009 | Val Loss: 0.4716\n",
      "  Accuracy: 0.9199 | Weighted F1: 0.9195\n",
      "  Learning Rate: 0.000012\n"
     ]
    },
    {
     "data": {
      "application/vnd.jupyter.widget-view+json": {
       "model_id": "771640bcbbe445358e7efade855614ca",
       "version_major": 2,
       "version_minor": 0
      },
      "text/plain": [
       "Epoch 80/100 [Training]:   0%|          | 0/4150 [00:00<?, ?it/s]"
      ]
     },
     "metadata": {},
     "output_type": "display_data"
    },
    {
     "data": {
      "application/vnd.jupyter.widget-view+json": {
       "model_id": "3080d03aab0e431f86cccc086c950979",
       "version_major": 2,
       "version_minor": 0
      },
      "text/plain": [
       "Epoch 80/100 [Validation]:   0%|          | 0/1038 [00:00<?, ?it/s]"
      ]
     },
     "metadata": {},
     "output_type": "display_data"
    },
    {
     "name": "stdout",
     "output_type": "stream",
     "text": [
      "\n",
      "--- Epoch 80/100 Summary ---\n",
      "  Train Loss: 0.2911 | Val Loss: 0.4608\n",
      "  Accuracy: 0.9216 | Weighted F1: 0.9213\n",
      "  Learning Rate: 0.000009\n"
     ]
    },
    {
     "data": {
      "application/vnd.jupyter.widget-view+json": {
       "model_id": "23aa0b75cfda4511adaefb9902e5aab4",
       "version_major": 2,
       "version_minor": 0
      },
      "text/plain": [
       "Epoch 81/100 [Training]:   0%|          | 0/4150 [00:00<?, ?it/s]"
      ]
     },
     "metadata": {},
     "output_type": "display_data"
    },
    {
     "data": {
      "application/vnd.jupyter.widget-view+json": {
       "model_id": "72c4ab3a8c3b447ba621cfc4b506badd",
       "version_major": 2,
       "version_minor": 0
      },
      "text/plain": [
       "Epoch 81/100 [Validation]:   0%|          | 0/1038 [00:00<?, ?it/s]"
      ]
     },
     "metadata": {},
     "output_type": "display_data"
    },
    {
     "name": "stdout",
     "output_type": "stream",
     "text": [
      "\n",
      "--- Epoch 81/100 Summary ---\n",
      "  Train Loss: 0.2917 | Val Loss: 0.4672\n",
      "  Accuracy: 0.9221 | Weighted F1: 0.9219\n",
      "  Learning Rate: 0.000006\n"
     ]
    },
    {
     "data": {
      "application/vnd.jupyter.widget-view+json": {
       "model_id": "75fd98c6bec54d0b9e1860579fb35431",
       "version_major": 2,
       "version_minor": 0
      },
      "text/plain": [
       "Epoch 82/100 [Training]:   0%|          | 0/4150 [00:00<?, ?it/s]"
      ]
     },
     "metadata": {},
     "output_type": "display_data"
    },
    {
     "data": {
      "application/vnd.jupyter.widget-view+json": {
       "model_id": "edd2e4ddd1d842178a37b1c31768ee18",
       "version_major": 2,
       "version_minor": 0
      },
      "text/plain": [
       "Epoch 82/100 [Validation]:   0%|          | 0/1038 [00:00<?, ?it/s]"
      ]
     },
     "metadata": {},
     "output_type": "display_data"
    },
    {
     "name": "stdout",
     "output_type": "stream",
     "text": [
      "\n",
      "--- Epoch 82/100 Summary ---\n",
      "  Train Loss: 0.2856 | Val Loss: 0.4649\n",
      "  Accuracy: 0.9207 | Weighted F1: 0.9204\n",
      "  Learning Rate: 0.000004\n"
     ]
    },
    {
     "data": {
      "application/vnd.jupyter.widget-view+json": {
       "model_id": "db14c1be90464a71adc926794c2ec968",
       "version_major": 2,
       "version_minor": 0
      },
      "text/plain": [
       "Epoch 83/100 [Training]:   0%|          | 0/4150 [00:00<?, ?it/s]"
      ]
     },
     "metadata": {},
     "output_type": "display_data"
    },
    {
     "data": {
      "application/vnd.jupyter.widget-view+json": {
       "model_id": "8b3f1bdcefdc425f9b18bb17441f38e8",
       "version_major": 2,
       "version_minor": 0
      },
      "text/plain": [
       "Epoch 83/100 [Validation]:   0%|          | 0/1038 [00:00<?, ?it/s]"
      ]
     },
     "metadata": {},
     "output_type": "display_data"
    },
    {
     "name": "stdout",
     "output_type": "stream",
     "text": [
      "\n",
      "--- Epoch 83/100 Summary ---\n",
      "  Train Loss: 0.2880 | Val Loss: 0.4733\n",
      "  Accuracy: 0.9233 | Weighted F1: 0.9230\n",
      "  Learning Rate: 0.000002\n",
      "  => 🎉 New best model saved to 'F:/Working Sync/LAB projects/InsectSELD/Dataset/checkpoints\\best_model.pth' (Weighted F1: 0.9230)\n",
      "\n"
     ]
    },
    {
     "data": {
      "application/vnd.jupyter.widget-view+json": {
       "model_id": "d679e7fa024d4fe38258236a16fe765a",
       "version_major": 2,
       "version_minor": 0
      },
      "text/plain": [
       "Epoch 84/100 [Training]:   0%|          | 0/4150 [00:00<?, ?it/s]"
      ]
     },
     "metadata": {},
     "output_type": "display_data"
    },
    {
     "data": {
      "application/vnd.jupyter.widget-view+json": {
       "model_id": "54c8ba7faddc465f926ebe06d6ef96a6",
       "version_major": 2,
       "version_minor": 0
      },
      "text/plain": [
       "Epoch 84/100 [Validation]:   0%|          | 0/1038 [00:00<?, ?it/s]"
      ]
     },
     "metadata": {},
     "output_type": "display_data"
    },
    {
     "name": "stdout",
     "output_type": "stream",
     "text": [
      "\n",
      "--- Epoch 84/100 Summary ---\n",
      "  Train Loss: 0.2837 | Val Loss: 0.4664\n",
      "  Accuracy: 0.9214 | Weighted F1: 0.9212\n",
      "  Learning Rate: 0.000001\n"
     ]
    },
    {
     "data": {
      "application/vnd.jupyter.widget-view+json": {
       "model_id": "0139cbde65b44869bb52e0fbc4ac73e8",
       "version_major": 2,
       "version_minor": 0
      },
      "text/plain": [
       "Epoch 85/100 [Training]:   0%|          | 0/4150 [00:00<?, ?it/s]"
      ]
     },
     "metadata": {},
     "output_type": "display_data"
    },
    {
     "data": {
      "application/vnd.jupyter.widget-view+json": {
       "model_id": "e883e0b4c35c4910a02337e266004755",
       "version_major": 2,
       "version_minor": 0
      },
      "text/plain": [
       "Epoch 85/100 [Validation]:   0%|          | 0/1038 [00:00<?, ?it/s]"
      ]
     },
     "metadata": {},
     "output_type": "display_data"
    },
    {
     "name": "stdout",
     "output_type": "stream",
     "text": [
      "\n",
      "--- Epoch 85/100 Summary ---\n",
      "  Train Loss: 0.2903 | Val Loss: 0.4723\n",
      "  Accuracy: 0.9226 | Weighted F1: 0.9224\n",
      "  Learning Rate: 0.000000\n"
     ]
    },
    {
     "data": {
      "application/vnd.jupyter.widget-view+json": {
       "model_id": "ee0cbef49ebd4fbaa0fc9cfa2a8856d8",
       "version_major": 2,
       "version_minor": 0
      },
      "text/plain": [
       "Epoch 86/100 [Training]:   0%|          | 0/4150 [00:00<?, ?it/s]"
      ]
     },
     "metadata": {},
     "output_type": "display_data"
    },
    {
     "data": {
      "application/vnd.jupyter.widget-view+json": {
       "model_id": "fd7910ff593c4cf38b1e7ca83b4672f6",
       "version_major": 2,
       "version_minor": 0
      },
      "text/plain": [
       "Epoch 86/100 [Validation]:   0%|          | 0/1038 [00:00<?, ?it/s]"
      ]
     },
     "metadata": {},
     "output_type": "display_data"
    },
    {
     "name": "stdout",
     "output_type": "stream",
     "text": [
      "\n",
      "--- Epoch 86/100 Summary ---\n",
      "  Train Loss: 0.2926 | Val Loss: 0.4777\n",
      "  Accuracy: 0.9211 | Weighted F1: 0.9208\n",
      "  Learning Rate: 0.000000\n"
     ]
    },
    {
     "data": {
      "application/vnd.jupyter.widget-view+json": {
       "model_id": "c7773331245046f0a680bf0966ce44a1",
       "version_major": 2,
       "version_minor": 0
      },
      "text/plain": [
       "Epoch 87/100 [Training]:   0%|          | 0/4150 [00:00<?, ?it/s]"
      ]
     },
     "metadata": {},
     "output_type": "display_data"
    },
    {
     "data": {
      "application/vnd.jupyter.widget-view+json": {
       "model_id": "473d3eba22034c70aba607e263319a1b",
       "version_major": 2,
       "version_minor": 0
      },
      "text/plain": [
       "Epoch 87/100 [Validation]:   0%|          | 0/1038 [00:00<?, ?it/s]"
      ]
     },
     "metadata": {},
     "output_type": "display_data"
    },
    {
     "name": "stdout",
     "output_type": "stream",
     "text": [
      "\n",
      "--- Epoch 87/100 Summary ---\n",
      "  Train Loss: 0.3000 | Val Loss: 0.4826\n",
      "  Accuracy: 0.9220 | Weighted F1: 0.9217\n",
      "  Learning Rate: 0.000000\n"
     ]
    },
    {
     "data": {
      "application/vnd.jupyter.widget-view+json": {
       "model_id": "ea036d4b787f4720a20712ae7cbe78f2",
       "version_major": 2,
       "version_minor": 0
      },
      "text/plain": [
       "Epoch 88/100 [Training]:   0%|          | 0/4150 [00:00<?, ?it/s]"
      ]
     },
     "metadata": {},
     "output_type": "display_data"
    },
    {
     "data": {
      "application/vnd.jupyter.widget-view+json": {
       "model_id": "bea1cd1c41ff4304b1795ec1903be825",
       "version_major": 2,
       "version_minor": 0
      },
      "text/plain": [
       "Epoch 88/100 [Validation]:   0%|          | 0/1038 [00:00<?, ?it/s]"
      ]
     },
     "metadata": {},
     "output_type": "display_data"
    },
    {
     "name": "stdout",
     "output_type": "stream",
     "text": [
      "\n",
      "--- Epoch 88/100 Summary ---\n",
      "  Train Loss: 0.2855 | Val Loss: 0.4699\n",
      "  Accuracy: 0.9217 | Weighted F1: 0.9214\n",
      "  Learning Rate: 0.000001\n"
     ]
    },
    {
     "data": {
      "application/vnd.jupyter.widget-view+json": {
       "model_id": "e3094e79e7a84c68b63aa7222de6cf5f",
       "version_major": 2,
       "version_minor": 0
      },
      "text/plain": [
       "Epoch 89/100 [Training]:   0%|          | 0/4150 [00:00<?, ?it/s]"
      ]
     },
     "metadata": {},
     "output_type": "display_data"
    },
    {
     "data": {
      "application/vnd.jupyter.widget-view+json": {
       "model_id": "b74b5869e9404af1aa1135c02c6605da",
       "version_major": 2,
       "version_minor": 0
      },
      "text/plain": [
       "Epoch 89/100 [Validation]:   0%|          | 0/1038 [00:00<?, ?it/s]"
      ]
     },
     "metadata": {},
     "output_type": "display_data"
    },
    {
     "name": "stdout",
     "output_type": "stream",
     "text": [
      "\n",
      "--- Epoch 89/100 Summary ---\n",
      "  Train Loss: 0.2811 | Val Loss: 0.4740\n",
      "  Accuracy: 0.9216 | Weighted F1: 0.9213\n",
      "  Learning Rate: 0.000002\n"
     ]
    },
    {
     "data": {
      "application/vnd.jupyter.widget-view+json": {
       "model_id": "1fe73d587a4441599fa8e8c527b53132",
       "version_major": 2,
       "version_minor": 0
      },
      "text/plain": [
       "Epoch 90/100 [Training]:   0%|          | 0/4150 [00:00<?, ?it/s]"
      ]
     },
     "metadata": {},
     "output_type": "display_data"
    },
    {
     "data": {
      "application/vnd.jupyter.widget-view+json": {
       "model_id": "35bae50a22484150bb9e83ada3cc67d0",
       "version_major": 2,
       "version_minor": 0
      },
      "text/plain": [
       "Epoch 90/100 [Validation]:   0%|          | 0/1038 [00:00<?, ?it/s]"
      ]
     },
     "metadata": {},
     "output_type": "display_data"
    },
    {
     "name": "stdout",
     "output_type": "stream",
     "text": [
      "\n",
      "--- Epoch 90/100 Summary ---\n",
      "  Train Loss: 0.2971 | Val Loss: 0.4781\n",
      "  Accuracy: 0.9229 | Weighted F1: 0.9225\n",
      "  Learning Rate: 0.000004\n"
     ]
    },
    {
     "data": {
      "application/vnd.jupyter.widget-view+json": {
       "model_id": "df2fb35b02984be4906c4c7cdd06e6b3",
       "version_major": 2,
       "version_minor": 0
      },
      "text/plain": [
       "Epoch 91/100 [Training]:   0%|          | 0/4150 [00:00<?, ?it/s]"
      ]
     },
     "metadata": {},
     "output_type": "display_data"
    },
    {
     "data": {
      "application/vnd.jupyter.widget-view+json": {
       "model_id": "0520fce64e304c54bcb98078a0c08da3",
       "version_major": 2,
       "version_minor": 0
      },
      "text/plain": [
       "Epoch 91/100 [Validation]:   0%|          | 0/1038 [00:00<?, ?it/s]"
      ]
     },
     "metadata": {},
     "output_type": "display_data"
    },
    {
     "name": "stdout",
     "output_type": "stream",
     "text": [
      "\n",
      "--- Epoch 91/100 Summary ---\n",
      "  Train Loss: 0.2867 | Val Loss: 0.4764\n",
      "  Accuracy: 0.9218 | Weighted F1: 0.9215\n",
      "  Learning Rate: 0.000006\n"
     ]
    },
    {
     "data": {
      "application/vnd.jupyter.widget-view+json": {
       "model_id": "04f27ba9e91c483594a73b9ac9310ea6",
       "version_major": 2,
       "version_minor": 0
      },
      "text/plain": [
       "Epoch 92/100 [Training]:   0%|          | 0/4150 [00:00<?, ?it/s]"
      ]
     },
     "metadata": {},
     "output_type": "display_data"
    },
    {
     "data": {
      "application/vnd.jupyter.widget-view+json": {
       "model_id": "541329d180324ba9a430b054fcd791b8",
       "version_major": 2,
       "version_minor": 0
      },
      "text/plain": [
       "Epoch 92/100 [Validation]:   0%|          | 0/1038 [00:00<?, ?it/s]"
      ]
     },
     "metadata": {},
     "output_type": "display_data"
    },
    {
     "name": "stdout",
     "output_type": "stream",
     "text": [
      "\n",
      "--- Epoch 92/100 Summary ---\n",
      "  Train Loss: 0.2902 | Val Loss: 0.4669\n",
      "  Accuracy: 0.9231 | Weighted F1: 0.9227\n",
      "  Learning Rate: 0.000009\n"
     ]
    },
    {
     "data": {
      "application/vnd.jupyter.widget-view+json": {
       "model_id": "6cd5d382b0e74929aecb3572291fe9c9",
       "version_major": 2,
       "version_minor": 0
      },
      "text/plain": [
       "Epoch 93/100 [Training]:   0%|          | 0/4150 [00:00<?, ?it/s]"
      ]
     },
     "metadata": {},
     "output_type": "display_data"
    },
    {
     "data": {
      "application/vnd.jupyter.widget-view+json": {
       "model_id": "17ac3a5df0a44498bcd1c74aa2df3b78",
       "version_major": 2,
       "version_minor": 0
      },
      "text/plain": [
       "Epoch 93/100 [Validation]:   0%|          | 0/1038 [00:00<?, ?it/s]"
      ]
     },
     "metadata": {},
     "output_type": "display_data"
    },
    {
     "name": "stdout",
     "output_type": "stream",
     "text": [
      "\n",
      "--- Epoch 93/100 Summary ---\n",
      "  Train Loss: 0.2964 | Val Loss: 0.4782\n",
      "  Accuracy: 0.9213 | Weighted F1: 0.9211\n",
      "  Learning Rate: 0.000012\n"
     ]
    },
    {
     "data": {
      "application/vnd.jupyter.widget-view+json": {
       "model_id": "211db16aca8b418aac60453ac023799f",
       "version_major": 2,
       "version_minor": 0
      },
      "text/plain": [
       "Epoch 94/100 [Training]:   0%|          | 0/4150 [00:00<?, ?it/s]"
      ]
     },
     "metadata": {},
     "output_type": "display_data"
    },
    {
     "data": {
      "application/vnd.jupyter.widget-view+json": {
       "model_id": "5e5788b93d604859aabde9362a30f5b9",
       "version_major": 2,
       "version_minor": 0
      },
      "text/plain": [
       "Epoch 94/100 [Validation]:   0%|          | 0/1038 [00:00<?, ?it/s]"
      ]
     },
     "metadata": {},
     "output_type": "display_data"
    },
    {
     "name": "stdout",
     "output_type": "stream",
     "text": [
      "\n",
      "--- Epoch 94/100 Summary ---\n",
      "  Train Loss: 0.2913 | Val Loss: 0.4724\n",
      "  Accuracy: 0.9194 | Weighted F1: 0.9192\n",
      "  Learning Rate: 0.000016\n"
     ]
    },
    {
     "data": {
      "application/vnd.jupyter.widget-view+json": {
       "model_id": "b2f211289edc49b09c2e418b94882af1",
       "version_major": 2,
       "version_minor": 0
      },
      "text/plain": [
       "Epoch 95/100 [Training]:   0%|          | 0/4150 [00:00<?, ?it/s]"
      ]
     },
     "metadata": {},
     "output_type": "display_data"
    },
    {
     "data": {
      "application/vnd.jupyter.widget-view+json": {
       "model_id": "9829d8f942f14146a2da5f2b1c162fb4",
       "version_major": 2,
       "version_minor": 0
      },
      "text/plain": [
       "Epoch 95/100 [Validation]:   0%|          | 0/1038 [00:00<?, ?it/s]"
      ]
     },
     "metadata": {},
     "output_type": "display_data"
    },
    {
     "name": "stdout",
     "output_type": "stream",
     "text": [
      "\n",
      "--- Epoch 95/100 Summary ---\n",
      "  Train Loss: 0.2957 | Val Loss: 0.4709\n",
      "  Accuracy: 0.9225 | Weighted F1: 0.9223\n",
      "  Learning Rate: 0.000020\n"
     ]
    },
    {
     "data": {
      "application/vnd.jupyter.widget-view+json": {
       "model_id": "a241d61125b842deb533ef92cf8cf867",
       "version_major": 2,
       "version_minor": 0
      },
      "text/plain": [
       "Epoch 96/100 [Training]:   0%|          | 0/4150 [00:00<?, ?it/s]"
      ]
     },
     "metadata": {},
     "output_type": "display_data"
    },
    {
     "data": {
      "application/vnd.jupyter.widget-view+json": {
       "model_id": "8efae1d0626740708b3d59cca7137911",
       "version_major": 2,
       "version_minor": 0
      },
      "text/plain": [
       "Epoch 96/100 [Validation]:   0%|          | 0/1038 [00:00<?, ?it/s]"
      ]
     },
     "metadata": {},
     "output_type": "display_data"
    },
    {
     "name": "stdout",
     "output_type": "stream",
     "text": [
      "\n",
      "--- Epoch 96/100 Summary ---\n",
      "  Train Loss: 0.2891 | Val Loss: 0.5007\n",
      "  Accuracy: 0.9203 | Weighted F1: 0.9200\n",
      "  Learning Rate: 0.000024\n"
     ]
    },
    {
     "data": {
      "application/vnd.jupyter.widget-view+json": {
       "model_id": "166e4f3a70e64af6b844e342d28e1972",
       "version_major": 2,
       "version_minor": 0
      },
      "text/plain": [
       "Epoch 97/100 [Training]:   0%|          | 0/4150 [00:00<?, ?it/s]"
      ]
     },
     "metadata": {},
     "output_type": "display_data"
    },
    {
     "data": {
      "application/vnd.jupyter.widget-view+json": {
       "model_id": "8262a59a59064f328e2b609636f055fa",
       "version_major": 2,
       "version_minor": 0
      },
      "text/plain": [
       "Epoch 97/100 [Validation]:   0%|          | 0/1038 [00:00<?, ?it/s]"
      ]
     },
     "metadata": {},
     "output_type": "display_data"
    },
    {
     "name": "stdout",
     "output_type": "stream",
     "text": [
      "\n",
      "--- Epoch 97/100 Summary ---\n",
      "  Train Loss: 0.2826 | Val Loss: 0.4819\n",
      "  Accuracy: 0.9221 | Weighted F1: 0.9217\n",
      "  Learning Rate: 0.000030\n"
     ]
    },
    {
     "data": {
      "application/vnd.jupyter.widget-view+json": {
       "model_id": "d0d8ae6f772244f0b6232516dafafb7a",
       "version_major": 2,
       "version_minor": 0
      },
      "text/plain": [
       "Epoch 98/100 [Training]:   0%|          | 0/4150 [00:00<?, ?it/s]"
      ]
     },
     "metadata": {},
     "output_type": "display_data"
    },
    {
     "data": {
      "application/vnd.jupyter.widget-view+json": {
       "model_id": "c307d9597b5941d9a3eeaf401a478aba",
       "version_major": 2,
       "version_minor": 0
      },
      "text/plain": [
       "Epoch 98/100 [Validation]:   0%|          | 0/1038 [00:00<?, ?it/s]"
      ]
     },
     "metadata": {},
     "output_type": "display_data"
    },
    {
     "name": "stdout",
     "output_type": "stream",
     "text": [
      "\n",
      "--- Epoch 98/100 Summary ---\n",
      "  Train Loss: 0.2818 | Val Loss: 0.4721\n",
      "  Accuracy: 0.9195 | Weighted F1: 0.9192\n",
      "  Learning Rate: 0.000035\n"
     ]
    },
    {
     "data": {
      "application/vnd.jupyter.widget-view+json": {
       "model_id": "3dfd05a0d335455d8f9bca58d2170c83",
       "version_major": 2,
       "version_minor": 0
      },
      "text/plain": [
       "Epoch 99/100 [Training]:   0%|          | 0/4150 [00:00<?, ?it/s]"
      ]
     },
     "metadata": {},
     "output_type": "display_data"
    },
    {
     "data": {
      "application/vnd.jupyter.widget-view+json": {
       "model_id": "ffb50a691051455aa30fa716e706690a",
       "version_major": 2,
       "version_minor": 0
      },
      "text/plain": [
       "Epoch 99/100 [Validation]:   0%|          | 0/1038 [00:00<?, ?it/s]"
      ]
     },
     "metadata": {},
     "output_type": "display_data"
    },
    {
     "name": "stdout",
     "output_type": "stream",
     "text": [
      "\n",
      "--- Epoch 99/100 Summary ---\n",
      "  Train Loss: 0.2933 | Val Loss: 0.4747\n",
      "  Accuracy: 0.9221 | Weighted F1: 0.9219\n",
      "  Learning Rate: 0.000041\n"
     ]
    },
    {
     "data": {
      "application/vnd.jupyter.widget-view+json": {
       "model_id": "ab0fc243ac914ad08cf6f95416c1fb42",
       "version_major": 2,
       "version_minor": 0
      },
      "text/plain": [
       "Epoch 100/100 [Training]:   0%|          | 0/4150 [00:00<?, ?it/s]"
      ]
     },
     "metadata": {},
     "output_type": "display_data"
    },
    {
     "data": {
      "application/vnd.jupyter.widget-view+json": {
       "model_id": "aae0899dfd4a456481722b7ae8348185",
       "version_major": 2,
       "version_minor": 0
      },
      "text/plain": [
       "Epoch 100/100 [Validation]:   0%|          | 0/1038 [00:00<?, ?it/s]"
      ]
     },
     "metadata": {},
     "output_type": "display_data"
    },
    {
     "name": "stdout",
     "output_type": "stream",
     "text": [
      "\n",
      "--- Epoch 100/100 Summary ---\n",
      "  Train Loss: 0.2904 | Val Loss: 0.4712\n",
      "  Accuracy: 0.9226 | Weighted F1: 0.9222\n",
      "  Learning Rate: 0.000048\n",
      "\n",
      "✅ Hoàn tất huấn luyện!\n"
     ]
    }
   ],
   "source": [
    "for epoch in range(EPOCHS):\n",
    "    # ---------------------------\n",
    "    # ----- TRAINING PHASE ------\n",
    "    # ---------------------------\n",
    "    model.train()\n",
    "    running_loss = 0.0\n",
    "    progress_bar = tqdm(train_loader, desc=f\"Epoch {epoch+1}/{EPOCHS} [Training]\")\n",
    "    \n",
    "    for inputs, labels in progress_bar:\n",
    "        if -1 in labels: continue # Bỏ qua các mẫu bị lỗi\n",
    "        inputs, labels = inputs.to(device), labels.to(device)\n",
    "        \n",
    "        # Áp dụng Mixup với xác suất 50%\n",
    "        if torch.rand(1).item() < 0.5:\n",
    "            inputs, targets_a, targets_b, lam = mixup_data(inputs, labels, alpha=0.4)\n",
    "            optimizer.zero_grad()\n",
    "            outputs = model(inputs)\n",
    "            loss = mixup_criterion(criterion, outputs, targets_a, targets_b, lam)\n",
    "        else:\n",
    "            # Chạy như bình thường nếu không dùng Mixup\n",
    "            optimizer.zero_grad()\n",
    "            outputs = model(inputs)\n",
    "            loss = criterion(outputs, labels)\n",
    "\n",
    "        loss.backward()\n",
    "        optimizer.step()\n",
    "        \n",
    "        running_loss += loss.item() * inputs.size(0)\n",
    "        progress_bar.set_postfix(loss=f\"{loss.item():.4f}\")\n",
    "\n",
    "\n",
    "    model.eval()\n",
    "    val_loss = 0.0\n",
    "    val_preds, val_labels = [], []\n",
    "    with torch.no_grad():\n",
    "        for inputs, labels in tqdm(val_loader, desc=f\"Epoch {epoch+1}/{EPOCHS} [Validation]\"):\n",
    "            if -1 in labels: continue\n",
    "            inputs, labels = inputs.to(device), labels.to(device)\n",
    "            \n",
    "            outputs = model(inputs)\n",
    "            loss = criterion(outputs, labels)\n",
    "            val_loss += loss.item() * inputs.size(0)\n",
    "            \n",
    "            _, predicted = torch.max(outputs.data, 1)\n",
    "            val_preds.extend(predicted.cpu().numpy())\n",
    "            val_labels.extend(labels.cpu().numpy())\n",
    "            \n",
    "\n",
    "    epoch_train_loss = running_loss / len(train_dataset)\n",
    "    epoch_val_loss = val_loss / len(val_dataset)\n",
    "    \n",
    "    accuracy = accuracy_score(val_labels, val_preds)\n",
    "    macro_f1 = f1_score(val_labels, val_preds, average='macro', zero_division=0)\n",
    "    weighted_f1 = f1_score(val_labels, val_preds, average='weighted', zero_division=0)\n",
    "    macro_precision = precision_score(val_labels, val_preds, average='macro', zero_division=0)\n",
    "    weighted_precision = precision_score(val_labels, val_preds, average='weighted', zero_division=0)\n",
    "    macro_recall = recall_score(val_labels, val_preds, average='macro', zero_division=0)\n",
    "    weighted_recall = recall_score(val_labels, val_preds, average='weighted', zero_division=0)\n",
    "    \n",
    "    current_lr = scheduler.get_last_lr()[0]\n",
    "    scheduler.step()\n",
    "\n",
    "    # In kết quả ra màn hình\n",
    "    print(f\"\\n--- Epoch {epoch+1}/{EPOCHS} Summary ---\")\n",
    "    print(f\"  Train Loss: {epoch_train_loss:.4f} | Val Loss: {epoch_val_loss:.4f}\")\n",
    "    print(f\"  Accuracy: {accuracy:.4f} | Weighted F1: {weighted_f1:.4f}\")\n",
    "    print(f\"  Learning Rate: {current_lr:.6f}\")\n",
    "\n",
    "    # Lưu vào file CSV\n",
    "    log_data = [\n",
    "        epoch + 1, epoch_train_loss, epoch_val_loss, current_lr, accuracy,\n",
    "        macro_f1, weighted_f1, macro_precision, weighted_precision,\n",
    "        macro_recall, weighted_recall\n",
    "    ]\n",
    "    with open(LOG_CSV_PATH, 'a', newline='', encoding='utf-8') as f:\n",
    "        writer = csv.writer(f)\n",
    "        writer.writerow(log_data)\n",
    "        \n",
    "    # Lưu Checkpoint mỗi epoch\n",
    "    checkpoint_path = os.path.join(CHECKPOINT_DIR, f'checkpoint_epoch_{epoch+1}.pth')\n",
    "    torch.save({\n",
    "        'epoch': epoch + 1,\n",
    "        'model_state_dict': model.state_dict(),\n",
    "        'optimizer_state_dict': optimizer.state_dict(),\n",
    "    }, checkpoint_path)\n",
    "\n",
    "    # Lưu lại model tốt nhất (dựa trên weighted F1-score)\n",
    "    if weighted_f1 > best_val_f1:\n",
    "        best_val_f1 = weighted_f1\n",
    "        best_model_path = os.path.join(CHECKPOINT_DIR, 'best_model.pth')\n",
    "        torch.save(model.state_dict(), best_model_path)\n",
    "        print(f\"  => 🎉 New best model saved to '{best_model_path}' (Weighted F1: {best_val_f1:.4f})\\n\")\n",
    "\n",
    "print(\"\\n✅ Hoàn tất huấn luyện!\")"
   ]
  },
  {
   "cell_type": "code",
   "execution_count": null,
   "id": "46bf939c-47a1-4a9b-9466-b1062c0da483",
   "metadata": {},
   "outputs": [],
   "source": []
  }
 ],
 "metadata": {
  "kernelspec": {
   "display_name": "Python 3 (ipykernel)",
   "language": "python",
   "name": "python3"
  },
  "language_info": {
   "codemirror_mode": {
    "name": "ipython",
    "version": 3
   },
   "file_extension": ".py",
   "mimetype": "text/x-python",
   "name": "python",
   "nbconvert_exporter": "python",
   "pygments_lexer": "ipython3",
   "version": "3.10.16"
  }
 },
 "nbformat": 4,
 "nbformat_minor": 5
}
