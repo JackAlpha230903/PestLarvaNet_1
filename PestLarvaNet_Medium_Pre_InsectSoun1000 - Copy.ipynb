{
 "cells": [
  {
   "cell_type": "code",
   "execution_count": 1,
   "id": "0d3e0393-aca8-43f5-b00f-6a5393e3e4e9",
   "metadata": {},
   "outputs": [],
   "source": [
    "import os\n",
    "import csv\n",
    "import pandas as pd\n",
    "import numpy as np\n",
    "import torch\n",
    "import torch.nn as nn\n",
    "import torch.nn.functional as F\n",
    "import torchaudio\n",
    "from torch.utils.data import Dataset, DataLoader, random_split\n",
    "from torchvision.transforms import v2 as T\n",
    "from tqdm.notebook import tqdm\n",
    "import matplotlib.pyplot as plt\n",
    "from sklearn.metrics import (accuracy_score, precision_score, recall_score, \n",
    "                             f1_score, confusion_matrix)\n",
    "import seaborn as sns"
   ]
  },
  {
   "cell_type": "code",
   "execution_count": 2,
   "id": "259083cb-d01e-4988-8a5e-a3d339d8b2df",
   "metadata": {},
   "outputs": [
    {
     "name": "stdout",
     "output_type": "stream",
     "text": [
      "Sử dụng thiết bị: cuda\n"
     ]
    }
   ],
   "source": [
    "device = torch.device(\"cuda\" if torch.cuda.is_available() else \"cpu\")\n",
    "print(f\"Sử dụng thiết bị: {device}\")"
   ]
  },
  {
   "cell_type": "code",
   "execution_count": 3,
   "id": "878275a1-c5a6-4ec7-a1f8-6ffae4b83570",
   "metadata": {},
   "outputs": [],
   "source": [
    "class DynamicGraphAttention(nn.Module):\n",
    "    def __init__(self, in_channels, num_nodes=32, heads=8, dropout=0.1):  # Tăng num_nodes/heads mặc định\n",
    "        super().__init__()\n",
    "        self.num_nodes = num_nodes\n",
    "        self.heads = heads\n",
    "        self.head_dim = in_channels // heads\n",
    "        self.dropout = nn.Dropout(dropout)\n",
    "\n",
    "        self.query = nn.Linear(in_channels, in_channels)\n",
    "        self.key = nn.Linear(in_channels, in_channels)\n",
    "        self.value = nn.Linear(in_channels, in_channels)\n",
    "        self.out = nn.Linear(in_channels, in_channels)\n",
    "        self.scale = nn.Parameter(torch.tensor(self.head_dim**-0.5))\n",
    "\n",
    "        # Positional encoding (simple learnable)\n",
    "        self.pos_enc = nn.Parameter(torch.randn(1, num_nodes, in_channels))\n",
    "\n",
    "    def forward(self, x):\n",
    "        B, C, H, W = x.size()\n",
    "        x_flat = x.flatten(2).transpose(1, 2)  # (B, H*W, C)\n",
    "        \n",
    "        num_pixels = H * W\n",
    "        N = min(self.num_nodes, num_pixels)\n",
    "        \n",
    "        # Importance sampling: Chọn top-k pixels dựa trên L2 norm (thay vì random/linspace)\n",
    "        norms = torch.norm(x_flat, dim=-1)  # (B, H*W)\n",
    "        _, indices = torch.topk(norms, N, dim=-1)  # Top-k indices\n",
    "        indices = indices.sort(dim=-1).indices  # Sort để ổn định\n",
    "        x_nodes = torch.gather(x_flat, 1, indices.unsqueeze(-1).expand(-1, -1, C))  # (B, N, C)\n",
    "        \n",
    "        # Thêm positional encoding\n",
    "        x_nodes = x_nodes + self.pos_enc.expand(B, -1, -1)\n",
    "        \n",
    "        q = self.query(x_nodes).view(B, N, self.heads, self.head_dim).transpose(1, 2)\n",
    "        k = self.key(x_nodes).view(B, N, self.heads, self.head_dim).transpose(1, 2)\n",
    "        v = self.value(x_nodes).view(B, N, self.heads, self.head_dim).transpose(1, 2)\n",
    "        \n",
    "        attn_weights = torch.matmul(q, k.transpose(-2, -1)) * self.scale\n",
    "        attn_weights = F.softmax(attn_weights, dim=-1)\n",
    "        attn_weights = self.dropout(attn_weights)  # Thêm dropout\n",
    "        attn_output = torch.matmul(attn_weights, v)\n",
    "        attn_output = attn_output.transpose(1, 2).contiguous().view(B, N, C)\n",
    "        \n",
    "        out_nodes = self.out(attn_output)\n",
    "        \n",
    "        out_flat = torch.zeros_like(x_flat)\n",
    "        out_flat.scatter_(1, indices.unsqueeze(-1).expand(-1, -1, C), out_nodes)\n",
    "        out = out_flat.transpose(1, 2).view(B, C, H, W)\n",
    "        \n",
    "        return x + out  # Residual connection\n",
    "\n",
    "class TemporalAttentionAggregator(nn.Module):\n",
    "    def __init__(self, in_channels, num_heads=4):\n",
    "        super().__init__()\n",
    "        self.attention_net = nn.MultiheadAttention(embed_dim=in_channels, num_heads=num_heads)  # Thay MLP bằng MultiheadAttention\n",
    "        self.norm = nn.LayerNorm(in_channels)\n",
    "\n",
    "    def forward(self, x):\n",
    "        if len(x.shape) == 4:  # (B, C, H, W) -> Giả sử single frame, flatten spatial\n",
    "            B, C, H, W = x.size()\n",
    "            x_flat = x.flatten(2).transpose(1, 2)  # (B, H*W, C)\n",
    "        elif len(x.shape) == 5:  # (B, T, C, H, W) -> Flatten temporal-spatial\n",
    "            B, T, C, H, W = x.size()\n",
    "            x_flat = x.flatten(3).transpose(2, 3).reshape(B, T * H * W, C)  # (B, T*H*W, C)\n",
    "        else:\n",
    "            raise ValueError(\"Input must be 4D or 5D tensor\")\n",
    "        \n",
    "        # Temporal-spatial attention\n",
    "        x_flat = self.norm(x_flat)\n",
    "        attn_output, _ = self.attention_net(x_flat, x_flat, x_flat)  # Self-attention\n",
    "        \n",
    "        # Aggregate\n",
    "        aggregated_vector = torch.mean(attn_output, dim=1)  # Mean pooling thay sum để ổn định\n",
    "        return aggregated_vector\n",
    "\n",
    "class InvertedResidual(nn.Module):\n",
    "    def __init__(self, in_channels, out_channels, stride, expansion=6):  # Tăng expansion mặc định\n",
    "        super().__init__()\n",
    "        hidden_dim = in_channels * expansion\n",
    "        self.use_residual = in_channels == out_channels and stride == 1\n",
    "        \n",
    "        self.conv = nn.Sequential(\n",
    "            nn.Conv2d(in_channels, hidden_dim, 1, bias=False),\n",
    "            nn.BatchNorm2d(hidden_dim),\n",
    "            nn.SiLU(inplace=True),  # Thay ReLU6 bằng SiLU (Swish)\n",
    "            nn.Conv2d(hidden_dim, hidden_dim, 3, stride, 1, groups=hidden_dim, bias=False),\n",
    "            nn.BatchNorm2d(hidden_dim),\n",
    "            nn.SiLU(inplace=True),\n",
    "            nn.Conv2d(hidden_dim, out_channels, 1, bias=False),\n",
    "            nn.BatchNorm2d(out_channels),\n",
    "        )\n",
    "        \n",
    "        # Thêm SE block\n",
    "        self.se = nn.Sequential(\n",
    "            nn.AdaptiveAvgPool2d(1),\n",
    "            nn.Conv2d(out_channels, out_channels // 16, 1),\n",
    "            nn.SiLU(),\n",
    "            nn.Conv2d(out_channels // 16, out_channels, 1),\n",
    "            nn.Sigmoid()\n",
    "        )\n",
    "\n",
    "    def forward(self, x):\n",
    "        out = self.conv(x)\n",
    "        out = out * self.se(out)  # Áp dụng SE\n",
    "        return x + out if self.use_residual else out"
   ]
  },
  {
   "cell_type": "code",
   "execution_count": 4,
   "id": "561c9475-5f99-4695-8cbf-1b2c5422e1a3",
   "metadata": {},
   "outputs": [],
   "source": [
    "class PestLarvaNet_Medium(nn.Module):\n",
    "    def __init__(self, num_classes, input_channels=1):\n",
    "        super().__init__()\n",
    "        self.config = [[1, 24, 2, 1], [6, 40, 3, 2], [6, 64, 3, 2], [6, 120, 3, 2], [6, 160, 2, 1]]\n",
    "        self.stem = nn.Sequential(\n",
    "            nn.Conv2d(input_channels, 24, 3, 2, 1, bias=False),\n",
    "            nn.BatchNorm2d(24), nn.SiLU(inplace=True))\n",
    "        \n",
    "        layers = []\n",
    "        in_channels = 24\n",
    "        for t, c, n, s in self.config:\n",
    "            for i in range(n):\n",
    "                stride = s if i == 0 else 1\n",
    "                layers.append(InvertedResidual(in_channels, c, stride, expansion=t))\n",
    "                in_channels = c\n",
    "            if c == 40:\n",
    "                layers.append(DynamicGraphAttention(in_channels, num_nodes=32, heads=8))\n",
    "        self.body = nn.Sequential(*layers)\n",
    "        \n",
    "        self.head_conv = nn.Conv2d(160, 384, 1, bias=False)\n",
    "        self.aggregator = TemporalAttentionAggregator(384, num_heads=8)\n",
    "        self.classifier = nn.Sequential(\n",
    "            nn.Linear(384, 192), nn.SiLU(inplace=True), nn.Dropout(0.4),\n",
    "            nn.Linear(192, num_classes))\n",
    "            \n",
    "    def forward(self, x):\n",
    "        x = self.stem(x); x = self.body(x); x = self.head_conv(x)\n",
    "        x = self.aggregator(x); x = self.classifier(x); return x"
   ]
  },
  {
   "cell_type": "code",
   "execution_count": 5,
   "id": "2f5c3927-b694-47e6-ba38-cecf04d3fdf8",
   "metadata": {},
   "outputs": [],
   "source": [
    "def count_parameters(model):\n",
    "    total = sum(p.numel() for p in model.parameters())\n",
    "    trainable = sum(p.numel() for p in model.parameters() if p.requires_grad)\n",
    "    return total, trainable"
   ]
  },
  {
   "cell_type": "code",
   "execution_count": 6,
   "id": "81a46c0f-6c6c-4d56-81ca-5ab689474f1e",
   "metadata": {},
   "outputs": [],
   "source": [
    "class InsectSpectrogramDataset(Dataset):\n",
    "    \"\"\"Dataset tùy chỉnh để đọc các file spectrogram .pt\"\"\"\n",
    "    def __init__(self, metadata_file, data_dir, transform=None):\n",
    "        self.metadata = pd.read_csv(metadata_file)\n",
    "        self.data_dir = data_dir\n",
    "        self.transform = transform\n",
    "        self.file_column = 'file_name'\n",
    "        self.label_column = 'label'\n",
    "        \n",
    "        self.class_names = sorted(self.metadata[self.label_column].unique())\n",
    "        self.class_to_id = {name: i for i, name in enumerate(self.class_names)}\n",
    "        self.id_to_class = {i: name for name, i in self.class_to_id.items()}\n",
    "\n",
    "    def __len__(self):\n",
    "        return len(self.metadata)\n",
    "\n",
    "    def __getitem__(self, idx):\n",
    "        file_name = self.metadata.iloc[idx][self.file_column]\n",
    "        file_path = os.path.join(self.data_dir, file_name)\n",
    "        label_name = self.metadata.iloc[idx][self.label_column]\n",
    "        label = self.class_to_id[label_name]\n",
    "        \n",
    "        try:\n",
    "            spectrogram = torch.load(file_path, weights_only=True)\n",
    "            if spectrogram.dim() == 2:\n",
    "                spectrogram = spectrogram.unsqueeze(0)\n",
    "            if self.transform:\n",
    "                spectrogram = self.transform(spectrogram)\n",
    "            return spectrogram, label\n",
    "        except Exception as e:\n",
    "            print(f\"Lỗi khi tải file {file_path}: {e}\")\n",
    "            return torch.zeros(1, 128, 259), -1 # Trả về mẫu lỗi"
   ]
  },
  {
   "cell_type": "code",
   "execution_count": 7,
   "id": "e3d4cf3d-4921-4deb-9d76-1878d0ccc5c2",
   "metadata": {},
   "outputs": [],
   "source": [
    "METADATA_PATH = r'D:\\Dataset\\metadata_Mel.csv' \n",
    "DATA_DIR = r'D:\\Dataset\\MelSpectrograms'"
   ]
  },
  {
   "cell_type": "code",
   "execution_count": 8,
   "id": "dbd3bd2b-9f18-42eb-96c9-c748d1bd9386",
   "metadata": {},
   "outputs": [],
   "source": [
    "class TimeShift(torch.nn.Module):\n",
    "    def __init__(self, p=0.5, max_shift_percent=0.4):\n",
    "        super().__init__()\n",
    "        self.p = p\n",
    "        self.max_shift_percent = max_shift_percent\n",
    "\n",
    "    def forward(self, spec):\n",
    "        if torch.rand(1) < self.p:\n",
    "            time_steps = spec.shape[-1]\n",
    "            # Chọn một lượng dịch chuyển ngẫu nhiên\n",
    "            shift_amount = int(torch.rand(1) * self.max_shift_percent * time_steps)\n",
    "            # Dịch ngẫu nhiên sang trái hoặc phải\n",
    "            if torch.rand(1) < 0.5:\n",
    "                shift_amount = -shift_amount\n",
    "            return torch.roll(spec, shifts=shift_amount, dims=-1)\n",
    "        return spec\n",
    "\n",
    "class SpecNoise(torch.nn.Module):\n",
    "    def __init__(self, p=0.5, noise_level=0.05):\n",
    "        super().__init__()\n",
    "        self.p = p\n",
    "        self.noise_level = noise_level\n",
    "\n",
    "    def forward(self, spec):\n",
    "        if torch.rand(1) < self.p:\n",
    "            noise = torch.randn_like(spec) * self.noise_level\n",
    "            return spec + noise\n",
    "        return spec"
   ]
  },
  {
   "cell_type": "code",
   "execution_count": 9,
   "id": "d18f938b-e3c8-4d8f-bd08-19b4d0c7b19f",
   "metadata": {},
   "outputs": [
    {
     "name": "stdout",
     "output_type": "stream",
     "text": [
      "Đã định nghĩa xong pipeline Augmentation cho Spectrogram.\n"
     ]
    }
   ],
   "source": [
    "train_transform = T.Compose([\n",
    "    # Kỹ thuật 1: SpecAugment (Time & Frequency Masking)\n",
    "    torchaudio.transforms.TimeMasking(time_mask_param=80),\n",
    "    torchaudio.transforms.FrequencyMasking(freq_mask_param=25),\n",
    "    \n",
    "    # Kỹ thuật 2: Time Shifting\n",
    "    TimeShift(p=0.5, max_shift_percent=0.4),\n",
    "    \n",
    "    # Kỹ thuật 3: Spectrogram Noise\n",
    "    SpecNoise(p=0.3, noise_level=0.03),\n",
    "])\n",
    "\n",
    "# Tập validation không sử dụng augmentation\n",
    "val_transform = None\n",
    "\n",
    "print(\"Đã định nghĩa xong pipeline Augmentation cho Spectrogram.\")"
   ]
  },
  {
   "cell_type": "code",
   "execution_count": 10,
   "id": "4f33aa01-1795-4515-a580-c23fad5fa635",
   "metadata": {},
   "outputs": [],
   "source": [
    "def mixup_data(x, y, alpha=0.4, use_cuda=True):\n",
    "    \"\"\"\n",
    "    Trộn dữ liệu trong một batch.\n",
    "    Trả về input đã trộn, và hai bộ nhãn gốc cùng với hệ số trộn lambda.\n",
    "    \"\"\"\n",
    "    if alpha > 0:\n",
    "        lam = np.random.beta(alpha, alpha)\n",
    "    else:\n",
    "        lam = 1\n",
    "\n",
    "    batch_size = x.size()[0]\n",
    "    if use_cuda:\n",
    "        index = torch.randperm(batch_size).cuda()\n",
    "    else:\n",
    "        index = torch.randperm(batch_size)\n",
    "\n",
    "    mixed_x = lam * x + (1 - lam) * x[index, :]\n",
    "    y_a, y_b = y, y[index]\n",
    "    return mixed_x, y_a, y_b, lam\n",
    "\n",
    "\n",
    "def mixup_criterion(criterion, pred, y_a, y_b, lam):\n",
    "    \"\"\"\n",
    "    Hàm tính loss đặc biệt cho Mixup.\n",
    "    \"\"\"\n",
    "    return lam * criterion(pred, y_a) + (1 - lam) * criterion(pred, y_b)"
   ]
  },
  {
   "cell_type": "code",
   "execution_count": 16,
   "id": "18a940e3-05da-449c-8207-c38aa6ad0de3",
   "metadata": {},
   "outputs": [
    {
     "name": "stdout",
     "output_type": "stream",
     "text": [
      "Tải dữ liệu thành công: 165982 mẫu, 12 lớp.\n"
     ]
    }
   ],
   "source": [
    "if not os.path.exists(METADATA_PATH) or not os.path.isdir(DATA_DIR):\n",
    "    print(\"!!! LỖI: Vui lòng kiểm tra lại đường dẫn METADATA_PATH và DATA_DIR.\")\n",
    "else:\n",
    "    full_dataset = InsectSpectrogramDataset(METADATA_PATH, DATA_DIR)\n",
    "    num_classes = len(full_dataset.class_names)\n",
    "    print(f\"Tải dữ liệu thành công: {len(full_dataset)} mẫu, {num_classes} lớp.\")\n",
    "\n",
    "    train_size = int(0.8 * len(full_dataset))\n",
    "    val_size = len(full_dataset) - train_size\n",
    "    generator = torch.Generator().manual_seed(42)\n",
    "    train_dataset, val_dataset = random_split(full_dataset, [train_size, val_size], generator)\n",
    "\n",
    "    train_dataset.dataset.transform = train_transform\n",
    "    val_dataset.dataset.transform = val_transform\n",
    "\n",
    "    BATCH_SIZE = 16\n",
    "    train_loader = DataLoader(train_dataset, batch_size=BATCH_SIZE, shuffle=True, num_workers=0)\n",
    "    val_loader = DataLoader(val_dataset, batch_size=BATCH_SIZE, shuffle=False, num_workers=0)"
   ]
  },
  {
   "cell_type": "code",
   "execution_count": 12,
   "id": "d6d3d42a-f0a9-491b-89a1-e90a76d33bdf",
   "metadata": {},
   "outputs": [],
   "source": [
    "EPOCHS = 100\n",
    "LEARNING_RATE = 0.001\n",
    "WEIGHT_DECAY = 1e-4\n",
    "\n",
    "CHECKPOINT_DIR = r'D:\\Dataset\\checkpoints_med'\n",
    "LOG_CSV_PATH = r'D:\\Dataset\\training_log_med.csv'\n",
    "os.makedirs(CHECKPOINT_DIR, exist_ok=True)"
   ]
  },
  {
   "cell_type": "code",
   "execution_count": 13,
   "id": "3b0a5983-805b-46c5-8e8c-5f0a07fa8b7b",
   "metadata": {},
   "outputs": [
    {
     "name": "stdout",
     "output_type": "stream",
     "text": [
      "Khởi tạo mô hình PestLarvaNet-GMA với 1.92M tham số.\n"
     ]
    }
   ],
   "source": [
    "model = PestLarvaNet_Medium(num_classes=num_classes).to(device)\n",
    "total_params, _ = count_parameters(model)\n",
    "print(f\"Khởi tạo mô hình PestLarvaNet-GMA với {total_params/1e6:.2f}M tham số.\")\n",
    "\n",
    "criterion = nn.CrossEntropyLoss()\n",
    "optimizer = torch.optim.AdamW(model.parameters(), lr=LEARNING_RATE, weight_decay=WEIGHT_DECAY)\n",
    "scheduler = torch.optim.lr_scheduler.CosineAnnealingLR(optimizer, T_max=EPOCHS)"
   ]
  },
  {
   "cell_type": "code",
   "execution_count": 14,
   "id": "d53eaa89-a519-4d94-93b6-7481ae606df8",
   "metadata": {},
   "outputs": [
    {
     "name": "stdout",
     "output_type": "stream",
     "text": [
      "\n",
      "Bắt đầu huấn luyện... Checkpoints sẽ được lưu tại 'D:\\Dataset\\checkpoints_med' và log tại 'D:\\Dataset\\training_log_med.csv'\n"
     ]
    }
   ],
   "source": [
    "log_header = [\n",
    "    'epoch', 'train_loss', 'val_loss', 'learning_rate', 'accuracy',\n",
    "    'macro_f1', 'weighted_f1', 'macro_precision', 'weighted_precision',\n",
    "    'macro_recall', 'weighted_recall'\n",
    "]\n",
    "with open(LOG_CSV_PATH, 'w', newline='', encoding='utf-8') as f:\n",
    "    csv.writer(f).writerow(log_header)\n",
    "\n",
    "print(f\"\\nBắt đầu huấn luyện... Checkpoints sẽ được lưu tại '{CHECKPOINT_DIR}' và log tại '{LOG_CSV_PATH}'\")\n",
    "\n",
    "# --- Vòng lặp huấn luyện chính ---\n",
    "best_val_f1 = 0.0\n"
   ]
  },
  {
   "cell_type": "code",
   "execution_count": 17,
   "id": "5f0161a7-f3ca-4c11-96a6-778ab7d83042",
   "metadata": {},
   "outputs": [
    {
     "data": {
      "application/vnd.jupyter.widget-view+json": {
       "model_id": "dbe5c2c8e4f44cdf8731f8596ad00ef0",
       "version_major": 2,
       "version_minor": 0
      },
      "text/plain": [
       "Epoch 1/100 [Training]:   0%|          | 0/8300 [00:00<?, ?it/s]"
      ]
     },
     "metadata": {},
     "output_type": "display_data"
    },
    {
     "data": {
      "application/vnd.jupyter.widget-view+json": {
       "model_id": "852c5ec9e64348088c3a6a7a095ef16f",
       "version_major": 2,
       "version_minor": 0
      },
      "text/plain": [
       "Epoch 1/100 [Validation]:   0%|          | 0/2075 [00:00<?, ?it/s]"
      ]
     },
     "metadata": {},
     "output_type": "display_data"
    },
    {
     "name": "stdout",
     "output_type": "stream",
     "text": [
      "\n",
      "--- Epoch 1/100 Summary ---\n",
      "  Train Loss: 1.5599 | Val Loss: 2.0477\n",
      "  Accuracy: 0.3567 | Weighted F1: 0.3629\n",
      "  Learning Rate: 0.001000\n",
      "  => 🎉 New best model saved to 'D:\\Dataset\\checkpoints_med\\best_model.pth' (Weighted F1: 0.3629)\n",
      "\n"
     ]
    },
    {
     "data": {
      "application/vnd.jupyter.widget-view+json": {
       "model_id": "8fbc3163e4a145cb879681f838391196",
       "version_major": 2,
       "version_minor": 0
      },
      "text/plain": [
       "Epoch 2/100 [Training]:   0%|          | 0/8300 [00:00<?, ?it/s]"
      ]
     },
     "metadata": {},
     "output_type": "display_data"
    },
    {
     "data": {
      "application/vnd.jupyter.widget-view+json": {
       "model_id": "5ba3724c8dc849ddb4e3aa4532803955",
       "version_major": 2,
       "version_minor": 0
      },
      "text/plain": [
       "Epoch 2/100 [Validation]:   0%|          | 0/2075 [00:00<?, ?it/s]"
      ]
     },
     "metadata": {},
     "output_type": "display_data"
    },
    {
     "name": "stdout",
     "output_type": "stream",
     "text": [
      "\n",
      "--- Epoch 2/100 Summary ---\n",
      "  Train Loss: 1.2958 | Val Loss: 0.8921\n",
      "  Accuracy: 0.6805 | Weighted F1: 0.6744\n",
      "  Learning Rate: 0.001000\n",
      "  => 🎉 New best model saved to 'D:\\Dataset\\checkpoints_med\\best_model.pth' (Weighted F1: 0.6744)\n",
      "\n"
     ]
    },
    {
     "data": {
      "application/vnd.jupyter.widget-view+json": {
       "model_id": "d2618e08899d4993a44d1ee195bea3d4",
       "version_major": 2,
       "version_minor": 0
      },
      "text/plain": [
       "Epoch 3/100 [Training]:   0%|          | 0/8300 [00:00<?, ?it/s]"
      ]
     },
     "metadata": {},
     "output_type": "display_data"
    },
    {
     "data": {
      "application/vnd.jupyter.widget-view+json": {
       "model_id": "58957f2737824b37b34d496bcb6f12ce",
       "version_major": 2,
       "version_minor": 0
      },
      "text/plain": [
       "Epoch 3/100 [Validation]:   0%|          | 0/2075 [00:00<?, ?it/s]"
      ]
     },
     "metadata": {},
     "output_type": "display_data"
    },
    {
     "name": "stdout",
     "output_type": "stream",
     "text": [
      "\n",
      "--- Epoch 3/100 Summary ---\n",
      "  Train Loss: 1.0817 | Val Loss: 1.9455\n",
      "  Accuracy: 0.4129 | Weighted F1: 0.3523\n",
      "  Learning Rate: 0.000999\n"
     ]
    },
    {
     "data": {
      "application/vnd.jupyter.widget-view+json": {
       "model_id": "a748b2f52f164acaa1a0bbc3aa354213",
       "version_major": 2,
       "version_minor": 0
      },
      "text/plain": [
       "Epoch 4/100 [Training]:   0%|          | 0/8300 [00:00<?, ?it/s]"
      ]
     },
     "metadata": {},
     "output_type": "display_data"
    },
    {
     "data": {
      "application/vnd.jupyter.widget-view+json": {
       "model_id": "1e805d3f24334677acdb4d50934f90a7",
       "version_major": 2,
       "version_minor": 0
      },
      "text/plain": [
       "Epoch 4/100 [Validation]:   0%|          | 0/2075 [00:00<?, ?it/s]"
      ]
     },
     "metadata": {},
     "output_type": "display_data"
    },
    {
     "name": "stdout",
     "output_type": "stream",
     "text": [
      "\n",
      "--- Epoch 4/100 Summary ---\n",
      "  Train Loss: 0.9609 | Val Loss: 0.6461\n",
      "  Accuracy: 0.7683 | Weighted F1: 0.7613\n",
      "  Learning Rate: 0.000998\n",
      "  => 🎉 New best model saved to 'D:\\Dataset\\checkpoints_med\\best_model.pth' (Weighted F1: 0.7613)\n",
      "\n"
     ]
    },
    {
     "data": {
      "application/vnd.jupyter.widget-view+json": {
       "model_id": "b3b7189e4b90496a9896a447d80b4794",
       "version_major": 2,
       "version_minor": 0
      },
      "text/plain": [
       "Epoch 5/100 [Training]:   0%|          | 0/8300 [00:00<?, ?it/s]"
      ]
     },
     "metadata": {},
     "output_type": "display_data"
    },
    {
     "data": {
      "application/vnd.jupyter.widget-view+json": {
       "model_id": "d6bb6b5770e84f348e8abddb23e557a6",
       "version_major": 2,
       "version_minor": 0
      },
      "text/plain": [
       "Epoch 5/100 [Validation]:   0%|          | 0/2075 [00:00<?, ?it/s]"
      ]
     },
     "metadata": {},
     "output_type": "display_data"
    },
    {
     "name": "stdout",
     "output_type": "stream",
     "text": [
      "\n",
      "--- Epoch 5/100 Summary ---\n",
      "  Train Loss: 0.8899 | Val Loss: 0.7425\n",
      "  Accuracy: 0.7358 | Weighted F1: 0.7284\n",
      "  Learning Rate: 0.000996\n"
     ]
    },
    {
     "data": {
      "application/vnd.jupyter.widget-view+json": {
       "model_id": "72fa4b73e1e94ad08791f89bbfde2043",
       "version_major": 2,
       "version_minor": 0
      },
      "text/plain": [
       "Epoch 6/100 [Training]:   0%|          | 0/8300 [00:00<?, ?it/s]"
      ]
     },
     "metadata": {},
     "output_type": "display_data"
    },
    {
     "data": {
      "application/vnd.jupyter.widget-view+json": {
       "model_id": "06a46be8e607492a8ea4b62395b606b5",
       "version_major": 2,
       "version_minor": 0
      },
      "text/plain": [
       "Epoch 6/100 [Validation]:   0%|          | 0/2075 [00:00<?, ?it/s]"
      ]
     },
     "metadata": {},
     "output_type": "display_data"
    },
    {
     "name": "stdout",
     "output_type": "stream",
     "text": [
      "\n",
      "--- Epoch 6/100 Summary ---\n",
      "  Train Loss: 0.8261 | Val Loss: 0.5649\n",
      "  Accuracy: 0.8081 | Weighted F1: 0.8066\n",
      "  Learning Rate: 0.000994\n",
      "  => 🎉 New best model saved to 'D:\\Dataset\\checkpoints_med\\best_model.pth' (Weighted F1: 0.8066)\n",
      "\n"
     ]
    },
    {
     "data": {
      "application/vnd.jupyter.widget-view+json": {
       "model_id": "8a405e7abe1a4e7caa25c00fd6bb6e77",
       "version_major": 2,
       "version_minor": 0
      },
      "text/plain": [
       "Epoch 7/100 [Training]:   0%|          | 0/8300 [00:00<?, ?it/s]"
      ]
     },
     "metadata": {},
     "output_type": "display_data"
    },
    {
     "data": {
      "application/vnd.jupyter.widget-view+json": {
       "model_id": "e60eabd1ab00415c896e7f002729d827",
       "version_major": 2,
       "version_minor": 0
      },
      "text/plain": [
       "Epoch 7/100 [Validation]:   0%|          | 0/2075 [00:00<?, ?it/s]"
      ]
     },
     "metadata": {},
     "output_type": "display_data"
    },
    {
     "name": "stdout",
     "output_type": "stream",
     "text": [
      "\n",
      "--- Epoch 7/100 Summary ---\n",
      "  Train Loss: 0.7825 | Val Loss: 0.5536\n",
      "  Accuracy: 0.8038 | Weighted F1: 0.8018\n",
      "  Learning Rate: 0.000991\n"
     ]
    },
    {
     "data": {
      "application/vnd.jupyter.widget-view+json": {
       "model_id": "3db36cf015864340b2a506d312f2466f",
       "version_major": 2,
       "version_minor": 0
      },
      "text/plain": [
       "Epoch 8/100 [Training]:   0%|          | 0/8300 [00:00<?, ?it/s]"
      ]
     },
     "metadata": {},
     "output_type": "display_data"
    },
    {
     "data": {
      "application/vnd.jupyter.widget-view+json": {
       "model_id": "10be9d22fdbc4fc695e7e3ce9b891b95",
       "version_major": 2,
       "version_minor": 0
      },
      "text/plain": [
       "Epoch 8/100 [Validation]:   0%|          | 0/2075 [00:00<?, ?it/s]"
      ]
     },
     "metadata": {},
     "output_type": "display_data"
    },
    {
     "name": "stdout",
     "output_type": "stream",
     "text": [
      "\n",
      "--- Epoch 8/100 Summary ---\n",
      "  Train Loss: 0.7398 | Val Loss: 0.5551\n",
      "  Accuracy: 0.8184 | Weighted F1: 0.8197\n",
      "  Learning Rate: 0.000988\n",
      "  => 🎉 New best model saved to 'D:\\Dataset\\checkpoints_med\\best_model.pth' (Weighted F1: 0.8197)\n",
      "\n"
     ]
    },
    {
     "data": {
      "application/vnd.jupyter.widget-view+json": {
       "model_id": "ed6360ea59d44471bbf3b2b0576885e3",
       "version_major": 2,
       "version_minor": 0
      },
      "text/plain": [
       "Epoch 9/100 [Training]:   0%|          | 0/8300 [00:00<?, ?it/s]"
      ]
     },
     "metadata": {},
     "output_type": "display_data"
    },
    {
     "data": {
      "application/vnd.jupyter.widget-view+json": {
       "model_id": "fb0668e0c5ce4290bc38aef46be930d8",
       "version_major": 2,
       "version_minor": 0
      },
      "text/plain": [
       "Epoch 9/100 [Validation]:   0%|          | 0/2075 [00:00<?, ?it/s]"
      ]
     },
     "metadata": {},
     "output_type": "display_data"
    },
    {
     "name": "stdout",
     "output_type": "stream",
     "text": [
      "\n",
      "--- Epoch 9/100 Summary ---\n",
      "  Train Loss: 0.6987 | Val Loss: 0.4301\n",
      "  Accuracy: 0.8508 | Weighted F1: 0.8467\n",
      "  Learning Rate: 0.000984\n",
      "  => 🎉 New best model saved to 'D:\\Dataset\\checkpoints_med\\best_model.pth' (Weighted F1: 0.8467)\n",
      "\n"
     ]
    },
    {
     "data": {
      "application/vnd.jupyter.widget-view+json": {
       "model_id": "dc7fa48c4bd14bb1ab656f694e049e99",
       "version_major": 2,
       "version_minor": 0
      },
      "text/plain": [
       "Epoch 10/100 [Training]:   0%|          | 0/8300 [00:00<?, ?it/s]"
      ]
     },
     "metadata": {},
     "output_type": "display_data"
    },
    {
     "data": {
      "application/vnd.jupyter.widget-view+json": {
       "model_id": "b421ff9ade8b4b5eaafbcb6ea567ff10",
       "version_major": 2,
       "version_minor": 0
      },
      "text/plain": [
       "Epoch 10/100 [Validation]:   0%|          | 0/2075 [00:00<?, ?it/s]"
      ]
     },
     "metadata": {},
     "output_type": "display_data"
    },
    {
     "name": "stdout",
     "output_type": "stream",
     "text": [
      "\n",
      "--- Epoch 10/100 Summary ---\n",
      "  Train Loss: 0.6817 | Val Loss: 0.6444\n",
      "  Accuracy: 0.7908 | Weighted F1: 0.7874\n",
      "  Learning Rate: 0.000980\n"
     ]
    },
    {
     "data": {
      "application/vnd.jupyter.widget-view+json": {
       "model_id": "cd03a8d7eb6b4d0cbd298065e4d1a3ea",
       "version_major": 2,
       "version_minor": 0
      },
      "text/plain": [
       "Epoch 11/100 [Training]:   0%|          | 0/8300 [00:00<?, ?it/s]"
      ]
     },
     "metadata": {},
     "output_type": "display_data"
    },
    {
     "data": {
      "application/vnd.jupyter.widget-view+json": {
       "model_id": "a2fb009aa94f483b8bcf77935e7a322f",
       "version_major": 2,
       "version_minor": 0
      },
      "text/plain": [
       "Epoch 11/100 [Validation]:   0%|          | 0/2075 [00:00<?, ?it/s]"
      ]
     },
     "metadata": {},
     "output_type": "display_data"
    },
    {
     "name": "stdout",
     "output_type": "stream",
     "text": [
      "\n",
      "--- Epoch 11/100 Summary ---\n",
      "  Train Loss: 0.6515 | Val Loss: 0.4447\n",
      "  Accuracy: 0.8529 | Weighted F1: 0.8504\n",
      "  Learning Rate: 0.000976\n",
      "  => 🎉 New best model saved to 'D:\\Dataset\\checkpoints_med\\best_model.pth' (Weighted F1: 0.8504)\n",
      "\n"
     ]
    },
    {
     "data": {
      "application/vnd.jupyter.widget-view+json": {
       "model_id": "bb4907029ddb43819574db97da4a3145",
       "version_major": 2,
       "version_minor": 0
      },
      "text/plain": [
       "Epoch 12/100 [Training]:   0%|          | 0/8300 [00:00<?, ?it/s]"
      ]
     },
     "metadata": {},
     "output_type": "display_data"
    },
    {
     "data": {
      "application/vnd.jupyter.widget-view+json": {
       "model_id": "d2916da5c70f46b78fd04ed2fe4e20a8",
       "version_major": 2,
       "version_minor": 0
      },
      "text/plain": [
       "Epoch 12/100 [Validation]:   0%|          | 0/2075 [00:00<?, ?it/s]"
      ]
     },
     "metadata": {},
     "output_type": "display_data"
    },
    {
     "name": "stdout",
     "output_type": "stream",
     "text": [
      "\n",
      "--- Epoch 12/100 Summary ---\n",
      "  Train Loss: 0.6365 | Val Loss: 0.4920\n",
      "  Accuracy: 0.8400 | Weighted F1: 0.8350\n",
      "  Learning Rate: 0.000970\n"
     ]
    },
    {
     "data": {
      "application/vnd.jupyter.widget-view+json": {
       "model_id": "a2ebf7818cff415eb0f245b239132caf",
       "version_major": 2,
       "version_minor": 0
      },
      "text/plain": [
       "Epoch 13/100 [Training]:   0%|          | 0/8300 [00:00<?, ?it/s]"
      ]
     },
     "metadata": {},
     "output_type": "display_data"
    },
    {
     "data": {
      "application/vnd.jupyter.widget-view+json": {
       "model_id": "4b4a0f258d954122aac2a015bcf9178a",
       "version_major": 2,
       "version_minor": 0
      },
      "text/plain": [
       "Epoch 13/100 [Validation]:   0%|          | 0/2075 [00:00<?, ?it/s]"
      ]
     },
     "metadata": {},
     "output_type": "display_data"
    },
    {
     "name": "stdout",
     "output_type": "stream",
     "text": [
      "\n",
      "--- Epoch 13/100 Summary ---\n",
      "  Train Loss: 0.6131 | Val Loss: 0.3806\n",
      "  Accuracy: 0.8747 | Weighted F1: 0.8732\n",
      "  Learning Rate: 0.000965\n",
      "  => 🎉 New best model saved to 'D:\\Dataset\\checkpoints_med\\best_model.pth' (Weighted F1: 0.8732)\n",
      "\n"
     ]
    },
    {
     "data": {
      "application/vnd.jupyter.widget-view+json": {
       "model_id": "d56d2172b9e440f4873637f27d7ff819",
       "version_major": 2,
       "version_minor": 0
      },
      "text/plain": [
       "Epoch 14/100 [Training]:   0%|          | 0/8300 [00:00<?, ?it/s]"
      ]
     },
     "metadata": {},
     "output_type": "display_data"
    },
    {
     "data": {
      "application/vnd.jupyter.widget-view+json": {
       "model_id": "92a833b190c7418b8526422ded74861f",
       "version_major": 2,
       "version_minor": 0
      },
      "text/plain": [
       "Epoch 14/100 [Validation]:   0%|          | 0/2075 [00:00<?, ?it/s]"
      ]
     },
     "metadata": {},
     "output_type": "display_data"
    },
    {
     "name": "stdout",
     "output_type": "stream",
     "text": [
      "\n",
      "--- Epoch 14/100 Summary ---\n",
      "  Train Loss: 0.5937 | Val Loss: 0.4341\n",
      "  Accuracy: 0.8585 | Weighted F1: 0.8578\n",
      "  Learning Rate: 0.000959\n"
     ]
    },
    {
     "data": {
      "application/vnd.jupyter.widget-view+json": {
       "model_id": "23c6839686554a8e8f8e0f074866806a",
       "version_major": 2,
       "version_minor": 0
      },
      "text/plain": [
       "Epoch 15/100 [Training]:   0%|          | 0/8300 [00:00<?, ?it/s]"
      ]
     },
     "metadata": {},
     "output_type": "display_data"
    },
    {
     "data": {
      "application/vnd.jupyter.widget-view+json": {
       "model_id": "a2f9c5ebeb064a81b937c8238cb77620",
       "version_major": 2,
       "version_minor": 0
      },
      "text/plain": [
       "Epoch 15/100 [Validation]:   0%|          | 0/2075 [00:00<?, ?it/s]"
      ]
     },
     "metadata": {},
     "output_type": "display_data"
    },
    {
     "name": "stdout",
     "output_type": "stream",
     "text": [
      "\n",
      "--- Epoch 15/100 Summary ---\n",
      "  Train Loss: 0.5814 | Val Loss: 0.6063\n",
      "  Accuracy: 0.7972 | Weighted F1: 0.7921\n",
      "  Learning Rate: 0.000952\n"
     ]
    },
    {
     "data": {
      "application/vnd.jupyter.widget-view+json": {
       "model_id": "48f99f7bc1484ed192ae15056107d9cc",
       "version_major": 2,
       "version_minor": 0
      },
      "text/plain": [
       "Epoch 16/100 [Training]:   0%|          | 0/8300 [00:00<?, ?it/s]"
      ]
     },
     "metadata": {},
     "output_type": "display_data"
    },
    {
     "data": {
      "application/vnd.jupyter.widget-view+json": {
       "model_id": "87bedcab5c7c4c1da2cb4dac1a2083ae",
       "version_major": 2,
       "version_minor": 0
      },
      "text/plain": [
       "Epoch 16/100 [Validation]:   0%|          | 0/2075 [00:00<?, ?it/s]"
      ]
     },
     "metadata": {},
     "output_type": "display_data"
    },
    {
     "name": "stdout",
     "output_type": "stream",
     "text": [
      "\n",
      "--- Epoch 16/100 Summary ---\n",
      "  Train Loss: 0.5663 | Val Loss: 0.5069\n",
      "  Accuracy: 0.8369 | Weighted F1: 0.8324\n",
      "  Learning Rate: 0.000946\n"
     ]
    },
    {
     "data": {
      "application/vnd.jupyter.widget-view+json": {
       "model_id": "e54074d6bc2a4e4dab7b597703306ebe",
       "version_major": 2,
       "version_minor": 0
      },
      "text/plain": [
       "Epoch 17/100 [Training]:   0%|          | 0/8300 [00:00<?, ?it/s]"
      ]
     },
     "metadata": {},
     "output_type": "display_data"
    },
    {
     "data": {
      "application/vnd.jupyter.widget-view+json": {
       "model_id": "e791cdc002f84d688075e92ba2a2df38",
       "version_major": 2,
       "version_minor": 0
      },
      "text/plain": [
       "Epoch 17/100 [Validation]:   0%|          | 0/2075 [00:00<?, ?it/s]"
      ]
     },
     "metadata": {},
     "output_type": "display_data"
    },
    {
     "name": "stdout",
     "output_type": "stream",
     "text": [
      "\n",
      "--- Epoch 17/100 Summary ---\n",
      "  Train Loss: 0.5452 | Val Loss: 0.3237\n",
      "  Accuracy: 0.8933 | Weighted F1: 0.8927\n",
      "  Learning Rate: 0.000938\n",
      "  => 🎉 New best model saved to 'D:\\Dataset\\checkpoints_med\\best_model.pth' (Weighted F1: 0.8927)\n",
      "\n"
     ]
    },
    {
     "data": {
      "application/vnd.jupyter.widget-view+json": {
       "model_id": "a58df77770964039b9fd7db57c6ecbb3",
       "version_major": 2,
       "version_minor": 0
      },
      "text/plain": [
       "Epoch 18/100 [Training]:   0%|          | 0/8300 [00:00<?, ?it/s]"
      ]
     },
     "metadata": {},
     "output_type": "display_data"
    },
    {
     "data": {
      "application/vnd.jupyter.widget-view+json": {
       "model_id": "83a1c33b421f4d0c8a61f62fd0e42839",
       "version_major": 2,
       "version_minor": 0
      },
      "text/plain": [
       "Epoch 18/100 [Validation]:   0%|          | 0/2075 [00:00<?, ?it/s]"
      ]
     },
     "metadata": {},
     "output_type": "display_data"
    },
    {
     "name": "stdout",
     "output_type": "stream",
     "text": [
      "\n",
      "--- Epoch 18/100 Summary ---\n",
      "  Train Loss: 0.5444 | Val Loss: 0.3180\n",
      "  Accuracy: 0.8963 | Weighted F1: 0.8966\n",
      "  Learning Rate: 0.000930\n",
      "  => 🎉 New best model saved to 'D:\\Dataset\\checkpoints_med\\best_model.pth' (Weighted F1: 0.8966)\n",
      "\n"
     ]
    },
    {
     "data": {
      "application/vnd.jupyter.widget-view+json": {
       "model_id": "fdde278d12014e91897906e8dc6808b3",
       "version_major": 2,
       "version_minor": 0
      },
      "text/plain": [
       "Epoch 19/100 [Training]:   0%|          | 0/8300 [00:00<?, ?it/s]"
      ]
     },
     "metadata": {},
     "output_type": "display_data"
    },
    {
     "data": {
      "application/vnd.jupyter.widget-view+json": {
       "model_id": "8cbf117f2236406a832ea029b95c9d7a",
       "version_major": 2,
       "version_minor": 0
      },
      "text/plain": [
       "Epoch 19/100 [Validation]:   0%|          | 0/2075 [00:00<?, ?it/s]"
      ]
     },
     "metadata": {},
     "output_type": "display_data"
    },
    {
     "name": "stdout",
     "output_type": "stream",
     "text": [
      "\n",
      "--- Epoch 19/100 Summary ---\n",
      "  Train Loss: 0.5274 | Val Loss: 2.1190\n",
      "  Accuracy: 0.5384 | Weighted F1: 0.5349\n",
      "  Learning Rate: 0.000922\n"
     ]
    },
    {
     "data": {
      "application/vnd.jupyter.widget-view+json": {
       "model_id": "97da7bf9051a4809bf1a3f921bae8603",
       "version_major": 2,
       "version_minor": 0
      },
      "text/plain": [
       "Epoch 20/100 [Training]:   0%|          | 0/8300 [00:00<?, ?it/s]"
      ]
     },
     "metadata": {},
     "output_type": "display_data"
    },
    {
     "data": {
      "application/vnd.jupyter.widget-view+json": {
       "model_id": "a2d77632177f418395ed5464a74fa6e8",
       "version_major": 2,
       "version_minor": 0
      },
      "text/plain": [
       "Epoch 20/100 [Validation]:   0%|          | 0/2075 [00:00<?, ?it/s]"
      ]
     },
     "metadata": {},
     "output_type": "display_data"
    },
    {
     "name": "stdout",
     "output_type": "stream",
     "text": [
      "\n",
      "--- Epoch 20/100 Summary ---\n",
      "  Train Loss: 0.5222 | Val Loss: 1.2236\n",
      "  Accuracy: 0.6747 | Weighted F1: 0.6609\n",
      "  Learning Rate: 0.000914\n"
     ]
    },
    {
     "data": {
      "application/vnd.jupyter.widget-view+json": {
       "model_id": "c3387b3e1267449baa7eca47f0ac3148",
       "version_major": 2,
       "version_minor": 0
      },
      "text/plain": [
       "Epoch 21/100 [Training]:   0%|          | 0/8300 [00:00<?, ?it/s]"
      ]
     },
     "metadata": {},
     "output_type": "display_data"
    },
    {
     "data": {
      "application/vnd.jupyter.widget-view+json": {
       "model_id": "66d353f54efc46dca12519244ec4ae1f",
       "version_major": 2,
       "version_minor": 0
      },
      "text/plain": [
       "Epoch 21/100 [Validation]:   0%|          | 0/2075 [00:00<?, ?it/s]"
      ]
     },
     "metadata": {},
     "output_type": "display_data"
    },
    {
     "name": "stdout",
     "output_type": "stream",
     "text": [
      "\n",
      "--- Epoch 21/100 Summary ---\n",
      "  Train Loss: 0.5112 | Val Loss: 0.3873\n",
      "  Accuracy: 0.8761 | Weighted F1: 0.8782\n",
      "  Learning Rate: 0.000905\n"
     ]
    },
    {
     "data": {
      "application/vnd.jupyter.widget-view+json": {
       "model_id": "b8ed78d5e3c04c28bcb4b1c6ffffbf80",
       "version_major": 2,
       "version_minor": 0
      },
      "text/plain": [
       "Epoch 22/100 [Training]:   0%|          | 0/8300 [00:00<?, ?it/s]"
      ]
     },
     "metadata": {},
     "output_type": "display_data"
    },
    {
     "data": {
      "application/vnd.jupyter.widget-view+json": {
       "model_id": "56d60fc48dac447cb94b7e24f2bd8beb",
       "version_major": 2,
       "version_minor": 0
      },
      "text/plain": [
       "Epoch 22/100 [Validation]:   0%|          | 0/2075 [00:00<?, ?it/s]"
      ]
     },
     "metadata": {},
     "output_type": "display_data"
    },
    {
     "name": "stdout",
     "output_type": "stream",
     "text": [
      "\n",
      "--- Epoch 22/100 Summary ---\n",
      "  Train Loss: 0.5006 | Val Loss: 0.9908\n",
      "  Accuracy: 0.6863 | Weighted F1: 0.6707\n",
      "  Learning Rate: 0.000895\n"
     ]
    },
    {
     "data": {
      "application/vnd.jupyter.widget-view+json": {
       "model_id": "4adcc12ff5664ca3a698bdf3fa50ce86",
       "version_major": 2,
       "version_minor": 0
      },
      "text/plain": [
       "Epoch 23/100 [Training]:   0%|          | 0/8300 [00:00<?, ?it/s]"
      ]
     },
     "metadata": {},
     "output_type": "display_data"
    },
    {
     "data": {
      "application/vnd.jupyter.widget-view+json": {
       "model_id": "38106206aadf4723aceea4a7bce8eb27",
       "version_major": 2,
       "version_minor": 0
      },
      "text/plain": [
       "Epoch 23/100 [Validation]:   0%|          | 0/2075 [00:00<?, ?it/s]"
      ]
     },
     "metadata": {},
     "output_type": "display_data"
    },
    {
     "name": "stdout",
     "output_type": "stream",
     "text": [
      "\n",
      "--- Epoch 23/100 Summary ---\n",
      "  Train Loss: 0.4789 | Val Loss: 0.5771\n",
      "  Accuracy: 0.8233 | Weighted F1: 0.8191\n",
      "  Learning Rate: 0.000885\n"
     ]
    },
    {
     "data": {
      "application/vnd.jupyter.widget-view+json": {
       "model_id": "ddfce699336c46fd8cc5386d7ea2a7a6",
       "version_major": 2,
       "version_minor": 0
      },
      "text/plain": [
       "Epoch 24/100 [Training]:   0%|          | 0/8300 [00:00<?, ?it/s]"
      ]
     },
     "metadata": {},
     "output_type": "display_data"
    },
    {
     "data": {
      "application/vnd.jupyter.widget-view+json": {
       "model_id": "1640d1dc51b7405cb220b0ff7242b658",
       "version_major": 2,
       "version_minor": 0
      },
      "text/plain": [
       "Epoch 24/100 [Validation]:   0%|          | 0/2075 [00:00<?, ?it/s]"
      ]
     },
     "metadata": {},
     "output_type": "display_data"
    },
    {
     "name": "stdout",
     "output_type": "stream",
     "text": [
      "\n",
      "--- Epoch 24/100 Summary ---\n",
      "  Train Loss: 0.4733 | Val Loss: 0.2756\n",
      "  Accuracy: 0.9105 | Weighted F1: 0.9103\n",
      "  Learning Rate: 0.000875\n",
      "  => 🎉 New best model saved to 'D:\\Dataset\\checkpoints_med\\best_model.pth' (Weighted F1: 0.9103)\n",
      "\n"
     ]
    },
    {
     "data": {
      "application/vnd.jupyter.widget-view+json": {
       "model_id": "8afeebc3c454498c8b1405d982e3e3e8",
       "version_major": 2,
       "version_minor": 0
      },
      "text/plain": [
       "Epoch 25/100 [Training]:   0%|          | 0/8300 [00:00<?, ?it/s]"
      ]
     },
     "metadata": {},
     "output_type": "display_data"
    },
    {
     "data": {
      "application/vnd.jupyter.widget-view+json": {
       "model_id": "00325a0a42bb4bfc8afdb2d53b5e61a8",
       "version_major": 2,
       "version_minor": 0
      },
      "text/plain": [
       "Epoch 25/100 [Validation]:   0%|          | 0/2075 [00:00<?, ?it/s]"
      ]
     },
     "metadata": {},
     "output_type": "display_data"
    },
    {
     "name": "stdout",
     "output_type": "stream",
     "text": [
      "\n",
      "--- Epoch 25/100 Summary ---\n",
      "  Train Loss: 0.4685 | Val Loss: 0.4424\n",
      "  Accuracy: 0.8554 | Weighted F1: 0.8509\n",
      "  Learning Rate: 0.000864\n"
     ]
    },
    {
     "data": {
      "application/vnd.jupyter.widget-view+json": {
       "model_id": "7f33f778b6d24b8da893d3b8c9a6a441",
       "version_major": 2,
       "version_minor": 0
      },
      "text/plain": [
       "Epoch 26/100 [Training]:   0%|          | 0/8300 [00:00<?, ?it/s]"
      ]
     },
     "metadata": {},
     "output_type": "display_data"
    },
    {
     "data": {
      "application/vnd.jupyter.widget-view+json": {
       "model_id": "3e874a1038314dfe984e1a2440f4b6bf",
       "version_major": 2,
       "version_minor": 0
      },
      "text/plain": [
       "Epoch 26/100 [Validation]:   0%|          | 0/2075 [00:00<?, ?it/s]"
      ]
     },
     "metadata": {},
     "output_type": "display_data"
    },
    {
     "name": "stdout",
     "output_type": "stream",
     "text": [
      "\n",
      "--- Epoch 26/100 Summary ---\n",
      "  Train Loss: 0.4550 | Val Loss: 1.5417\n",
      "  Accuracy: 0.6013 | Weighted F1: 0.5759\n",
      "  Learning Rate: 0.000854\n"
     ]
    },
    {
     "data": {
      "application/vnd.jupyter.widget-view+json": {
       "model_id": "92f2cd2494584a62902230e841658505",
       "version_major": 2,
       "version_minor": 0
      },
      "text/plain": [
       "Epoch 27/100 [Training]:   0%|          | 0/8300 [00:00<?, ?it/s]"
      ]
     },
     "metadata": {},
     "output_type": "display_data"
    },
    {
     "data": {
      "application/vnd.jupyter.widget-view+json": {
       "model_id": "49c02e8a70bc40d1a6e286b9aa6eb26c",
       "version_major": 2,
       "version_minor": 0
      },
      "text/plain": [
       "Epoch 27/100 [Validation]:   0%|          | 0/2075 [00:00<?, ?it/s]"
      ]
     },
     "metadata": {},
     "output_type": "display_data"
    },
    {
     "name": "stdout",
     "output_type": "stream",
     "text": [
      "\n",
      "--- Epoch 27/100 Summary ---\n",
      "  Train Loss: 0.4520 | Val Loss: 0.2763\n",
      "  Accuracy: 0.9082 | Weighted F1: 0.9078\n",
      "  Learning Rate: 0.000842\n"
     ]
    },
    {
     "data": {
      "application/vnd.jupyter.widget-view+json": {
       "model_id": "2ce2b80743694364a9967b8519e9c634",
       "version_major": 2,
       "version_minor": 0
      },
      "text/plain": [
       "Epoch 28/100 [Training]:   0%|          | 0/8300 [00:00<?, ?it/s]"
      ]
     },
     "metadata": {},
     "output_type": "display_data"
    },
    {
     "data": {
      "application/vnd.jupyter.widget-view+json": {
       "model_id": "5b4b68fec5294a63ba2bc4b646bd8274",
       "version_major": 2,
       "version_minor": 0
      },
      "text/plain": [
       "Epoch 28/100 [Validation]:   0%|          | 0/2075 [00:00<?, ?it/s]"
      ]
     },
     "metadata": {},
     "output_type": "display_data"
    },
    {
     "name": "stdout",
     "output_type": "stream",
     "text": [
      "\n",
      "--- Epoch 28/100 Summary ---\n",
      "  Train Loss: 0.4472 | Val Loss: 0.3879\n",
      "  Accuracy: 0.8817 | Weighted F1: 0.8804\n",
      "  Learning Rate: 0.000831\n"
     ]
    },
    {
     "data": {
      "application/vnd.jupyter.widget-view+json": {
       "model_id": "1ebeb07246c54a1f9053b373a60b9705",
       "version_major": 2,
       "version_minor": 0
      },
      "text/plain": [
       "Epoch 29/100 [Training]:   0%|          | 0/8300 [00:00<?, ?it/s]"
      ]
     },
     "metadata": {},
     "output_type": "display_data"
    },
    {
     "data": {
      "application/vnd.jupyter.widget-view+json": {
       "model_id": "74380572f1bf4a2189a26d1f7e03a46f",
       "version_major": 2,
       "version_minor": 0
      },
      "text/plain": [
       "Epoch 29/100 [Validation]:   0%|          | 0/2075 [00:00<?, ?it/s]"
      ]
     },
     "metadata": {},
     "output_type": "display_data"
    },
    {
     "name": "stdout",
     "output_type": "stream",
     "text": [
      "\n",
      "--- Epoch 29/100 Summary ---\n",
      "  Train Loss: 0.4435 | Val Loss: 1.6267\n",
      "  Accuracy: 0.6328 | Weighted F1: 0.6087\n",
      "  Learning Rate: 0.000819\n"
     ]
    },
    {
     "data": {
      "application/vnd.jupyter.widget-view+json": {
       "model_id": "d7cf71f2ffc34644ba8b536f7d3242d2",
       "version_major": 2,
       "version_minor": 0
      },
      "text/plain": [
       "Epoch 30/100 [Training]:   0%|          | 0/8300 [00:00<?, ?it/s]"
      ]
     },
     "metadata": {},
     "output_type": "display_data"
    },
    {
     "data": {
      "application/vnd.jupyter.widget-view+json": {
       "model_id": "f581869de10d4f5ca7e8cd152e21ac51",
       "version_major": 2,
       "version_minor": 0
      },
      "text/plain": [
       "Epoch 30/100 [Validation]:   0%|          | 0/2075 [00:00<?, ?it/s]"
      ]
     },
     "metadata": {},
     "output_type": "display_data"
    },
    {
     "name": "stdout",
     "output_type": "stream",
     "text": [
      "\n",
      "--- Epoch 30/100 Summary ---\n",
      "  Train Loss: 0.4257 | Val Loss: 0.4775\n",
      "  Accuracy: 0.8500 | Weighted F1: 0.8521\n",
      "  Learning Rate: 0.000806\n"
     ]
    },
    {
     "data": {
      "application/vnd.jupyter.widget-view+json": {
       "model_id": "aea15bcf90a0439cb371218c0935db64",
       "version_major": 2,
       "version_minor": 0
      },
      "text/plain": [
       "Epoch 31/100 [Training]:   0%|          | 0/8300 [00:00<?, ?it/s]"
      ]
     },
     "metadata": {},
     "output_type": "display_data"
    },
    {
     "data": {
      "application/vnd.jupyter.widget-view+json": {
       "model_id": "de98958dbb964f69b8ddf57739c428ef",
       "version_major": 2,
       "version_minor": 0
      },
      "text/plain": [
       "Epoch 31/100 [Validation]:   0%|          | 0/2075 [00:00<?, ?it/s]"
      ]
     },
     "metadata": {},
     "output_type": "display_data"
    },
    {
     "name": "stdout",
     "output_type": "stream",
     "text": [
      "\n",
      "--- Epoch 31/100 Summary ---\n",
      "  Train Loss: 0.4190 | Val Loss: 0.3729\n",
      "  Accuracy: 0.8887 | Weighted F1: 0.8880\n",
      "  Learning Rate: 0.000794\n"
     ]
    },
    {
     "data": {
      "application/vnd.jupyter.widget-view+json": {
       "model_id": "b5fdd547566a40f581b513514c14e6e4",
       "version_major": 2,
       "version_minor": 0
      },
      "text/plain": [
       "Epoch 32/100 [Training]:   0%|          | 0/8300 [00:00<?, ?it/s]"
      ]
     },
     "metadata": {},
     "output_type": "display_data"
    },
    {
     "data": {
      "application/vnd.jupyter.widget-view+json": {
       "model_id": "06b9a85f7c25411e90d1a744e9c5fa22",
       "version_major": 2,
       "version_minor": 0
      },
      "text/plain": [
       "Epoch 32/100 [Validation]:   0%|          | 0/2075 [00:00<?, ?it/s]"
      ]
     },
     "metadata": {},
     "output_type": "display_data"
    },
    {
     "name": "stdout",
     "output_type": "stream",
     "text": [
      "\n",
      "--- Epoch 32/100 Summary ---\n",
      "  Train Loss: 0.4157 | Val Loss: 4.2916\n",
      "  Accuracy: 0.2970 | Weighted F1: 0.2783\n",
      "  Learning Rate: 0.000781\n"
     ]
    },
    {
     "data": {
      "application/vnd.jupyter.widget-view+json": {
       "model_id": "f346b6f62d9b4be7a69441e7d83f24d8",
       "version_major": 2,
       "version_minor": 0
      },
      "text/plain": [
       "Epoch 33/100 [Training]:   0%|          | 0/8300 [00:00<?, ?it/s]"
      ]
     },
     "metadata": {},
     "output_type": "display_data"
    },
    {
     "data": {
      "application/vnd.jupyter.widget-view+json": {
       "model_id": "3bc9de04262343169a22c6b0b29850ba",
       "version_major": 2,
       "version_minor": 0
      },
      "text/plain": [
       "Epoch 33/100 [Validation]:   0%|          | 0/2075 [00:00<?, ?it/s]"
      ]
     },
     "metadata": {},
     "output_type": "display_data"
    },
    {
     "name": "stdout",
     "output_type": "stream",
     "text": [
      "\n",
      "--- Epoch 33/100 Summary ---\n",
      "  Train Loss: 0.4133 | Val Loss: 0.3748\n",
      "  Accuracy: 0.8911 | Weighted F1: 0.8918\n",
      "  Learning Rate: 0.000768\n"
     ]
    },
    {
     "data": {
      "application/vnd.jupyter.widget-view+json": {
       "model_id": "15f08cb979fa4d6dbbae5aee5fc30fa3",
       "version_major": 2,
       "version_minor": 0
      },
      "text/plain": [
       "Epoch 34/100 [Training]:   0%|          | 0/8300 [00:00<?, ?it/s]"
      ]
     },
     "metadata": {},
     "output_type": "display_data"
    },
    {
     "data": {
      "application/vnd.jupyter.widget-view+json": {
       "model_id": "d2792f793d90424293b894148047e890",
       "version_major": 2,
       "version_minor": 0
      },
      "text/plain": [
       "Epoch 34/100 [Validation]:   0%|          | 0/2075 [00:00<?, ?it/s]"
      ]
     },
     "metadata": {},
     "output_type": "display_data"
    },
    {
     "name": "stdout",
     "output_type": "stream",
     "text": [
      "\n",
      "--- Epoch 34/100 Summary ---\n",
      "  Train Loss: 0.4023 | Val Loss: 0.3936\n",
      "  Accuracy: 0.8818 | Weighted F1: 0.8802\n",
      "  Learning Rate: 0.000755\n"
     ]
    },
    {
     "data": {
      "application/vnd.jupyter.widget-view+json": {
       "model_id": "6367024491174c54b5fa86a57c629f42",
       "version_major": 2,
       "version_minor": 0
      },
      "text/plain": [
       "Epoch 35/100 [Training]:   0%|          | 0/8300 [00:00<?, ?it/s]"
      ]
     },
     "metadata": {},
     "output_type": "display_data"
    },
    {
     "data": {
      "application/vnd.jupyter.widget-view+json": {
       "model_id": "8a81d7a6db1848059d97f61f94d27960",
       "version_major": 2,
       "version_minor": 0
      },
      "text/plain": [
       "Epoch 35/100 [Validation]:   0%|          | 0/2075 [00:00<?, ?it/s]"
      ]
     },
     "metadata": {},
     "output_type": "display_data"
    },
    {
     "name": "stdout",
     "output_type": "stream",
     "text": [
      "\n",
      "--- Epoch 35/100 Summary ---\n",
      "  Train Loss: 0.3887 | Val Loss: 0.6028\n",
      "  Accuracy: 0.8418 | Weighted F1: 0.8404\n",
      "  Learning Rate: 0.000741\n"
     ]
    },
    {
     "data": {
      "application/vnd.jupyter.widget-view+json": {
       "model_id": "586c4cf386134b4a9d9cb221c0ff22a3",
       "version_major": 2,
       "version_minor": 0
      },
      "text/plain": [
       "Epoch 36/100 [Training]:   0%|          | 0/8300 [00:00<?, ?it/s]"
      ]
     },
     "metadata": {},
     "output_type": "display_data"
    },
    {
     "data": {
      "application/vnd.jupyter.widget-view+json": {
       "model_id": "39842f36354d4f1daa617b139ba9c4ab",
       "version_major": 2,
       "version_minor": 0
      },
      "text/plain": [
       "Epoch 36/100 [Validation]:   0%|          | 0/2075 [00:00<?, ?it/s]"
      ]
     },
     "metadata": {},
     "output_type": "display_data"
    },
    {
     "name": "stdout",
     "output_type": "stream",
     "text": [
      "\n",
      "--- Epoch 36/100 Summary ---\n",
      "  Train Loss: 0.3870 | Val Loss: 0.3170\n",
      "  Accuracy: 0.9088 | Weighted F1: 0.9083\n",
      "  Learning Rate: 0.000727\n"
     ]
    },
    {
     "data": {
      "application/vnd.jupyter.widget-view+json": {
       "model_id": "51e91a2627cc4a3bb0d4eb21aab27b83",
       "version_major": 2,
       "version_minor": 0
      },
      "text/plain": [
       "Epoch 37/100 [Training]:   0%|          | 0/8300 [00:00<?, ?it/s]"
      ]
     },
     "metadata": {},
     "output_type": "display_data"
    },
    {
     "data": {
      "application/vnd.jupyter.widget-view+json": {
       "model_id": "70d6c3dbeb9443de962e47359c5c5ac8",
       "version_major": 2,
       "version_minor": 0
      },
      "text/plain": [
       "Epoch 37/100 [Validation]:   0%|          | 0/2075 [00:00<?, ?it/s]"
      ]
     },
     "metadata": {},
     "output_type": "display_data"
    },
    {
     "name": "stdout",
     "output_type": "stream",
     "text": [
      "\n",
      "--- Epoch 37/100 Summary ---\n",
      "  Train Loss: 0.3746 | Val Loss: 0.2955\n",
      "  Accuracy: 0.9137 | Weighted F1: 0.9132\n",
      "  Learning Rate: 0.000713\n",
      "  => 🎉 New best model saved to 'D:\\Dataset\\checkpoints_med\\best_model.pth' (Weighted F1: 0.9132)\n",
      "\n"
     ]
    },
    {
     "data": {
      "application/vnd.jupyter.widget-view+json": {
       "model_id": "2bfee3c358a043178f503c33240ad2a7",
       "version_major": 2,
       "version_minor": 0
      },
      "text/plain": [
       "Epoch 38/100 [Training]:   0%|          | 0/8300 [00:00<?, ?it/s]"
      ]
     },
     "metadata": {},
     "output_type": "display_data"
    },
    {
     "data": {
      "application/vnd.jupyter.widget-view+json": {
       "model_id": "d2cc79ad62fd4bf29903cd3481311bdc",
       "version_major": 2,
       "version_minor": 0
      },
      "text/plain": [
       "Epoch 38/100 [Validation]:   0%|          | 0/2075 [00:00<?, ?it/s]"
      ]
     },
     "metadata": {},
     "output_type": "display_data"
    },
    {
     "name": "stdout",
     "output_type": "stream",
     "text": [
      "\n",
      "--- Epoch 38/100 Summary ---\n",
      "  Train Loss: 0.3849 | Val Loss: 0.2918\n",
      "  Accuracy: 0.9128 | Weighted F1: 0.9125\n",
      "  Learning Rate: 0.000699\n"
     ]
    },
    {
     "data": {
      "application/vnd.jupyter.widget-view+json": {
       "model_id": "9d82f4718815461ab7e1c234940ceb65",
       "version_major": 2,
       "version_minor": 0
      },
      "text/plain": [
       "Epoch 39/100 [Training]:   0%|          | 0/8300 [00:00<?, ?it/s]"
      ]
     },
     "metadata": {},
     "output_type": "display_data"
    },
    {
     "data": {
      "application/vnd.jupyter.widget-view+json": {
       "model_id": "941059a6a11f4def9a2a27c0584e3ff1",
       "version_major": 2,
       "version_minor": 0
      },
      "text/plain": [
       "Epoch 39/100 [Validation]:   0%|          | 0/2075 [00:00<?, ?it/s]"
      ]
     },
     "metadata": {},
     "output_type": "display_data"
    },
    {
     "name": "stdout",
     "output_type": "stream",
     "text": [
      "\n",
      "--- Epoch 39/100 Summary ---\n",
      "  Train Loss: 0.3688 | Val Loss: 0.4397\n",
      "  Accuracy: 0.8788 | Weighted F1: 0.8777\n",
      "  Learning Rate: 0.000684\n"
     ]
    },
    {
     "data": {
      "application/vnd.jupyter.widget-view+json": {
       "model_id": "2f8ddc7a070049c6a32c38433ab5158f",
       "version_major": 2,
       "version_minor": 0
      },
      "text/plain": [
       "Epoch 40/100 [Training]:   0%|          | 0/8300 [00:00<?, ?it/s]"
      ]
     },
     "metadata": {},
     "output_type": "display_data"
    },
    {
     "data": {
      "application/vnd.jupyter.widget-view+json": {
       "model_id": "b569fb7874fa4a08a56ea2515e3d8654",
       "version_major": 2,
       "version_minor": 0
      },
      "text/plain": [
       "Epoch 40/100 [Validation]:   0%|          | 0/2075 [00:00<?, ?it/s]"
      ]
     },
     "metadata": {},
     "output_type": "display_data"
    },
    {
     "name": "stdout",
     "output_type": "stream",
     "text": [
      "\n",
      "--- Epoch 40/100 Summary ---\n",
      "  Train Loss: 0.3728 | Val Loss: 0.3034\n",
      "  Accuracy: 0.9075 | Weighted F1: 0.9068\n",
      "  Learning Rate: 0.000669\n"
     ]
    },
    {
     "data": {
      "application/vnd.jupyter.widget-view+json": {
       "model_id": "e1a6700dfa6149289042ebea4d6568f6",
       "version_major": 2,
       "version_minor": 0
      },
      "text/plain": [
       "Epoch 41/100 [Training]:   0%|          | 0/8300 [00:00<?, ?it/s]"
      ]
     },
     "metadata": {},
     "output_type": "display_data"
    },
    {
     "data": {
      "application/vnd.jupyter.widget-view+json": {
       "model_id": "8e9156d925ef451cba1c6e5f78dbf773",
       "version_major": 2,
       "version_minor": 0
      },
      "text/plain": [
       "Epoch 41/100 [Validation]:   0%|          | 0/2075 [00:00<?, ?it/s]"
      ]
     },
     "metadata": {},
     "output_type": "display_data"
    },
    {
     "name": "stdout",
     "output_type": "stream",
     "text": [
      "\n",
      "--- Epoch 41/100 Summary ---\n",
      "  Train Loss: 0.3637 | Val Loss: 2.5573\n",
      "  Accuracy: 0.5080 | Weighted F1: 0.4688\n",
      "  Learning Rate: 0.000655\n"
     ]
    },
    {
     "data": {
      "application/vnd.jupyter.widget-view+json": {
       "model_id": "ae89897ba4b84d9c81dfc171cd1ea468",
       "version_major": 2,
       "version_minor": 0
      },
      "text/plain": [
       "Epoch 42/100 [Training]:   0%|          | 0/8300 [00:00<?, ?it/s]"
      ]
     },
     "metadata": {},
     "output_type": "display_data"
    },
    {
     "data": {
      "application/vnd.jupyter.widget-view+json": {
       "model_id": "935ac67c34db44ed90a4c179b300c1f1",
       "version_major": 2,
       "version_minor": 0
      },
      "text/plain": [
       "Epoch 42/100 [Validation]:   0%|          | 0/2075 [00:00<?, ?it/s]"
      ]
     },
     "metadata": {},
     "output_type": "display_data"
    },
    {
     "name": "stdout",
     "output_type": "stream",
     "text": [
      "\n",
      "--- Epoch 42/100 Summary ---\n",
      "  Train Loss: 0.3610 | Val Loss: 0.3699\n",
      "  Accuracy: 0.8987 | Weighted F1: 0.8971\n",
      "  Learning Rate: 0.000639\n"
     ]
    },
    {
     "data": {
      "application/vnd.jupyter.widget-view+json": {
       "model_id": "271891123a124132938541502d0ffdc0",
       "version_major": 2,
       "version_minor": 0
      },
      "text/plain": [
       "Epoch 43/100 [Training]:   0%|          | 0/8300 [00:00<?, ?it/s]"
      ]
     },
     "metadata": {},
     "output_type": "display_data"
    },
    {
     "data": {
      "application/vnd.jupyter.widget-view+json": {
       "model_id": "5f39add22ebf45a787ab674bd26e5e48",
       "version_major": 2,
       "version_minor": 0
      },
      "text/plain": [
       "Epoch 43/100 [Validation]:   0%|          | 0/2075 [00:00<?, ?it/s]"
      ]
     },
     "metadata": {},
     "output_type": "display_data"
    },
    {
     "name": "stdout",
     "output_type": "stream",
     "text": [
      "\n",
      "--- Epoch 43/100 Summary ---\n",
      "  Train Loss: 0.3612 | Val Loss: 0.3763\n",
      "  Accuracy: 0.8978 | Weighted F1: 0.8968\n",
      "  Learning Rate: 0.000624\n"
     ]
    },
    {
     "data": {
      "application/vnd.jupyter.widget-view+json": {
       "model_id": "8bac1b4903414ec9a5eba1dc40a3f9b4",
       "version_major": 2,
       "version_minor": 0
      },
      "text/plain": [
       "Epoch 44/100 [Training]:   0%|          | 0/8300 [00:00<?, ?it/s]"
      ]
     },
     "metadata": {},
     "output_type": "display_data"
    },
    {
     "data": {
      "application/vnd.jupyter.widget-view+json": {
       "model_id": "7ee5ee84e5bb44f4bd8d9a714e0b80c5",
       "version_major": 2,
       "version_minor": 0
      },
      "text/plain": [
       "Epoch 44/100 [Validation]:   0%|          | 0/2075 [00:00<?, ?it/s]"
      ]
     },
     "metadata": {},
     "output_type": "display_data"
    },
    {
     "name": "stdout",
     "output_type": "stream",
     "text": [
      "\n",
      "--- Epoch 44/100 Summary ---\n",
      "  Train Loss: 0.3530 | Val Loss: 0.3258\n",
      "  Accuracy: 0.9148 | Weighted F1: 0.9141\n",
      "  Learning Rate: 0.000609\n",
      "  => 🎉 New best model saved to 'D:\\Dataset\\checkpoints_med\\best_model.pth' (Weighted F1: 0.9141)\n",
      "\n"
     ]
    },
    {
     "data": {
      "application/vnd.jupyter.widget-view+json": {
       "model_id": "38a7e5855074496697b1be2fd3738be7",
       "version_major": 2,
       "version_minor": 0
      },
      "text/plain": [
       "Epoch 45/100 [Training]:   0%|          | 0/8300 [00:00<?, ?it/s]"
      ]
     },
     "metadata": {},
     "output_type": "display_data"
    },
    {
     "data": {
      "application/vnd.jupyter.widget-view+json": {
       "model_id": "f06dc0de46a648acb20be64053f2d01f",
       "version_major": 2,
       "version_minor": 0
      },
      "text/plain": [
       "Epoch 45/100 [Validation]:   0%|          | 0/2075 [00:00<?, ?it/s]"
      ]
     },
     "metadata": {},
     "output_type": "display_data"
    },
    {
     "name": "stdout",
     "output_type": "stream",
     "text": [
      "\n",
      "--- Epoch 45/100 Summary ---\n",
      "  Train Loss: 0.3457 | Val Loss: 0.3570\n",
      "  Accuracy: 0.9057 | Weighted F1: 0.9046\n",
      "  Learning Rate: 0.000594\n"
     ]
    },
    {
     "data": {
      "application/vnd.jupyter.widget-view+json": {
       "model_id": "dfc3b6ef30a74867b36f94152eb1562b",
       "version_major": 2,
       "version_minor": 0
      },
      "text/plain": [
       "Epoch 46/100 [Training]:   0%|          | 0/8300 [00:00<?, ?it/s]"
      ]
     },
     "metadata": {},
     "output_type": "display_data"
    },
    {
     "data": {
      "application/vnd.jupyter.widget-view+json": {
       "model_id": "bcb463e7dda544688481d33b3f6f0bdf",
       "version_major": 2,
       "version_minor": 0
      },
      "text/plain": [
       "Epoch 46/100 [Validation]:   0%|          | 0/2075 [00:00<?, ?it/s]"
      ]
     },
     "metadata": {},
     "output_type": "display_data"
    },
    {
     "name": "stdout",
     "output_type": "stream",
     "text": [
      "\n",
      "--- Epoch 46/100 Summary ---\n",
      "  Train Loss: 0.3486 | Val Loss: 0.4746\n",
      "  Accuracy: 0.8705 | Weighted F1: 0.8685\n",
      "  Learning Rate: 0.000578\n"
     ]
    },
    {
     "data": {
      "application/vnd.jupyter.widget-view+json": {
       "model_id": "6b882b50e000468e849335f42d612466",
       "version_major": 2,
       "version_minor": 0
      },
      "text/plain": [
       "Epoch 47/100 [Training]:   0%|          | 0/8300 [00:00<?, ?it/s]"
      ]
     },
     "metadata": {},
     "output_type": "display_data"
    },
    {
     "data": {
      "application/vnd.jupyter.widget-view+json": {
       "model_id": "22cf95d4414c40dc96608f3cc90b3260",
       "version_major": 2,
       "version_minor": 0
      },
      "text/plain": [
       "Epoch 47/100 [Validation]:   0%|          | 0/2075 [00:00<?, ?it/s]"
      ]
     },
     "metadata": {},
     "output_type": "display_data"
    },
    {
     "name": "stdout",
     "output_type": "stream",
     "text": [
      "\n",
      "--- Epoch 47/100 Summary ---\n",
      "  Train Loss: 0.3249 | Val Loss: 0.3734\n",
      "  Accuracy: 0.8999 | Weighted F1: 0.8999\n",
      "  Learning Rate: 0.000563\n"
     ]
    },
    {
     "data": {
      "application/vnd.jupyter.widget-view+json": {
       "model_id": "3646edf492574e25b49977d904f33dda",
       "version_major": 2,
       "version_minor": 0
      },
      "text/plain": [
       "Epoch 48/100 [Training]:   0%|          | 0/8300 [00:00<?, ?it/s]"
      ]
     },
     "metadata": {},
     "output_type": "display_data"
    },
    {
     "data": {
      "application/vnd.jupyter.widget-view+json": {
       "model_id": "4514477462f642379d895285fc30b533",
       "version_major": 2,
       "version_minor": 0
      },
      "text/plain": [
       "Epoch 48/100 [Validation]:   0%|          | 0/2075 [00:00<?, ?it/s]"
      ]
     },
     "metadata": {},
     "output_type": "display_data"
    },
    {
     "name": "stdout",
     "output_type": "stream",
     "text": [
      "\n",
      "--- Epoch 48/100 Summary ---\n",
      "  Train Loss: 0.3327 | Val Loss: 0.3125\n",
      "  Accuracy: 0.9151 | Weighted F1: 0.9148\n",
      "  Learning Rate: 0.000547\n",
      "  => 🎉 New best model saved to 'D:\\Dataset\\checkpoints_med\\best_model.pth' (Weighted F1: 0.9148)\n",
      "\n"
     ]
    },
    {
     "data": {
      "application/vnd.jupyter.widget-view+json": {
       "model_id": "8a30a6b8ff5e4fac846c6b496e4f0e9a",
       "version_major": 2,
       "version_minor": 0
      },
      "text/plain": [
       "Epoch 49/100 [Training]:   0%|          | 0/8300 [00:00<?, ?it/s]"
      ]
     },
     "metadata": {},
     "output_type": "display_data"
    },
    {
     "data": {
      "application/vnd.jupyter.widget-view+json": {
       "model_id": "7e64a019a5b54f3aaae3a42bbe5fa425",
       "version_major": 2,
       "version_minor": 0
      },
      "text/plain": [
       "Epoch 49/100 [Validation]:   0%|          | 0/2075 [00:00<?, ?it/s]"
      ]
     },
     "metadata": {},
     "output_type": "display_data"
    },
    {
     "name": "stdout",
     "output_type": "stream",
     "text": [
      "\n",
      "--- Epoch 49/100 Summary ---\n",
      "  Train Loss: 0.3223 | Val Loss: 0.3914\n",
      "  Accuracy: 0.8973 | Weighted F1: 0.8961\n",
      "  Learning Rate: 0.000531\n"
     ]
    },
    {
     "data": {
      "application/vnd.jupyter.widget-view+json": {
       "model_id": "b00f845d13974c9a92a58bddec6dafd9",
       "version_major": 2,
       "version_minor": 0
      },
      "text/plain": [
       "Epoch 50/100 [Training]:   0%|          | 0/8300 [00:00<?, ?it/s]"
      ]
     },
     "metadata": {},
     "output_type": "display_data"
    },
    {
     "data": {
      "application/vnd.jupyter.widget-view+json": {
       "model_id": "590d9f780d8f40b8828d630e90ad5205",
       "version_major": 2,
       "version_minor": 0
      },
      "text/plain": [
       "Epoch 50/100 [Validation]:   0%|          | 0/2075 [00:00<?, ?it/s]"
      ]
     },
     "metadata": {},
     "output_type": "display_data"
    },
    {
     "name": "stdout",
     "output_type": "stream",
     "text": [
      "\n",
      "--- Epoch 50/100 Summary ---\n",
      "  Train Loss: 0.3294 | Val Loss: 0.3229\n",
      "  Accuracy: 0.9144 | Weighted F1: 0.9137\n",
      "  Learning Rate: 0.000516\n"
     ]
    },
    {
     "data": {
      "application/vnd.jupyter.widget-view+json": {
       "model_id": "345fbe961a5245a4a5800f6ed94687cb",
       "version_major": 2,
       "version_minor": 0
      },
      "text/plain": [
       "Epoch 51/100 [Training]:   0%|          | 0/8300 [00:00<?, ?it/s]"
      ]
     },
     "metadata": {},
     "output_type": "display_data"
    },
    {
     "data": {
      "application/vnd.jupyter.widget-view+json": {
       "model_id": "07b2ef10b57f42e58fcfd2dea793fbc0",
       "version_major": 2,
       "version_minor": 0
      },
      "text/plain": [
       "Epoch 51/100 [Validation]:   0%|          | 0/2075 [00:00<?, ?it/s]"
      ]
     },
     "metadata": {},
     "output_type": "display_data"
    },
    {
     "name": "stdout",
     "output_type": "stream",
     "text": [
      "\n",
      "--- Epoch 51/100 Summary ---\n",
      "  Train Loss: 0.3214 | Val Loss: 0.3165\n",
      "  Accuracy: 0.9123 | Weighted F1: 0.9118\n",
      "  Learning Rate: 0.000500\n"
     ]
    },
    {
     "data": {
      "application/vnd.jupyter.widget-view+json": {
       "model_id": "0816e397b457441ebfef46c27dfa6b77",
       "version_major": 2,
       "version_minor": 0
      },
      "text/plain": [
       "Epoch 52/100 [Training]:   0%|          | 0/8300 [00:00<?, ?it/s]"
      ]
     },
     "metadata": {},
     "output_type": "display_data"
    },
    {
     "data": {
      "application/vnd.jupyter.widget-view+json": {
       "model_id": "2a56f6facda6460e96545ec841313bf2",
       "version_major": 2,
       "version_minor": 0
      },
      "text/plain": [
       "Epoch 52/100 [Validation]:   0%|          | 0/2075 [00:00<?, ?it/s]"
      ]
     },
     "metadata": {},
     "output_type": "display_data"
    },
    {
     "name": "stdout",
     "output_type": "stream",
     "text": [
      "\n",
      "--- Epoch 52/100 Summary ---\n",
      "  Train Loss: 0.3316 | Val Loss: 0.3264\n",
      "  Accuracy: 0.9183 | Weighted F1: 0.9182\n",
      "  Learning Rate: 0.000484\n",
      "  => 🎉 New best model saved to 'D:\\Dataset\\checkpoints_med\\best_model.pth' (Weighted F1: 0.9182)\n",
      "\n"
     ]
    },
    {
     "data": {
      "application/vnd.jupyter.widget-view+json": {
       "model_id": "fa4789872f4146f384724126b2bc5033",
       "version_major": 2,
       "version_minor": 0
      },
      "text/plain": [
       "Epoch 53/100 [Training]:   0%|          | 0/8300 [00:00<?, ?it/s]"
      ]
     },
     "metadata": {},
     "output_type": "display_data"
    },
    {
     "data": {
      "application/vnd.jupyter.widget-view+json": {
       "model_id": "01dc8efaf42847d99d30eaeb51a673ea",
       "version_major": 2,
       "version_minor": 0
      },
      "text/plain": [
       "Epoch 53/100 [Validation]:   0%|          | 0/2075 [00:00<?, ?it/s]"
      ]
     },
     "metadata": {},
     "output_type": "display_data"
    },
    {
     "name": "stdout",
     "output_type": "stream",
     "text": [
      "\n",
      "--- Epoch 53/100 Summary ---\n",
      "  Train Loss: 0.3263 | Val Loss: 0.3582\n",
      "  Accuracy: 0.9178 | Weighted F1: 0.9178\n",
      "  Learning Rate: 0.000469\n"
     ]
    },
    {
     "data": {
      "application/vnd.jupyter.widget-view+json": {
       "model_id": "e97299df4aa14641aff034ff140be70e",
       "version_major": 2,
       "version_minor": 0
      },
      "text/plain": [
       "Epoch 54/100 [Training]:   0%|          | 0/8300 [00:00<?, ?it/s]"
      ]
     },
     "metadata": {},
     "output_type": "display_data"
    },
    {
     "data": {
      "application/vnd.jupyter.widget-view+json": {
       "model_id": "a531439de51a45c09cbcbbcb4f0b17e8",
       "version_major": 2,
       "version_minor": 0
      },
      "text/plain": [
       "Epoch 54/100 [Validation]:   0%|          | 0/2075 [00:00<?, ?it/s]"
      ]
     },
     "metadata": {},
     "output_type": "display_data"
    },
    {
     "name": "stdout",
     "output_type": "stream",
     "text": [
      "\n",
      "--- Epoch 54/100 Summary ---\n",
      "  Train Loss: 0.3220 | Val Loss: 0.3661\n",
      "  Accuracy: 0.9096 | Weighted F1: 0.9089\n",
      "  Learning Rate: 0.000453\n"
     ]
    },
    {
     "data": {
      "application/vnd.jupyter.widget-view+json": {
       "model_id": "c9d4a9ff86784b7c856a62bb8ee1870e",
       "version_major": 2,
       "version_minor": 0
      },
      "text/plain": [
       "Epoch 55/100 [Training]:   0%|          | 0/8300 [00:00<?, ?it/s]"
      ]
     },
     "metadata": {},
     "output_type": "display_data"
    },
    {
     "data": {
      "application/vnd.jupyter.widget-view+json": {
       "model_id": "7b95ce2acfe04e0ca11d60b0bc0f9b59",
       "version_major": 2,
       "version_minor": 0
      },
      "text/plain": [
       "Epoch 55/100 [Validation]:   0%|          | 0/2075 [00:00<?, ?it/s]"
      ]
     },
     "metadata": {},
     "output_type": "display_data"
    },
    {
     "name": "stdout",
     "output_type": "stream",
     "text": [
      "\n",
      "--- Epoch 55/100 Summary ---\n",
      "  Train Loss: 0.3200 | Val Loss: 0.3742\n",
      "  Accuracy: 0.9160 | Weighted F1: 0.9156\n",
      "  Learning Rate: 0.000437\n"
     ]
    },
    {
     "data": {
      "application/vnd.jupyter.widget-view+json": {
       "model_id": "f31f0cd306c9494485af76f1d8cb1d79",
       "version_major": 2,
       "version_minor": 0
      },
      "text/plain": [
       "Epoch 56/100 [Training]:   0%|          | 0/8300 [00:00<?, ?it/s]"
      ]
     },
     "metadata": {},
     "output_type": "display_data"
    },
    {
     "data": {
      "application/vnd.jupyter.widget-view+json": {
       "model_id": "57dab1edebe941d685dbc82c5d15b35d",
       "version_major": 2,
       "version_minor": 0
      },
      "text/plain": [
       "Epoch 56/100 [Validation]:   0%|          | 0/2075 [00:00<?, ?it/s]"
      ]
     },
     "metadata": {},
     "output_type": "display_data"
    },
    {
     "name": "stdout",
     "output_type": "stream",
     "text": [
      "\n",
      "--- Epoch 56/100 Summary ---\n",
      "  Train Loss: 0.3165 | Val Loss: 3.0618\n",
      "  Accuracy: 0.4280 | Weighted F1: 0.4041\n",
      "  Learning Rate: 0.000422\n"
     ]
    },
    {
     "data": {
      "application/vnd.jupyter.widget-view+json": {
       "model_id": "fe4f91cb12684e709a839c3a75980baa",
       "version_major": 2,
       "version_minor": 0
      },
      "text/plain": [
       "Epoch 57/100 [Training]:   0%|          | 0/8300 [00:00<?, ?it/s]"
      ]
     },
     "metadata": {},
     "output_type": "display_data"
    },
    {
     "data": {
      "application/vnd.jupyter.widget-view+json": {
       "model_id": "4b09b08f3b8743978227a72a4f017730",
       "version_major": 2,
       "version_minor": 0
      },
      "text/plain": [
       "Epoch 57/100 [Validation]:   0%|          | 0/2075 [00:00<?, ?it/s]"
      ]
     },
     "metadata": {},
     "output_type": "display_data"
    },
    {
     "name": "stdout",
     "output_type": "stream",
     "text": [
      "\n",
      "--- Epoch 57/100 Summary ---\n",
      "  Train Loss: 0.3218 | Val Loss: 0.3406\n",
      "  Accuracy: 0.9159 | Weighted F1: 0.9160\n",
      "  Learning Rate: 0.000406\n"
     ]
    },
    {
     "data": {
      "application/vnd.jupyter.widget-view+json": {
       "model_id": "7f8948b3084349a5bd86dc8b87b037c4",
       "version_major": 2,
       "version_minor": 0
      },
      "text/plain": [
       "Epoch 58/100 [Training]:   0%|          | 0/8300 [00:00<?, ?it/s]"
      ]
     },
     "metadata": {},
     "output_type": "display_data"
    },
    {
     "data": {
      "application/vnd.jupyter.widget-view+json": {
       "model_id": "94b28d2c964748beb33c1c7155cf2029",
       "version_major": 2,
       "version_minor": 0
      },
      "text/plain": [
       "Epoch 58/100 [Validation]:   0%|          | 0/2075 [00:00<?, ?it/s]"
      ]
     },
     "metadata": {},
     "output_type": "display_data"
    },
    {
     "name": "stdout",
     "output_type": "stream",
     "text": [
      "\n",
      "--- Epoch 58/100 Summary ---\n",
      "  Train Loss: 0.3210 | Val Loss: 0.3412\n",
      "  Accuracy: 0.9206 | Weighted F1: 0.9201\n",
      "  Learning Rate: 0.000391\n",
      "  => 🎉 New best model saved to 'D:\\Dataset\\checkpoints_med\\best_model.pth' (Weighted F1: 0.9201)\n",
      "\n"
     ]
    },
    {
     "data": {
      "application/vnd.jupyter.widget-view+json": {
       "model_id": "cbf2a9f72b054ed5bb8c4e8ad35208b4",
       "version_major": 2,
       "version_minor": 0
      },
      "text/plain": [
       "Epoch 59/100 [Training]:   0%|          | 0/8300 [00:00<?, ?it/s]"
      ]
     },
     "metadata": {},
     "output_type": "display_data"
    },
    {
     "data": {
      "application/vnd.jupyter.widget-view+json": {
       "model_id": "7a25a10eeaab47e28759f60629a36caf",
       "version_major": 2,
       "version_minor": 0
      },
      "text/plain": [
       "Epoch 59/100 [Validation]:   0%|          | 0/2075 [00:00<?, ?it/s]"
      ]
     },
     "metadata": {},
     "output_type": "display_data"
    },
    {
     "name": "stdout",
     "output_type": "stream",
     "text": [
      "\n",
      "--- Epoch 59/100 Summary ---\n",
      "  Train Loss: 0.3117 | Val Loss: 0.3426\n",
      "  Accuracy: 0.9135 | Weighted F1: 0.9134\n",
      "  Learning Rate: 0.000376\n"
     ]
    },
    {
     "data": {
      "application/vnd.jupyter.widget-view+json": {
       "model_id": "1afff047645647bba7a5b5abf2b9a195",
       "version_major": 2,
       "version_minor": 0
      },
      "text/plain": [
       "Epoch 60/100 [Training]:   0%|          | 0/8300 [00:00<?, ?it/s]"
      ]
     },
     "metadata": {},
     "output_type": "display_data"
    },
    {
     "data": {
      "application/vnd.jupyter.widget-view+json": {
       "model_id": "d98b5dd7d8524af3ab83236ae298388b",
       "version_major": 2,
       "version_minor": 0
      },
      "text/plain": [
       "Epoch 60/100 [Validation]:   0%|          | 0/2075 [00:00<?, ?it/s]"
      ]
     },
     "metadata": {},
     "output_type": "display_data"
    },
    {
     "name": "stdout",
     "output_type": "stream",
     "text": [
      "\n",
      "--- Epoch 60/100 Summary ---\n",
      "  Train Loss: 0.3100 | Val Loss: 0.3390\n",
      "  Accuracy: 0.9210 | Weighted F1: 0.9209\n",
      "  Learning Rate: 0.000361\n",
      "  => 🎉 New best model saved to 'D:\\Dataset\\checkpoints_med\\best_model.pth' (Weighted F1: 0.9209)\n",
      "\n"
     ]
    },
    {
     "data": {
      "application/vnd.jupyter.widget-view+json": {
       "model_id": "8339fc1dd3e342028aef6e311cca9d2d",
       "version_major": 2,
       "version_minor": 0
      },
      "text/plain": [
       "Epoch 61/100 [Training]:   0%|          | 0/8300 [00:00<?, ?it/s]"
      ]
     },
     "metadata": {},
     "output_type": "display_data"
    },
    {
     "data": {
      "application/vnd.jupyter.widget-view+json": {
       "model_id": "7fe44a0987e84772a5b5b28534f31317",
       "version_major": 2,
       "version_minor": 0
      },
      "text/plain": [
       "Epoch 61/100 [Validation]:   0%|          | 0/2075 [00:00<?, ?it/s]"
      ]
     },
     "metadata": {},
     "output_type": "display_data"
    },
    {
     "name": "stdout",
     "output_type": "stream",
     "text": [
      "\n",
      "--- Epoch 61/100 Summary ---\n",
      "  Train Loss: 0.2999 | Val Loss: 0.3199\n",
      "  Accuracy: 0.9221 | Weighted F1: 0.9219\n",
      "  Learning Rate: 0.000345\n",
      "  => 🎉 New best model saved to 'D:\\Dataset\\checkpoints_med\\best_model.pth' (Weighted F1: 0.9219)\n",
      "\n"
     ]
    },
    {
     "data": {
      "application/vnd.jupyter.widget-view+json": {
       "model_id": "97e73d903bd247f4a1bda2672589e4cd",
       "version_major": 2,
       "version_minor": 0
      },
      "text/plain": [
       "Epoch 62/100 [Training]:   0%|          | 0/8300 [00:00<?, ?it/s]"
      ]
     },
     "metadata": {},
     "output_type": "display_data"
    },
    {
     "data": {
      "application/vnd.jupyter.widget-view+json": {
       "model_id": "d06836a10b1a480abe9fa6da37e8d330",
       "version_major": 2,
       "version_minor": 0
      },
      "text/plain": [
       "Epoch 62/100 [Validation]:   0%|          | 0/2075 [00:00<?, ?it/s]"
      ]
     },
     "metadata": {},
     "output_type": "display_data"
    },
    {
     "name": "stdout",
     "output_type": "stream",
     "text": [
      "\n",
      "--- Epoch 62/100 Summary ---\n",
      "  Train Loss: 0.2978 | Val Loss: 0.3492\n",
      "  Accuracy: 0.9201 | Weighted F1: 0.9198\n",
      "  Learning Rate: 0.000331\n"
     ]
    },
    {
     "data": {
      "application/vnd.jupyter.widget-view+json": {
       "model_id": "c207421876724980aadc11057101d1a7",
       "version_major": 2,
       "version_minor": 0
      },
      "text/plain": [
       "Epoch 63/100 [Training]:   0%|          | 0/8300 [00:00<?, ?it/s]"
      ]
     },
     "metadata": {},
     "output_type": "display_data"
    },
    {
     "data": {
      "application/vnd.jupyter.widget-view+json": {
       "model_id": "fa2bd4df325e4b41a8343f28fa7bc51b",
       "version_major": 2,
       "version_minor": 0
      },
      "text/plain": [
       "Epoch 63/100 [Validation]:   0%|          | 0/2075 [00:00<?, ?it/s]"
      ]
     },
     "metadata": {},
     "output_type": "display_data"
    },
    {
     "name": "stdout",
     "output_type": "stream",
     "text": [
      "\n",
      "--- Epoch 63/100 Summary ---\n",
      "  Train Loss: 0.3132 | Val Loss: 0.3814\n",
      "  Accuracy: 0.9163 | Weighted F1: 0.9159\n",
      "  Learning Rate: 0.000316\n"
     ]
    },
    {
     "data": {
      "application/vnd.jupyter.widget-view+json": {
       "model_id": "3ff8c92c757242f98718f53e8f96ad33",
       "version_major": 2,
       "version_minor": 0
      },
      "text/plain": [
       "Epoch 64/100 [Training]:   0%|          | 0/8300 [00:00<?, ?it/s]"
      ]
     },
     "metadata": {},
     "output_type": "display_data"
    },
    {
     "data": {
      "application/vnd.jupyter.widget-view+json": {
       "model_id": "8ce9ed3bac5444e18c0442b8b9dd48cb",
       "version_major": 2,
       "version_minor": 0
      },
      "text/plain": [
       "Epoch 64/100 [Validation]:   0%|          | 0/2075 [00:00<?, ?it/s]"
      ]
     },
     "metadata": {},
     "output_type": "display_data"
    },
    {
     "name": "stdout",
     "output_type": "stream",
     "text": [
      "\n",
      "--- Epoch 64/100 Summary ---\n",
      "  Train Loss: 0.2968 | Val Loss: 0.5049\n",
      "  Accuracy: 0.8811 | Weighted F1: 0.8796\n",
      "  Learning Rate: 0.000301\n"
     ]
    },
    {
     "data": {
      "application/vnd.jupyter.widget-view+json": {
       "model_id": "98d9bda1968a4899a1f609b5360606f1",
       "version_major": 2,
       "version_minor": 0
      },
      "text/plain": [
       "Epoch 65/100 [Training]:   0%|          | 0/8300 [00:00<?, ?it/s]"
      ]
     },
     "metadata": {},
     "output_type": "display_data"
    },
    {
     "data": {
      "application/vnd.jupyter.widget-view+json": {
       "model_id": "ec59a6e6c33b4c4e9ff833e6f0793586",
       "version_major": 2,
       "version_minor": 0
      },
      "text/plain": [
       "Epoch 65/100 [Validation]:   0%|          | 0/2075 [00:00<?, ?it/s]"
      ]
     },
     "metadata": {},
     "output_type": "display_data"
    },
    {
     "name": "stdout",
     "output_type": "stream",
     "text": [
      "\n",
      "--- Epoch 65/100 Summary ---\n",
      "  Train Loss: 0.2914 | Val Loss: 0.3554\n",
      "  Accuracy: 0.9178 | Weighted F1: 0.9169\n",
      "  Learning Rate: 0.000287\n"
     ]
    },
    {
     "data": {
      "application/vnd.jupyter.widget-view+json": {
       "model_id": "d0daf730e28f4d388302219cdd8dcb90",
       "version_major": 2,
       "version_minor": 0
      },
      "text/plain": [
       "Epoch 66/100 [Training]:   0%|          | 0/8300 [00:00<?, ?it/s]"
      ]
     },
     "metadata": {},
     "output_type": "display_data"
    },
    {
     "data": {
      "application/vnd.jupyter.widget-view+json": {
       "model_id": "6c2bed7d3d554c49a5aaef24aad79d14",
       "version_major": 2,
       "version_minor": 0
      },
      "text/plain": [
       "Epoch 66/100 [Validation]:   0%|          | 0/2075 [00:00<?, ?it/s]"
      ]
     },
     "metadata": {},
     "output_type": "display_data"
    },
    {
     "name": "stdout",
     "output_type": "stream",
     "text": [
      "\n",
      "--- Epoch 66/100 Summary ---\n",
      "  Train Loss: 0.2917 | Val Loss: 0.3481\n",
      "  Accuracy: 0.9215 | Weighted F1: 0.9215\n",
      "  Learning Rate: 0.000273\n"
     ]
    },
    {
     "data": {
      "application/vnd.jupyter.widget-view+json": {
       "model_id": "e2474a1e1c714a9fad9c1d928f4683cb",
       "version_major": 2,
       "version_minor": 0
      },
      "text/plain": [
       "Epoch 67/100 [Training]:   0%|          | 0/8300 [00:00<?, ?it/s]"
      ]
     },
     "metadata": {},
     "output_type": "display_data"
    },
    {
     "data": {
      "application/vnd.jupyter.widget-view+json": {
       "model_id": "4d6ae3b9c9bb49a3a6abf0e12da67e6d",
       "version_major": 2,
       "version_minor": 0
      },
      "text/plain": [
       "Epoch 67/100 [Validation]:   0%|          | 0/2075 [00:00<?, ?it/s]"
      ]
     },
     "metadata": {},
     "output_type": "display_data"
    },
    {
     "name": "stdout",
     "output_type": "stream",
     "text": [
      "\n",
      "--- Epoch 67/100 Summary ---\n",
      "  Train Loss: 0.3007 | Val Loss: 0.3454\n",
      "  Accuracy: 0.9216 | Weighted F1: 0.9212\n",
      "  Learning Rate: 0.000259\n"
     ]
    },
    {
     "data": {
      "application/vnd.jupyter.widget-view+json": {
       "model_id": "1aeefb9a112643bbaed7190f4170e764",
       "version_major": 2,
       "version_minor": 0
      },
      "text/plain": [
       "Epoch 68/100 [Training]:   0%|          | 0/8300 [00:00<?, ?it/s]"
      ]
     },
     "metadata": {},
     "output_type": "display_data"
    },
    {
     "data": {
      "application/vnd.jupyter.widget-view+json": {
       "model_id": "75bd5f8394ef44fbb29f016548620e14",
       "version_major": 2,
       "version_minor": 0
      },
      "text/plain": [
       "Epoch 68/100 [Validation]:   0%|          | 0/2075 [00:00<?, ?it/s]"
      ]
     },
     "metadata": {},
     "output_type": "display_data"
    },
    {
     "name": "stdout",
     "output_type": "stream",
     "text": [
      "\n",
      "--- Epoch 68/100 Summary ---\n",
      "  Train Loss: 0.2921 | Val Loss: 0.3160\n",
      "  Accuracy: 0.9211 | Weighted F1: 0.9211\n",
      "  Learning Rate: 0.000245\n"
     ]
    },
    {
     "data": {
      "application/vnd.jupyter.widget-view+json": {
       "model_id": "cb4894c096fd44f5a1ea1ac072c49299",
       "version_major": 2,
       "version_minor": 0
      },
      "text/plain": [
       "Epoch 69/100 [Training]:   0%|          | 0/8300 [00:00<?, ?it/s]"
      ]
     },
     "metadata": {},
     "output_type": "display_data"
    },
    {
     "data": {
      "application/vnd.jupyter.widget-view+json": {
       "model_id": "7545c0126b6545b68cfc2e821aef6174",
       "version_major": 2,
       "version_minor": 0
      },
      "text/plain": [
       "Epoch 69/100 [Validation]:   0%|          | 0/2075 [00:00<?, ?it/s]"
      ]
     },
     "metadata": {},
     "output_type": "display_data"
    },
    {
     "name": "stdout",
     "output_type": "stream",
     "text": [
      "\n",
      "--- Epoch 69/100 Summary ---\n",
      "  Train Loss: 0.2844 | Val Loss: 0.3859\n",
      "  Accuracy: 0.9188 | Weighted F1: 0.9186\n",
      "  Learning Rate: 0.000232\n"
     ]
    },
    {
     "data": {
      "application/vnd.jupyter.widget-view+json": {
       "model_id": "2e5611ab6e9349dab44e365eef427f15",
       "version_major": 2,
       "version_minor": 0
      },
      "text/plain": [
       "Epoch 70/100 [Training]:   0%|          | 0/8300 [00:00<?, ?it/s]"
      ]
     },
     "metadata": {},
     "output_type": "display_data"
    },
    {
     "data": {
      "application/vnd.jupyter.widget-view+json": {
       "model_id": "c2a3f369e2b7485f97727aafa683d077",
       "version_major": 2,
       "version_minor": 0
      },
      "text/plain": [
       "Epoch 70/100 [Validation]:   0%|          | 0/2075 [00:00<?, ?it/s]"
      ]
     },
     "metadata": {},
     "output_type": "display_data"
    },
    {
     "name": "stdout",
     "output_type": "stream",
     "text": [
      "\n",
      "--- Epoch 70/100 Summary ---\n",
      "  Train Loss: 0.2912 | Val Loss: 0.3441\n",
      "  Accuracy: 0.9207 | Weighted F1: 0.9199\n",
      "  Learning Rate: 0.000219\n"
     ]
    },
    {
     "data": {
      "application/vnd.jupyter.widget-view+json": {
       "model_id": "4e13700168c8460ab77f4f464a251fae",
       "version_major": 2,
       "version_minor": 0
      },
      "text/plain": [
       "Epoch 71/100 [Training]:   0%|          | 0/8300 [00:00<?, ?it/s]"
      ]
     },
     "metadata": {},
     "output_type": "display_data"
    },
    {
     "data": {
      "application/vnd.jupyter.widget-view+json": {
       "model_id": "582a19fb82f2417c8515f1d8b7659b56",
       "version_major": 2,
       "version_minor": 0
      },
      "text/plain": [
       "Epoch 71/100 [Validation]:   0%|          | 0/2075 [00:00<?, ?it/s]"
      ]
     },
     "metadata": {},
     "output_type": "display_data"
    },
    {
     "name": "stdout",
     "output_type": "stream",
     "text": [
      "\n",
      "--- Epoch 71/100 Summary ---\n",
      "  Train Loss: 0.2872 | Val Loss: 0.3523\n",
      "  Accuracy: 0.9245 | Weighted F1: 0.9245\n",
      "  Learning Rate: 0.000206\n",
      "  => 🎉 New best model saved to 'D:\\Dataset\\checkpoints_med\\best_model.pth' (Weighted F1: 0.9245)\n",
      "\n"
     ]
    },
    {
     "data": {
      "application/vnd.jupyter.widget-view+json": {
       "model_id": "b3ba743cad214ea89c732df592cae7e0",
       "version_major": 2,
       "version_minor": 0
      },
      "text/plain": [
       "Epoch 72/100 [Training]:   0%|          | 0/8300 [00:00<?, ?it/s]"
      ]
     },
     "metadata": {},
     "output_type": "display_data"
    },
    {
     "data": {
      "application/vnd.jupyter.widget-view+json": {
       "model_id": "d01d2b3f98b54f21ba25de402b6db11d",
       "version_major": 2,
       "version_minor": 0
      },
      "text/plain": [
       "Epoch 72/100 [Validation]:   0%|          | 0/2075 [00:00<?, ?it/s]"
      ]
     },
     "metadata": {},
     "output_type": "display_data"
    },
    {
     "name": "stdout",
     "output_type": "stream",
     "text": [
      "\n",
      "--- Epoch 72/100 Summary ---\n",
      "  Train Loss: 0.2864 | Val Loss: 0.3362\n",
      "  Accuracy: 0.9250 | Weighted F1: 0.9248\n",
      "  Learning Rate: 0.000194\n",
      "  => 🎉 New best model saved to 'D:\\Dataset\\checkpoints_med\\best_model.pth' (Weighted F1: 0.9248)\n",
      "\n"
     ]
    },
    {
     "data": {
      "application/vnd.jupyter.widget-view+json": {
       "model_id": "acfc0cc4ddb745eead930c668e980184",
       "version_major": 2,
       "version_minor": 0
      },
      "text/plain": [
       "Epoch 73/100 [Training]:   0%|          | 0/8300 [00:00<?, ?it/s]"
      ]
     },
     "metadata": {},
     "output_type": "display_data"
    },
    {
     "data": {
      "application/vnd.jupyter.widget-view+json": {
       "model_id": "69f4fdc3d2284be29df9e2ad549c6e61",
       "version_major": 2,
       "version_minor": 0
      },
      "text/plain": [
       "Epoch 73/100 [Validation]:   0%|          | 0/2075 [00:00<?, ?it/s]"
      ]
     },
     "metadata": {},
     "output_type": "display_data"
    },
    {
     "name": "stdout",
     "output_type": "stream",
     "text": [
      "\n",
      "--- Epoch 73/100 Summary ---\n",
      "  Train Loss: 0.2890 | Val Loss: 4.7811\n",
      "  Accuracy: 0.1733 | Weighted F1: 0.1727\n",
      "  Learning Rate: 0.000181\n"
     ]
    },
    {
     "data": {
      "application/vnd.jupyter.widget-view+json": {
       "model_id": "3992bc9abfe74c34a0a1ea066301e581",
       "version_major": 2,
       "version_minor": 0
      },
      "text/plain": [
       "Epoch 74/100 [Training]:   0%|          | 0/8300 [00:00<?, ?it/s]"
      ]
     },
     "metadata": {},
     "output_type": "display_data"
    },
    {
     "data": {
      "application/vnd.jupyter.widget-view+json": {
       "model_id": "14d6cfa7490943808317e25165c8663b",
       "version_major": 2,
       "version_minor": 0
      },
      "text/plain": [
       "Epoch 74/100 [Validation]:   0%|          | 0/2075 [00:00<?, ?it/s]"
      ]
     },
     "metadata": {},
     "output_type": "display_data"
    },
    {
     "name": "stdout",
     "output_type": "stream",
     "text": [
      "\n",
      "--- Epoch 74/100 Summary ---\n",
      "  Train Loss: 0.2798 | Val Loss: 6.2551\n",
      "  Accuracy: 0.1086 | Weighted F1: 0.1064\n",
      "  Learning Rate: 0.000169\n"
     ]
    },
    {
     "data": {
      "application/vnd.jupyter.widget-view+json": {
       "model_id": "b7973066ff1e47e585befceba9fcaf7e",
       "version_major": 2,
       "version_minor": 0
      },
      "text/plain": [
       "Epoch 75/100 [Training]:   0%|          | 0/8300 [00:00<?, ?it/s]"
      ]
     },
     "metadata": {},
     "output_type": "display_data"
    },
    {
     "data": {
      "application/vnd.jupyter.widget-view+json": {
       "model_id": "4affb909f98d47f48d527a7c1ff90da5",
       "version_major": 2,
       "version_minor": 0
      },
      "text/plain": [
       "Epoch 75/100 [Validation]:   0%|          | 0/2075 [00:00<?, ?it/s]"
      ]
     },
     "metadata": {},
     "output_type": "display_data"
    },
    {
     "name": "stdout",
     "output_type": "stream",
     "text": [
      "\n",
      "--- Epoch 75/100 Summary ---\n",
      "  Train Loss: 0.2872 | Val Loss: 0.3584\n",
      "  Accuracy: 0.9224 | Weighted F1: 0.9221\n",
      "  Learning Rate: 0.000158\n"
     ]
    },
    {
     "data": {
      "application/vnd.jupyter.widget-view+json": {
       "model_id": "1593250b2eb243f9a52f7324f13abf60",
       "version_major": 2,
       "version_minor": 0
      },
      "text/plain": [
       "Epoch 76/100 [Training]:   0%|          | 0/8300 [00:00<?, ?it/s]"
      ]
     },
     "metadata": {},
     "output_type": "display_data"
    },
    {
     "data": {
      "application/vnd.jupyter.widget-view+json": {
       "model_id": "8028967f7a994268b0a485cd7f18ca18",
       "version_major": 2,
       "version_minor": 0
      },
      "text/plain": [
       "Epoch 76/100 [Validation]:   0%|          | 0/2075 [00:00<?, ?it/s]"
      ]
     },
     "metadata": {},
     "output_type": "display_data"
    },
    {
     "name": "stdout",
     "output_type": "stream",
     "text": [
      "\n",
      "--- Epoch 76/100 Summary ---\n",
      "  Train Loss: 0.2874 | Val Loss: 0.3585\n",
      "  Accuracy: 0.9238 | Weighted F1: 0.9234\n",
      "  Learning Rate: 0.000146\n"
     ]
    },
    {
     "data": {
      "application/vnd.jupyter.widget-view+json": {
       "model_id": "938e8f3247bc4ac2b76acf9eb8f41475",
       "version_major": 2,
       "version_minor": 0
      },
      "text/plain": [
       "Epoch 77/100 [Training]:   0%|          | 0/8300 [00:00<?, ?it/s]"
      ]
     },
     "metadata": {},
     "output_type": "display_data"
    },
    {
     "data": {
      "application/vnd.jupyter.widget-view+json": {
       "model_id": "b5815accb15342c89fdfbccf82072e07",
       "version_major": 2,
       "version_minor": 0
      },
      "text/plain": [
       "Epoch 77/100 [Validation]:   0%|          | 0/2075 [00:00<?, ?it/s]"
      ]
     },
     "metadata": {},
     "output_type": "display_data"
    },
    {
     "name": "stdout",
     "output_type": "stream",
     "text": [
      "\n",
      "--- Epoch 77/100 Summary ---\n",
      "  Train Loss: 0.2912 | Val Loss: 0.3861\n",
      "  Accuracy: 0.9246 | Weighted F1: 0.9243\n",
      "  Learning Rate: 0.000136\n"
     ]
    },
    {
     "data": {
      "application/vnd.jupyter.widget-view+json": {
       "model_id": "fec4892765ea4bf6bd5107eb8a16a696",
       "version_major": 2,
       "version_minor": 0
      },
      "text/plain": [
       "Epoch 78/100 [Training]:   0%|          | 0/8300 [00:00<?, ?it/s]"
      ]
     },
     "metadata": {},
     "output_type": "display_data"
    },
    {
     "data": {
      "application/vnd.jupyter.widget-view+json": {
       "model_id": "ff6fbdee4bf147c7b9ff470aca33f62c",
       "version_major": 2,
       "version_minor": 0
      },
      "text/plain": [
       "Epoch 78/100 [Validation]:   0%|          | 0/2075 [00:00<?, ?it/s]"
      ]
     },
     "metadata": {},
     "output_type": "display_data"
    },
    {
     "name": "stdout",
     "output_type": "stream",
     "text": [
      "\n",
      "--- Epoch 78/100 Summary ---\n",
      "  Train Loss: 0.2786 | Val Loss: 0.3661\n",
      "  Accuracy: 0.9227 | Weighted F1: 0.9222\n",
      "  Learning Rate: 0.000125\n"
     ]
    },
    {
     "data": {
      "application/vnd.jupyter.widget-view+json": {
       "model_id": "534db72fc4f04efe8884538285906391",
       "version_major": 2,
       "version_minor": 0
      },
      "text/plain": [
       "Epoch 79/100 [Training]:   0%|          | 0/8300 [00:00<?, ?it/s]"
      ]
     },
     "metadata": {},
     "output_type": "display_data"
    },
    {
     "data": {
      "application/vnd.jupyter.widget-view+json": {
       "model_id": "93764f75c0c64a66addcdebd9da610ab",
       "version_major": 2,
       "version_minor": 0
      },
      "text/plain": [
       "Epoch 79/100 [Validation]:   0%|          | 0/2075 [00:00<?, ?it/s]"
      ]
     },
     "metadata": {},
     "output_type": "display_data"
    },
    {
     "name": "stdout",
     "output_type": "stream",
     "text": [
      "\n",
      "--- Epoch 79/100 Summary ---\n",
      "  Train Loss: 0.2861 | Val Loss: 0.3277\n",
      "  Accuracy: 0.9249 | Weighted F1: 0.9248\n",
      "  Learning Rate: 0.000115\n"
     ]
    },
    {
     "data": {
      "application/vnd.jupyter.widget-view+json": {
       "model_id": "18c1b26e7c734ba6982b08c29c4b65f5",
       "version_major": 2,
       "version_minor": 0
      },
      "text/plain": [
       "Epoch 80/100 [Training]:   0%|          | 0/8300 [00:00<?, ?it/s]"
      ]
     },
     "metadata": {},
     "output_type": "display_data"
    },
    {
     "data": {
      "application/vnd.jupyter.widget-view+json": {
       "model_id": "dd8d33a67cfb407fba0370d8d58a8177",
       "version_major": 2,
       "version_minor": 0
      },
      "text/plain": [
       "Epoch 80/100 [Validation]:   0%|          | 0/2075 [00:00<?, ?it/s]"
      ]
     },
     "metadata": {},
     "output_type": "display_data"
    },
    {
     "name": "stdout",
     "output_type": "stream",
     "text": [
      "\n",
      "--- Epoch 80/100 Summary ---\n",
      "  Train Loss: 0.2775 | Val Loss: 0.3964\n",
      "  Accuracy: 0.9211 | Weighted F1: 0.9204\n",
      "  Learning Rate: 0.000105\n"
     ]
    },
    {
     "data": {
      "application/vnd.jupyter.widget-view+json": {
       "model_id": "4179dd234fcc462c9ef637dd1e19f1b7",
       "version_major": 2,
       "version_minor": 0
      },
      "text/plain": [
       "Epoch 81/100 [Training]:   0%|          | 0/8300 [00:00<?, ?it/s]"
      ]
     },
     "metadata": {},
     "output_type": "display_data"
    },
    {
     "data": {
      "application/vnd.jupyter.widget-view+json": {
       "model_id": "e3fad1b7758740689fa5962779ba24b3",
       "version_major": 2,
       "version_minor": 0
      },
      "text/plain": [
       "Epoch 81/100 [Validation]:   0%|          | 0/2075 [00:00<?, ?it/s]"
      ]
     },
     "metadata": {},
     "output_type": "display_data"
    },
    {
     "name": "stdout",
     "output_type": "stream",
     "text": [
      "\n",
      "--- Epoch 81/100 Summary ---\n",
      "  Train Loss: 0.2828 | Val Loss: 0.3954\n",
      "  Accuracy: 0.9253 | Weighted F1: 0.9251\n",
      "  Learning Rate: 0.000095\n",
      "  => 🎉 New best model saved to 'D:\\Dataset\\checkpoints_med\\best_model.pth' (Weighted F1: 0.9251)\n",
      "\n"
     ]
    },
    {
     "data": {
      "application/vnd.jupyter.widget-view+json": {
       "model_id": "3585f6cc00874348aee94ee0adb00b5f",
       "version_major": 2,
       "version_minor": 0
      },
      "text/plain": [
       "Epoch 82/100 [Training]:   0%|          | 0/8300 [00:00<?, ?it/s]"
      ]
     },
     "metadata": {},
     "output_type": "display_data"
    },
    {
     "data": {
      "application/vnd.jupyter.widget-view+json": {
       "model_id": "2449f5ad5dae4653a7570c4e321f62a9",
       "version_major": 2,
       "version_minor": 0
      },
      "text/plain": [
       "Epoch 82/100 [Validation]:   0%|          | 0/2075 [00:00<?, ?it/s]"
      ]
     },
     "metadata": {},
     "output_type": "display_data"
    },
    {
     "name": "stdout",
     "output_type": "stream",
     "text": [
      "\n",
      "--- Epoch 82/100 Summary ---\n",
      "  Train Loss: 0.2803 | Val Loss: 0.3483\n",
      "  Accuracy: 0.9247 | Weighted F1: 0.9244\n",
      "  Learning Rate: 0.000086\n"
     ]
    },
    {
     "data": {
      "application/vnd.jupyter.widget-view+json": {
       "model_id": "66ebf01c20a54937a8cf5b3c37569d16",
       "version_major": 2,
       "version_minor": 0
      },
      "text/plain": [
       "Epoch 83/100 [Training]:   0%|          | 0/8300 [00:00<?, ?it/s]"
      ]
     },
     "metadata": {},
     "output_type": "display_data"
    },
    {
     "data": {
      "application/vnd.jupyter.widget-view+json": {
       "model_id": "c3a724d5e45b43769e99b7849beea14e",
       "version_major": 2,
       "version_minor": 0
      },
      "text/plain": [
       "Epoch 83/100 [Validation]:   0%|          | 0/2075 [00:00<?, ?it/s]"
      ]
     },
     "metadata": {},
     "output_type": "display_data"
    },
    {
     "name": "stdout",
     "output_type": "stream",
     "text": [
      "\n",
      "--- Epoch 83/100 Summary ---\n",
      "  Train Loss: 0.2802 | Val Loss: 0.3782\n",
      "  Accuracy: 0.9256 | Weighted F1: 0.9252\n",
      "  Learning Rate: 0.000078\n",
      "  => 🎉 New best model saved to 'D:\\Dataset\\checkpoints_med\\best_model.pth' (Weighted F1: 0.9252)\n",
      "\n"
     ]
    },
    {
     "data": {
      "application/vnd.jupyter.widget-view+json": {
       "model_id": "3c8e65828f9842e38d441452a2f76550",
       "version_major": 2,
       "version_minor": 0
      },
      "text/plain": [
       "Epoch 84/100 [Training]:   0%|          | 0/8300 [00:00<?, ?it/s]"
      ]
     },
     "metadata": {},
     "output_type": "display_data"
    },
    {
     "data": {
      "application/vnd.jupyter.widget-view+json": {
       "model_id": "11d5fb37c3aa4d54a7e19a77807cf6c8",
       "version_major": 2,
       "version_minor": 0
      },
      "text/plain": [
       "Epoch 84/100 [Validation]:   0%|          | 0/2075 [00:00<?, ?it/s]"
      ]
     },
     "metadata": {},
     "output_type": "display_data"
    },
    {
     "name": "stdout",
     "output_type": "stream",
     "text": [
      "\n",
      "--- Epoch 84/100 Summary ---\n",
      "  Train Loss: 0.2776 | Val Loss: 0.3633\n",
      "  Accuracy: 0.9256 | Weighted F1: 0.9252\n",
      "  Learning Rate: 0.000070\n"
     ]
    },
    {
     "data": {
      "application/vnd.jupyter.widget-view+json": {
       "model_id": "617d4f0b44d441a794c7d62c654788d7",
       "version_major": 2,
       "version_minor": 0
      },
      "text/plain": [
       "Epoch 85/100 [Training]:   0%|          | 0/8300 [00:00<?, ?it/s]"
      ]
     },
     "metadata": {},
     "output_type": "display_data"
    },
    {
     "data": {
      "application/vnd.jupyter.widget-view+json": {
       "model_id": "2742a5c80ad24bb5b04db2ce1f459bf1",
       "version_major": 2,
       "version_minor": 0
      },
      "text/plain": [
       "Epoch 85/100 [Validation]:   0%|          | 0/2075 [00:00<?, ?it/s]"
      ]
     },
     "metadata": {},
     "output_type": "display_data"
    },
    {
     "name": "stdout",
     "output_type": "stream",
     "text": [
      "\n",
      "--- Epoch 85/100 Summary ---\n",
      "  Train Loss: 0.2878 | Val Loss: 2.4033\n",
      "  Accuracy: 0.6037 | Weighted F1: 0.6062\n",
      "  Learning Rate: 0.000062\n"
     ]
    },
    {
     "data": {
      "application/vnd.jupyter.widget-view+json": {
       "model_id": "01cae38f7ef54574908711605bb687fb",
       "version_major": 2,
       "version_minor": 0
      },
      "text/plain": [
       "Epoch 86/100 [Training]:   0%|          | 0/8300 [00:00<?, ?it/s]"
      ]
     },
     "metadata": {},
     "output_type": "display_data"
    },
    {
     "data": {
      "application/vnd.jupyter.widget-view+json": {
       "model_id": "c0b44b1f21d949808170b871aecedccb",
       "version_major": 2,
       "version_minor": 0
      },
      "text/plain": [
       "Epoch 86/100 [Validation]:   0%|          | 0/2075 [00:00<?, ?it/s]"
      ]
     },
     "metadata": {},
     "output_type": "display_data"
    },
    {
     "name": "stdout",
     "output_type": "stream",
     "text": [
      "\n",
      "--- Epoch 86/100 Summary ---\n",
      "  Train Loss: 0.2754 | Val Loss: 0.3728\n",
      "  Accuracy: 0.9256 | Weighted F1: 0.9252\n",
      "  Learning Rate: 0.000054\n",
      "  => 🎉 New best model saved to 'D:\\Dataset\\checkpoints_med\\best_model.pth' (Weighted F1: 0.9252)\n",
      "\n"
     ]
    },
    {
     "data": {
      "application/vnd.jupyter.widget-view+json": {
       "model_id": "b2d873247db04605898d9b09768dda09",
       "version_major": 2,
       "version_minor": 0
      },
      "text/plain": [
       "Epoch 87/100 [Training]:   0%|          | 0/8300 [00:00<?, ?it/s]"
      ]
     },
     "metadata": {},
     "output_type": "display_data"
    },
    {
     "data": {
      "application/vnd.jupyter.widget-view+json": {
       "model_id": "35307ed587194de68c673daea02dfc9f",
       "version_major": 2,
       "version_minor": 0
      },
      "text/plain": [
       "Epoch 87/100 [Validation]:   0%|          | 0/2075 [00:00<?, ?it/s]"
      ]
     },
     "metadata": {},
     "output_type": "display_data"
    },
    {
     "name": "stdout",
     "output_type": "stream",
     "text": [
      "\n",
      "--- Epoch 87/100 Summary ---\n",
      "  Train Loss: 0.2781 | Val Loss: 0.4222\n",
      "  Accuracy: 0.9253 | Weighted F1: 0.9251\n",
      "  Learning Rate: 0.000048\n"
     ]
    },
    {
     "data": {
      "application/vnd.jupyter.widget-view+json": {
       "model_id": "2c5b6e0ca5b6452489ddd6b50deaa0b5",
       "version_major": 2,
       "version_minor": 0
      },
      "text/plain": [
       "Epoch 88/100 [Training]:   0%|          | 0/8300 [00:00<?, ?it/s]"
      ]
     },
     "metadata": {},
     "output_type": "display_data"
    },
    {
     "data": {
      "application/vnd.jupyter.widget-view+json": {
       "model_id": "d0d18f3087bd49cfac00449be6c21cb7",
       "version_major": 2,
       "version_minor": 0
      },
      "text/plain": [
       "Epoch 88/100 [Validation]:   0%|          | 0/2075 [00:00<?, ?it/s]"
      ]
     },
     "metadata": {},
     "output_type": "display_data"
    },
    {
     "name": "stdout",
     "output_type": "stream",
     "text": [
      "\n",
      "--- Epoch 88/100 Summary ---\n",
      "  Train Loss: 0.2848 | Val Loss: 7.4084\n",
      "  Accuracy: 0.1542 | Weighted F1: 0.1819\n",
      "  Learning Rate: 0.000041\n"
     ]
    },
    {
     "data": {
      "application/vnd.jupyter.widget-view+json": {
       "model_id": "cdcc7bad50c641cbbfea7ff3e065cf16",
       "version_major": 2,
       "version_minor": 0
      },
      "text/plain": [
       "Epoch 89/100 [Training]:   0%|          | 0/8300 [00:00<?, ?it/s]"
      ]
     },
     "metadata": {},
     "output_type": "display_data"
    },
    {
     "data": {
      "application/vnd.jupyter.widget-view+json": {
       "model_id": "f13524d275654c1e9e1514ff798c53a6",
       "version_major": 2,
       "version_minor": 0
      },
      "text/plain": [
       "Epoch 89/100 [Validation]:   0%|          | 0/2075 [00:00<?, ?it/s]"
      ]
     },
     "metadata": {},
     "output_type": "display_data"
    },
    {
     "name": "stdout",
     "output_type": "stream",
     "text": [
      "\n",
      "--- Epoch 89/100 Summary ---\n",
      "  Train Loss: 0.2791 | Val Loss: 0.3887\n",
      "  Accuracy: 0.9234 | Weighted F1: 0.9230\n",
      "  Learning Rate: 0.000035\n"
     ]
    },
    {
     "data": {
      "application/vnd.jupyter.widget-view+json": {
       "model_id": "d39bf382dbbe440fabf02c7ba1ebae91",
       "version_major": 2,
       "version_minor": 0
      },
      "text/plain": [
       "Epoch 90/100 [Training]:   0%|          | 0/8300 [00:00<?, ?it/s]"
      ]
     },
     "metadata": {},
     "output_type": "display_data"
    },
    {
     "data": {
      "application/vnd.jupyter.widget-view+json": {
       "model_id": "64dbe25ef1d5460db4b7c953813894ac",
       "version_major": 2,
       "version_minor": 0
      },
      "text/plain": [
       "Epoch 90/100 [Validation]:   0%|          | 0/2075 [00:00<?, ?it/s]"
      ]
     },
     "metadata": {},
     "output_type": "display_data"
    },
    {
     "name": "stdout",
     "output_type": "stream",
     "text": [
      "\n",
      "--- Epoch 90/100 Summary ---\n",
      "  Train Loss: 0.2816 | Val Loss: 0.3998\n",
      "  Accuracy: 0.9255 | Weighted F1: 0.9253\n",
      "  Learning Rate: 0.000030\n",
      "  => 🎉 New best model saved to 'D:\\Dataset\\checkpoints_med\\best_model.pth' (Weighted F1: 0.9253)\n",
      "\n"
     ]
    },
    {
     "data": {
      "application/vnd.jupyter.widget-view+json": {
       "model_id": "a67520b58f7b4cd1b9bfdd02989c39e0",
       "version_major": 2,
       "version_minor": 0
      },
      "text/plain": [
       "Epoch 91/100 [Training]:   0%|          | 0/8300 [00:00<?, ?it/s]"
      ]
     },
     "metadata": {},
     "output_type": "display_data"
    },
    {
     "data": {
      "application/vnd.jupyter.widget-view+json": {
       "model_id": "27737a1fbd3b471fadc11a4fe8eb0244",
       "version_major": 2,
       "version_minor": 0
      },
      "text/plain": [
       "Epoch 91/100 [Validation]:   0%|          | 0/2075 [00:00<?, ?it/s]"
      ]
     },
     "metadata": {},
     "output_type": "display_data"
    },
    {
     "name": "stdout",
     "output_type": "stream",
     "text": [
      "\n",
      "--- Epoch 91/100 Summary ---\n",
      "  Train Loss: 0.2844 | Val Loss: 0.3522\n",
      "  Accuracy: 0.9254 | Weighted F1: 0.9254\n",
      "  Learning Rate: 0.000024\n",
      "  => 🎉 New best model saved to 'D:\\Dataset\\checkpoints_med\\best_model.pth' (Weighted F1: 0.9254)\n",
      "\n"
     ]
    },
    {
     "data": {
      "application/vnd.jupyter.widget-view+json": {
       "model_id": "8f64ff94d58c437d90467457d86cf3d4",
       "version_major": 2,
       "version_minor": 0
      },
      "text/plain": [
       "Epoch 92/100 [Training]:   0%|          | 0/8300 [00:00<?, ?it/s]"
      ]
     },
     "metadata": {},
     "output_type": "display_data"
    },
    {
     "data": {
      "application/vnd.jupyter.widget-view+json": {
       "model_id": "e359fa4cc23d4c6daede6a2d5050a0f4",
       "version_major": 2,
       "version_minor": 0
      },
      "text/plain": [
       "Epoch 92/100 [Validation]:   0%|          | 0/2075 [00:00<?, ?it/s]"
      ]
     },
     "metadata": {},
     "output_type": "display_data"
    },
    {
     "name": "stdout",
     "output_type": "stream",
     "text": [
      "\n",
      "--- Epoch 92/100 Summary ---\n",
      "  Train Loss: 0.2731 | Val Loss: 0.3876\n",
      "  Accuracy: 0.9207 | Weighted F1: 0.9203\n",
      "  Learning Rate: 0.000020\n"
     ]
    },
    {
     "data": {
      "application/vnd.jupyter.widget-view+json": {
       "model_id": "a13ee31c3f64459fad1c3fdd75390844",
       "version_major": 2,
       "version_minor": 0
      },
      "text/plain": [
       "Epoch 93/100 [Training]:   0%|          | 0/8300 [00:00<?, ?it/s]"
      ]
     },
     "metadata": {},
     "output_type": "display_data"
    },
    {
     "data": {
      "application/vnd.jupyter.widget-view+json": {
       "model_id": "1a8b00ca67ff4a43ba06741f367aef67",
       "version_major": 2,
       "version_minor": 0
      },
      "text/plain": [
       "Epoch 93/100 [Validation]:   0%|          | 0/2075 [00:00<?, ?it/s]"
      ]
     },
     "metadata": {},
     "output_type": "display_data"
    },
    {
     "name": "stdout",
     "output_type": "stream",
     "text": [
      "\n",
      "--- Epoch 93/100 Summary ---\n",
      "  Train Loss: 0.2723 | Val Loss: 0.3790\n",
      "  Accuracy: 0.9235 | Weighted F1: 0.9236\n",
      "  Learning Rate: 0.000016\n"
     ]
    },
    {
     "data": {
      "application/vnd.jupyter.widget-view+json": {
       "model_id": "aa46ddf194564a61977ce9bf757734b1",
       "version_major": 2,
       "version_minor": 0
      },
      "text/plain": [
       "Epoch 94/100 [Training]:   0%|          | 0/8300 [00:00<?, ?it/s]"
      ]
     },
     "metadata": {},
     "output_type": "display_data"
    },
    {
     "data": {
      "application/vnd.jupyter.widget-view+json": {
       "model_id": "7f741720c1074036a47c3fb07ccc44a0",
       "version_major": 2,
       "version_minor": 0
      },
      "text/plain": [
       "Epoch 94/100 [Validation]:   0%|          | 0/2075 [00:00<?, ?it/s]"
      ]
     },
     "metadata": {},
     "output_type": "display_data"
    },
    {
     "name": "stdout",
     "output_type": "stream",
     "text": [
      "\n",
      "--- Epoch 94/100 Summary ---\n",
      "  Train Loss: 0.2674 | Val Loss: 0.3558\n",
      "  Accuracy: 0.9268 | Weighted F1: 0.9265\n",
      "  Learning Rate: 0.000012\n",
      "  => 🎉 New best model saved to 'D:\\Dataset\\checkpoints_med\\best_model.pth' (Weighted F1: 0.9265)\n",
      "\n"
     ]
    },
    {
     "data": {
      "application/vnd.jupyter.widget-view+json": {
       "model_id": "8ea0236157b141ea87e0706e209e77e8",
       "version_major": 2,
       "version_minor": 0
      },
      "text/plain": [
       "Epoch 95/100 [Training]:   0%|          | 0/8300 [00:00<?, ?it/s]"
      ]
     },
     "metadata": {},
     "output_type": "display_data"
    },
    {
     "data": {
      "application/vnd.jupyter.widget-view+json": {
       "model_id": "7989b8d69d7c4fe09db2a2070a75ba0c",
       "version_major": 2,
       "version_minor": 0
      },
      "text/plain": [
       "Epoch 95/100 [Validation]:   0%|          | 0/2075 [00:00<?, ?it/s]"
      ]
     },
     "metadata": {},
     "output_type": "display_data"
    },
    {
     "name": "stdout",
     "output_type": "stream",
     "text": [
      "\n",
      "--- Epoch 95/100 Summary ---\n",
      "  Train Loss: 0.2715 | Val Loss: 0.4163\n",
      "  Accuracy: 0.9159 | Weighted F1: 0.9154\n",
      "  Learning Rate: 0.000009\n"
     ]
    },
    {
     "data": {
      "application/vnd.jupyter.widget-view+json": {
       "model_id": "347cb382fc5142de96f986b2a65356ff",
       "version_major": 2,
       "version_minor": 0
      },
      "text/plain": [
       "Epoch 96/100 [Training]:   0%|          | 0/8300 [00:00<?, ?it/s]"
      ]
     },
     "metadata": {},
     "output_type": "display_data"
    },
    {
     "data": {
      "application/vnd.jupyter.widget-view+json": {
       "model_id": "6e1d6ae585d246539617fe49563575fa",
       "version_major": 2,
       "version_minor": 0
      },
      "text/plain": [
       "Epoch 96/100 [Validation]:   0%|          | 0/2075 [00:00<?, ?it/s]"
      ]
     },
     "metadata": {},
     "output_type": "display_data"
    },
    {
     "name": "stdout",
     "output_type": "stream",
     "text": [
      "\n",
      "--- Epoch 96/100 Summary ---\n",
      "  Train Loss: 0.2730 | Val Loss: 0.3890\n",
      "  Accuracy: 0.9255 | Weighted F1: 0.9252\n",
      "  Learning Rate: 0.000006\n"
     ]
    },
    {
     "data": {
      "application/vnd.jupyter.widget-view+json": {
       "model_id": "8eae52e6b94d45a3893202f9e823f2d2",
       "version_major": 2,
       "version_minor": 0
      },
      "text/plain": [
       "Epoch 97/100 [Training]:   0%|          | 0/8300 [00:00<?, ?it/s]"
      ]
     },
     "metadata": {},
     "output_type": "display_data"
    },
    {
     "data": {
      "application/vnd.jupyter.widget-view+json": {
       "model_id": "62f9ba6daf7647968068b58510ccd9ac",
       "version_major": 2,
       "version_minor": 0
      },
      "text/plain": [
       "Epoch 97/100 [Validation]:   0%|          | 0/2075 [00:00<?, ?it/s]"
      ]
     },
     "metadata": {},
     "output_type": "display_data"
    },
    {
     "name": "stdout",
     "output_type": "stream",
     "text": [
      "\n",
      "--- Epoch 97/100 Summary ---\n",
      "  Train Loss: 0.2738 | Val Loss: 0.3362\n",
      "  Accuracy: 0.9251 | Weighted F1: 0.9249\n",
      "  Learning Rate: 0.000004\n"
     ]
    },
    {
     "data": {
      "application/vnd.jupyter.widget-view+json": {
       "model_id": "fbbb3d506e1d4d43a52a8b300d6638c7",
       "version_major": 2,
       "version_minor": 0
      },
      "text/plain": [
       "Epoch 98/100 [Training]:   0%|          | 0/8300 [00:00<?, ?it/s]"
      ]
     },
     "metadata": {},
     "output_type": "display_data"
    },
    {
     "data": {
      "application/vnd.jupyter.widget-view+json": {
       "model_id": "2da62a5b4c8b41c5b5808f2430afe3c6",
       "version_major": 2,
       "version_minor": 0
      },
      "text/plain": [
       "Epoch 98/100 [Validation]:   0%|          | 0/2075 [00:00<?, ?it/s]"
      ]
     },
     "metadata": {},
     "output_type": "display_data"
    },
    {
     "name": "stdout",
     "output_type": "stream",
     "text": [
      "\n",
      "--- Epoch 98/100 Summary ---\n",
      "  Train Loss: 0.2730 | Val Loss: 0.3457\n",
      "  Accuracy: 0.9252 | Weighted F1: 0.9252\n",
      "  Learning Rate: 0.000002\n"
     ]
    },
    {
     "data": {
      "application/vnd.jupyter.widget-view+json": {
       "model_id": "56f12773c498488a9c0a25e17dc9ff86",
       "version_major": 2,
       "version_minor": 0
      },
      "text/plain": [
       "Epoch 99/100 [Training]:   0%|          | 0/8300 [00:00<?, ?it/s]"
      ]
     },
     "metadata": {},
     "output_type": "display_data"
    },
    {
     "data": {
      "application/vnd.jupyter.widget-view+json": {
       "model_id": "deef88dafe194bd8bdcb4e0b0f7763ec",
       "version_major": 2,
       "version_minor": 0
      },
      "text/plain": [
       "Epoch 99/100 [Validation]:   0%|          | 0/2075 [00:00<?, ?it/s]"
      ]
     },
     "metadata": {},
     "output_type": "display_data"
    },
    {
     "name": "stdout",
     "output_type": "stream",
     "text": [
      "\n",
      "--- Epoch 99/100 Summary ---\n",
      "  Train Loss: 0.2738 | Val Loss: 0.3512\n",
      "  Accuracy: 0.9272 | Weighted F1: 0.9270\n",
      "  Learning Rate: 0.000001\n",
      "  => 🎉 New best model saved to 'D:\\Dataset\\checkpoints_med\\best_model.pth' (Weighted F1: 0.9270)\n",
      "\n"
     ]
    },
    {
     "data": {
      "application/vnd.jupyter.widget-view+json": {
       "model_id": "ba6fb28bc99c4f9b97d8db851473d550",
       "version_major": 2,
       "version_minor": 0
      },
      "text/plain": [
       "Epoch 100/100 [Training]:   0%|          | 0/8300 [00:00<?, ?it/s]"
      ]
     },
     "metadata": {},
     "output_type": "display_data"
    },
    {
     "data": {
      "application/vnd.jupyter.widget-view+json": {
       "model_id": "0545be4ec30744fdad6ec6f5b821409e",
       "version_major": 2,
       "version_minor": 0
      },
      "text/plain": [
       "Epoch 100/100 [Validation]:   0%|          | 0/2075 [00:00<?, ?it/s]"
      ]
     },
     "metadata": {},
     "output_type": "display_data"
    },
    {
     "name": "stdout",
     "output_type": "stream",
     "text": [
      "\n",
      "--- Epoch 100/100 Summary ---\n",
      "  Train Loss: 0.2667 | Val Loss: 0.3738\n",
      "  Accuracy: 0.9254 | Weighted F1: 0.9250\n",
      "  Learning Rate: 0.000000\n",
      "\n",
      "✅ Hoàn tất huấn luyện!\n"
     ]
    }
   ],
   "source": [
    "for epoch in range(EPOCHS):\n",
    "    # ---------------------------\n",
    "    # ----- TRAINING PHASE ------\n",
    "    # ---------------------------\n",
    "    model.train()\n",
    "    running_loss = 0.0\n",
    "    progress_bar = tqdm(train_loader, desc=f\"Epoch {epoch+1}/{EPOCHS} [Training]\")\n",
    "    \n",
    "    for inputs, labels in progress_bar:\n",
    "        if -1 in labels: continue # Bỏ qua các mẫu bị lỗi\n",
    "        inputs, labels = inputs.to(device), labels.to(device)\n",
    "        \n",
    "        # Áp dụng Mixup với xác suất 50%\n",
    "        if torch.rand(1).item() < 0.5:\n",
    "            inputs, targets_a, targets_b, lam = mixup_data(inputs, labels, alpha=0.4)\n",
    "            optimizer.zero_grad()\n",
    "            outputs = model(inputs)\n",
    "            loss = mixup_criterion(criterion, outputs, targets_a, targets_b, lam)\n",
    "        else:\n",
    "            # Chạy như bình thường nếu không dùng Mixup\n",
    "            optimizer.zero_grad()\n",
    "            outputs = model(inputs)\n",
    "            loss = criterion(outputs, labels)\n",
    "\n",
    "        loss.backward()\n",
    "        optimizer.step()\n",
    "        \n",
    "        running_loss += loss.item() * inputs.size(0)\n",
    "        progress_bar.set_postfix(loss=f\"{loss.item():.4f}\")\n",
    "\n",
    "\n",
    "    model.eval()\n",
    "    val_loss = 0.0\n",
    "    val_preds, val_labels = [], []\n",
    "    with torch.no_grad():\n",
    "        for inputs, labels in tqdm(val_loader, desc=f\"Epoch {epoch+1}/{EPOCHS} [Validation]\"):\n",
    "            if -1 in labels: continue\n",
    "            inputs, labels = inputs.to(device), labels.to(device)\n",
    "            \n",
    "            outputs = model(inputs)\n",
    "            loss = criterion(outputs, labels)\n",
    "            val_loss += loss.item() * inputs.size(0)\n",
    "            \n",
    "            _, predicted = torch.max(outputs.data, 1)\n",
    "            val_preds.extend(predicted.cpu().numpy())\n",
    "            val_labels.extend(labels.cpu().numpy())\n",
    "            \n",
    "\n",
    "    epoch_train_loss = running_loss / len(train_dataset)\n",
    "    epoch_val_loss = val_loss / len(val_dataset)\n",
    "    \n",
    "    accuracy = accuracy_score(val_labels, val_preds)\n",
    "    macro_f1 = f1_score(val_labels, val_preds, average='macro', zero_division=0)\n",
    "    weighted_f1 = f1_score(val_labels, val_preds, average='weighted', zero_division=0)\n",
    "    macro_precision = precision_score(val_labels, val_preds, average='macro', zero_division=0)\n",
    "    weighted_precision = precision_score(val_labels, val_preds, average='weighted', zero_division=0)\n",
    "    macro_recall = recall_score(val_labels, val_preds, average='macro', zero_division=0)\n",
    "    weighted_recall = recall_score(val_labels, val_preds, average='weighted', zero_division=0)\n",
    "    \n",
    "    current_lr = scheduler.get_last_lr()[0]\n",
    "    scheduler.step()\n",
    "\n",
    "    # In kết quả ra màn hình\n",
    "    print(f\"\\n--- Epoch {epoch+1}/{EPOCHS} Summary ---\")\n",
    "    print(f\"  Train Loss: {epoch_train_loss:.4f} | Val Loss: {epoch_val_loss:.4f}\")\n",
    "    print(f\"  Accuracy: {accuracy:.4f} | Weighted F1: {weighted_f1:.4f}\")\n",
    "    print(f\"  Learning Rate: {current_lr:.6f}\")\n",
    "\n",
    "    # Lưu vào file CSV\n",
    "    log_data = [\n",
    "        epoch + 1, epoch_train_loss, epoch_val_loss, current_lr, accuracy,\n",
    "        macro_f1, weighted_f1, macro_precision, weighted_precision,\n",
    "        macro_recall, weighted_recall\n",
    "    ]\n",
    "    with open(LOG_CSV_PATH, 'a', newline='', encoding='utf-8') as f:\n",
    "        writer = csv.writer(f)\n",
    "        writer.writerow(log_data)\n",
    "        \n",
    "    # Lưu Checkpoint mỗi epoch\n",
    "    checkpoint_path = os.path.join(CHECKPOINT_DIR, f'checkpoint_epoch_{epoch+1}.pth')\n",
    "    torch.save({\n",
    "        'epoch': epoch + 1,\n",
    "        'model_state_dict': model.state_dict(),\n",
    "        'optimizer_state_dict': optimizer.state_dict(),\n",
    "    }, checkpoint_path)\n",
    "\n",
    "    # Lưu lại model tốt nhất (dựa trên weighted F1-score)\n",
    "    if weighted_f1 > best_val_f1:\n",
    "        best_val_f1 = weighted_f1\n",
    "        best_model_path = os.path.join(CHECKPOINT_DIR, 'best_model.pth')\n",
    "        torch.save(model.state_dict(), best_model_path)\n",
    "        print(f\"  => 🎉 New best model saved to '{best_model_path}' (Weighted F1: {best_val_f1:.4f})\\n\")\n",
    "\n",
    "print(\"\\n✅ Hoàn tất huấn luyện!\")"
   ]
  },
  {
   "cell_type": "code",
   "execution_count": 18,
   "id": "14308d2d-1055-4d95-8a25-7b3a75712b70",
   "metadata": {},
   "outputs": [
    {
     "data": {
      "image/png": "[encoded data removed]",
      "text/plain": [
       "<Figure size 1800x600 with 2 Axes>"
      ]
     },
     "metadata": {},
     "output_type": "display_data"
    },
    {
     "name": "stderr",
     "output_type": "stream",
     "text": [
      "C:\\Users\\Deltax\\AppData\\Local\\Temp\\ipykernel_4272\\1807958012.py:29: FutureWarning: You are using `torch.load` with `weights_only=False` (the current default value), which uses the default pickle module implicitly. It is possible to construct malicious pickle data which will execute arbitrary code during unpickling (See https://github.com/pytorch/pytorch/blob/main/SECURITY.md#untrusted-models for more details). In a future release, the default value for `weights_only` will be flipped to `True`. This limits the functions that could be executed during unpickling. Arbitrary objects will no longer be allowed to be loaded via this mode unless they are explicitly allowlisted by the user via `torch.serialization.add_safe_globals`. We recommend you start setting `weights_only=True` for any use case where you don't have full control of the loaded file. Please open an issue on GitHub for any issues related to this experimental feature.\n",
      "  model.load_state_dict(torch.load(best_model_path, map_location=device))\n"
     ]
    },
    {
     "name": "stdout",
     "output_type": "stream",
     "text": [
      "\n",
      "Tải trọng số model tốt nhất để vẽ Confusion Matrix.\n"
     ]
    },
    {
     "data": {
      "image/png": "[encoded data removed]",
      "text/plain": [
       "<Figure size 1200x1000 with 2 Axes>"
      ]
     },
     "metadata": {},
     "output_type": "display_data"
    }
   ],
   "source": [
    "log_df = pd.read_csv(LOG_CSV_PATH)\n",
    "\n",
    "# --- Vẽ biểu đồ Loss và Accuracy ---\n",
    "fig, (ax1, ax2) = plt.subplots(1, 2, figsize=(18, 6))\n",
    "\n",
    "ax1.plot(log_df['epoch'], log_df['train_loss'], label='Train Loss', marker='o')\n",
    "ax1.plot(log_df['epoch'], log_df['val_loss'], label='Validation Loss', marker='o')\n",
    "ax1.set_title('Training & Validation Loss', fontsize=16)\n",
    "ax1.set_xlabel('Epoch', fontsize=12)\n",
    "ax1.set_ylabel('Loss', fontsize=12)\n",
    "ax1.legend()\n",
    "ax1.grid(True)\n",
    "\n",
    "ax2.plot(log_df['epoch'], log_df['accuracy'], label='Validation Accuracy', marker='o')\n",
    "ax2.plot(log_df['epoch'], log_df['weighted_f1'], label='Validation Weighted F1-Score', marker='o')\n",
    "ax2.set_title('Validation Metrics', fontsize=16)\n",
    "ax2.set_xlabel('Epoch', fontsize=12)\n",
    "ax2.set_ylabel('Score', fontsize=12)\n",
    "ax2.legend()\n",
    "ax2.grid(True)\n",
    "\n",
    "plt.suptitle('Kết quả Huấn luyện PestLarvaNet-GMA Large', fontsize=20)\n",
    "plt.show()\n",
    "\n",
    "# --- Vẽ Ma trận nhầm lẫn (Confusion Matrix) ---\n",
    "# Tải lại trọng số của model tốt nhất để đánh giá\n",
    "best_model_path = os.path.join(CHECKPOINT_DIR, 'best_model.pth')\n",
    "if os.path.exists(best_model_path):\n",
    "    model.load_state_dict(torch.load(best_model_path, map_location=device))\n",
    "    print(\"\\nTải trọng số model tốt nhất để vẽ Confusion Matrix.\")\n",
    "    \n",
    "model.eval()\n",
    "all_preds, all_labels = [], []\n",
    "with torch.no_grad():\n",
    "    for inputs, labels in val_loader:\n",
    "        if -1 in labels: continue\n",
    "        inputs, labels = inputs.to(device), labels.to(device)\n",
    "        outputs = model(inputs)\n",
    "        _, predicted = torch.max(outputs.data, 1)\n",
    "        all_preds.extend(predicted.cpu().numpy())\n",
    "        all_labels.extend(labels.cpu().numpy())\n",
    "\n",
    "cm = confusion_matrix(all_labels, all_preds)\n",
    "plt.figure(figsize=(12, 10))\n",
    "sns.heatmap(cm, annot=True, fmt='d', cmap='Blues', \n",
    "            xticklabels=full_dataset.class_names, \n",
    "            yticklabels=full_dataset.class_names)\n",
    "plt.title('Confusion Matrix on Validation Set (Best Model)', fontsize=18)\n",
    "plt.xlabel('Predicted Label', fontsize=14)\n",
    "plt.ylabel('True Label', fontsize=14)\n",
    "plt.show()"
   ]
  },
  {
   "cell_type": "code",
   "execution_count": null,
   "id": "46bf939c-47a1-4a9b-9466-b1062c0da483",
   "metadata": {},
   "outputs": [],
   "source": []
  }
 ],
 "metadata": {
  "kernelspec": {
   "display_name": "Python 3 (ipykernel)",
   "language": "python",
   "name": "python3"
  },
  "language_info": {
   "codemirror_mode": {
    "name": "ipython",
    "version": 3
   },
   "file_extension": ".py",
   "mimetype": "text/x-python",
   "name": "python",
   "nbconvert_exporter": "python",
   "pygments_lexer": "ipython3",
   "version": "3.10.18"
  }
 },
 "nbformat": 4,
 "nbformat_minor": 5
}
