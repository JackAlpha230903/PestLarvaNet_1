{
 "cells": [
  {
   "cell_type": "code",
   "execution_count": 1,
   "id": "0d3e0393-aca8-43f5-b00f-6a5393e3e4e9",
   "metadata": {},
   "outputs": [],
   "source": [
    "import os\n",
    "import csv\n",
    "import pandas as pd\n",
    "import numpy as np\n",
    "import torch\n",
    "import torch.nn as nn\n",
    "import torch.nn.functional as F\n",
    "import torchaudio\n",
    "from torch.utils.data import Dataset, DataLoader, random_split\n",
    "from torchvision.transforms import v2 as T\n",
    "from tqdm.notebook import tqdm\n",
    "import matplotlib.pyplot as plt\n",
    "from sklearn.metrics import (accuracy_score, precision_score, recall_score, \n",
    "                             f1_score, confusion_matrix)\n",
    "import seaborn as sns"
   ]
  },
  {
   "cell_type": "code",
   "execution_count": 2,
   "id": "259083cb-d01e-4988-8a5e-a3d339d8b2df",
   "metadata": {},
   "outputs": [
    {
     "name": "stdout",
     "output_type": "stream",
     "text": [
      "Sử dụng thiết bị: cuda\n"
     ]
    }
   ],
   "source": [
    "device = torch.device(\"cuda\" if torch.cuda.is_available() else \"cpu\")\n",
    "print(f\"Sử dụng thiết bị: {device}\")"
   ]
  },
  {
   "cell_type": "code",
   "execution_count": 3,
   "id": "878275a1-c5a6-4ec7-a1f8-6ffae4b83570",
   "metadata": {},
   "outputs": [],
   "source": [
    "class DynamicGraphAttention(nn.Module):\n",
    "    def __init__(self, in_channels, num_nodes=32, heads=8, dropout=0.1):  # Tăng num_nodes/heads mặc định\n",
    "        super().__init__()\n",
    "        self.num_nodes = num_nodes\n",
    "        self.heads = heads\n",
    "        self.head_dim = in_channels // heads\n",
    "        self.dropout = nn.Dropout(dropout)\n",
    "\n",
    "        self.query = nn.Linear(in_channels, in_channels)\n",
    "        self.key = nn.Linear(in_channels, in_channels)\n",
    "        self.value = nn.Linear(in_channels, in_channels)\n",
    "        self.out = nn.Linear(in_channels, in_channels)\n",
    "        self.scale = nn.Parameter(torch.tensor(self.head_dim**-0.5))\n",
    "\n",
    "        # Positional encoding (simple learnable)\n",
    "        self.pos_enc = nn.Parameter(torch.randn(1, num_nodes, in_channels))\n",
    "\n",
    "    def forward(self, x):\n",
    "        B, C, H, W = x.size()\n",
    "        x_flat = x.flatten(2).transpose(1, 2)  # (B, H*W, C)\n",
    "        \n",
    "        num_pixels = H * W\n",
    "        N = min(self.num_nodes, num_pixels)\n",
    "        \n",
    "        # Importance sampling: Chọn top-k pixels dựa trên L2 norm (thay vì random/linspace)\n",
    "        norms = torch.norm(x_flat, dim=-1)  # (B, H*W)\n",
    "        _, indices = torch.topk(norms, N, dim=-1)  # Top-k indices\n",
    "        indices = indices.sort(dim=-1).indices  # Sort để ổn định\n",
    "        x_nodes = torch.gather(x_flat, 1, indices.unsqueeze(-1).expand(-1, -1, C))  # (B, N, C)\n",
    "        \n",
    "        # Thêm positional encoding\n",
    "        x_nodes = x_nodes + self.pos_enc.expand(B, -1, -1)\n",
    "        \n",
    "        q = self.query(x_nodes).view(B, N, self.heads, self.head_dim).transpose(1, 2)\n",
    "        k = self.key(x_nodes).view(B, N, self.heads, self.head_dim).transpose(1, 2)\n",
    "        v = self.value(x_nodes).view(B, N, self.heads, self.head_dim).transpose(1, 2)\n",
    "        \n",
    "        attn_weights = torch.matmul(q, k.transpose(-2, -1)) * self.scale\n",
    "        attn_weights = F.softmax(attn_weights, dim=-1)\n",
    "        attn_weights = self.dropout(attn_weights)  # Thêm dropout\n",
    "        attn_output = torch.matmul(attn_weights, v)\n",
    "        attn_output = attn_output.transpose(1, 2).contiguous().view(B, N, C)\n",
    "        \n",
    "        out_nodes = self.out(attn_output)\n",
    "        \n",
    "        out_flat = torch.zeros_like(x_flat)\n",
    "        out_flat.scatter_(1, indices.unsqueeze(-1).expand(-1, -1, C), out_nodes)\n",
    "        out = out_flat.transpose(1, 2).view(B, C, H, W)\n",
    "        \n",
    "        return x + out  # Residual connection\n",
    "\n",
    "class TemporalAttentionAggregator(nn.Module):\n",
    "    def __init__(self, in_channels, num_heads=4):\n",
    "        super().__init__()\n",
    "        self.attention_net = nn.MultiheadAttention(embed_dim=in_channels, num_heads=num_heads)  # Thay MLP bằng MultiheadAttention\n",
    "        self.norm = nn.LayerNorm(in_channels)\n",
    "\n",
    "    def forward(self, x):\n",
    "        if len(x.shape) == 4:  # (B, C, H, W) -> Giả sử single frame, flatten spatial\n",
    "            B, C, H, W = x.size()\n",
    "            x_flat = x.flatten(2).transpose(1, 2)  # (B, H*W, C)\n",
    "        elif len(x.shape) == 5:  # (B, T, C, H, W) -> Flatten temporal-spatial\n",
    "            B, T, C, H, W = x.size()\n",
    "            x_flat = x.flatten(3).transpose(2, 3).reshape(B, T * H * W, C)  # (B, T*H*W, C)\n",
    "        else:\n",
    "            raise ValueError(\"Input must be 4D or 5D tensor\")\n",
    "        \n",
    "        # Temporal-spatial attention\n",
    "        x_flat = self.norm(x_flat)\n",
    "        attn_output, _ = self.attention_net(x_flat, x_flat, x_flat)  # Self-attention\n",
    "        \n",
    "        # Aggregate\n",
    "        aggregated_vector = torch.mean(attn_output, dim=1)  # Mean pooling thay sum để ổn định\n",
    "        return aggregated_vector\n",
    "\n",
    "class InvertedResidual(nn.Module):\n",
    "    def __init__(self, in_channels, out_channels, stride, expansion=6):  # Tăng expansion mặc định\n",
    "        super().__init__()\n",
    "        hidden_dim = in_channels * expansion\n",
    "        self.use_residual = in_channels == out_channels and stride == 1\n",
    "        \n",
    "        self.conv = nn.Sequential(\n",
    "            nn.Conv2d(in_channels, hidden_dim, 1, bias=False),\n",
    "            nn.BatchNorm2d(hidden_dim),\n",
    "            nn.SiLU(inplace=True),  # Thay ReLU6 bằng SiLU (Swish)\n",
    "            nn.Conv2d(hidden_dim, hidden_dim, 3, stride, 1, groups=hidden_dim, bias=False),\n",
    "            nn.BatchNorm2d(hidden_dim),\n",
    "            nn.SiLU(inplace=True),\n",
    "            nn.Conv2d(hidden_dim, out_channels, 1, bias=False),\n",
    "            nn.BatchNorm2d(out_channels),\n",
    "        )\n",
    "        \n",
    "        # Thêm SE block\n",
    "        self.se = nn.Sequential(\n",
    "            nn.AdaptiveAvgPool2d(1),\n",
    "            nn.Conv2d(out_channels, out_channels // 16, 1),\n",
    "            nn.SiLU(),\n",
    "            nn.Conv2d(out_channels // 16, out_channels, 1),\n",
    "            nn.Sigmoid()\n",
    "        )\n",
    "\n",
    "    def forward(self, x):\n",
    "        out = self.conv(x)\n",
    "        out = out * self.se(out)  # Áp dụng SE\n",
    "        return x + out if self.use_residual else out"
   ]
  },
  {
   "cell_type": "code",
   "execution_count": 4,
   "id": "561c9475-5f99-4695-8cbf-1b2c5422e1a3",
   "metadata": {},
   "outputs": [],
   "source": [
    "class PestLarvaNet_Small(nn.Module):\n",
    "    def __init__(self, num_classes, input_channels=1):\n",
    "        super().__init__()\n",
    "        self.config = [[1, 24, 2, 1], [4, 32, 2, 2], [4, 56, 3, 2], [6, 96, 2, 2]]\n",
    "        self.stem = nn.Sequential(\n",
    "            nn.Conv2d(input_channels, 24, 3, 2, 1, bias=False),\n",
    "            nn.BatchNorm2d(24), nn.SiLU(inplace=True))\n",
    "        \n",
    "        layers = []\n",
    "        in_channels = 24\n",
    "        for t, c, n, s in self.config:\n",
    "            for i in range(n):\n",
    "                stride = s if i == 0 else 1\n",
    "                layers.append(InvertedResidual(in_channels, c, stride, expansion=t))\n",
    "                in_channels = c\n",
    "            if c == 32:\n",
    "                layers.append(DynamicGraphAttention(in_channels, num_nodes=24, heads=4))\n",
    "        self.body = nn.Sequential(*layers)\n",
    "\n",
    "        self.head_conv = nn.Conv2d(96, 256, 1, bias=False)\n",
    "        self.aggregator = TemporalAttentionAggregator(256, num_heads=8)\n",
    "        self.classifier = nn.Sequential(\n",
    "            nn.Linear(256, 128), nn.SiLU(inplace=True), nn.Dropout(0.3),\n",
    "            nn.Linear(128, num_classes))\n",
    "    \n",
    "    def forward(self, x):\n",
    "        x = self.stem(x); x = self.body(x); x = self.head_conv(x)\n",
    "        x = self.aggregator(x); x = self.classifier(x); return x"
   ]
  },
  {
   "cell_type": "code",
   "execution_count": 5,
   "id": "2f5c3927-b694-47e6-ba38-cecf04d3fdf8",
   "metadata": {},
   "outputs": [],
   "source": [
    "def count_parameters(model):\n",
    "    total = sum(p.numel() for p in model.parameters())\n",
    "    trainable = sum(p.numel() for p in model.parameters() if p.requires_grad)\n",
    "    return total, trainable"
   ]
  },
  {
   "cell_type": "code",
   "execution_count": 6,
   "id": "81a46c0f-6c6c-4d56-81ca-5ab689474f1e",
   "metadata": {},
   "outputs": [],
   "source": [
    "class InsectSpectrogramDataset(Dataset):\n",
    "    \"\"\"Dataset tùy chỉnh để đọc các file spectrogram .pt\"\"\"\n",
    "    def __init__(self, metadata_file, data_dir, transform=None):\n",
    "        self.metadata = pd.read_csv(metadata_file)\n",
    "        self.data_dir = data_dir\n",
    "        self.transform = transform\n",
    "        self.file_column = 'file_name'\n",
    "        self.label_column = 'label'\n",
    "        \n",
    "        self.class_names = sorted(self.metadata[self.label_column].unique())\n",
    "        self.class_to_id = {name: i for i, name in enumerate(self.class_names)}\n",
    "        self.id_to_class = {i: name for name, i in self.class_to_id.items()}\n",
    "\n",
    "    def __len__(self):\n",
    "        return len(self.metadata)\n",
    "\n",
    "    def __getitem__(self, idx):\n",
    "        file_name = self.metadata.iloc[idx][self.file_column]\n",
    "        file_path = os.path.join(self.data_dir, file_name)\n",
    "        label_name = self.metadata.iloc[idx][self.label_column]\n",
    "        label = self.class_to_id[label_name]\n",
    "        \n",
    "        try:\n",
    "            spectrogram = torch.load(file_path)\n",
    "            if spectrogram.dim() == 2:\n",
    "                spectrogram = spectrogram.unsqueeze(0)\n",
    "            if self.transform:\n",
    "                spectrogram = self.transform(spectrogram)\n",
    "            return spectrogram, label\n",
    "        except Exception as e:\n",
    "            print(f\"Lỗi khi tải file {file_path}: {e}\")\n",
    "            return torch.zeros(1, 128, 259), -1 # Trả về mẫu lỗi"
   ]
  },
  {
   "cell_type": "code",
   "execution_count": 7,
   "id": "e3d4cf3d-4921-4deb-9d76-1878d0ccc5c2",
   "metadata": {},
   "outputs": [],
   "source": [
    "METADATA_PATH = r'F:/Working Sync/LAB projects/InsectSELD/Dataset/metadata_Mel.csv' \n",
    "DATA_DIR = r'F:/Working Sync/LAB projects/InsectSELD/Dataset/MelSpectrograms'"
   ]
  },
  {
   "cell_type": "code",
   "execution_count": 8,
   "id": "dbd3bd2b-9f18-42eb-96c9-c748d1bd9386",
   "metadata": {},
   "outputs": [],
   "source": [
    "class TimeShift(torch.nn.Module):\n",
    "    \"\"\" Dịch chuyển spectrogram theo trục thời gian một cách ngẫu nhiên. \"\"\"\n",
    "    def __init__(self, p=0.5, max_shift_percent=0.4):\n",
    "        super().__init__()\n",
    "        self.p = p\n",
    "        self.max_shift_percent = max_shift_percent\n",
    "\n",
    "    def forward(self, spec):\n",
    "        if torch.rand(1) < self.p:\n",
    "            time_steps = spec.shape[-1]\n",
    "            # Chọn một lượng dịch chuyển ngẫu nhiên\n",
    "            shift_amount = int(torch.rand(1) * self.max_shift_percent * time_steps)\n",
    "            # Dịch ngẫu nhiên sang trái hoặc phải\n",
    "            if torch.rand(1) < 0.5:\n",
    "                shift_amount = -shift_amount\n",
    "            return torch.roll(spec, shifts=shift_amount, dims=-1)\n",
    "        return spec\n",
    "\n",
    "class SpecNoise(torch.nn.Module):\n",
    "    \"\"\" Thêm nhiễu Gaussian trực tiếp vào spectrogram. \"\"\"\n",
    "    def __init__(self, p=0.5, noise_level=0.05):\n",
    "        super().__init__()\n",
    "        self.p = p\n",
    "        self.noise_level = noise_level\n",
    "\n",
    "    def forward(self, spec):\n",
    "        if torch.rand(1) < self.p:\n",
    "            noise = torch.randn_like(spec) * self.noise_level\n",
    "            return spec + noise\n",
    "        return spec"
   ]
  },
  {
   "cell_type": "code",
   "execution_count": 9,
   "id": "d18f938b-e3c8-4d8f-bd08-19b4d0c7b19f",
   "metadata": {},
   "outputs": [
    {
     "name": "stdout",
     "output_type": "stream",
     "text": [
      "Đã định nghĩa xong pipeline Augmentation cho Spectrogram.\n"
     ]
    }
   ],
   "source": [
    "train_transform = T.Compose([\n",
    "    # Kỹ thuật 1: SpecAugment (Time & Frequency Masking)\n",
    "    torchaudio.transforms.TimeMasking(time_mask_param=80),\n",
    "    torchaudio.transforms.FrequencyMasking(freq_mask_param=25),\n",
    "    \n",
    "    # Kỹ thuật 2: Time Shifting\n",
    "    TimeShift(p=0.5, max_shift_percent=0.4),\n",
    "    \n",
    "    # Kỹ thuật 3: Spectrogram Noise\n",
    "    SpecNoise(p=0.3, noise_level=0.03),\n",
    "])\n",
    "\n",
    "# Tập validation không sử dụng augmentation\n",
    "val_transform = None\n",
    "\n",
    "print(\"Đã định nghĩa xong pipeline Augmentation cho Spectrogram.\")"
   ]
  },
  {
   "cell_type": "code",
   "execution_count": 10,
   "id": "4f33aa01-1795-4515-a580-c23fad5fa635",
   "metadata": {},
   "outputs": [],
   "source": [
    "def mixup_data(x, y, alpha=0.4, use_cuda=True):\n",
    "    \"\"\"\n",
    "    Trộn dữ liệu trong một batch.\n",
    "    Trả về input đã trộn, và hai bộ nhãn gốc cùng với hệ số trộn lambda.\n",
    "    \"\"\"\n",
    "    if alpha > 0:\n",
    "        lam = np.random.beta(alpha, alpha)\n",
    "    else:\n",
    "        lam = 1\n",
    "\n",
    "    batch_size = x.size()[0]\n",
    "    if use_cuda:\n",
    "        index = torch.randperm(batch_size).cuda()\n",
    "    else:\n",
    "        index = torch.randperm(batch_size)\n",
    "\n",
    "    mixed_x = lam * x + (1 - lam) * x[index, :]\n",
    "    y_a, y_b = y, y[index]\n",
    "    return mixed_x, y_a, y_b, lam\n",
    "\n",
    "\n",
    "def mixup_criterion(criterion, pred, y_a, y_b, lam):\n",
    "    \"\"\"\n",
    "    Hàm tính loss đặc biệt cho Mixup.\n",
    "    \"\"\"\n",
    "    return lam * criterion(pred, y_a) + (1 - lam) * criterion(pred, y_b)"
   ]
  },
  {
   "cell_type": "code",
   "execution_count": 11,
   "id": "18a940e3-05da-449c-8207-c38aa6ad0de3",
   "metadata": {},
   "outputs": [
    {
     "name": "stdout",
     "output_type": "stream",
     "text": [
      "Tải dữ liệu thành công: 165982 mẫu, 12 lớp.\n"
     ]
    }
   ],
   "source": [
    "if not os.path.exists(METADATA_PATH) or not os.path.isdir(DATA_DIR):\n",
    "    print(\"!!! LỖI: Vui lòng kiểm tra lại đường dẫn METADATA_PATH và DATA_DIR.\")\n",
    "else:\n",
    "    full_dataset = InsectSpectrogramDataset(METADATA_PATH, DATA_DIR)\n",
    "    num_classes = len(full_dataset.class_names)\n",
    "    print(f\"Tải dữ liệu thành công: {len(full_dataset)} mẫu, {num_classes} lớp.\")\n",
    "\n",
    "    train_size = int(0.8 * len(full_dataset))\n",
    "    val_size = len(full_dataset) - train_size\n",
    "    generator = torch.Generator().manual_seed(42)\n",
    "    train_dataset, val_dataset = random_split(full_dataset, [train_size, val_size], generator)\n",
    "\n",
    "    train_dataset.dataset.transform = train_transform\n",
    "    val_dataset.dataset.transform = val_transform\n",
    "\n",
    "    BATCH_SIZE = 32\n",
    "    train_loader = DataLoader(train_dataset, batch_size=BATCH_SIZE, shuffle=True, num_workers=0)\n",
    "    val_loader = DataLoader(val_dataset, batch_size=BATCH_SIZE, shuffle=False, num_workers=0)"
   ]
  },
  {
   "cell_type": "code",
   "execution_count": 12,
   "id": "d6d3d42a-f0a9-491b-89a1-e90a76d33bdf",
   "metadata": {},
   "outputs": [],
   "source": [
    "EPOCHS = 100\n",
    "LEARNING_RATE = 0.001\n",
    "WEIGHT_DECAY = 1e-4\n",
    "\n",
    "CHECKPOINT_DIR = r'F:/Working Sync/LAB projects/InsectSELD/Dataset/checkpoints_small'\n",
    "LOG_CSV_PATH = 'F:/Working Sync/LAB projects/InsectSELD/Dataset/training_log_small.csv'\n",
    "os.makedirs(CHECKPOINT_DIR, exist_ok=True)"
   ]
  },
  {
   "cell_type": "code",
   "execution_count": 13,
   "id": "3b0a5983-805b-46c5-8e8c-5f0a07fa8b7b",
   "metadata": {},
   "outputs": [
    {
     "name": "stdout",
     "output_type": "stream",
     "text": [
      "Khởi tạo mô hình PestLarvaNet-GMA với 0.59M tham số.\n"
     ]
    }
   ],
   "source": [
    "model = PestLarvaNet_Small(num_classes=num_classes).to(device)\n",
    "total_params, _ = count_parameters(model)\n",
    "print(f\"Khởi tạo mô hình PestLarvaNet-GMA với {total_params/1e6:.2f}M tham số.\")\n",
    "\n",
    "criterion = nn.CrossEntropyLoss()\n",
    "optimizer = torch.optim.AdamW(model.parameters(), lr=LEARNING_RATE, weight_decay=WEIGHT_DECAY)\n",
    "scheduler = torch.optim.lr_scheduler.CosineAnnealingLR(optimizer, T_max=EPOCHS)"
   ]
  },
  {
   "cell_type": "code",
   "execution_count": 14,
   "id": "d53eaa89-a519-4d94-93b6-7481ae606df8",
   "metadata": {},
   "outputs": [
    {
     "name": "stdout",
     "output_type": "stream",
     "text": [
      "\n",
      "Bắt đầu huấn luyện... Checkpoints sẽ được lưu tại 'F:/Working Sync/LAB projects/InsectSELD/Dataset/checkpoints_small' và log tại 'F:/Working Sync/LAB projects/InsectSELD/Dataset/training_log_small.csv'\n"
     ]
    }
   ],
   "source": [
    "log_header = [\n",
    "    'epoch', 'train_loss', 'val_loss', 'learning_rate', 'accuracy',\n",
    "    'macro_f1', 'weighted_f1', 'macro_precision', 'weighted_precision',\n",
    "    'macro_recall', 'weighted_recall'\n",
    "]\n",
    "with open(LOG_CSV_PATH, 'w', newline='', encoding='utf-8') as f:\n",
    "    csv.writer(f).writerow(log_header)\n",
    "\n",
    "print(f\"\\nBắt đầu huấn luyện... Checkpoints sẽ được lưu tại '{CHECKPOINT_DIR}' và log tại '{LOG_CSV_PATH}'\")\n",
    "\n",
    "# --- Vòng lặp huấn luyện chính ---\n",
    "best_val_f1 = 0.0\n"
   ]
  },
  {
   "cell_type": "code",
   "execution_count": 15,
   "id": "5f0161a7-f3ca-4c11-96a6-778ab7d83042",
   "metadata": {},
   "outputs": [
    {
     "data": {
      "application/vnd.jupyter.widget-view+json": {
       "model_id": "a931157a92c44e81836c5c7a4c4d40f8",
       "version_major": 2,
       "version_minor": 0
      },
      "text/plain": [
       "Epoch 1/100 [Training]:   0%|          | 0/4150 [00:00<?, ?it/s]"
      ]
     },
     "metadata": {},
     "output_type": "display_data"
    },
    {
     "data": {
      "application/vnd.jupyter.widget-view+json": {
       "model_id": "56d0796d429041dcb5ecd2e20c022896",
       "version_major": 2,
       "version_minor": 0
      },
      "text/plain": [
       "Epoch 1/100 [Validation]:   0%|          | 0/1038 [00:00<?, ?it/s]"
      ]
     },
     "metadata": {},
     "output_type": "display_data"
    },
    {
     "name": "stdout",
     "output_type": "stream",
     "text": [
      "\n",
      "--- Epoch 1/100 Summary ---\n",
      "  Train Loss: 1.3245 | Val Loss: 2.0318\n",
      "  Accuracy: 0.4497 | Weighted F1: 0.4112\n",
      "  Learning Rate: 0.001000\n",
      "  => 🎉 New best model saved to 'F:/Working Sync/LAB projects/InsectSELD/Dataset/checkpoints_small\\best_model.pth' (Weighted F1: 0.4112)\n",
      "\n"
     ]
    },
    {
     "data": {
      "application/vnd.jupyter.widget-view+json": {
       "model_id": "90c62cfaee7142b2b4643865875ce5b7",
       "version_major": 2,
       "version_minor": 0
      },
      "text/plain": [
       "Epoch 2/100 [Training]:   0%|          | 0/4150 [00:00<?, ?it/s]"
      ]
     },
     "metadata": {},
     "output_type": "display_data"
    },
    {
     "data": {
      "application/vnd.jupyter.widget-view+json": {
       "model_id": "08cac6680f784d6cbac9fa588ce709a8",
       "version_major": 2,
       "version_minor": 0
      },
      "text/plain": [
       "Epoch 2/100 [Validation]:   0%|          | 0/1038 [00:00<?, ?it/s]"
      ]
     },
     "metadata": {},
     "output_type": "display_data"
    },
    {
     "name": "stdout",
     "output_type": "stream",
     "text": [
      "\n",
      "--- Epoch 2/100 Summary ---\n",
      "  Train Loss: 1.0794 | Val Loss: 1.1962\n",
      "  Accuracy: 0.6007 | Weighted F1: 0.5750\n",
      "  Learning Rate: 0.001000\n",
      "  => 🎉 New best model saved to 'F:/Working Sync/LAB projects/InsectSELD/Dataset/checkpoints_small\\best_model.pth' (Weighted F1: 0.5750)\n",
      "\n"
     ]
    },
    {
     "data": {
      "application/vnd.jupyter.widget-view+json": {
       "model_id": "c73e20f0a3264e858712c11b6fde4a1e",
       "version_major": 2,
       "version_minor": 0
      },
      "text/plain": [
       "Epoch 3/100 [Training]:   0%|          | 0/4150 [00:00<?, ?it/s]"
      ]
     },
     "metadata": {},
     "output_type": "display_data"
    },
    {
     "data": {
      "application/vnd.jupyter.widget-view+json": {
       "model_id": "f113cc4c22f2483588bf7c44a36e2893",
       "version_major": 2,
       "version_minor": 0
      },
      "text/plain": [
       "Epoch 3/100 [Validation]:   0%|          | 0/1038 [00:00<?, ?it/s]"
      ]
     },
     "metadata": {},
     "output_type": "display_data"
    },
    {
     "name": "stdout",
     "output_type": "stream",
     "text": [
      "\n",
      "--- Epoch 3/100 Summary ---\n",
      "  Train Loss: 1.0007 | Val Loss: 0.8683\n",
      "  Accuracy: 0.6993 | Weighted F1: 0.7021\n",
      "  Learning Rate: 0.000999\n",
      "  => 🎉 New best model saved to 'F:/Working Sync/LAB projects/InsectSELD/Dataset/checkpoints_small\\best_model.pth' (Weighted F1: 0.7021)\n",
      "\n"
     ]
    },
    {
     "data": {
      "application/vnd.jupyter.widget-view+json": {
       "model_id": "08a338b2098d4854973e0241f01a9b42",
       "version_major": 2,
       "version_minor": 0
      },
      "text/plain": [
       "Epoch 4/100 [Training]:   0%|          | 0/4150 [00:00<?, ?it/s]"
      ]
     },
     "metadata": {},
     "output_type": "display_data"
    },
    {
     "data": {
      "application/vnd.jupyter.widget-view+json": {
       "model_id": "6aa9146ef7ed4babbb0d8f18963ca509",
       "version_major": 2,
       "version_minor": 0
      },
      "text/plain": [
       "Epoch 4/100 [Validation]:   0%|          | 0/1038 [00:00<?, ?it/s]"
      ]
     },
     "metadata": {},
     "output_type": "display_data"
    },
    {
     "name": "stdout",
     "output_type": "stream",
     "text": [
      "\n",
      "--- Epoch 4/100 Summary ---\n",
      "  Train Loss: 0.9217 | Val Loss: 0.6412\n",
      "  Accuracy: 0.7755 | Weighted F1: 0.7749\n",
      "  Learning Rate: 0.000998\n",
      "  => 🎉 New best model saved to 'F:/Working Sync/LAB projects/InsectSELD/Dataset/checkpoints_small\\best_model.pth' (Weighted F1: 0.7749)\n",
      "\n"
     ]
    },
    {
     "data": {
      "application/vnd.jupyter.widget-view+json": {
       "model_id": "9a5324d6673043a2a76e72b6c13b2cae",
       "version_major": 2,
       "version_minor": 0
      },
      "text/plain": [
       "Epoch 5/100 [Training]:   0%|          | 0/4150 [00:00<?, ?it/s]"
      ]
     },
     "metadata": {},
     "output_type": "display_data"
    },
    {
     "data": {
      "application/vnd.jupyter.widget-view+json": {
       "model_id": "4b17c23075a8482f921903b19a588c8f",
       "version_major": 2,
       "version_minor": 0
      },
      "text/plain": [
       "Epoch 5/100 [Validation]:   0%|          | 0/1038 [00:00<?, ?it/s]"
      ]
     },
     "metadata": {},
     "output_type": "display_data"
    },
    {
     "name": "stdout",
     "output_type": "stream",
     "text": [
      "\n",
      "--- Epoch 5/100 Summary ---\n",
      "  Train Loss: 0.8606 | Val Loss: 0.6187\n",
      "  Accuracy: 0.7868 | Weighted F1: 0.7868\n",
      "  Learning Rate: 0.000996\n",
      "  => 🎉 New best model saved to 'F:/Working Sync/LAB projects/InsectSELD/Dataset/checkpoints_small\\best_model.pth' (Weighted F1: 0.7868)\n",
      "\n"
     ]
    },
    {
     "data": {
      "application/vnd.jupyter.widget-view+json": {
       "model_id": "41bae1b984f447f3a33566adac2eb5d5",
       "version_major": 2,
       "version_minor": 0
      },
      "text/plain": [
       "Epoch 6/100 [Training]:   0%|          | 0/4150 [00:00<?, ?it/s]"
      ]
     },
     "metadata": {},
     "output_type": "display_data"
    },
    {
     "data": {
      "application/vnd.jupyter.widget-view+json": {
       "model_id": "e4389e9cf98449e0b6de188c650d5b07",
       "version_major": 2,
       "version_minor": 0
      },
      "text/plain": [
       "Epoch 6/100 [Validation]:   0%|          | 0/1038 [00:00<?, ?it/s]"
      ]
     },
     "metadata": {},
     "output_type": "display_data"
    },
    {
     "name": "stdout",
     "output_type": "stream",
     "text": [
      "\n",
      "--- Epoch 6/100 Summary ---\n",
      "  Train Loss: 0.8163 | Val Loss: 0.6115\n",
      "  Accuracy: 0.7921 | Weighted F1: 0.7915\n",
      "  Learning Rate: 0.000994\n",
      "  => 🎉 New best model saved to 'F:/Working Sync/LAB projects/InsectSELD/Dataset/checkpoints_small\\best_model.pth' (Weighted F1: 0.7915)\n",
      "\n"
     ]
    },
    {
     "data": {
      "application/vnd.jupyter.widget-view+json": {
       "model_id": "681ffbf59c104f58b4fa36ba7f10f4c0",
       "version_major": 2,
       "version_minor": 0
      },
      "text/plain": [
       "Epoch 7/100 [Training]:   0%|          | 0/4150 [00:00<?, ?it/s]"
      ]
     },
     "metadata": {},
     "output_type": "display_data"
    },
    {
     "data": {
      "application/vnd.jupyter.widget-view+json": {
       "model_id": "f4ed6d6c2dc54c40b3d719336993b486",
       "version_major": 2,
       "version_minor": 0
      },
      "text/plain": [
       "Epoch 7/100 [Validation]:   0%|          | 0/1038 [00:00<?, ?it/s]"
      ]
     },
     "metadata": {},
     "output_type": "display_data"
    },
    {
     "name": "stdout",
     "output_type": "stream",
     "text": [
      "\n",
      "--- Epoch 7/100 Summary ---\n",
      "  Train Loss: 0.7610 | Val Loss: 0.5535\n",
      "  Accuracy: 0.8055 | Weighted F1: 0.8069\n",
      "  Learning Rate: 0.000991\n",
      "  => 🎉 New best model saved to 'F:/Working Sync/LAB projects/InsectSELD/Dataset/checkpoints_small\\best_model.pth' (Weighted F1: 0.8069)\n",
      "\n"
     ]
    },
    {
     "data": {
      "application/vnd.jupyter.widget-view+json": {
       "model_id": "ec9f80b97fb24803827859e54f367185",
       "version_major": 2,
       "version_minor": 0
      },
      "text/plain": [
       "Epoch 8/100 [Training]:   0%|          | 0/4150 [00:00<?, ?it/s]"
      ]
     },
     "metadata": {},
     "output_type": "display_data"
    },
    {
     "data": {
      "application/vnd.jupyter.widget-view+json": {
       "model_id": "8b96fdfc5eb147e0a1710f54d731cca1",
       "version_major": 2,
       "version_minor": 0
      },
      "text/plain": [
       "Epoch 8/100 [Validation]:   0%|          | 0/1038 [00:00<?, ?it/s]"
      ]
     },
     "metadata": {},
     "output_type": "display_data"
    },
    {
     "name": "stdout",
     "output_type": "stream",
     "text": [
      "\n",
      "--- Epoch 8/100 Summary ---\n",
      "  Train Loss: 0.7145 | Val Loss: 0.5069\n",
      "  Accuracy: 0.8230 | Weighted F1: 0.8195\n",
      "  Learning Rate: 0.000988\n",
      "  => 🎉 New best model saved to 'F:/Working Sync/LAB projects/InsectSELD/Dataset/checkpoints_small\\best_model.pth' (Weighted F1: 0.8195)\n",
      "\n"
     ]
    },
    {
     "data": {
      "application/vnd.jupyter.widget-view+json": {
       "model_id": "d78d6e4aca0a4402b02e25c4ec5dc589",
       "version_major": 2,
       "version_minor": 0
      },
      "text/plain": [
       "Epoch 9/100 [Training]:   0%|          | 0/4150 [00:00<?, ?it/s]"
      ]
     },
     "metadata": {},
     "output_type": "display_data"
    },
    {
     "data": {
      "application/vnd.jupyter.widget-view+json": {
       "model_id": "3de60f7241f240e1a39dfecbc5f5aca4",
       "version_major": 2,
       "version_minor": 0
      },
      "text/plain": [
       "Epoch 9/100 [Validation]:   0%|          | 0/1038 [00:00<?, ?it/s]"
      ]
     },
     "metadata": {},
     "output_type": "display_data"
    },
    {
     "name": "stdout",
     "output_type": "stream",
     "text": [
      "\n",
      "--- Epoch 9/100 Summary ---\n",
      "  Train Loss: 0.6811 | Val Loss: 0.4362\n",
      "  Accuracy: 0.8541 | Weighted F1: 0.8536\n",
      "  Learning Rate: 0.000984\n",
      "  => 🎉 New best model saved to 'F:/Working Sync/LAB projects/InsectSELD/Dataset/checkpoints_small\\best_model.pth' (Weighted F1: 0.8536)\n",
      "\n"
     ]
    },
    {
     "data": {
      "application/vnd.jupyter.widget-view+json": {
       "model_id": "5603f26bab2045418cbde1194b981a1f",
       "version_major": 2,
       "version_minor": 0
      },
      "text/plain": [
       "Epoch 10/100 [Training]:   0%|          | 0/4150 [00:00<?, ?it/s]"
      ]
     },
     "metadata": {},
     "output_type": "display_data"
    },
    {
     "data": {
      "application/vnd.jupyter.widget-view+json": {
       "model_id": "6d7ef18dd48f4bfe8fc6f75c31c93ff9",
       "version_major": 2,
       "version_minor": 0
      },
      "text/plain": [
       "Epoch 10/100 [Validation]:   0%|          | 0/1038 [00:00<?, ?it/s]"
      ]
     },
     "metadata": {},
     "output_type": "display_data"
    },
    {
     "name": "stdout",
     "output_type": "stream",
     "text": [
      "\n",
      "--- Epoch 10/100 Summary ---\n",
      "  Train Loss: 0.6464 | Val Loss: 0.4277\n",
      "  Accuracy: 0.8513 | Weighted F1: 0.8520\n",
      "  Learning Rate: 0.000980\n"
     ]
    },
    {
     "data": {
      "application/vnd.jupyter.widget-view+json": {
       "model_id": "6c6a88ad292644b79bdf1148ab54c9c5",
       "version_major": 2,
       "version_minor": 0
      },
      "text/plain": [
       "Epoch 11/100 [Training]:   0%|          | 0/4150 [00:00<?, ?it/s]"
      ]
     },
     "metadata": {},
     "output_type": "display_data"
    },
    {
     "data": {
      "application/vnd.jupyter.widget-view+json": {
       "model_id": "59eb42438999428fa2600e4954d11a2b",
       "version_major": 2,
       "version_minor": 0
      },
      "text/plain": [
       "Epoch 11/100 [Validation]:   0%|          | 0/1038 [00:00<?, ?it/s]"
      ]
     },
     "metadata": {},
     "output_type": "display_data"
    },
    {
     "name": "stdout",
     "output_type": "stream",
     "text": [
      "\n",
      "--- Epoch 11/100 Summary ---\n",
      "  Train Loss: 0.6266 | Val Loss: 0.3463\n",
      "  Accuracy: 0.8810 | Weighted F1: 0.8793\n",
      "  Learning Rate: 0.000976\n",
      "  => 🎉 New best model saved to 'F:/Working Sync/LAB projects/InsectSELD/Dataset/checkpoints_small\\best_model.pth' (Weighted F1: 0.8793)\n",
      "\n"
     ]
    },
    {
     "data": {
      "application/vnd.jupyter.widget-view+json": {
       "model_id": "e6716fa15d3d491197aaca56fe07280f",
       "version_major": 2,
       "version_minor": 0
      },
      "text/plain": [
       "Epoch 12/100 [Training]:   0%|          | 0/4150 [00:00<?, ?it/s]"
      ]
     },
     "metadata": {},
     "output_type": "display_data"
    },
    {
     "data": {
      "application/vnd.jupyter.widget-view+json": {
       "model_id": "8fa5a1c8d5664b21a427a608d6a81ea2",
       "version_major": 2,
       "version_minor": 0
      },
      "text/plain": [
       "Epoch 12/100 [Validation]:   0%|          | 0/1038 [00:00<?, ?it/s]"
      ]
     },
     "metadata": {},
     "output_type": "display_data"
    },
    {
     "name": "stdout",
     "output_type": "stream",
     "text": [
      "\n",
      "--- Epoch 12/100 Summary ---\n",
      "  Train Loss: 0.6089 | Val Loss: 0.4109\n",
      "  Accuracy: 0.8597 | Weighted F1: 0.8589\n",
      "  Learning Rate: 0.000970\n"
     ]
    },
    {
     "data": {
      "application/vnd.jupyter.widget-view+json": {
       "model_id": "3008cd71f9af4658b1fac574f58b6a3e",
       "version_major": 2,
       "version_minor": 0
      },
      "text/plain": [
       "Epoch 13/100 [Training]:   0%|          | 0/4150 [00:00<?, ?it/s]"
      ]
     },
     "metadata": {},
     "output_type": "display_data"
    },
    {
     "data": {
      "application/vnd.jupyter.widget-view+json": {
       "model_id": "8b50ee1df093411aaf12baf4d63c56b9",
       "version_major": 2,
       "version_minor": 0
      },
      "text/plain": [
       "Epoch 13/100 [Validation]:   0%|          | 0/1038 [00:00<?, ?it/s]"
      ]
     },
     "metadata": {},
     "output_type": "display_data"
    },
    {
     "name": "stdout",
     "output_type": "stream",
     "text": [
      "\n",
      "--- Epoch 13/100 Summary ---\n",
      "  Train Loss: 0.5976 | Val Loss: 0.6272\n",
      "  Accuracy: 0.7865 | Weighted F1: 0.7826\n",
      "  Learning Rate: 0.000965\n"
     ]
    },
    {
     "data": {
      "application/vnd.jupyter.widget-view+json": {
       "model_id": "5ed881189b854cc79cb0adead8b248c3",
       "version_major": 2,
       "version_minor": 0
      },
      "text/plain": [
       "Epoch 14/100 [Training]:   0%|          | 0/4150 [00:00<?, ?it/s]"
      ]
     },
     "metadata": {},
     "output_type": "display_data"
    },
    {
     "data": {
      "application/vnd.jupyter.widget-view+json": {
       "model_id": "f4f834ade849452292ee5d2579d7bc35",
       "version_major": 2,
       "version_minor": 0
      },
      "text/plain": [
       "Epoch 14/100 [Validation]:   0%|          | 0/1038 [00:00<?, ?it/s]"
      ]
     },
     "metadata": {},
     "output_type": "display_data"
    },
    {
     "name": "stdout",
     "output_type": "stream",
     "text": [
      "\n",
      "--- Epoch 14/100 Summary ---\n",
      "  Train Loss: 0.5688 | Val Loss: 0.3628\n",
      "  Accuracy: 0.8772 | Weighted F1: 0.8774\n",
      "  Learning Rate: 0.000959\n"
     ]
    },
    {
     "data": {
      "application/vnd.jupyter.widget-view+json": {
       "model_id": "6cb85572ce4c46ee8699e3503f4cc222",
       "version_major": 2,
       "version_minor": 0
      },
      "text/plain": [
       "Epoch 15/100 [Training]:   0%|          | 0/4150 [00:00<?, ?it/s]"
      ]
     },
     "metadata": {},
     "output_type": "display_data"
    },
    {
     "data": {
      "application/vnd.jupyter.widget-view+json": {
       "model_id": "778f53d9ea7e42d2a98ad128486c4606",
       "version_major": 2,
       "version_minor": 0
      },
      "text/plain": [
       "Epoch 15/100 [Validation]:   0%|          | 0/1038 [00:00<?, ?it/s]"
      ]
     },
     "metadata": {},
     "output_type": "display_data"
    },
    {
     "name": "stdout",
     "output_type": "stream",
     "text": [
      "\n",
      "--- Epoch 15/100 Summary ---\n",
      "  Train Loss: 0.5634 | Val Loss: 0.3254\n",
      "  Accuracy: 0.8866 | Weighted F1: 0.8865\n",
      "  Learning Rate: 0.000952\n",
      "  => 🎉 New best model saved to 'F:/Working Sync/LAB projects/InsectSELD/Dataset/checkpoints_small\\best_model.pth' (Weighted F1: 0.8865)\n",
      "\n"
     ]
    },
    {
     "data": {
      "application/vnd.jupyter.widget-view+json": {
       "model_id": "9675163497e845d1a5ce3fe40e11ab60",
       "version_major": 2,
       "version_minor": 0
      },
      "text/plain": [
       "Epoch 16/100 [Training]:   0%|          | 0/4150 [00:00<?, ?it/s]"
      ]
     },
     "metadata": {},
     "output_type": "display_data"
    },
    {
     "data": {
      "application/vnd.jupyter.widget-view+json": {
       "model_id": "64eb00d9cecd4dbabe84a4f3f88c926f",
       "version_major": 2,
       "version_minor": 0
      },
      "text/plain": [
       "Epoch 16/100 [Validation]:   0%|          | 0/1038 [00:00<?, ?it/s]"
      ]
     },
     "metadata": {},
     "output_type": "display_data"
    },
    {
     "name": "stdout",
     "output_type": "stream",
     "text": [
      "\n",
      "--- Epoch 16/100 Summary ---\n",
      "  Train Loss: 0.5500 | Val Loss: 0.3851\n",
      "  Accuracy: 0.8721 | Weighted F1: 0.8735\n",
      "  Learning Rate: 0.000946\n"
     ]
    },
    {
     "data": {
      "application/vnd.jupyter.widget-view+json": {
       "model_id": "9069125ca4b1453c9b9d959de0994584",
       "version_major": 2,
       "version_minor": 0
      },
      "text/plain": [
       "Epoch 17/100 [Training]:   0%|          | 0/4150 [00:00<?, ?it/s]"
      ]
     },
     "metadata": {},
     "output_type": "display_data"
    },
    {
     "data": {
      "application/vnd.jupyter.widget-view+json": {
       "model_id": "b7752413100d46c181698a49a9f62b7b",
       "version_major": 2,
       "version_minor": 0
      },
      "text/plain": [
       "Epoch 17/100 [Validation]:   0%|          | 0/1038 [00:00<?, ?it/s]"
      ]
     },
     "metadata": {},
     "output_type": "display_data"
    },
    {
     "name": "stdout",
     "output_type": "stream",
     "text": [
      "\n",
      "--- Epoch 17/100 Summary ---\n",
      "  Train Loss: 0.5356 | Val Loss: 0.3571\n",
      "  Accuracy: 0.8800 | Weighted F1: 0.8790\n",
      "  Learning Rate: 0.000938\n"
     ]
    },
    {
     "data": {
      "application/vnd.jupyter.widget-view+json": {
       "model_id": "9f83916401ab4960a62baec5d9052551",
       "version_major": 2,
       "version_minor": 0
      },
      "text/plain": [
       "Epoch 18/100 [Training]:   0%|          | 0/4150 [00:00<?, ?it/s]"
      ]
     },
     "metadata": {},
     "output_type": "display_data"
    },
    {
     "data": {
      "application/vnd.jupyter.widget-view+json": {
       "model_id": "e7041078687a4209af874bddfe512526",
       "version_major": 2,
       "version_minor": 0
      },
      "text/plain": [
       "Epoch 18/100 [Validation]:   0%|          | 0/1038 [00:00<?, ?it/s]"
      ]
     },
     "metadata": {},
     "output_type": "display_data"
    },
    {
     "name": "stdout",
     "output_type": "stream",
     "text": [
      "\n",
      "--- Epoch 18/100 Summary ---\n",
      "  Train Loss: 0.5303 | Val Loss: 0.5164\n",
      "  Accuracy: 0.8262 | Weighted F1: 0.8259\n",
      "  Learning Rate: 0.000930\n"
     ]
    },
    {
     "data": {
      "application/vnd.jupyter.widget-view+json": {
       "model_id": "6715c1c1f16f4494bad17c3cbf81b3df",
       "version_major": 2,
       "version_minor": 0
      },
      "text/plain": [
       "Epoch 19/100 [Training]:   0%|          | 0/4150 [00:00<?, ?it/s]"
      ]
     },
     "metadata": {},
     "output_type": "display_data"
    },
    {
     "data": {
      "application/vnd.jupyter.widget-view+json": {
       "model_id": "9638fddbcfe546e1a8b07958867e3561",
       "version_major": 2,
       "version_minor": 0
      },
      "text/plain": [
       "Epoch 19/100 [Validation]:   0%|          | 0/1038 [00:00<?, ?it/s]"
      ]
     },
     "metadata": {},
     "output_type": "display_data"
    },
    {
     "name": "stdout",
     "output_type": "stream",
     "text": [
      "\n",
      "--- Epoch 19/100 Summary ---\n",
      "  Train Loss: 0.5140 | Val Loss: 0.3030\n",
      "  Accuracy: 0.8968 | Weighted F1: 0.8963\n",
      "  Learning Rate: 0.000922\n",
      "  => 🎉 New best model saved to 'F:/Working Sync/LAB projects/InsectSELD/Dataset/checkpoints_small\\best_model.pth' (Weighted F1: 0.8963)\n",
      "\n"
     ]
    },
    {
     "data": {
      "application/vnd.jupyter.widget-view+json": {
       "model_id": "ad62317242b3443ea7a22dd6e8221d88",
       "version_major": 2,
       "version_minor": 0
      },
      "text/plain": [
       "Epoch 20/100 [Training]:   0%|          | 0/4150 [00:00<?, ?it/s]"
      ]
     },
     "metadata": {},
     "output_type": "display_data"
    },
    {
     "data": {
      "application/vnd.jupyter.widget-view+json": {
       "model_id": "69eebe1945e44edf81a4627462dc3f30",
       "version_major": 2,
       "version_minor": 0
      },
      "text/plain": [
       "Epoch 20/100 [Validation]:   0%|          | 0/1038 [00:00<?, ?it/s]"
      ]
     },
     "metadata": {},
     "output_type": "display_data"
    },
    {
     "name": "stdout",
     "output_type": "stream",
     "text": [
      "\n",
      "--- Epoch 20/100 Summary ---\n",
      "  Train Loss: 0.5002 | Val Loss: 0.3223\n",
      "  Accuracy: 0.8901 | Weighted F1: 0.8893\n",
      "  Learning Rate: 0.000914\n"
     ]
    },
    {
     "data": {
      "application/vnd.jupyter.widget-view+json": {
       "model_id": "a926395a5dda4d15b013e59234216afb",
       "version_major": 2,
       "version_minor": 0
      },
      "text/plain": [
       "Epoch 21/100 [Training]:   0%|          | 0/4150 [00:00<?, ?it/s]"
      ]
     },
     "metadata": {},
     "output_type": "display_data"
    },
    {
     "data": {
      "application/vnd.jupyter.widget-view+json": {
       "model_id": "fe679a0891c948c895b38c7890f0e9db",
       "version_major": 2,
       "version_minor": 0
      },
      "text/plain": [
       "Epoch 21/100 [Validation]:   0%|          | 0/1038 [00:00<?, ?it/s]"
      ]
     },
     "metadata": {},
     "output_type": "display_data"
    },
    {
     "name": "stdout",
     "output_type": "stream",
     "text": [
      "\n",
      "--- Epoch 21/100 Summary ---\n",
      "  Train Loss: 0.5022 | Val Loss: 0.4275\n",
      "  Accuracy: 0.8559 | Weighted F1: 0.8529\n",
      "  Learning Rate: 0.000905\n"
     ]
    },
    {
     "data": {
      "application/vnd.jupyter.widget-view+json": {
       "model_id": "75d19f8f0077487d8ecbeff969acf821",
       "version_major": 2,
       "version_minor": 0
      },
      "text/plain": [
       "Epoch 22/100 [Training]:   0%|          | 0/4150 [00:00<?, ?it/s]"
      ]
     },
     "metadata": {},
     "output_type": "display_data"
    },
    {
     "data": {
      "application/vnd.jupyter.widget-view+json": {
       "model_id": "2bdd22db32c6494399549ebdc2534a37",
       "version_major": 2,
       "version_minor": 0
      },
      "text/plain": [
       "Epoch 22/100 [Validation]:   0%|          | 0/1038 [00:00<?, ?it/s]"
      ]
     },
     "metadata": {},
     "output_type": "display_data"
    },
    {
     "name": "stdout",
     "output_type": "stream",
     "text": [
      "\n",
      "--- Epoch 22/100 Summary ---\n",
      "  Train Loss: 0.4893 | Val Loss: 0.4497\n",
      "  Accuracy: 0.8550 | Weighted F1: 0.8503\n",
      "  Learning Rate: 0.000895\n"
     ]
    },
    {
     "data": {
      "application/vnd.jupyter.widget-view+json": {
       "model_id": "1a0ec6d1b4c54ed184f92fc74133cb81",
       "version_major": 2,
       "version_minor": 0
      },
      "text/plain": [
       "Epoch 23/100 [Training]:   0%|          | 0/4150 [00:00<?, ?it/s]"
      ]
     },
     "metadata": {},
     "output_type": "display_data"
    },
    {
     "data": {
      "application/vnd.jupyter.widget-view+json": {
       "model_id": "f8405bb3188b4d05924fe4c54faabab2",
       "version_major": 2,
       "version_minor": 0
      },
      "text/plain": [
       "Epoch 23/100 [Validation]:   0%|          | 0/1038 [00:00<?, ?it/s]"
      ]
     },
     "metadata": {},
     "output_type": "display_data"
    },
    {
     "name": "stdout",
     "output_type": "stream",
     "text": [
      "\n",
      "--- Epoch 23/100 Summary ---\n",
      "  Train Loss: 0.4682 | Val Loss: 0.3110\n",
      "  Accuracy: 0.8972 | Weighted F1: 0.8956\n",
      "  Learning Rate: 0.000885\n"
     ]
    },
    {
     "data": {
      "application/vnd.jupyter.widget-view+json": {
       "model_id": "21a66c29874a46d99e4df763b741947f",
       "version_major": 2,
       "version_minor": 0
      },
      "text/plain": [
       "Epoch 24/100 [Training]:   0%|          | 0/4150 [00:00<?, ?it/s]"
      ]
     },
     "metadata": {},
     "output_type": "display_data"
    },
    {
     "data": {
      "application/vnd.jupyter.widget-view+json": {
       "model_id": "4ee3cd31545348c79695fb40707ab8be",
       "version_major": 2,
       "version_minor": 0
      },
      "text/plain": [
       "Epoch 24/100 [Validation]:   0%|          | 0/1038 [00:00<?, ?it/s]"
      ]
     },
     "metadata": {},
     "output_type": "display_data"
    },
    {
     "name": "stdout",
     "output_type": "stream",
     "text": [
      "\n",
      "--- Epoch 24/100 Summary ---\n",
      "  Train Loss: 0.4716 | Val Loss: 0.3088\n",
      "  Accuracy: 0.8973 | Weighted F1: 0.8969\n",
      "  Learning Rate: 0.000875\n",
      "  => 🎉 New best model saved to 'F:/Working Sync/LAB projects/InsectSELD/Dataset/checkpoints_small\\best_model.pth' (Weighted F1: 0.8969)\n",
      "\n"
     ]
    },
    {
     "data": {
      "application/vnd.jupyter.widget-view+json": {
       "model_id": "f3feccd95d12472bbe381b8199b1111e",
       "version_major": 2,
       "version_minor": 0
      },
      "text/plain": [
       "Epoch 25/100 [Training]:   0%|          | 0/4150 [00:00<?, ?it/s]"
      ]
     },
     "metadata": {},
     "output_type": "display_data"
    },
    {
     "data": {
      "application/vnd.jupyter.widget-view+json": {
       "model_id": "0eff0b8e24894dd4bd66ed0914bb476d",
       "version_major": 2,
       "version_minor": 0
      },
      "text/plain": [
       "Epoch 25/100 [Validation]:   0%|          | 0/1038 [00:00<?, ?it/s]"
      ]
     },
     "metadata": {},
     "output_type": "display_data"
    },
    {
     "name": "stdout",
     "output_type": "stream",
     "text": [
      "\n",
      "--- Epoch 25/100 Summary ---\n",
      "  Train Loss: 0.4753 | Val Loss: 0.2658\n",
      "  Accuracy: 0.9108 | Weighted F1: 0.9109\n",
      "  Learning Rate: 0.000864\n",
      "  => 🎉 New best model saved to 'F:/Working Sync/LAB projects/InsectSELD/Dataset/checkpoints_small\\best_model.pth' (Weighted F1: 0.9109)\n",
      "\n"
     ]
    },
    {
     "data": {
      "application/vnd.jupyter.widget-view+json": {
       "model_id": "e3264220e48e494fb1853a1ba230e4dd",
       "version_major": 2,
       "version_minor": 0
      },
      "text/plain": [
       "Epoch 26/100 [Training]:   0%|          | 0/4150 [00:00<?, ?it/s]"
      ]
     },
     "metadata": {},
     "output_type": "display_data"
    },
    {
     "data": {
      "application/vnd.jupyter.widget-view+json": {
       "model_id": "458081225316481a8bbb2009a5fd961f",
       "version_major": 2,
       "version_minor": 0
      },
      "text/plain": [
       "Epoch 26/100 [Validation]:   0%|          | 0/1038 [00:00<?, ?it/s]"
      ]
     },
     "metadata": {},
     "output_type": "display_data"
    },
    {
     "name": "stdout",
     "output_type": "stream",
     "text": [
      "\n",
      "--- Epoch 26/100 Summary ---\n",
      "  Train Loss: 0.4514 | Val Loss: 0.3169\n",
      "  Accuracy: 0.8987 | Weighted F1: 0.8969\n",
      "  Learning Rate: 0.000854\n"
     ]
    },
    {
     "data": {
      "application/vnd.jupyter.widget-view+json": {
       "model_id": "b5b340d723f54baea96864b34a542981",
       "version_major": 2,
       "version_minor": 0
      },
      "text/plain": [
       "Epoch 27/100 [Training]:   0%|          | 0/4150 [00:00<?, ?it/s]"
      ]
     },
     "metadata": {},
     "output_type": "display_data"
    },
    {
     "data": {
      "application/vnd.jupyter.widget-view+json": {
       "model_id": "8ff4b4f2dfa14950a6f52ff02778e347",
       "version_major": 2,
       "version_minor": 0
      },
      "text/plain": [
       "Epoch 27/100 [Validation]:   0%|          | 0/1038 [00:00<?, ?it/s]"
      ]
     },
     "metadata": {},
     "output_type": "display_data"
    },
    {
     "name": "stdout",
     "output_type": "stream",
     "text": [
      "\n",
      "--- Epoch 27/100 Summary ---\n",
      "  Train Loss: 0.4525 | Val Loss: 0.2850\n",
      "  Accuracy: 0.9062 | Weighted F1: 0.9062\n",
      "  Learning Rate: 0.000842\n"
     ]
    },
    {
     "data": {
      "application/vnd.jupyter.widget-view+json": {
       "model_id": "056458a54ab54fc0be50c23e774e40e5",
       "version_major": 2,
       "version_minor": 0
      },
      "text/plain": [
       "Epoch 28/100 [Training]:   0%|          | 0/4150 [00:00<?, ?it/s]"
      ]
     },
     "metadata": {},
     "output_type": "display_data"
    },
    {
     "data": {
      "application/vnd.jupyter.widget-view+json": {
       "model_id": "7928cf7cfb484c5191e6ed821a3e26e3",
       "version_major": 2,
       "version_minor": 0
      },
      "text/plain": [
       "Epoch 28/100 [Validation]:   0%|          | 0/1038 [00:00<?, ?it/s]"
      ]
     },
     "metadata": {},
     "output_type": "display_data"
    },
    {
     "name": "stdout",
     "output_type": "stream",
     "text": [
      "\n",
      "--- Epoch 28/100 Summary ---\n",
      "  Train Loss: 0.4457 | Val Loss: 0.6052\n",
      "  Accuracy: 0.8223 | Weighted F1: 0.8203\n",
      "  Learning Rate: 0.000831\n"
     ]
    },
    {
     "data": {
      "application/vnd.jupyter.widget-view+json": {
       "model_id": "fbb3b54fdc5843c5b64c0b8cb416dd3a",
       "version_major": 2,
       "version_minor": 0
      },
      "text/plain": [
       "Epoch 29/100 [Training]:   0%|          | 0/4150 [00:00<?, ?it/s]"
      ]
     },
     "metadata": {},
     "output_type": "display_data"
    },
    {
     "data": {
      "application/vnd.jupyter.widget-view+json": {
       "model_id": "34c0c9defae84ec28ff04c31c8073ba0",
       "version_major": 2,
       "version_minor": 0
      },
      "text/plain": [
       "Epoch 29/100 [Validation]:   0%|          | 0/1038 [00:00<?, ?it/s]"
      ]
     },
     "metadata": {},
     "output_type": "display_data"
    },
    {
     "name": "stdout",
     "output_type": "stream",
     "text": [
      "\n",
      "--- Epoch 29/100 Summary ---\n",
      "  Train Loss: 0.4425 | Val Loss: 0.2883\n",
      "  Accuracy: 0.9037 | Weighted F1: 0.9042\n",
      "  Learning Rate: 0.000819\n"
     ]
    },
    {
     "data": {
      "application/vnd.jupyter.widget-view+json": {
       "model_id": "ca6d666424fc4a6fa642acba39524046",
       "version_major": 2,
       "version_minor": 0
      },
      "text/plain": [
       "Epoch 30/100 [Training]:   0%|          | 0/4150 [00:00<?, ?it/s]"
      ]
     },
     "metadata": {},
     "output_type": "display_data"
    },
    {
     "data": {
      "application/vnd.jupyter.widget-view+json": {
       "model_id": "ae6bea3684a2411caa8455077e20f941",
       "version_major": 2,
       "version_minor": 0
      },
      "text/plain": [
       "Epoch 30/100 [Validation]:   0%|          | 0/1038 [00:00<?, ?it/s]"
      ]
     },
     "metadata": {},
     "output_type": "display_data"
    },
    {
     "name": "stdout",
     "output_type": "stream",
     "text": [
      "\n",
      "--- Epoch 30/100 Summary ---\n",
      "  Train Loss: 0.4371 | Val Loss: 0.2914\n",
      "  Accuracy: 0.9078 | Weighted F1: 0.9081\n",
      "  Learning Rate: 0.000806\n"
     ]
    },
    {
     "data": {
      "application/vnd.jupyter.widget-view+json": {
       "model_id": "2ae829cbdd284f4294f28417e623c648",
       "version_major": 2,
       "version_minor": 0
      },
      "text/plain": [
       "Epoch 31/100 [Training]:   0%|          | 0/4150 [00:00<?, ?it/s]"
      ]
     },
     "metadata": {},
     "output_type": "display_data"
    },
    {
     "data": {
      "application/vnd.jupyter.widget-view+json": {
       "model_id": "2cadfb6fca3c40738745909f19bcc202",
       "version_major": 2,
       "version_minor": 0
      },
      "text/plain": [
       "Epoch 31/100 [Validation]:   0%|          | 0/1038 [00:00<?, ?it/s]"
      ]
     },
     "metadata": {},
     "output_type": "display_data"
    },
    {
     "name": "stdout",
     "output_type": "stream",
     "text": [
      "\n",
      "--- Epoch 31/100 Summary ---\n",
      "  Train Loss: 0.4373 | Val Loss: 0.2739\n",
      "  Accuracy: 0.9125 | Weighted F1: 0.9123\n",
      "  Learning Rate: 0.000794\n",
      "  => 🎉 New best model saved to 'F:/Working Sync/LAB projects/InsectSELD/Dataset/checkpoints_small\\best_model.pth' (Weighted F1: 0.9123)\n",
      "\n"
     ]
    },
    {
     "data": {
      "application/vnd.jupyter.widget-view+json": {
       "model_id": "ccb53b9322994ccd811240cecee0a49f",
       "version_major": 2,
       "version_minor": 0
      },
      "text/plain": [
       "Epoch 32/100 [Training]:   0%|          | 0/4150 [00:00<?, ?it/s]"
      ]
     },
     "metadata": {},
     "output_type": "display_data"
    },
    {
     "data": {
      "application/vnd.jupyter.widget-view+json": {
       "model_id": "e1a84516876d47428f46edfe42a931b5",
       "version_major": 2,
       "version_minor": 0
      },
      "text/plain": [
       "Epoch 32/100 [Validation]:   0%|          | 0/1038 [00:00<?, ?it/s]"
      ]
     },
     "metadata": {},
     "output_type": "display_data"
    },
    {
     "name": "stdout",
     "output_type": "stream",
     "text": [
      "\n",
      "--- Epoch 32/100 Summary ---\n",
      "  Train Loss: 0.4223 | Val Loss: 0.2748\n",
      "  Accuracy: 0.9104 | Weighted F1: 0.9098\n",
      "  Learning Rate: 0.000781\n"
     ]
    },
    {
     "data": {
      "application/vnd.jupyter.widget-view+json": {
       "model_id": "d00d8978a9484c6fb6d3cca7437f54b9",
       "version_major": 2,
       "version_minor": 0
      },
      "text/plain": [
       "Epoch 33/100 [Training]:   0%|          | 0/4150 [00:00<?, ?it/s]"
      ]
     },
     "metadata": {},
     "output_type": "display_data"
    },
    {
     "data": {
      "application/vnd.jupyter.widget-view+json": {
       "model_id": "015842f6f35f4df59af5263674ee9cec",
       "version_major": 2,
       "version_minor": 0
      },
      "text/plain": [
       "Epoch 33/100 [Validation]:   0%|          | 0/1038 [00:00<?, ?it/s]"
      ]
     },
     "metadata": {},
     "output_type": "display_data"
    },
    {
     "name": "stdout",
     "output_type": "stream",
     "text": [
      "\n",
      "--- Epoch 33/100 Summary ---\n",
      "  Train Loss: 0.4268 | Val Loss: 0.3632\n",
      "  Accuracy: 0.8847 | Weighted F1: 0.8839\n",
      "  Learning Rate: 0.000768\n"
     ]
    },
    {
     "data": {
      "application/vnd.jupyter.widget-view+json": {
       "model_id": "e265e630167143499ddef9c4c067cf22",
       "version_major": 2,
       "version_minor": 0
      },
      "text/plain": [
       "Epoch 34/100 [Training]:   0%|          | 0/4150 [00:00<?, ?it/s]"
      ]
     },
     "metadata": {},
     "output_type": "display_data"
    },
    {
     "data": {
      "application/vnd.jupyter.widget-view+json": {
       "model_id": "dd93c3024ea14e72ac2ca696e234fbb4",
       "version_major": 2,
       "version_minor": 0
      },
      "text/plain": [
       "Epoch 34/100 [Validation]:   0%|          | 0/1038 [00:00<?, ?it/s]"
      ]
     },
     "metadata": {},
     "output_type": "display_data"
    },
    {
     "name": "stdout",
     "output_type": "stream",
     "text": [
      "\n",
      "--- Epoch 34/100 Summary ---\n",
      "  Train Loss: 0.4168 | Val Loss: 0.2836\n",
      "  Accuracy: 0.9072 | Weighted F1: 0.9063\n",
      "  Learning Rate: 0.000755\n"
     ]
    },
    {
     "data": {
      "application/vnd.jupyter.widget-view+json": {
       "model_id": "0d17b396a547440b863e737bf5f103fe",
       "version_major": 2,
       "version_minor": 0
      },
      "text/plain": [
       "Epoch 35/100 [Training]:   0%|          | 0/4150 [00:00<?, ?it/s]"
      ]
     },
     "metadata": {},
     "output_type": "display_data"
    },
    {
     "data": {
      "application/vnd.jupyter.widget-view+json": {
       "model_id": "1f9a5e8cc66f4ae19ee05454cf5bf4ba",
       "version_major": 2,
       "version_minor": 0
      },
      "text/plain": [
       "Epoch 35/100 [Validation]:   0%|          | 0/1038 [00:00<?, ?it/s]"
      ]
     },
     "metadata": {},
     "output_type": "display_data"
    },
    {
     "name": "stdout",
     "output_type": "stream",
     "text": [
      "\n",
      "--- Epoch 35/100 Summary ---\n",
      "  Train Loss: 0.4105 | Val Loss: 0.3959\n",
      "  Accuracy: 0.8808 | Weighted F1: 0.8793\n",
      "  Learning Rate: 0.000741\n"
     ]
    },
    {
     "data": {
      "application/vnd.jupyter.widget-view+json": {
       "model_id": "e744a3ad65584e4880d16ca2f2dc8de0",
       "version_major": 2,
       "version_minor": 0
      },
      "text/plain": [
       "Epoch 36/100 [Training]:   0%|          | 0/4150 [00:00<?, ?it/s]"
      ]
     },
     "metadata": {},
     "output_type": "display_data"
    },
    {
     "data": {
      "application/vnd.jupyter.widget-view+json": {
       "model_id": "4485efe148b8424c9b4b02e52ffb1d9b",
       "version_major": 2,
       "version_minor": 0
      },
      "text/plain": [
       "Epoch 36/100 [Validation]:   0%|          | 0/1038 [00:00<?, ?it/s]"
      ]
     },
     "metadata": {},
     "output_type": "display_data"
    },
    {
     "name": "stdout",
     "output_type": "stream",
     "text": [
      "\n",
      "--- Epoch 36/100 Summary ---\n",
      "  Train Loss: 0.3881 | Val Loss: 0.3154\n",
      "  Accuracy: 0.9041 | Weighted F1: 0.9032\n",
      "  Learning Rate: 0.000727\n"
     ]
    },
    {
     "data": {
      "application/vnd.jupyter.widget-view+json": {
       "model_id": "22e12c39d688490eb81a254a93c1b295",
       "version_major": 2,
       "version_minor": 0
      },
      "text/plain": [
       "Epoch 37/100 [Training]:   0%|          | 0/4150 [00:00<?, ?it/s]"
      ]
     },
     "metadata": {},
     "output_type": "display_data"
    },
    {
     "data": {
      "application/vnd.jupyter.widget-view+json": {
       "model_id": "ae0a0c6d106a43f887725f1271c9a30b",
       "version_major": 2,
       "version_minor": 0
      },
      "text/plain": [
       "Epoch 37/100 [Validation]:   0%|          | 0/1038 [00:00<?, ?it/s]"
      ]
     },
     "metadata": {},
     "output_type": "display_data"
    },
    {
     "name": "stdout",
     "output_type": "stream",
     "text": [
      "\n",
      "--- Epoch 37/100 Summary ---\n",
      "  Train Loss: 0.3941 | Val Loss: 0.2849\n",
      "  Accuracy: 0.9136 | Weighted F1: 0.9130\n",
      "  Learning Rate: 0.000713\n",
      "  => 🎉 New best model saved to 'F:/Working Sync/LAB projects/InsectSELD/Dataset/checkpoints_small\\best_model.pth' (Weighted F1: 0.9130)\n",
      "\n"
     ]
    },
    {
     "data": {
      "application/vnd.jupyter.widget-view+json": {
       "model_id": "862eb6edc246459e88ae4bc241e6d9b5",
       "version_major": 2,
       "version_minor": 0
      },
      "text/plain": [
       "Epoch 38/100 [Training]:   0%|          | 0/4150 [00:00<?, ?it/s]"
      ]
     },
     "metadata": {},
     "output_type": "display_data"
    },
    {
     "data": {
      "application/vnd.jupyter.widget-view+json": {
       "model_id": "d6c88978147648b7babccf017c2cdea3",
       "version_major": 2,
       "version_minor": 0
      },
      "text/plain": [
       "Epoch 38/100 [Validation]:   0%|          | 0/1038 [00:00<?, ?it/s]"
      ]
     },
     "metadata": {},
     "output_type": "display_data"
    },
    {
     "name": "stdout",
     "output_type": "stream",
     "text": [
      "\n",
      "--- Epoch 38/100 Summary ---\n",
      "  Train Loss: 0.3909 | Val Loss: 0.4406\n",
      "  Accuracy: 0.8739 | Weighted F1: 0.8711\n",
      "  Learning Rate: 0.000699\n"
     ]
    },
    {
     "data": {
      "application/vnd.jupyter.widget-view+json": {
       "model_id": "1dd28e6693534874a5e4608f7c0db291",
       "version_major": 2,
       "version_minor": 0
      },
      "text/plain": [
       "Epoch 39/100 [Training]:   0%|          | 0/4150 [00:00<?, ?it/s]"
      ]
     },
     "metadata": {},
     "output_type": "display_data"
    },
    {
     "data": {
      "application/vnd.jupyter.widget-view+json": {
       "model_id": "100a72b71ae34ea69ce30bd538121975",
       "version_major": 2,
       "version_minor": 0
      },
      "text/plain": [
       "Epoch 39/100 [Validation]:   0%|          | 0/1038 [00:00<?, ?it/s]"
      ]
     },
     "metadata": {},
     "output_type": "display_data"
    },
    {
     "name": "stdout",
     "output_type": "stream",
     "text": [
      "\n",
      "--- Epoch 39/100 Summary ---\n",
      "  Train Loss: 0.3777 | Val Loss: 0.3022\n",
      "  Accuracy: 0.9113 | Weighted F1: 0.9108\n",
      "  Learning Rate: 0.000684\n"
     ]
    },
    {
     "data": {
      "application/vnd.jupyter.widget-view+json": {
       "model_id": "368aef0914e54fcbb8a72cd08c0e0964",
       "version_major": 2,
       "version_minor": 0
      },
      "text/plain": [
       "Epoch 40/100 [Training]:   0%|          | 0/4150 [00:00<?, ?it/s]"
      ]
     },
     "metadata": {},
     "output_type": "display_data"
    },
    {
     "data": {
      "application/vnd.jupyter.widget-view+json": {
       "model_id": "8a4baa1b866a4b109bb3dd7569198c88",
       "version_major": 2,
       "version_minor": 0
      },
      "text/plain": [
       "Epoch 40/100 [Validation]:   0%|          | 0/1038 [00:00<?, ?it/s]"
      ]
     },
     "metadata": {},
     "output_type": "display_data"
    },
    {
     "name": "stdout",
     "output_type": "stream",
     "text": [
      "\n",
      "--- Epoch 40/100 Summary ---\n",
      "  Train Loss: 0.3807 | Val Loss: 0.3476\n",
      "  Accuracy: 0.9006 | Weighted F1: 0.8994\n",
      "  Learning Rate: 0.000669\n"
     ]
    },
    {
     "data": {
      "application/vnd.jupyter.widget-view+json": {
       "model_id": "62e2c5bed5b94f369d433a3c31960f2a",
       "version_major": 2,
       "version_minor": 0
      },
      "text/plain": [
       "Epoch 41/100 [Training]:   0%|          | 0/4150 [00:00<?, ?it/s]"
      ]
     },
     "metadata": {},
     "output_type": "display_data"
    },
    {
     "data": {
      "application/vnd.jupyter.widget-view+json": {
       "model_id": "d62246453eff4b749aa42284c63badc8",
       "version_major": 2,
       "version_minor": 0
      },
      "text/plain": [
       "Epoch 41/100 [Validation]:   0%|          | 0/1038 [00:00<?, ?it/s]"
      ]
     },
     "metadata": {},
     "output_type": "display_data"
    },
    {
     "name": "stdout",
     "output_type": "stream",
     "text": [
      "\n",
      "--- Epoch 41/100 Summary ---\n",
      "  Train Loss: 0.3903 | Val Loss: 0.3050\n",
      "  Accuracy: 0.9109 | Weighted F1: 0.9099\n",
      "  Learning Rate: 0.000655\n"
     ]
    },
    {
     "data": {
      "application/vnd.jupyter.widget-view+json": {
       "model_id": "0476680d03bc4043a97adda7093cf4f8",
       "version_major": 2,
       "version_minor": 0
      },
      "text/plain": [
       "Epoch 42/100 [Training]:   0%|          | 0/4150 [00:00<?, ?it/s]"
      ]
     },
     "metadata": {},
     "output_type": "display_data"
    },
    {
     "data": {
      "application/vnd.jupyter.widget-view+json": {
       "model_id": "43e7ce65d9104428bc805ffa1567d87e",
       "version_major": 2,
       "version_minor": 0
      },
      "text/plain": [
       "Epoch 42/100 [Validation]:   0%|          | 0/1038 [00:00<?, ?it/s]"
      ]
     },
     "metadata": {},
     "output_type": "display_data"
    },
    {
     "name": "stdout",
     "output_type": "stream",
     "text": [
      "\n",
      "--- Epoch 42/100 Summary ---\n",
      "  Train Loss: 0.3798 | Val Loss: 0.3170\n",
      "  Accuracy: 0.9058 | Weighted F1: 0.9049\n",
      "  Learning Rate: 0.000639\n"
     ]
    },
    {
     "data": {
      "application/vnd.jupyter.widget-view+json": {
       "model_id": "ba7e6ae53e134bb9b464e87ebec9f276",
       "version_major": 2,
       "version_minor": 0
      },
      "text/plain": [
       "Epoch 43/100 [Training]:   0%|          | 0/4150 [00:00<?, ?it/s]"
      ]
     },
     "metadata": {},
     "output_type": "display_data"
    },
    {
     "data": {
      "application/vnd.jupyter.widget-view+json": {
       "model_id": "3f6ca37b46c041d89209fe1e6195ebd7",
       "version_major": 2,
       "version_minor": 0
      },
      "text/plain": [
       "Epoch 43/100 [Validation]:   0%|          | 0/1038 [00:00<?, ?it/s]"
      ]
     },
     "metadata": {},
     "output_type": "display_data"
    },
    {
     "name": "stdout",
     "output_type": "stream",
     "text": [
      "\n",
      "--- Epoch 43/100 Summary ---\n",
      "  Train Loss: 0.3786 | Val Loss: 0.3256\n",
      "  Accuracy: 0.9120 | Weighted F1: 0.9119\n",
      "  Learning Rate: 0.000624\n"
     ]
    },
    {
     "data": {
      "application/vnd.jupyter.widget-view+json": {
       "model_id": "a8ab67dfd73c43228ea14ea79727336b",
       "version_major": 2,
       "version_minor": 0
      },
      "text/plain": [
       "Epoch 44/100 [Training]:   0%|          | 0/4150 [00:00<?, ?it/s]"
      ]
     },
     "metadata": {},
     "output_type": "display_data"
    },
    {
     "data": {
      "application/vnd.jupyter.widget-view+json": {
       "model_id": "141f2f86797d47eca4f4cb7b5f1f39a7",
       "version_major": 2,
       "version_minor": 0
      },
      "text/plain": [
       "Epoch 44/100 [Validation]:   0%|          | 0/1038 [00:00<?, ?it/s]"
      ]
     },
     "metadata": {},
     "output_type": "display_data"
    },
    {
     "name": "stdout",
     "output_type": "stream",
     "text": [
      "\n",
      "--- Epoch 44/100 Summary ---\n",
      "  Train Loss: 0.3571 | Val Loss: 0.3432\n",
      "  Accuracy: 0.8983 | Weighted F1: 0.8975\n",
      "  Learning Rate: 0.000609\n"
     ]
    },
    {
     "data": {
      "application/vnd.jupyter.widget-view+json": {
       "model_id": "39a1ed5098ca45e6864cc944235618f1",
       "version_major": 2,
       "version_minor": 0
      },
      "text/plain": [
       "Epoch 45/100 [Training]:   0%|          | 0/4150 [00:00<?, ?it/s]"
      ]
     },
     "metadata": {},
     "output_type": "display_data"
    },
    {
     "data": {
      "application/vnd.jupyter.widget-view+json": {
       "model_id": "a1bf1cddf02c4680911432d3acfdc2f8",
       "version_major": 2,
       "version_minor": 0
      },
      "text/plain": [
       "Epoch 45/100 [Validation]:   0%|          | 0/1038 [00:00<?, ?it/s]"
      ]
     },
     "metadata": {},
     "output_type": "display_data"
    },
    {
     "name": "stdout",
     "output_type": "stream",
     "text": [
      "\n",
      "--- Epoch 45/100 Summary ---\n",
      "  Train Loss: 0.3589 | Val Loss: 0.3298\n",
      "  Accuracy: 0.9133 | Weighted F1: 0.9126\n",
      "  Learning Rate: 0.000594\n"
     ]
    },
    {
     "data": {
      "application/vnd.jupyter.widget-view+json": {
       "model_id": "c866cb8b3fef47aa987cd828d1a553f7",
       "version_major": 2,
       "version_minor": 0
      },
      "text/plain": [
       "Epoch 46/100 [Training]:   0%|          | 0/4150 [00:00<?, ?it/s]"
      ]
     },
     "metadata": {},
     "output_type": "display_data"
    },
    {
     "data": {
      "application/vnd.jupyter.widget-view+json": {
       "model_id": "723a46653f36450eb54c8782a132f77f",
       "version_major": 2,
       "version_minor": 0
      },
      "text/plain": [
       "Epoch 46/100 [Validation]:   0%|          | 0/1038 [00:00<?, ?it/s]"
      ]
     },
     "metadata": {},
     "output_type": "display_data"
    },
    {
     "name": "stdout",
     "output_type": "stream",
     "text": [
      "\n",
      "--- Epoch 46/100 Summary ---\n",
      "  Train Loss: 0.3705 | Val Loss: 0.3692\n",
      "  Accuracy: 0.9018 | Weighted F1: 0.9012\n",
      "  Learning Rate: 0.000578\n"
     ]
    },
    {
     "data": {
      "application/vnd.jupyter.widget-view+json": {
       "model_id": "778076ce677c4095bd302cc8e5971da8",
       "version_major": 2,
       "version_minor": 0
      },
      "text/plain": [
       "Epoch 47/100 [Training]:   0%|          | 0/4150 [00:00<?, ?it/s]"
      ]
     },
     "metadata": {},
     "output_type": "display_data"
    },
    {
     "data": {
      "application/vnd.jupyter.widget-view+json": {
       "model_id": "5e1fe70f38204a9bb43f14c6969b1755",
       "version_major": 2,
       "version_minor": 0
      },
      "text/plain": [
       "Epoch 47/100 [Validation]:   0%|          | 0/1038 [00:00<?, ?it/s]"
      ]
     },
     "metadata": {},
     "output_type": "display_data"
    },
    {
     "name": "stdout",
     "output_type": "stream",
     "text": [
      "\n",
      "--- Epoch 47/100 Summary ---\n",
      "  Train Loss: 0.3573 | Val Loss: 0.3655\n",
      "  Accuracy: 0.9023 | Weighted F1: 0.9015\n",
      "  Learning Rate: 0.000563\n"
     ]
    },
    {
     "data": {
      "application/vnd.jupyter.widget-view+json": {
       "model_id": "583bc749a8384e1f99a23c612ef2e53f",
       "version_major": 2,
       "version_minor": 0
      },
      "text/plain": [
       "Epoch 48/100 [Training]:   0%|          | 0/4150 [00:00<?, ?it/s]"
      ]
     },
     "metadata": {},
     "output_type": "display_data"
    },
    {
     "data": {
      "application/vnd.jupyter.widget-view+json": {
       "model_id": "718918d24da042a197f50dd07622cdd1",
       "version_major": 2,
       "version_minor": 0
      },
      "text/plain": [
       "Epoch 48/100 [Validation]:   0%|          | 0/1038 [00:00<?, ?it/s]"
      ]
     },
     "metadata": {},
     "output_type": "display_data"
    },
    {
     "name": "stdout",
     "output_type": "stream",
     "text": [
      "\n",
      "--- Epoch 48/100 Summary ---\n",
      "  Train Loss: 0.3607 | Val Loss: 0.3491\n",
      "  Accuracy: 0.9096 | Weighted F1: 0.9088\n",
      "  Learning Rate: 0.000547\n"
     ]
    },
    {
     "data": {
      "application/vnd.jupyter.widget-view+json": {
       "model_id": "e6698d2688e543319cf8f2b07201fa67",
       "version_major": 2,
       "version_minor": 0
      },
      "text/plain": [
       "Epoch 49/100 [Training]:   0%|          | 0/4150 [00:00<?, ?it/s]"
      ]
     },
     "metadata": {},
     "output_type": "display_data"
    },
    {
     "data": {
      "application/vnd.jupyter.widget-view+json": {
       "model_id": "0949ed7941254529acbad9c166e2fbd5",
       "version_major": 2,
       "version_minor": 0
      },
      "text/plain": [
       "Epoch 49/100 [Validation]:   0%|          | 0/1038 [00:00<?, ?it/s]"
      ]
     },
     "metadata": {},
     "output_type": "display_data"
    },
    {
     "name": "stdout",
     "output_type": "stream",
     "text": [
      "\n",
      "--- Epoch 49/100 Summary ---\n",
      "  Train Loss: 0.3612 | Val Loss: 0.3064\n",
      "  Accuracy: 0.9136 | Weighted F1: 0.9134\n",
      "  Learning Rate: 0.000531\n",
      "  => 🎉 New best model saved to 'F:/Working Sync/LAB projects/InsectSELD/Dataset/checkpoints_small\\best_model.pth' (Weighted F1: 0.9134)\n",
      "\n"
     ]
    },
    {
     "data": {
      "application/vnd.jupyter.widget-view+json": {
       "model_id": "2164e1755e60437b98b9c77e09ebae8a",
       "version_major": 2,
       "version_minor": 0
      },
      "text/plain": [
       "Epoch 50/100 [Training]:   0%|          | 0/4150 [00:00<?, ?it/s]"
      ]
     },
     "metadata": {},
     "output_type": "display_data"
    },
    {
     "data": {
      "application/vnd.jupyter.widget-view+json": {
       "model_id": "4f763a5ebeb14001ad74795c7dd473aa",
       "version_major": 2,
       "version_minor": 0
      },
      "text/plain": [
       "Epoch 50/100 [Validation]:   0%|          | 0/1038 [00:00<?, ?it/s]"
      ]
     },
     "metadata": {},
     "output_type": "display_data"
    },
    {
     "name": "stdout",
     "output_type": "stream",
     "text": [
      "\n",
      "--- Epoch 50/100 Summary ---\n",
      "  Train Loss: 0.3495 | Val Loss: 0.2998\n",
      "  Accuracy: 0.9154 | Weighted F1: 0.9149\n",
      "  Learning Rate: 0.000516\n",
      "  => 🎉 New best model saved to 'F:/Working Sync/LAB projects/InsectSELD/Dataset/checkpoints_small\\best_model.pth' (Weighted F1: 0.9149)\n",
      "\n"
     ]
    },
    {
     "data": {
      "application/vnd.jupyter.widget-view+json": {
       "model_id": "5f9da6108b5e47b0a2ce849fb573373c",
       "version_major": 2,
       "version_minor": 0
      },
      "text/plain": [
       "Epoch 51/100 [Training]:   0%|          | 0/4150 [00:00<?, ?it/s]"
      ]
     },
     "metadata": {},
     "output_type": "display_data"
    },
    {
     "data": {
      "application/vnd.jupyter.widget-view+json": {
       "model_id": "93d5799e274c449096076f07a0bcd19e",
       "version_major": 2,
       "version_minor": 0
      },
      "text/plain": [
       "Epoch 51/100 [Validation]:   0%|          | 0/1038 [00:00<?, ?it/s]"
      ]
     },
     "metadata": {},
     "output_type": "display_data"
    },
    {
     "name": "stdout",
     "output_type": "stream",
     "text": [
      "\n",
      "--- Epoch 51/100 Summary ---\n",
      "  Train Loss: 0.3449 | Val Loss: 0.3339\n",
      "  Accuracy: 0.9106 | Weighted F1: 0.9107\n",
      "  Learning Rate: 0.000500\n"
     ]
    },
    {
     "data": {
      "application/vnd.jupyter.widget-view+json": {
       "model_id": "89e5d8b631e6419cac1ec1bdff849778",
       "version_major": 2,
       "version_minor": 0
      },
      "text/plain": [
       "Epoch 52/100 [Training]:   0%|          | 0/4150 [00:00<?, ?it/s]"
      ]
     },
     "metadata": {},
     "output_type": "display_data"
    },
    {
     "data": {
      "application/vnd.jupyter.widget-view+json": {
       "model_id": "f2c5fd22f5a54a2295f701dab4c60332",
       "version_major": 2,
       "version_minor": 0
      },
      "text/plain": [
       "Epoch 52/100 [Validation]:   0%|          | 0/1038 [00:00<?, ?it/s]"
      ]
     },
     "metadata": {},
     "output_type": "display_data"
    },
    {
     "name": "stdout",
     "output_type": "stream",
     "text": [
      "\n",
      "--- Epoch 52/100 Summary ---\n",
      "  Train Loss: 0.3474 | Val Loss: 0.3641\n",
      "  Accuracy: 0.9048 | Weighted F1: 0.9049\n",
      "  Learning Rate: 0.000484\n"
     ]
    },
    {
     "data": {
      "application/vnd.jupyter.widget-view+json": {
       "model_id": "ee5f18ea59484728a39f8906f691142a",
       "version_major": 2,
       "version_minor": 0
      },
      "text/plain": [
       "Epoch 53/100 [Training]:   0%|          | 0/4150 [00:00<?, ?it/s]"
      ]
     },
     "metadata": {},
     "output_type": "display_data"
    },
    {
     "data": {
      "application/vnd.jupyter.widget-view+json": {
       "model_id": "800fb63ed1bc4addb0d7bc99bc0a8f17",
       "version_major": 2,
       "version_minor": 0
      },
      "text/plain": [
       "Epoch 53/100 [Validation]:   0%|          | 0/1038 [00:00<?, ?it/s]"
      ]
     },
     "metadata": {},
     "output_type": "display_data"
    },
    {
     "name": "stdout",
     "output_type": "stream",
     "text": [
      "\n",
      "--- Epoch 53/100 Summary ---\n",
      "  Train Loss: 0.3448 | Val Loss: 0.3658\n",
      "  Accuracy: 0.9100 | Weighted F1: 0.9093\n",
      "  Learning Rate: 0.000469\n"
     ]
    },
    {
     "data": {
      "application/vnd.jupyter.widget-view+json": {
       "model_id": "a4c321b25fc64bacaa59ccbe3a6e9045",
       "version_major": 2,
       "version_minor": 0
      },
      "text/plain": [
       "Epoch 54/100 [Training]:   0%|          | 0/4150 [00:00<?, ?it/s]"
      ]
     },
     "metadata": {},
     "output_type": "display_data"
    },
    {
     "data": {
      "application/vnd.jupyter.widget-view+json": {
       "model_id": "3ecffe24a69b4cc99d93c7a544175958",
       "version_major": 2,
       "version_minor": 0
      },
      "text/plain": [
       "Epoch 54/100 [Validation]:   0%|          | 0/1038 [00:00<?, ?it/s]"
      ]
     },
     "metadata": {},
     "output_type": "display_data"
    },
    {
     "name": "stdout",
     "output_type": "stream",
     "text": [
      "\n",
      "--- Epoch 54/100 Summary ---\n",
      "  Train Loss: 0.3388 | Val Loss: 0.3404\n",
      "  Accuracy: 0.9126 | Weighted F1: 0.9126\n",
      "  Learning Rate: 0.000453\n"
     ]
    },
    {
     "data": {
      "application/vnd.jupyter.widget-view+json": {
       "model_id": "98e423ebf3cc4bf6aabed01f8d29d7a8",
       "version_major": 2,
       "version_minor": 0
      },
      "text/plain": [
       "Epoch 55/100 [Training]:   0%|          | 0/4150 [00:00<?, ?it/s]"
      ]
     },
     "metadata": {},
     "output_type": "display_data"
    },
    {
     "data": {
      "application/vnd.jupyter.widget-view+json": {
       "model_id": "b10041970b524e598c4239693027b060",
       "version_major": 2,
       "version_minor": 0
      },
      "text/plain": [
       "Epoch 55/100 [Validation]:   0%|          | 0/1038 [00:00<?, ?it/s]"
      ]
     },
     "metadata": {},
     "output_type": "display_data"
    },
    {
     "name": "stdout",
     "output_type": "stream",
     "text": [
      "\n",
      "--- Epoch 55/100 Summary ---\n",
      "  Train Loss: 0.3331 | Val Loss: 0.3212\n",
      "  Accuracy: 0.9181 | Weighted F1: 0.9180\n",
      "  Learning Rate: 0.000437\n",
      "  => 🎉 New best model saved to 'F:/Working Sync/LAB projects/InsectSELD/Dataset/checkpoints_small\\best_model.pth' (Weighted F1: 0.9180)\n",
      "\n"
     ]
    },
    {
     "data": {
      "application/vnd.jupyter.widget-view+json": {
       "model_id": "2a33a4afd69142328ac9803c9c393e9a",
       "version_major": 2,
       "version_minor": 0
      },
      "text/plain": [
       "Epoch 56/100 [Training]:   0%|          | 0/4150 [00:00<?, ?it/s]"
      ]
     },
     "metadata": {},
     "output_type": "display_data"
    },
    {
     "data": {
      "application/vnd.jupyter.widget-view+json": {
       "model_id": "b66531de41984429a6d34a04b9c565da",
       "version_major": 2,
       "version_minor": 0
      },
      "text/plain": [
       "Epoch 56/100 [Validation]:   0%|          | 0/1038 [00:00<?, ?it/s]"
      ]
     },
     "metadata": {},
     "output_type": "display_data"
    },
    {
     "name": "stdout",
     "output_type": "stream",
     "text": [
      "\n",
      "--- Epoch 56/100 Summary ---\n",
      "  Train Loss: 0.3494 | Val Loss: 0.3555\n",
      "  Accuracy: 0.9141 | Weighted F1: 0.9141\n",
      "  Learning Rate: 0.000422\n"
     ]
    },
    {
     "data": {
      "application/vnd.jupyter.widget-view+json": {
       "model_id": "81f4e6646eb84888b1206182ee5f60b3",
       "version_major": 2,
       "version_minor": 0
      },
      "text/plain": [
       "Epoch 57/100 [Training]:   0%|          | 0/4150 [00:00<?, ?it/s]"
      ]
     },
     "metadata": {},
     "output_type": "display_data"
    },
    {
     "data": {
      "application/vnd.jupyter.widget-view+json": {
       "model_id": "1ae03ae93ae44d91a845897514193efe",
       "version_major": 2,
       "version_minor": 0
      },
      "text/plain": [
       "Epoch 57/100 [Validation]:   0%|          | 0/1038 [00:00<?, ?it/s]"
      ]
     },
     "metadata": {},
     "output_type": "display_data"
    },
    {
     "name": "stdout",
     "output_type": "stream",
     "text": [
      "\n",
      "--- Epoch 57/100 Summary ---\n",
      "  Train Loss: 0.3417 | Val Loss: 0.3330\n",
      "  Accuracy: 0.9170 | Weighted F1: 0.9168\n",
      "  Learning Rate: 0.000406\n"
     ]
    },
    {
     "data": {
      "application/vnd.jupyter.widget-view+json": {
       "model_id": "927433ae003948dbb0f503b9a7750147",
       "version_major": 2,
       "version_minor": 0
      },
      "text/plain": [
       "Epoch 58/100 [Training]:   0%|          | 0/4150 [00:00<?, ?it/s]"
      ]
     },
     "metadata": {},
     "output_type": "display_data"
    },
    {
     "data": {
      "application/vnd.jupyter.widget-view+json": {
       "model_id": "3b11406e4c1c47fd877f1297f617e345",
       "version_major": 2,
       "version_minor": 0
      },
      "text/plain": [
       "Epoch 58/100 [Validation]:   0%|          | 0/1038 [00:00<?, ?it/s]"
      ]
     },
     "metadata": {},
     "output_type": "display_data"
    },
    {
     "name": "stdout",
     "output_type": "stream",
     "text": [
      "\n",
      "--- Epoch 58/100 Summary ---\n",
      "  Train Loss: 0.3367 | Val Loss: 0.3321\n",
      "  Accuracy: 0.9161 | Weighted F1: 0.9156\n",
      "  Learning Rate: 0.000391\n"
     ]
    },
    {
     "data": {
      "application/vnd.jupyter.widget-view+json": {
       "model_id": "5469804815c74f95bc687e6c58b3d1bd",
       "version_major": 2,
       "version_minor": 0
      },
      "text/plain": [
       "Epoch 59/100 [Training]:   0%|          | 0/4150 [00:00<?, ?it/s]"
      ]
     },
     "metadata": {},
     "output_type": "display_data"
    },
    {
     "data": {
      "application/vnd.jupyter.widget-view+json": {
       "model_id": "03d6a1e75c6e4203a34ce66703787318",
       "version_major": 2,
       "version_minor": 0
      },
      "text/plain": [
       "Epoch 59/100 [Validation]:   0%|          | 0/1038 [00:00<?, ?it/s]"
      ]
     },
     "metadata": {},
     "output_type": "display_data"
    },
    {
     "name": "stdout",
     "output_type": "stream",
     "text": [
      "\n",
      "--- Epoch 59/100 Summary ---\n",
      "  Train Loss: 0.3349 | Val Loss: 0.4049\n",
      "  Accuracy: 0.9091 | Weighted F1: 0.9095\n",
      "  Learning Rate: 0.000376\n"
     ]
    },
    {
     "data": {
      "application/vnd.jupyter.widget-view+json": {
       "model_id": "6cb6420a8558409289864d8448874feb",
       "version_major": 2,
       "version_minor": 0
      },
      "text/plain": [
       "Epoch 60/100 [Training]:   0%|          | 0/4150 [00:00<?, ?it/s]"
      ]
     },
     "metadata": {},
     "output_type": "display_data"
    },
    {
     "data": {
      "application/vnd.jupyter.widget-view+json": {
       "model_id": "ce979bc3e6d6435da926609d76081db2",
       "version_major": 2,
       "version_minor": 0
      },
      "text/plain": [
       "Epoch 60/100 [Validation]:   0%|          | 0/1038 [00:00<?, ?it/s]"
      ]
     },
     "metadata": {},
     "output_type": "display_data"
    },
    {
     "name": "stdout",
     "output_type": "stream",
     "text": [
      "\n",
      "--- Epoch 60/100 Summary ---\n",
      "  Train Loss: 0.3514 | Val Loss: 0.3478\n",
      "  Accuracy: 0.9163 | Weighted F1: 0.9164\n",
      "  Learning Rate: 0.000361\n"
     ]
    },
    {
     "data": {
      "application/vnd.jupyter.widget-view+json": {
       "model_id": "9ee745c91ca0474bbf069e9d3b3c5bb1",
       "version_major": 2,
       "version_minor": 0
      },
      "text/plain": [
       "Epoch 61/100 [Training]:   0%|          | 0/4150 [00:00<?, ?it/s]"
      ]
     },
     "metadata": {},
     "output_type": "display_data"
    },
    {
     "data": {
      "application/vnd.jupyter.widget-view+json": {
       "model_id": "38fe46ecd057449a82f53138d104f506",
       "version_major": 2,
       "version_minor": 0
      },
      "text/plain": [
       "Epoch 61/100 [Validation]:   0%|          | 0/1038 [00:00<?, ?it/s]"
      ]
     },
     "metadata": {},
     "output_type": "display_data"
    },
    {
     "name": "stdout",
     "output_type": "stream",
     "text": [
      "\n",
      "--- Epoch 61/100 Summary ---\n",
      "  Train Loss: 0.3317 | Val Loss: 0.3575\n",
      "  Accuracy: 0.9171 | Weighted F1: 0.9168\n",
      "  Learning Rate: 0.000345\n"
     ]
    },
    {
     "data": {
      "application/vnd.jupyter.widget-view+json": {
       "model_id": "a5f080fd84a5433792df9e5c4541c30c",
       "version_major": 2,
       "version_minor": 0
      },
      "text/plain": [
       "Epoch 62/100 [Training]:   0%|          | 0/4150 [00:00<?, ?it/s]"
      ]
     },
     "metadata": {},
     "output_type": "display_data"
    },
    {
     "data": {
      "application/vnd.jupyter.widget-view+json": {
       "model_id": "139a6479a3c74e7eb3df84db0f2747f9",
       "version_major": 2,
       "version_minor": 0
      },
      "text/plain": [
       "Epoch 62/100 [Validation]:   0%|          | 0/1038 [00:00<?, ?it/s]"
      ]
     },
     "metadata": {},
     "output_type": "display_data"
    },
    {
     "name": "stdout",
     "output_type": "stream",
     "text": [
      "\n",
      "--- Epoch 62/100 Summary ---\n",
      "  Train Loss: 0.3324 | Val Loss: 0.4355\n",
      "  Accuracy: 0.9005 | Weighted F1: 0.8994\n",
      "  Learning Rate: 0.000331\n"
     ]
    },
    {
     "data": {
      "application/vnd.jupyter.widget-view+json": {
       "model_id": "82e996cd6973456785e50f7a4b0d3924",
       "version_major": 2,
       "version_minor": 0
      },
      "text/plain": [
       "Epoch 63/100 [Training]:   0%|          | 0/4150 [00:00<?, ?it/s]"
      ]
     },
     "metadata": {},
     "output_type": "display_data"
    },
    {
     "data": {
      "application/vnd.jupyter.widget-view+json": {
       "model_id": "d41679a13d9b4789aa1ae1c0a2070b3d",
       "version_major": 2,
       "version_minor": 0
      },
      "text/plain": [
       "Epoch 63/100 [Validation]:   0%|          | 0/1038 [00:00<?, ?it/s]"
      ]
     },
     "metadata": {},
     "output_type": "display_data"
    },
    {
     "name": "stdout",
     "output_type": "stream",
     "text": [
      "\n",
      "--- Epoch 63/100 Summary ---\n",
      "  Train Loss: 0.3256 | Val Loss: 0.3698\n",
      "  Accuracy: 0.9175 | Weighted F1: 0.9170\n",
      "  Learning Rate: 0.000316\n"
     ]
    },
    {
     "data": {
      "application/vnd.jupyter.widget-view+json": {
       "model_id": "b762cecd986d478e829418a8d7974e4d",
       "version_major": 2,
       "version_minor": 0
      },
      "text/plain": [
       "Epoch 64/100 [Training]:   0%|          | 0/4150 [00:00<?, ?it/s]"
      ]
     },
     "metadata": {},
     "output_type": "display_data"
    },
    {
     "data": {
      "application/vnd.jupyter.widget-view+json": {
       "model_id": "0bb2ea4c09854bebb4337bd1d0ee5fb9",
       "version_major": 2,
       "version_minor": 0
      },
      "text/plain": [
       "Epoch 64/100 [Validation]:   0%|          | 0/1038 [00:00<?, ?it/s]"
      ]
     },
     "metadata": {},
     "output_type": "display_data"
    },
    {
     "name": "stdout",
     "output_type": "stream",
     "text": [
      "\n",
      "--- Epoch 64/100 Summary ---\n",
      "  Train Loss: 0.3387 | Val Loss: 0.3513\n",
      "  Accuracy: 0.9137 | Weighted F1: 0.9138\n",
      "  Learning Rate: 0.000301\n"
     ]
    },
    {
     "data": {
      "application/vnd.jupyter.widget-view+json": {
       "model_id": "f67297c5a3f0487687c04a2c74f53628",
       "version_major": 2,
       "version_minor": 0
      },
      "text/plain": [
       "Epoch 65/100 [Training]:   0%|          | 0/4150 [00:00<?, ?it/s]"
      ]
     },
     "metadata": {},
     "output_type": "display_data"
    },
    {
     "data": {
      "application/vnd.jupyter.widget-view+json": {
       "model_id": "f885ae18bc294cf486b4cda3bafe88b2",
       "version_major": 2,
       "version_minor": 0
      },
      "text/plain": [
       "Epoch 65/100 [Validation]:   0%|          | 0/1038 [00:00<?, ?it/s]"
      ]
     },
     "metadata": {},
     "output_type": "display_data"
    },
    {
     "name": "stdout",
     "output_type": "stream",
     "text": [
      "\n",
      "--- Epoch 65/100 Summary ---\n",
      "  Train Loss: 0.3280 | Val Loss: 0.3701\n",
      "  Accuracy: 0.9163 | Weighted F1: 0.9154\n",
      "  Learning Rate: 0.000287\n"
     ]
    },
    {
     "data": {
      "application/vnd.jupyter.widget-view+json": {
       "model_id": "63bde2773b1b4048ab98885a07fa2431",
       "version_major": 2,
       "version_minor": 0
      },
      "text/plain": [
       "Epoch 66/100 [Training]:   0%|          | 0/4150 [00:00<?, ?it/s]"
      ]
     },
     "metadata": {},
     "output_type": "display_data"
    },
    {
     "data": {
      "application/vnd.jupyter.widget-view+json": {
       "model_id": "d626815a043949c48a3457d33954bbfa",
       "version_major": 2,
       "version_minor": 0
      },
      "text/plain": [
       "Epoch 66/100 [Validation]:   0%|          | 0/1038 [00:00<?, ?it/s]"
      ]
     },
     "metadata": {},
     "output_type": "display_data"
    },
    {
     "name": "stdout",
     "output_type": "stream",
     "text": [
      "\n",
      "--- Epoch 66/100 Summary ---\n",
      "  Train Loss: 0.3136 | Val Loss: 0.3677\n",
      "  Accuracy: 0.9178 | Weighted F1: 0.9175\n",
      "  Learning Rate: 0.000273\n"
     ]
    },
    {
     "data": {
      "application/vnd.jupyter.widget-view+json": {
       "model_id": "9c1b01b0c96b4bedbc0f900848fb3396",
       "version_major": 2,
       "version_minor": 0
      },
      "text/plain": [
       "Epoch 67/100 [Training]:   0%|          | 0/4150 [00:00<?, ?it/s]"
      ]
     },
     "metadata": {},
     "output_type": "display_data"
    },
    {
     "data": {
      "application/vnd.jupyter.widget-view+json": {
       "model_id": "c21b2533b2b94810a5fdb0e9a63086f2",
       "version_major": 2,
       "version_minor": 0
      },
      "text/plain": [
       "Epoch 67/100 [Validation]:   0%|          | 0/1038 [00:00<?, ?it/s]"
      ]
     },
     "metadata": {},
     "output_type": "display_data"
    },
    {
     "name": "stdout",
     "output_type": "stream",
     "text": [
      "\n",
      "--- Epoch 67/100 Summary ---\n",
      "  Train Loss: 0.3153 | Val Loss: 0.3590\n",
      "  Accuracy: 0.9173 | Weighted F1: 0.9168\n",
      "  Learning Rate: 0.000259\n"
     ]
    },
    {
     "data": {
      "application/vnd.jupyter.widget-view+json": {
       "model_id": "b86bbebf6fdf41e0a56489ffa7fb3a8d",
       "version_major": 2,
       "version_minor": 0
      },
      "text/plain": [
       "Epoch 68/100 [Training]:   0%|          | 0/4150 [00:00<?, ?it/s]"
      ]
     },
     "metadata": {},
     "output_type": "display_data"
    },
    {
     "data": {
      "application/vnd.jupyter.widget-view+json": {
       "model_id": "a8c12f7801bd44aa865f8699790ec70e",
       "version_major": 2,
       "version_minor": 0
      },
      "text/plain": [
       "Epoch 68/100 [Validation]:   0%|          | 0/1038 [00:00<?, ?it/s]"
      ]
     },
     "metadata": {},
     "output_type": "display_data"
    },
    {
     "name": "stdout",
     "output_type": "stream",
     "text": [
      "\n",
      "--- Epoch 68/100 Summary ---\n",
      "  Train Loss: 0.3139 | Val Loss: 0.3859\n",
      "  Accuracy: 0.9171 | Weighted F1: 0.9166\n",
      "  Learning Rate: 0.000245\n"
     ]
    },
    {
     "data": {
      "application/vnd.jupyter.widget-view+json": {
       "model_id": "f84eb1cccafe4259abb1499facf5be88",
       "version_major": 2,
       "version_minor": 0
      },
      "text/plain": [
       "Epoch 69/100 [Training]:   0%|          | 0/4150 [00:00<?, ?it/s]"
      ]
     },
     "metadata": {},
     "output_type": "display_data"
    },
    {
     "data": {
      "application/vnd.jupyter.widget-view+json": {
       "model_id": "156ad33f4b474dc8b2250e54d37c8179",
       "version_major": 2,
       "version_minor": 0
      },
      "text/plain": [
       "Epoch 69/100 [Validation]:   0%|          | 0/1038 [00:00<?, ?it/s]"
      ]
     },
     "metadata": {},
     "output_type": "display_data"
    },
    {
     "name": "stdout",
     "output_type": "stream",
     "text": [
      "\n",
      "--- Epoch 69/100 Summary ---\n",
      "  Train Loss: 0.3267 | Val Loss: 0.3487\n",
      "  Accuracy: 0.9193 | Weighted F1: 0.9192\n",
      "  Learning Rate: 0.000232\n",
      "  => 🎉 New best model saved to 'F:/Working Sync/LAB projects/InsectSELD/Dataset/checkpoints_small\\best_model.pth' (Weighted F1: 0.9192)\n",
      "\n"
     ]
    },
    {
     "data": {
      "application/vnd.jupyter.widget-view+json": {
       "model_id": "164f5a12b0ee4ad184661e3aa3914b3e",
       "version_major": 2,
       "version_minor": 0
      },
      "text/plain": [
       "Epoch 70/100 [Training]:   0%|          | 0/4150 [00:00<?, ?it/s]"
      ]
     },
     "metadata": {},
     "output_type": "display_data"
    },
    {
     "data": {
      "application/vnd.jupyter.widget-view+json": {
       "model_id": "ad6851e085c04fa9b8b7216dab274548",
       "version_major": 2,
       "version_minor": 0
      },
      "text/plain": [
       "Epoch 70/100 [Validation]:   0%|          | 0/1038 [00:00<?, ?it/s]"
      ]
     },
     "metadata": {},
     "output_type": "display_data"
    },
    {
     "name": "stdout",
     "output_type": "stream",
     "text": [
      "\n",
      "--- Epoch 70/100 Summary ---\n",
      "  Train Loss: 0.3183 | Val Loss: 0.3706\n",
      "  Accuracy: 0.9179 | Weighted F1: 0.9175\n",
      "  Learning Rate: 0.000219\n"
     ]
    },
    {
     "data": {
      "application/vnd.jupyter.widget-view+json": {
       "model_id": "16f4279d98f249b9abfcecab19c51818",
       "version_major": 2,
       "version_minor": 0
      },
      "text/plain": [
       "Epoch 71/100 [Training]:   0%|          | 0/4150 [00:00<?, ?it/s]"
      ]
     },
     "metadata": {},
     "output_type": "display_data"
    },
    {
     "data": {
      "application/vnd.jupyter.widget-view+json": {
       "model_id": "7f0096d3395a49569488280369d30575",
       "version_major": 2,
       "version_minor": 0
      },
      "text/plain": [
       "Epoch 71/100 [Validation]:   0%|          | 0/1038 [00:00<?, ?it/s]"
      ]
     },
     "metadata": {},
     "output_type": "display_data"
    },
    {
     "name": "stdout",
     "output_type": "stream",
     "text": [
      "\n",
      "--- Epoch 71/100 Summary ---\n",
      "  Train Loss: 0.3096 | Val Loss: 0.3684\n",
      "  Accuracy: 0.9215 | Weighted F1: 0.9213\n",
      "  Learning Rate: 0.000206\n",
      "  => 🎉 New best model saved to 'F:/Working Sync/LAB projects/InsectSELD/Dataset/checkpoints_small\\best_model.pth' (Weighted F1: 0.9213)\n",
      "\n"
     ]
    },
    {
     "data": {
      "application/vnd.jupyter.widget-view+json": {
       "model_id": "ab2c3e88359d48a59cffd123ed229d0c",
       "version_major": 2,
       "version_minor": 0
      },
      "text/plain": [
       "Epoch 72/100 [Training]:   0%|          | 0/4150 [00:00<?, ?it/s]"
      ]
     },
     "metadata": {},
     "output_type": "display_data"
    },
    {
     "data": {
      "application/vnd.jupyter.widget-view+json": {
       "model_id": "00e16dba5894431baa8632f62cd2f914",
       "version_major": 2,
       "version_minor": 0
      },
      "text/plain": [
       "Epoch 72/100 [Validation]:   0%|          | 0/1038 [00:00<?, ?it/s]"
      ]
     },
     "metadata": {},
     "output_type": "display_data"
    },
    {
     "name": "stdout",
     "output_type": "stream",
     "text": [
      "\n",
      "--- Epoch 72/100 Summary ---\n",
      "  Train Loss: 0.3161 | Val Loss: 0.3473\n",
      "  Accuracy: 0.9165 | Weighted F1: 0.9157\n",
      "  Learning Rate: 0.000194\n"
     ]
    },
    {
     "data": {
      "application/vnd.jupyter.widget-view+json": {
       "model_id": "35fb0337258b491c894757e09c7d21f7",
       "version_major": 2,
       "version_minor": 0
      },
      "text/plain": [
       "Epoch 73/100 [Training]:   0%|          | 0/4150 [00:00<?, ?it/s]"
      ]
     },
     "metadata": {},
     "output_type": "display_data"
    },
    {
     "data": {
      "application/vnd.jupyter.widget-view+json": {
       "model_id": "6261f272dcce4b1aac4c4bee27d76d98",
       "version_major": 2,
       "version_minor": 0
      },
      "text/plain": [
       "Epoch 73/100 [Validation]:   0%|          | 0/1038 [00:00<?, ?it/s]"
      ]
     },
     "metadata": {},
     "output_type": "display_data"
    },
    {
     "name": "stdout",
     "output_type": "stream",
     "text": [
      "\n",
      "--- Epoch 73/100 Summary ---\n",
      "  Train Loss: 0.3142 | Val Loss: 0.3540\n",
      "  Accuracy: 0.9182 | Weighted F1: 0.9182\n",
      "  Learning Rate: 0.000181\n"
     ]
    },
    {
     "data": {
      "application/vnd.jupyter.widget-view+json": {
       "model_id": "96f5a83e06cb494488a9bf4f627e7d66",
       "version_major": 2,
       "version_minor": 0
      },
      "text/plain": [
       "Epoch 74/100 [Training]:   0%|          | 0/4150 [00:00<?, ?it/s]"
      ]
     },
     "metadata": {},
     "output_type": "display_data"
    },
    {
     "data": {
      "application/vnd.jupyter.widget-view+json": {
       "model_id": "432de1ae16fe428d9d977c202256865b",
       "version_major": 2,
       "version_minor": 0
      },
      "text/plain": [
       "Epoch 74/100 [Validation]:   0%|          | 0/1038 [00:00<?, ?it/s]"
      ]
     },
     "metadata": {},
     "output_type": "display_data"
    },
    {
     "name": "stdout",
     "output_type": "stream",
     "text": [
      "\n",
      "--- Epoch 74/100 Summary ---\n",
      "  Train Loss: 0.3050 | Val Loss: 0.3838\n",
      "  Accuracy: 0.9187 | Weighted F1: 0.9183\n",
      "  Learning Rate: 0.000169\n"
     ]
    },
    {
     "data": {
      "application/vnd.jupyter.widget-view+json": {
       "model_id": "d42fd975087646a295bd18386a758f52",
       "version_major": 2,
       "version_minor": 0
      },
      "text/plain": [
       "Epoch 75/100 [Training]:   0%|          | 0/4150 [00:00<?, ?it/s]"
      ]
     },
     "metadata": {},
     "output_type": "display_data"
    },
    {
     "data": {
      "application/vnd.jupyter.widget-view+json": {
       "model_id": "b5d292add090471c8073cae4b79499de",
       "version_major": 2,
       "version_minor": 0
      },
      "text/plain": [
       "Epoch 75/100 [Validation]:   0%|          | 0/1038 [00:00<?, ?it/s]"
      ]
     },
     "metadata": {},
     "output_type": "display_data"
    },
    {
     "name": "stdout",
     "output_type": "stream",
     "text": [
      "\n",
      "--- Epoch 75/100 Summary ---\n",
      "  Train Loss: 0.3046 | Val Loss: 0.3494\n",
      "  Accuracy: 0.9187 | Weighted F1: 0.9185\n",
      "  Learning Rate: 0.000158\n"
     ]
    },
    {
     "data": {
      "application/vnd.jupyter.widget-view+json": {
       "model_id": "164dee7284c449db8a5aa3d50d023d45",
       "version_major": 2,
       "version_minor": 0
      },
      "text/plain": [
       "Epoch 76/100 [Training]:   0%|          | 0/4150 [00:00<?, ?it/s]"
      ]
     },
     "metadata": {},
     "output_type": "display_data"
    },
    {
     "data": {
      "application/vnd.jupyter.widget-view+json": {
       "model_id": "c7cc56cbc94647c8b9861a3be55fec25",
       "version_major": 2,
       "version_minor": 0
      },
      "text/plain": [
       "Epoch 76/100 [Validation]:   0%|          | 0/1038 [00:00<?, ?it/s]"
      ]
     },
     "metadata": {},
     "output_type": "display_data"
    },
    {
     "name": "stdout",
     "output_type": "stream",
     "text": [
      "\n",
      "--- Epoch 76/100 Summary ---\n",
      "  Train Loss: 0.3041 | Val Loss: 0.3771\n",
      "  Accuracy: 0.9196 | Weighted F1: 0.9191\n",
      "  Learning Rate: 0.000146\n"
     ]
    },
    {
     "data": {
      "application/vnd.jupyter.widget-view+json": {
       "model_id": "789917b8f65343a3a013bb2b70d77ba8",
       "version_major": 2,
       "version_minor": 0
      },
      "text/plain": [
       "Epoch 77/100 [Training]:   0%|          | 0/4150 [00:00<?, ?it/s]"
      ]
     },
     "metadata": {},
     "output_type": "display_data"
    },
    {
     "data": {
      "application/vnd.jupyter.widget-view+json": {
       "model_id": "400669c7707e4f929a5382b7dc970b47",
       "version_major": 2,
       "version_minor": 0
      },
      "text/plain": [
       "Epoch 77/100 [Validation]:   0%|          | 0/1038 [00:00<?, ?it/s]"
      ]
     },
     "metadata": {},
     "output_type": "display_data"
    },
    {
     "name": "stdout",
     "output_type": "stream",
     "text": [
      "\n",
      "--- Epoch 77/100 Summary ---\n",
      "  Train Loss: 0.3094 | Val Loss: 0.3659\n",
      "  Accuracy: 0.9219 | Weighted F1: 0.9216\n",
      "  Learning Rate: 0.000136\n",
      "  => 🎉 New best model saved to 'F:/Working Sync/LAB projects/InsectSELD/Dataset/checkpoints_small\\best_model.pth' (Weighted F1: 0.9216)\n",
      "\n"
     ]
    },
    {
     "data": {
      "application/vnd.jupyter.widget-view+json": {
       "model_id": "fafdc064150d45e0970e9651898ce0b1",
       "version_major": 2,
       "version_minor": 0
      },
      "text/plain": [
       "Epoch 78/100 [Training]:   0%|          | 0/4150 [00:00<?, ?it/s]"
      ]
     },
     "metadata": {},
     "output_type": "display_data"
    },
    {
     "data": {
      "application/vnd.jupyter.widget-view+json": {
       "model_id": "e857bc82579a4631a660296f9ddf4b38",
       "version_major": 2,
       "version_minor": 0
      },
      "text/plain": [
       "Epoch 78/100 [Validation]:   0%|          | 0/1038 [00:00<?, ?it/s]"
      ]
     },
     "metadata": {},
     "output_type": "display_data"
    },
    {
     "name": "stdout",
     "output_type": "stream",
     "text": [
      "\n",
      "--- Epoch 78/100 Summary ---\n",
      "  Train Loss: 0.3079 | Val Loss: 0.3593\n",
      "  Accuracy: 0.9211 | Weighted F1: 0.9208\n",
      "  Learning Rate: 0.000125\n"
     ]
    },
    {
     "data": {
      "application/vnd.jupyter.widget-view+json": {
       "model_id": "9a0231babf17436fb103e69458cf9f02",
       "version_major": 2,
       "version_minor": 0
      },
      "text/plain": [
       "Epoch 79/100 [Training]:   0%|          | 0/4150 [00:00<?, ?it/s]"
      ]
     },
     "metadata": {},
     "output_type": "display_data"
    },
    {
     "data": {
      "application/vnd.jupyter.widget-view+json": {
       "model_id": "de99c0524aeb4f2ab86424e46b6c557a",
       "version_major": 2,
       "version_minor": 0
      },
      "text/plain": [
       "Epoch 79/100 [Validation]:   0%|          | 0/1038 [00:00<?, ?it/s]"
      ]
     },
     "metadata": {},
     "output_type": "display_data"
    },
    {
     "name": "stdout",
     "output_type": "stream",
     "text": [
      "\n",
      "--- Epoch 79/100 Summary ---\n",
      "  Train Loss: 0.3077 | Val Loss: 0.3905\n",
      "  Accuracy: 0.9176 | Weighted F1: 0.9172\n",
      "  Learning Rate: 0.000115\n"
     ]
    },
    {
     "data": {
      "application/vnd.jupyter.widget-view+json": {
       "model_id": "7d24203b534d418fa92e2ece55342041",
       "version_major": 2,
       "version_minor": 0
      },
      "text/plain": [
       "Epoch 80/100 [Training]:   0%|          | 0/4150 [00:00<?, ?it/s]"
      ]
     },
     "metadata": {},
     "output_type": "display_data"
    },
    {
     "data": {
      "application/vnd.jupyter.widget-view+json": {
       "model_id": "b3bbfc9bce4747a5805ff203c898e476",
       "version_major": 2,
       "version_minor": 0
      },
      "text/plain": [
       "Epoch 80/100 [Validation]:   0%|          | 0/1038 [00:00<?, ?it/s]"
      ]
     },
     "metadata": {},
     "output_type": "display_data"
    },
    {
     "name": "stdout",
     "output_type": "stream",
     "text": [
      "\n",
      "--- Epoch 80/100 Summary ---\n",
      "  Train Loss: 0.3067 | Val Loss: 0.3584\n",
      "  Accuracy: 0.9201 | Weighted F1: 0.9201\n",
      "  Learning Rate: 0.000105\n"
     ]
    },
    {
     "data": {
      "application/vnd.jupyter.widget-view+json": {
       "model_id": "0b8e53ed79484d01a917aa970ffbb1ce",
       "version_major": 2,
       "version_minor": 0
      },
      "text/plain": [
       "Epoch 81/100 [Training]:   0%|          | 0/4150 [00:00<?, ?it/s]"
      ]
     },
     "metadata": {},
     "output_type": "display_data"
    },
    {
     "data": {
      "application/vnd.jupyter.widget-view+json": {
       "model_id": "e2092243ec17446ea1b3fba39344f3a9",
       "version_major": 2,
       "version_minor": 0
      },
      "text/plain": [
       "Epoch 81/100 [Validation]:   0%|          | 0/1038 [00:00<?, ?it/s]"
      ]
     },
     "metadata": {},
     "output_type": "display_data"
    },
    {
     "name": "stdout",
     "output_type": "stream",
     "text": [
      "\n",
      "--- Epoch 81/100 Summary ---\n",
      "  Train Loss: 0.2961 | Val Loss: 0.3665\n",
      "  Accuracy: 0.9199 | Weighted F1: 0.9194\n",
      "  Learning Rate: 0.000095\n"
     ]
    },
    {
     "data": {
      "application/vnd.jupyter.widget-view+json": {
       "model_id": "5855a4fb4a0e430fb5824dd5d66225c5",
       "version_major": 2,
       "version_minor": 0
      },
      "text/plain": [
       "Epoch 82/100 [Training]:   0%|          | 0/4150 [00:00<?, ?it/s]"
      ]
     },
     "metadata": {},
     "output_type": "display_data"
    },
    {
     "data": {
      "application/vnd.jupyter.widget-view+json": {
       "model_id": "fcaf84885bda4a92be8c638664bef5af",
       "version_major": 2,
       "version_minor": 0
      },
      "text/plain": [
       "Epoch 82/100 [Validation]:   0%|          | 0/1038 [00:00<?, ?it/s]"
      ]
     },
     "metadata": {},
     "output_type": "display_data"
    },
    {
     "name": "stdout",
     "output_type": "stream",
     "text": [
      "\n",
      "--- Epoch 82/100 Summary ---\n",
      "  Train Loss: 0.3079 | Val Loss: 0.3984\n",
      "  Accuracy: 0.9176 | Weighted F1: 0.9172\n",
      "  Learning Rate: 0.000086\n"
     ]
    },
    {
     "data": {
      "application/vnd.jupyter.widget-view+json": {
       "model_id": "dfb90770cdd345feb61c28a35c44add0",
       "version_major": 2,
       "version_minor": 0
      },
      "text/plain": [
       "Epoch 83/100 [Training]:   0%|          | 0/4150 [00:00<?, ?it/s]"
      ]
     },
     "metadata": {},
     "output_type": "display_data"
    },
    {
     "data": {
      "application/vnd.jupyter.widget-view+json": {
       "model_id": "3af680e1a3e94dca9ff1cecec741d422",
       "version_major": 2,
       "version_minor": 0
      },
      "text/plain": [
       "Epoch 83/100 [Validation]:   0%|          | 0/1038 [00:00<?, ?it/s]"
      ]
     },
     "metadata": {},
     "output_type": "display_data"
    },
    {
     "name": "stdout",
     "output_type": "stream",
     "text": [
      "\n",
      "--- Epoch 83/100 Summary ---\n",
      "  Train Loss: 0.3056 | Val Loss: 0.3663\n",
      "  Accuracy: 0.9202 | Weighted F1: 0.9199\n",
      "  Learning Rate: 0.000078\n"
     ]
    },
    {
     "data": {
      "application/vnd.jupyter.widget-view+json": {
       "model_id": "0a9631fba6e74bd191c3b1480b048478",
       "version_major": 2,
       "version_minor": 0
      },
      "text/plain": [
       "Epoch 84/100 [Training]:   0%|          | 0/4150 [00:00<?, ?it/s]"
      ]
     },
     "metadata": {},
     "output_type": "display_data"
    },
    {
     "data": {
      "application/vnd.jupyter.widget-view+json": {
       "model_id": "0121681187734f408353426dba4fcbf2",
       "version_major": 2,
       "version_minor": 0
      },
      "text/plain": [
       "Epoch 84/100 [Validation]:   0%|          | 0/1038 [00:00<?, ?it/s]"
      ]
     },
     "metadata": {},
     "output_type": "display_data"
    },
    {
     "name": "stdout",
     "output_type": "stream",
     "text": [
      "\n",
      "--- Epoch 84/100 Summary ---\n",
      "  Train Loss: 0.3025 | Val Loss: 0.3598\n",
      "  Accuracy: 0.9227 | Weighted F1: 0.9225\n",
      "  Learning Rate: 0.000070\n",
      "  => 🎉 New best model saved to 'F:/Working Sync/LAB projects/InsectSELD/Dataset/checkpoints_small\\best_model.pth' (Weighted F1: 0.9225)\n",
      "\n"
     ]
    },
    {
     "data": {
      "application/vnd.jupyter.widget-view+json": {
       "model_id": "24eaf5922f4943b4bab144163f0dfaa4",
       "version_major": 2,
       "version_minor": 0
      },
      "text/plain": [
       "Epoch 85/100 [Training]:   0%|          | 0/4150 [00:00<?, ?it/s]"
      ]
     },
     "metadata": {},
     "output_type": "display_data"
    },
    {
     "data": {
      "application/vnd.jupyter.widget-view+json": {
       "model_id": "328a7e677e304436a05ca50571d55a05",
       "version_major": 2,
       "version_minor": 0
      },
      "text/plain": [
       "Epoch 85/100 [Validation]:   0%|          | 0/1038 [00:00<?, ?it/s]"
      ]
     },
     "metadata": {},
     "output_type": "display_data"
    },
    {
     "name": "stdout",
     "output_type": "stream",
     "text": [
      "\n",
      "--- Epoch 85/100 Summary ---\n",
      "  Train Loss: 0.3084 | Val Loss: 0.3575\n",
      "  Accuracy: 0.9226 | Weighted F1: 0.9225\n",
      "  Learning Rate: 0.000062\n"
     ]
    },
    {
     "data": {
      "application/vnd.jupyter.widget-view+json": {
       "model_id": "8b9693560b7a43808d5ad2b65b3d7c71",
       "version_major": 2,
       "version_minor": 0
      },
      "text/plain": [
       "Epoch 86/100 [Training]:   0%|          | 0/4150 [00:00<?, ?it/s]"
      ]
     },
     "metadata": {},
     "output_type": "display_data"
    },
    {
     "data": {
      "application/vnd.jupyter.widget-view+json": {
       "model_id": "d97a332b1ead4315850005b24f7a7c29",
       "version_major": 2,
       "version_minor": 0
      },
      "text/plain": [
       "Epoch 86/100 [Validation]:   0%|          | 0/1038 [00:00<?, ?it/s]"
      ]
     },
     "metadata": {},
     "output_type": "display_data"
    },
    {
     "name": "stdout",
     "output_type": "stream",
     "text": [
      "\n",
      "--- Epoch 86/100 Summary ---\n",
      "  Train Loss: 0.3140 | Val Loss: 0.3581\n",
      "  Accuracy: 0.9212 | Weighted F1: 0.9209\n",
      "  Learning Rate: 0.000054\n"
     ]
    },
    {
     "data": {
      "application/vnd.jupyter.widget-view+json": {
       "model_id": "bd77765695494b8198bb30dd07793d22",
       "version_major": 2,
       "version_minor": 0
      },
      "text/plain": [
       "Epoch 87/100 [Training]:   0%|          | 0/4150 [00:00<?, ?it/s]"
      ]
     },
     "metadata": {},
     "output_type": "display_data"
    },
    {
     "data": {
      "application/vnd.jupyter.widget-view+json": {
       "model_id": "46d49af3d157436da623dd67982d0bdb",
       "version_major": 2,
       "version_minor": 0
      },
      "text/plain": [
       "Epoch 87/100 [Validation]:   0%|          | 0/1038 [00:00<?, ?it/s]"
      ]
     },
     "metadata": {},
     "output_type": "display_data"
    },
    {
     "name": "stdout",
     "output_type": "stream",
     "text": [
      "\n",
      "--- Epoch 87/100 Summary ---\n",
      "  Train Loss: 0.2997 | Val Loss: 0.3549\n",
      "  Accuracy: 0.9211 | Weighted F1: 0.9207\n",
      "  Learning Rate: 0.000048\n"
     ]
    },
    {
     "data": {
      "application/vnd.jupyter.widget-view+json": {
       "model_id": "70b62746248e44d49f1e838e4d3f5c90",
       "version_major": 2,
       "version_minor": 0
      },
      "text/plain": [
       "Epoch 88/100 [Training]:   0%|          | 0/4150 [00:00<?, ?it/s]"
      ]
     },
     "metadata": {},
     "output_type": "display_data"
    },
    {
     "data": {
      "application/vnd.jupyter.widget-view+json": {
       "model_id": "a3bda8886a0f4206860a1a32a8affde3",
       "version_major": 2,
       "version_minor": 0
      },
      "text/plain": [
       "Epoch 88/100 [Validation]:   0%|          | 0/1038 [00:00<?, ?it/s]"
      ]
     },
     "metadata": {},
     "output_type": "display_data"
    },
    {
     "name": "stdout",
     "output_type": "stream",
     "text": [
      "\n",
      "--- Epoch 88/100 Summary ---\n",
      "  Train Loss: 0.2951 | Val Loss: 0.3558\n",
      "  Accuracy: 0.9192 | Weighted F1: 0.9191\n",
      "  Learning Rate: 0.000041\n"
     ]
    },
    {
     "data": {
      "application/vnd.jupyter.widget-view+json": {
       "model_id": "9522ea29a52842f78316e06dc8d2d286",
       "version_major": 2,
       "version_minor": 0
      },
      "text/plain": [
       "Epoch 89/100 [Training]:   0%|          | 0/4150 [00:00<?, ?it/s]"
      ]
     },
     "metadata": {},
     "output_type": "display_data"
    },
    {
     "data": {
      "application/vnd.jupyter.widget-view+json": {
       "model_id": "e11d6f3a0e9143dfa470f1f3fbb3f17c",
       "version_major": 2,
       "version_minor": 0
      },
      "text/plain": [
       "Epoch 89/100 [Validation]:   0%|          | 0/1038 [00:00<?, ?it/s]"
      ]
     },
     "metadata": {},
     "output_type": "display_data"
    },
    {
     "name": "stdout",
     "output_type": "stream",
     "text": [
      "\n",
      "--- Epoch 89/100 Summary ---\n",
      "  Train Loss: 0.2872 | Val Loss: 0.3745\n",
      "  Accuracy: 0.9221 | Weighted F1: 0.9216\n",
      "  Learning Rate: 0.000035\n"
     ]
    },
    {
     "data": {
      "application/vnd.jupyter.widget-view+json": {
       "model_id": "5fb7df6b15044aeba61f3cf80c791ce6",
       "version_major": 2,
       "version_minor": 0
      },
      "text/plain": [
       "Epoch 90/100 [Training]:   0%|          | 0/4150 [00:00<?, ?it/s]"
      ]
     },
     "metadata": {},
     "output_type": "display_data"
    },
    {
     "data": {
      "application/vnd.jupyter.widget-view+json": {
       "model_id": "0ca8f15ba86d413d952f2359ec102dd4",
       "version_major": 2,
       "version_minor": 0
      },
      "text/plain": [
       "Epoch 90/100 [Validation]:   0%|          | 0/1038 [00:00<?, ?it/s]"
      ]
     },
     "metadata": {},
     "output_type": "display_data"
    },
    {
     "name": "stdout",
     "output_type": "stream",
     "text": [
      "\n",
      "--- Epoch 90/100 Summary ---\n",
      "  Train Loss: 0.3008 | Val Loss: 0.3804\n",
      "  Accuracy: 0.9190 | Weighted F1: 0.9185\n",
      "  Learning Rate: 0.000030\n"
     ]
    },
    {
     "data": {
      "application/vnd.jupyter.widget-view+json": {
       "model_id": "1e089d8bf69c4c2da91a63d5990c5a2a",
       "version_major": 2,
       "version_minor": 0
      },
      "text/plain": [
       "Epoch 91/100 [Training]:   0%|          | 0/4150 [00:00<?, ?it/s]"
      ]
     },
     "metadata": {},
     "output_type": "display_data"
    },
    {
     "data": {
      "application/vnd.jupyter.widget-view+json": {
       "model_id": "da1a9715673c4d55b2c87c301b17dc97",
       "version_major": 2,
       "version_minor": 0
      },
      "text/plain": [
       "Epoch 91/100 [Validation]:   0%|          | 0/1038 [00:00<?, ?it/s]"
      ]
     },
     "metadata": {},
     "output_type": "display_data"
    },
    {
     "name": "stdout",
     "output_type": "stream",
     "text": [
      "\n",
      "--- Epoch 91/100 Summary ---\n",
      "  Train Loss: 0.2927 | Val Loss: 0.3507\n",
      "  Accuracy: 0.9232 | Weighted F1: 0.9230\n",
      "  Learning Rate: 0.000024\n",
      "  => 🎉 New best model saved to 'F:/Working Sync/LAB projects/InsectSELD/Dataset/checkpoints_small\\best_model.pth' (Weighted F1: 0.9230)\n",
      "\n"
     ]
    },
    {
     "data": {
      "application/vnd.jupyter.widget-view+json": {
       "model_id": "b41ae76ab54348ceafec10fd98376ab2",
       "version_major": 2,
       "version_minor": 0
      },
      "text/plain": [
       "Epoch 92/100 [Training]:   0%|          | 0/4150 [00:00<?, ?it/s]"
      ]
     },
     "metadata": {},
     "output_type": "display_data"
    },
    {
     "data": {
      "application/vnd.jupyter.widget-view+json": {
       "model_id": "ce0f0e2355f245ddafe76dd4f0357feb",
       "version_major": 2,
       "version_minor": 0
      },
      "text/plain": [
       "Epoch 92/100 [Validation]:   0%|          | 0/1038 [00:00<?, ?it/s]"
      ]
     },
     "metadata": {},
     "output_type": "display_data"
    },
    {
     "name": "stdout",
     "output_type": "stream",
     "text": [
      "\n",
      "--- Epoch 92/100 Summary ---\n",
      "  Train Loss: 0.2875 | Val Loss: 0.3727\n",
      "  Accuracy: 0.9225 | Weighted F1: 0.9220\n",
      "  Learning Rate: 0.000020\n"
     ]
    },
    {
     "data": {
      "application/vnd.jupyter.widget-view+json": {
       "model_id": "5bc48dc92dbc49b9b44e36d631542275",
       "version_major": 2,
       "version_minor": 0
      },
      "text/plain": [
       "Epoch 93/100 [Training]:   0%|          | 0/4150 [00:00<?, ?it/s]"
      ]
     },
     "metadata": {},
     "output_type": "display_data"
    },
    {
     "data": {
      "application/vnd.jupyter.widget-view+json": {
       "model_id": "ec7c5b5a0ba54c99bb1cac4f6b7515bb",
       "version_major": 2,
       "version_minor": 0
      },
      "text/plain": [
       "Epoch 93/100 [Validation]:   0%|          | 0/1038 [00:00<?, ?it/s]"
      ]
     },
     "metadata": {},
     "output_type": "display_data"
    },
    {
     "name": "stdout",
     "output_type": "stream",
     "text": [
      "\n",
      "--- Epoch 93/100 Summary ---\n",
      "  Train Loss: 0.2968 | Val Loss: 0.3598\n",
      "  Accuracy: 0.9241 | Weighted F1: 0.9238\n",
      "  Learning Rate: 0.000016\n",
      "  => 🎉 New best model saved to 'F:/Working Sync/LAB projects/InsectSELD/Dataset/checkpoints_small\\best_model.pth' (Weighted F1: 0.9238)\n",
      "\n"
     ]
    },
    {
     "data": {
      "application/vnd.jupyter.widget-view+json": {
       "model_id": "00092d3844fe4c77b82ed0f5d35adbd5",
       "version_major": 2,
       "version_minor": 0
      },
      "text/plain": [
       "Epoch 94/100 [Training]:   0%|          | 0/4150 [00:00<?, ?it/s]"
      ]
     },
     "metadata": {},
     "output_type": "display_data"
    },
    {
     "data": {
      "application/vnd.jupyter.widget-view+json": {
       "model_id": "33211fdf91b54069845ba625f52a8066",
       "version_major": 2,
       "version_minor": 0
      },
      "text/plain": [
       "Epoch 94/100 [Validation]:   0%|          | 0/1038 [00:00<?, ?it/s]"
      ]
     },
     "metadata": {},
     "output_type": "display_data"
    },
    {
     "name": "stdout",
     "output_type": "stream",
     "text": [
      "\n",
      "--- Epoch 94/100 Summary ---\n",
      "  Train Loss: 0.3110 | Val Loss: 0.3626\n",
      "  Accuracy: 0.9246 | Weighted F1: 0.9242\n",
      "  Learning Rate: 0.000012\n",
      "  => 🎉 New best model saved to 'F:/Working Sync/LAB projects/InsectSELD/Dataset/checkpoints_small\\best_model.pth' (Weighted F1: 0.9242)\n",
      "\n"
     ]
    },
    {
     "data": {
      "application/vnd.jupyter.widget-view+json": {
       "model_id": "084533dcc4c84ecfb6b16b999a5cd81c",
       "version_major": 2,
       "version_minor": 0
      },
      "text/plain": [
       "Epoch 95/100 [Training]:   0%|          | 0/4150 [00:00<?, ?it/s]"
      ]
     },
     "metadata": {},
     "output_type": "display_data"
    },
    {
     "data": {
      "application/vnd.jupyter.widget-view+json": {
       "model_id": "fed2a942cdf54dd194f1fcb543aedf9e",
       "version_major": 2,
       "version_minor": 0
      },
      "text/plain": [
       "Epoch 95/100 [Validation]:   0%|          | 0/1038 [00:00<?, ?it/s]"
      ]
     },
     "metadata": {},
     "output_type": "display_data"
    },
    {
     "name": "stdout",
     "output_type": "stream",
     "text": [
      "\n",
      "--- Epoch 95/100 Summary ---\n",
      "  Train Loss: 0.2904 | Val Loss: 0.3787\n",
      "  Accuracy: 0.9229 | Weighted F1: 0.9225\n",
      "  Learning Rate: 0.000009\n"
     ]
    },
    {
     "data": {
      "application/vnd.jupyter.widget-view+json": {
       "model_id": "53ad590c119c4be6987435bb952e0fec",
       "version_major": 2,
       "version_minor": 0
      },
      "text/plain": [
       "Epoch 96/100 [Training]:   0%|          | 0/4150 [00:00<?, ?it/s]"
      ]
     },
     "metadata": {},
     "output_type": "display_data"
    },
    {
     "data": {
      "application/vnd.jupyter.widget-view+json": {
       "model_id": "8b8662109e9946d58706a76c69e8a4bb",
       "version_major": 2,
       "version_minor": 0
      },
      "text/plain": [
       "Epoch 96/100 [Validation]:   0%|          | 0/1038 [00:00<?, ?it/s]"
      ]
     },
     "metadata": {},
     "output_type": "display_data"
    },
    {
     "name": "stdout",
     "output_type": "stream",
     "text": [
      "\n",
      "--- Epoch 96/100 Summary ---\n",
      "  Train Loss: 0.2888 | Val Loss: 0.3673\n",
      "  Accuracy: 0.9224 | Weighted F1: 0.9221\n",
      "  Learning Rate: 0.000006\n"
     ]
    },
    {
     "data": {
      "application/vnd.jupyter.widget-view+json": {
       "model_id": "35de7f4bfbd24d65917a453c07013fac",
       "version_major": 2,
       "version_minor": 0
      },
      "text/plain": [
       "Epoch 97/100 [Training]:   0%|          | 0/4150 [00:00<?, ?it/s]"
      ]
     },
     "metadata": {},
     "output_type": "display_data"
    },
    {
     "data": {
      "application/vnd.jupyter.widget-view+json": {
       "model_id": "aadb24bd47dd4500a4fc09aefbba225a",
       "version_major": 2,
       "version_minor": 0
      },
      "text/plain": [
       "Epoch 97/100 [Validation]:   0%|          | 0/1038 [00:00<?, ?it/s]"
      ]
     },
     "metadata": {},
     "output_type": "display_data"
    },
    {
     "name": "stdout",
     "output_type": "stream",
     "text": [
      "\n",
      "--- Epoch 97/100 Summary ---\n",
      "  Train Loss: 0.3081 | Val Loss: 0.3755\n",
      "  Accuracy: 0.9230 | Weighted F1: 0.9228\n",
      "  Learning Rate: 0.000004\n"
     ]
    },
    {
     "data": {
      "application/vnd.jupyter.widget-view+json": {
       "model_id": "631b2745a73c466d854655ee4b71ae3c",
       "version_major": 2,
       "version_minor": 0
      },
      "text/plain": [
       "Epoch 98/100 [Training]:   0%|          | 0/4150 [00:00<?, ?it/s]"
      ]
     },
     "metadata": {},
     "output_type": "display_data"
    },
    {
     "data": {
      "application/vnd.jupyter.widget-view+json": {
       "model_id": "f06aa5f0ef734809b71f1a8e3d7383a6",
       "version_major": 2,
       "version_minor": 0
      },
      "text/plain": [
       "Epoch 98/100 [Validation]:   0%|          | 0/1038 [00:00<?, ?it/s]"
      ]
     },
     "metadata": {},
     "output_type": "display_data"
    },
    {
     "name": "stdout",
     "output_type": "stream",
     "text": [
      "\n",
      "--- Epoch 98/100 Summary ---\n",
      "  Train Loss: 0.2969 | Val Loss: 0.3895\n",
      "  Accuracy: 0.9230 | Weighted F1: 0.9227\n",
      "  Learning Rate: 0.000002\n"
     ]
    },
    {
     "data": {
      "application/vnd.jupyter.widget-view+json": {
       "model_id": "a5110f14b5fd4bd79b2444cb081a9764",
       "version_major": 2,
       "version_minor": 0
      },
      "text/plain": [
       "Epoch 99/100 [Training]:   0%|          | 0/4150 [00:00<?, ?it/s]"
      ]
     },
     "metadata": {},
     "output_type": "display_data"
    },
    {
     "data": {
      "application/vnd.jupyter.widget-view+json": {
       "model_id": "3d65b766cb2d4523a872d01e80bb5b85",
       "version_major": 2,
       "version_minor": 0
      },
      "text/plain": [
       "Epoch 99/100 [Validation]:   0%|          | 0/1038 [00:00<?, ?it/s]"
      ]
     },
     "metadata": {},
     "output_type": "display_data"
    },
    {
     "name": "stdout",
     "output_type": "stream",
     "text": [
      "\n",
      "--- Epoch 99/100 Summary ---\n",
      "  Train Loss: 0.3004 | Val Loss: 0.3552\n",
      "  Accuracy: 0.9233 | Weighted F1: 0.9231\n",
      "  Learning Rate: 0.000001\n"
     ]
    },
    {
     "data": {
      "application/vnd.jupyter.widget-view+json": {
       "model_id": "3d5adde812f04f0dbab4dc4e18bdd66f",
       "version_major": 2,
       "version_minor": 0
      },
      "text/plain": [
       "Epoch 100/100 [Training]:   0%|          | 0/4150 [00:00<?, ?it/s]"
      ]
     },
     "metadata": {},
     "output_type": "display_data"
    },
    {
     "data": {
      "application/vnd.jupyter.widget-view+json": {
       "model_id": "6d18bba131ea46a79bd87d6fd247bd32",
       "version_major": 2,
       "version_minor": 0
      },
      "text/plain": [
       "Epoch 100/100 [Validation]:   0%|          | 0/1038 [00:00<?, ?it/s]"
      ]
     },
     "metadata": {},
     "output_type": "display_data"
    },
    {
     "name": "stdout",
     "output_type": "stream",
     "text": [
      "\n",
      "--- Epoch 100/100 Summary ---\n",
      "  Train Loss: 0.3053 | Val Loss: 0.3777\n",
      "  Accuracy: 0.9235 | Weighted F1: 0.9230\n",
      "  Learning Rate: 0.000000\n",
      "\n",
      "✅ Hoàn tất huấn luyện!\n"
     ]
    }
   ],
   "source": [
    "for epoch in range(EPOCHS):\n",
    "    # ---------------------------\n",
    "    # ----- TRAINING PHASE ------\n",
    "    # ---------------------------\n",
    "    model.train()\n",
    "    running_loss = 0.0\n",
    "    progress_bar = tqdm(train_loader, desc=f\"Epoch {epoch+1}/{EPOCHS} [Training]\")\n",
    "    \n",
    "    for inputs, labels in progress_bar:\n",
    "        if -1 in labels: continue # Bỏ qua các mẫu bị lỗi\n",
    "        inputs, labels = inputs.to(device), labels.to(device)\n",
    "        \n",
    "        # Áp dụng Mixup với xác suất 50%\n",
    "        if torch.rand(1).item() < 0.5:\n",
    "            inputs, targets_a, targets_b, lam = mixup_data(inputs, labels, alpha=0.4)\n",
    "            optimizer.zero_grad()\n",
    "            outputs = model(inputs)\n",
    "            loss = mixup_criterion(criterion, outputs, targets_a, targets_b, lam)\n",
    "        else:\n",
    "            # Chạy như bình thường nếu không dùng Mixup\n",
    "            optimizer.zero_grad()\n",
    "            outputs = model(inputs)\n",
    "            loss = criterion(outputs, labels)\n",
    "\n",
    "        loss.backward()\n",
    "        optimizer.step()\n",
    "        \n",
    "        running_loss += loss.item() * inputs.size(0)\n",
    "        progress_bar.set_postfix(loss=f\"{loss.item():.4f}\")\n",
    "\n",
    "\n",
    "    model.eval()\n",
    "    val_loss = 0.0\n",
    "    val_preds, val_labels = [], []\n",
    "    with torch.no_grad():\n",
    "        for inputs, labels in tqdm(val_loader, desc=f\"Epoch {epoch+1}/{EPOCHS} [Validation]\"):\n",
    "            if -1 in labels: continue\n",
    "            inputs, labels = inputs.to(device), labels.to(device)\n",
    "            \n",
    "            outputs = model(inputs)\n",
    "            loss = criterion(outputs, labels)\n",
    "            val_loss += loss.item() * inputs.size(0)\n",
    "            \n",
    "            _, predicted = torch.max(outputs.data, 1)\n",
    "            val_preds.extend(predicted.cpu().numpy())\n",
    "            val_labels.extend(labels.cpu().numpy())\n",
    "            \n",
    "\n",
    "    epoch_train_loss = running_loss / len(train_dataset)\n",
    "    epoch_val_loss = val_loss / len(val_dataset)\n",
    "    \n",
    "    accuracy = accuracy_score(val_labels, val_preds)\n",
    "    macro_f1 = f1_score(val_labels, val_preds, average='macro', zero_division=0)\n",
    "    weighted_f1 = f1_score(val_labels, val_preds, average='weighted', zero_division=0)\n",
    "    macro_precision = precision_score(val_labels, val_preds, average='macro', zero_division=0)\n",
    "    weighted_precision = precision_score(val_labels, val_preds, average='weighted', zero_division=0)\n",
    "    macro_recall = recall_score(val_labels, val_preds, average='macro', zero_division=0)\n",
    "    weighted_recall = recall_score(val_labels, val_preds, average='weighted', zero_division=0)\n",
    "    \n",
    "    current_lr = scheduler.get_last_lr()[0]\n",
    "    scheduler.step()\n",
    "\n",
    "    # In kết quả ra màn hình\n",
    "    print(f\"\\n--- Epoch {epoch+1}/{EPOCHS} Summary ---\")\n",
    "    print(f\"  Train Loss: {epoch_train_loss:.4f} | Val Loss: {epoch_val_loss:.4f}\")\n",
    "    print(f\"  Accuracy: {accuracy:.4f} | Weighted F1: {weighted_f1:.4f}\")\n",
    "    print(f\"  Learning Rate: {current_lr:.6f}\")\n",
    "\n",
    "    # Lưu vào file CSV\n",
    "    log_data = [\n",
    "        epoch + 1, epoch_train_loss, epoch_val_loss, current_lr, accuracy,\n",
    "        macro_f1, weighted_f1, macro_precision, weighted_precision,\n",
    "        macro_recall, weighted_recall\n",
    "    ]\n",
    "    with open(LOG_CSV_PATH, 'a', newline='', encoding='utf-8') as f:\n",
    "        writer = csv.writer(f)\n",
    "        writer.writerow(log_data)\n",
    "        \n",
    "    # Lưu Checkpoint mỗi epoch\n",
    "    checkpoint_path = os.path.join(CHECKPOINT_DIR, f'checkpoint_epoch_{epoch+1}.pth')\n",
    "    torch.save({\n",
    "        'epoch': epoch + 1,\n",
    "        'model_state_dict': model.state_dict(),\n",
    "        'optimizer_state_dict': optimizer.state_dict(),\n",
    "    }, checkpoint_path)\n",
    "\n",
    "    # Lưu lại model tốt nhất (dựa trên weighted F1-score)\n",
    "    if weighted_f1 > best_val_f1:\n",
    "        best_val_f1 = weighted_f1\n",
    "        best_model_path = os.path.join(CHECKPOINT_DIR, 'best_model.pth')\n",
    "        torch.save(model.state_dict(), best_model_path)\n",
    "        print(f\"  => 🎉 New best model saved to '{best_model_path}' (Weighted F1: {best_val_f1:.4f})\\n\")\n",
    "\n",
    "print(\"\\n✅ Hoàn tất huấn luyện!\")"
   ]
  },
  {
   "cell_type": "code",
   "execution_count": 21,
   "id": "14308d2d-1055-4d95-8a25-7b3a75712b70",
   "metadata": {},
   "outputs": [
    {
     "data": {
      "image/png": "[encoded data removed]",
      "text/plain": [
       "<Figure size 1800x600 with 2 Axes>"
      ]
     },
     "metadata": {},
     "output_type": "display_data"
    },
    {
     "name": "stdout",
     "output_type": "stream",
     "text": [
      "\n",
      "Tải trọng số model tốt nhất để vẽ Confusion Matrix.\n"
     ]
    },
    {
     "data": {
      "image/png": "[encoded data removed]",
      "text/plain": [
       "<Figure size 1200x1000 with 2 Axes>"
      ]
     },
     "metadata": {},
     "output_type": "display_data"
    }
   ],
   "source": [
    "log_df = pd.read_csv(LOG_CSV_PATH)\n",
    "\n",
    "# --- Vẽ biểu đồ Loss và Accuracy ---\n",
    "fig, (ax1, ax2) = plt.subplots(1, 2, figsize=(18, 6))\n",
    "\n",
    "ax1.plot(log_df['epoch'], log_df['train_loss'], label='Train Loss', marker='o')\n",
    "ax1.plot(log_df['epoch'], log_df['val_loss'], label='Validation Loss', marker='o')\n",
    "ax1.set_title('Training & Validation Loss', fontsize=16)\n",
    "ax1.set_xlabel('Epoch', fontsize=12)\n",
    "ax1.set_ylabel('Loss', fontsize=12)\n",
    "ax1.legend()\n",
    "ax1.grid(True)\n",
    "\n",
    "ax2.plot(log_df['epoch'], log_df['accuracy'], label='Validation Accuracy', marker='o')\n",
    "ax2.plot(log_df['epoch'], log_df['weighted_f1'], label='Validation Weighted F1-Score', marker='o')\n",
    "ax2.set_title('Validation Metrics', fontsize=16)\n",
    "ax2.set_xlabel('Epoch', fontsize=12)\n",
    "ax2.set_ylabel('Score', fontsize=12)\n",
    "ax2.legend()\n",
    "ax2.grid(True)\n",
    "\n",
    "plt.suptitle('Kết quả Huấn luyện PestLarvaNet-GMA Large', fontsize=20)\n",
    "plt.show()\n",
    "\n",
    "# --- Vẽ Ma trận nhầm lẫn (Confusion Matrix) ---\n",
    "# Tải lại trọng số của model tốt nhất để đánh giá\n",
    "best_model_path = os.path.join(CHECKPOINT_DIR, 'best_model.pth')\n",
    "if os.path.exists(best_model_path):\n",
    "    model.load_state_dict(torch.load(best_model_path, map_location=device))\n",
    "    print(\"\\nTải trọng số model tốt nhất để vẽ Confusion Matrix.\")\n",
    "    \n",
    "model.eval()\n",
    "all_preds, all_labels = [], []\n",
    "with torch.no_grad():\n",
    "    for inputs, labels in val_loader:\n",
    "        if -1 in labels: continue\n",
    "        inputs, labels = inputs.to(device), labels.to(device)\n",
    "        outputs = model(inputs)\n",
    "        _, predicted = torch.max(outputs.data, 1)\n",
    "        all_preds.extend(predicted.cpu().numpy())\n",
    "        all_labels.extend(labels.cpu().numpy())\n",
    "\n",
    "cm = confusion_matrix(all_labels, all_preds)\n",
    "plt.figure(figsize=(12, 10))\n",
    "sns.heatmap(cm, annot=True, fmt='d', cmap='Blues', \n",
    "            xticklabels=full_dataset.class_names, \n",
    "            yticklabels=full_dataset.class_names)\n",
    "plt.title('Confusion Matrix on Validation Set (Best Model)', fontsize=18)\n",
    "plt.xlabel('Predicted Label', fontsize=14)\n",
    "plt.ylabel('True Label', fontsize=14)\n",
    "plt.show()"
   ]
  },
  {
   "cell_type": "code",
   "execution_count": null,
   "id": "46bf939c-47a1-4a9b-9466-b1062c0da483",
   "metadata": {},
   "outputs": [],
   "source": []
  }
 ],
 "metadata": {
  "kernelspec": {
   "display_name": "Python 3 (ipykernel)",
   "language": "python",
   "name": "python3"
  },
  "language_info": {
   "codemirror_mode": {
    "name": "ipython",
    "version": 3
   },
   "file_extension": ".py",
   "mimetype": "text/x-python",
   "name": "python",
   "nbconvert_exporter": "python",
   "pygments_lexer": "ipython3",
   "version": "3.10.16"
  }
 },
 "nbformat": 4,
 "nbformat_minor": 5
}
